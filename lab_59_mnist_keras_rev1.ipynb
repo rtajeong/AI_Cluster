{
  "nbformat": 4,
  "nbformat_minor": 0,
  "metadata": {
    "accelerator": "GPU",
    "colab": {
      "name": "lab_59_mnist_keras_rev1.ipynb",
      "provenance": [],
      "collapsed_sections": [],
      "include_colab_link": true
    },
    "kernelspec": {
      "display_name": "Python 3",
      "language": "python",
      "name": "python3"
    },
    "language_info": {
      "codemirror_mode": {
        "name": "ipython",
        "version": 3
      },
      "file_extension": ".py",
      "mimetype": "text/x-python",
      "name": "python",
      "nbconvert_exporter": "python",
      "pygments_lexer": "ipython3",
      "version": "3.6.8"
    }
  },
  "cells": [
    {
      "cell_type": "markdown",
      "metadata": {
        "id": "view-in-github",
        "colab_type": "text"
      },
      "source": [
        "<a href=\"https://colab.research.google.com/github/rtajeong/AI_Cluster/blob/main/lab_59_mnist_keras_rev1.ipynb\" target=\"_parent\"><img src=\"https://colab.research.google.com/assets/colab-badge.svg\" alt=\"Open In Colab\"/></a>"
      ]
    },
    {
      "cell_type": "markdown",
      "metadata": {
        "id": "OO16CDUjp1Ax"
      },
      "source": [
        "# Keras with MNIST dataset"
      ]
    },
    {
      "cell_type": "code",
      "metadata": {
        "id": "-AQRftuEqGqx",
        "scrolled": true
      },
      "source": [
        "import numpy as np\n",
        "import tensorflow as tf\n",
        "import tensorflow.keras as keras\n",
        "from tensorflow.keras import layers, models\n",
        "from tensorflow.keras.datasets import mnist\n",
        "from tensorflow.keras.utils import to_categorical"
      ],
      "execution_count": 1,
      "outputs": []
    },
    {
      "cell_type": "markdown",
      "metadata": {
        "id": "vSwp3PZNHHha"
      },
      "source": [
        "## Data load"
      ]
    },
    {
      "cell_type": "code",
      "metadata": {
        "id": "vRUwM8gvqToI",
        "colab": {
          "base_uri": "https://localhost:8080/"
        },
        "outputId": "8c3dd76f-e7b0-4750-9a58-4e634763d1d2"
      },
      "source": [
        "(train_images, train_labels), (test_images, test_labels) = mnist.load_data()\n",
        "print(train_images.shape, test_images.shape)\n",
        "print(train_labels.shape, test_labels.shape)"
      ],
      "execution_count": 2,
      "outputs": [
        {
          "output_type": "stream",
          "name": "stdout",
          "text": [
            "Downloading data from https://storage.googleapis.com/tensorflow/tf-keras-datasets/mnist.npz\n",
            "11493376/11490434 [==============================] - 0s 0us/step\n",
            "11501568/11490434 [==============================] - 0s 0us/step\n",
            "(60000, 28, 28) (10000, 28, 28)\n",
            "(60000,) (10000,)\n"
          ]
        }
      ]
    },
    {
      "cell_type": "code",
      "metadata": {
        "colab": {
          "base_uri": "https://localhost:8080/"
        },
        "id": "Qa7eVy32T1ji",
        "outputId": "805e8a7a-9937-4e39-f831-fe45ae928507"
      },
      "source": [
        "train_images[0].max()   # 8-bit"
      ],
      "execution_count": 3,
      "outputs": [
        {
          "output_type": "execute_result",
          "data": {
            "text/plain": [
              "255"
            ]
          },
          "metadata": {},
          "execution_count": 3
        }
      ]
    },
    {
      "cell_type": "code",
      "metadata": {
        "id": "tIJD-M1vUV89",
        "colab": {
          "base_uri": "https://localhost:8080/"
        },
        "outputId": "9e157d37-646b-4780-c9a2-4ff562f0adf8"
      },
      "source": [
        "type(train_images), type(train_images[0]), train_images[0].shape"
      ],
      "execution_count": 4,
      "outputs": [
        {
          "output_type": "execute_result",
          "data": {
            "text/plain": [
              "(numpy.ndarray, numpy.ndarray, (28, 28))"
            ]
          },
          "metadata": {},
          "execution_count": 4
        }
      ]
    },
    {
      "cell_type": "code",
      "metadata": {
        "id": "mF-5-RTZcrwQ",
        "colab": {
          "base_uri": "https://localhost:8080/"
        },
        "outputId": "c69e6c59-0c08-4370-b306-6c9d50a6ae8c"
      },
      "source": [
        "type(train_labels), type(train_labels[0]), train_labels[0]"
      ],
      "execution_count": 5,
      "outputs": [
        {
          "output_type": "execute_result",
          "data": {
            "text/plain": [
              "(numpy.ndarray, numpy.uint8, 5)"
            ]
          },
          "metadata": {},
          "execution_count": 5
        }
      ]
    },
    {
      "cell_type": "code",
      "metadata": {
        "id": "_HdoWLENcrwp",
        "colab": {
          "base_uri": "https://localhost:8080/"
        },
        "outputId": "94a8cc92-4943-4809-f183-17dce51812a7"
      },
      "source": [
        "train_images.shape, train_labels.dtype"
      ],
      "execution_count": 6,
      "outputs": [
        {
          "output_type": "execute_result",
          "data": {
            "text/plain": [
              "((60000, 28, 28), dtype('uint8'))"
            ]
          },
          "metadata": {},
          "execution_count": 6
        }
      ]
    },
    {
      "cell_type": "markdown",
      "metadata": {
        "id": "JUaSP2MbtRiS"
      },
      "source": [
        "## MNIST image and Preprocessing"
      ]
    },
    {
      "cell_type": "code",
      "metadata": {
        "id": "UZlBIBHpbRQF",
        "colab": {
          "base_uri": "https://localhost:8080/",
          "height": 218
        },
        "outputId": "2d8ccd09-ffe6-4ca2-bef5-9d5ae7a6a33f"
      },
      "source": [
        "import matplotlib.pyplot as plt\n",
        "%matplotlib inline\n",
        "plt.subplot(1,2,1)\n",
        "plt.imshow(train_images[0], cmap=plt.cm.binary)\n",
        "plt.subplot(1,2,2)\n",
        "plt.imshow(train_images[0]/255, cmap=plt.cm.binary)\n",
        "plt.show"
      ],
      "execution_count": 7,
      "outputs": [
        {
          "output_type": "execute_result",
          "data": {
            "text/plain": [
              "<function matplotlib.pyplot.show>"
            ]
          },
          "metadata": {},
          "execution_count": 7
        },
        {
          "output_type": "display_data",
          "data": {
            "image/png": "[encoded data removed]",
            "text/plain": [
              "<Figure size 432x288 with 2 Axes>"
            ]
          },
          "metadata": {
            "needs_background": "light"
          }
        }
      ]
    },
    {
      "cell_type": "code",
      "metadata": {
        "id": "RnNmJ6N1crxc",
        "colab": {
          "base_uri": "https://localhost:8080/"
        },
        "outputId": "16aee67d-557a-4fc6-f379-d2faa3f30ade"
      },
      "source": [
        "# just for checking\n",
        "print(type(train_labels), train_labels[:10])\n",
        "train_images.shape, train_labels.shape"
      ],
      "execution_count": 8,
      "outputs": [
        {
          "output_type": "stream",
          "name": "stdout",
          "text": [
            "<class 'numpy.ndarray'> [5 0 4 1 9 2 1 3 1 4]\n"
          ]
        },
        {
          "output_type": "execute_result",
          "data": {
            "text/plain": [
              "((60000, 28, 28), (60000,))"
            ]
          },
          "metadata": {},
          "execution_count": 8
        }
      ]
    },
    {
      "cell_type": "code",
      "metadata": {
        "id": "EafiutHbqni_"
      },
      "source": [
        "train_images = train_images.reshape((60000, 28, 28, 1))\n",
        "train_images = train_images.astype('float32')/255         # scaling\n",
        "\n",
        "test_images = test_images.reshape((10000, 28, 28, 1))\n",
        "test_images = test_images.astype('float32')/255\n",
        "\n",
        "train_labels = to_categorical(train_labels)   # one-hot encoding\n",
        "test_labels = to_categorical(test_labels)"
      ],
      "execution_count": 9,
      "outputs": []
    },
    {
      "cell_type": "code",
      "metadata": {
        "id": "BoHSMVqj_Kzf",
        "colab": {
          "base_uri": "https://localhost:8080/"
        },
        "outputId": "15350c44-6507-483b-eb54-1d5a567c4466"
      },
      "source": [
        "train_images.shape, train_labels.shape"
      ],
      "execution_count": 10,
      "outputs": [
        {
          "output_type": "execute_result",
          "data": {
            "text/plain": [
              "((60000, 28, 28, 1), (60000, 10))"
            ]
          },
          "metadata": {},
          "execution_count": 10
        }
      ]
    },
    {
      "cell_type": "code",
      "metadata": {
        "id": "m9XjypZxcryK",
        "colab": {
          "base_uri": "https://localhost:8080/"
        },
        "outputId": "2004ef62-579b-4603-c0a9-26560b78627c"
      },
      "source": [
        "print(train_labels[:10], type(train_labels), )"
      ],
      "execution_count": 11,
      "outputs": [
        {
          "output_type": "stream",
          "name": "stdout",
          "text": [
            "[[0. 0. 0. 0. 0. 1. 0. 0. 0. 0.]\n",
            " [1. 0. 0. 0. 0. 0. 0. 0. 0. 0.]\n",
            " [0. 0. 0. 0. 1. 0. 0. 0. 0. 0.]\n",
            " [0. 1. 0. 0. 0. 0. 0. 0. 0. 0.]\n",
            " [0. 0. 0. 0. 0. 0. 0. 0. 0. 1.]\n",
            " [0. 0. 1. 0. 0. 0. 0. 0. 0. 0.]\n",
            " [0. 1. 0. 0. 0. 0. 0. 0. 0. 0.]\n",
            " [0. 0. 0. 1. 0. 0. 0. 0. 0. 0.]\n",
            " [0. 1. 0. 0. 0. 0. 0. 0. 0. 0.]\n",
            " [0. 0. 0. 0. 1. 0. 0. 0. 0. 0.]] <class 'numpy.ndarray'>\n"
          ]
        }
      ]
    },
    {
      "cell_type": "markdown",
      "metadata": {
        "id": "Czew2EJub6Ja"
      },
      "source": [
        "## MLP"
      ]
    },
    {
      "cell_type": "markdown",
      "metadata": {
        "id": "CC-A1BKOGUOL"
      },
      "source": [
        "### Single flattened layer"
      ]
    },
    {
      "cell_type": "code",
      "metadata": {
        "id": "Gu8Z6K8eHzgn"
      },
      "source": [
        "(train_images, train_labels), (test_images, test_labels) = mnist.load_data()\n",
        "train_images = train_images.reshape((60000, 28*28*1))\n",
        "train_images = train_images.astype('float32')/255         # scaling\n",
        "\n",
        "test_images = test_images.reshape((10000, 28*28*1))\n",
        "test_images = test_images.astype('float32')/255\n",
        "\n",
        "train_labels = to_categorical(train_labels)   # one-hot encoding\n",
        "test_labels = to_categorical(test_labels)"
      ],
      "execution_count": 12,
      "outputs": []
    },
    {
      "cell_type": "code",
      "metadata": {
        "colab": {
          "base_uri": "https://localhost:8080/"
        },
        "id": "cTsZpuk1FuEc",
        "outputId": "16f31812-1897-4c3e-c828-15e5f93613b9"
      },
      "source": [
        "# a single MLP layer\n",
        "\n",
        "model = models.Sequential()\n",
        "model.add(layers.Dense(10, activation='softmax', input_shape = (28*28*1, )))\n",
        "model.summary()\n"
      ],
      "execution_count": 13,
      "outputs": [
        {
          "output_type": "stream",
          "name": "stdout",
          "text": [
            "Model: \"sequential\"\n",
            "_________________________________________________________________\n",
            "Layer (type)                 Output Shape              Param #   \n",
            "=================================================================\n",
            "dense (Dense)                (None, 10)                7850      \n",
            "=================================================================\n",
            "Total params: 7,850\n",
            "Trainable params: 7,850\n",
            "Non-trainable params: 0\n",
            "_________________________________________________________________\n"
          ]
        }
      ]
    },
    {
      "cell_type": "code",
      "metadata": {
        "colab": {
          "base_uri": "https://localhost:8080/"
        },
        "id": "piMtpeTIxFS2",
        "outputId": "11b24baa-04ab-4e2b-bb23-bd632f0102a3"
      },
      "source": [
        "model.compile(optimizer= 'rmsprop',             # set up hyperparamers\n",
        "             loss = 'categorical_crossentropy',\n",
        "             metrics = ['accuracy'])\n",
        "\n",
        "model.fit(train_images, train_labels, epochs=30, batch_size=256, verbose=2)\n",
        "\n",
        "test_loss, test_acc = model.evaluate(test_images, test_labels) # default batch size=32\n",
        "print('test_acc = ',test_acc)"
      ],
      "execution_count": 14,
      "outputs": [
        {
          "output_type": "stream",
          "name": "stdout",
          "text": [
            "Epoch 1/30\n",
            "235/235 - 3s - loss: 0.7650 - accuracy: 0.8201\n",
            "Epoch 2/30\n",
            "235/235 - 1s - loss: 0.3677 - accuracy: 0.8996\n",
            "Epoch 3/30\n",
            "235/235 - 1s - loss: 0.3223 - accuracy: 0.9104\n",
            "Epoch 4/30\n",
            "235/235 - 1s - loss: 0.3031 - accuracy: 0.9157\n",
            "Epoch 5/30\n",
            "235/235 - 1s - loss: 0.2918 - accuracy: 0.9187\n",
            "Epoch 6/30\n",
            "235/235 - 1s - loss: 0.2840 - accuracy: 0.9204\n",
            "Epoch 7/30\n",
            "235/235 - 1s - loss: 0.2785 - accuracy: 0.9220\n",
            "Epoch 8/30\n",
            "235/235 - 1s - loss: 0.2743 - accuracy: 0.9234\n",
            "Epoch 9/30\n",
            "235/235 - 1s - loss: 0.2710 - accuracy: 0.9244\n",
            "Epoch 10/30\n",
            "235/235 - 1s - loss: 0.2680 - accuracy: 0.9258\n",
            "Epoch 11/30\n",
            "235/235 - 1s - loss: 0.2655 - accuracy: 0.9266\n",
            "Epoch 12/30\n",
            "235/235 - 1s - loss: 0.2634 - accuracy: 0.9264\n",
            "Epoch 13/30\n",
            "235/235 - 1s - loss: 0.2617 - accuracy: 0.9279\n",
            "Epoch 14/30\n",
            "235/235 - 1s - loss: 0.2600 - accuracy: 0.9275\n",
            "Epoch 15/30\n",
            "235/235 - 1s - loss: 0.2585 - accuracy: 0.9285\n",
            "Epoch 16/30\n",
            "235/235 - 1s - loss: 0.2570 - accuracy: 0.9291\n",
            "Epoch 17/30\n",
            "235/235 - 1s - loss: 0.2561 - accuracy: 0.9297\n",
            "Epoch 18/30\n",
            "235/235 - 1s - loss: 0.2549 - accuracy: 0.9300\n",
            "Epoch 19/30\n",
            "235/235 - 1s - loss: 0.2540 - accuracy: 0.9304\n",
            "Epoch 20/30\n",
            "235/235 - 1s - loss: 0.2532 - accuracy: 0.9304\n",
            "Epoch 21/30\n",
            "235/235 - 1s - loss: 0.2522 - accuracy: 0.9313\n",
            "Epoch 22/30\n",
            "235/235 - 1s - loss: 0.2514 - accuracy: 0.9312\n",
            "Epoch 23/30\n",
            "235/235 - 1s - loss: 0.2507 - accuracy: 0.9312\n",
            "Epoch 24/30\n",
            "235/235 - 1s - loss: 0.2499 - accuracy: 0.9315\n",
            "Epoch 25/30\n",
            "235/235 - 1s - loss: 0.2492 - accuracy: 0.9323\n",
            "Epoch 26/30\n",
            "235/235 - 1s - loss: 0.2487 - accuracy: 0.9320\n",
            "Epoch 27/30\n",
            "235/235 - 1s - loss: 0.2481 - accuracy: 0.9327\n",
            "Epoch 28/30\n",
            "235/235 - 1s - loss: 0.2475 - accuracy: 0.9321\n",
            "Epoch 29/30\n",
            "235/235 - 1s - loss: 0.2472 - accuracy: 0.9329\n",
            "Epoch 30/30\n",
            "235/235 - 1s - loss: 0.2467 - accuracy: 0.9332\n",
            "313/313 [==============================] - 1s 3ms/step - loss: 0.2654 - accuracy: 0.9273\n",
            "test_acc =  0.927299976348877\n"
          ]
        }
      ]
    },
    {
      "cell_type": "code",
      "metadata": {
        "colab": {
          "base_uri": "https://localhost:8080/",
          "height": 298
        },
        "id": "jJXC73RGkwjk",
        "outputId": "1f3c20f6-4d49-452c-ab9d-981510320df5"
      },
      "source": [
        "from PIL import Image, ImageOps\n",
        "import matplotlib.pyplot as plt\n",
        "image = Image.open('num_4_thin.png' ).convert('LA')\n",
        "image = ImageOps.grayscale(image)\n",
        "image = np.asarray(image.resize((28,28)))\n",
        "image = 255. - image\n",
        "plt.imshow(image, cmap='Greys')\n",
        "print(np.asarray(image).shape)\n",
        "# model.predict(image.reshape(1, 28,28,1).astype('float64') / 255)\n",
        "model.predict(image.reshape(1, 28*28))"
      ],
      "execution_count": 17,
      "outputs": [
        {
          "output_type": "stream",
          "name": "stdout",
          "text": [
            "(28, 28)\n"
          ]
        },
        {
          "output_type": "execute_result",
          "data": {
            "text/plain": [
              "array([[0., 0., 0., 1., 0., 0., 0., 0., 0., 0.]], dtype=float32)"
            ]
          },
          "metadata": {},
          "execution_count": 17
        },
        {
          "output_type": "display_data",
          "data": {
            "image/png": "[encoded data removed]",
            "text/plain": [
              "<Figure size 432x288 with 1 Axes>"
            ]
          },
          "metadata": {
            "needs_background": "light"
          }
        }
      ]
    },
    {
      "cell_type": "markdown",
      "metadata": {
        "id": "g5LUPZunF5Q8"
      },
      "source": [
        "### MLP with hidden layers"
      ]
    },
    {
      "cell_type": "code",
      "metadata": {
        "id": "4tlDJdu8b5XD",
        "colab": {
          "base_uri": "https://localhost:8080/"
        },
        "outputId": "65adb38e-eb48-4557-ae7b-57afea1c6eab"
      },
      "source": [
        "model = models.Sequential()\n",
        "model.add(layers.Dense(100, activation='relu', input_shape = (28*28*1, ))) # fully-connected\n",
        "model.add(layers.Dense(100, activation='relu'))\n",
        "model.add(layers.Flatten())\n",
        "model.add(layers.Dense(10, activation='softmax'))\n",
        "model.summary()"
      ],
      "execution_count": 18,
      "outputs": [
        {
          "output_type": "stream",
          "name": "stdout",
          "text": [
            "Model: \"sequential_1\"\n",
            "_________________________________________________________________\n",
            "Layer (type)                 Output Shape              Param #   \n",
            "=================================================================\n",
            "dense_1 (Dense)              (None, 100)               78500     \n",
            "_________________________________________________________________\n",
            "dense_2 (Dense)              (None, 100)               10100     \n",
            "_________________________________________________________________\n",
            "flatten (Flatten)            (None, 100)               0         \n",
            "_________________________________________________________________\n",
            "dense_3 (Dense)              (None, 10)                1010      \n",
            "=================================================================\n",
            "Total params: 89,610\n",
            "Trainable params: 89,610\n",
            "Non-trainable params: 0\n",
            "_________________________________________________________________\n"
          ]
        }
      ]
    },
    {
      "cell_type": "code",
      "metadata": {
        "id": "BxhtwGwIcryz",
        "colab": {
          "base_uri": "https://localhost:8080/"
        },
        "outputId": "fd2d9485-8b6e-43d7-eca1-65b1a9e739ef"
      },
      "source": [
        "print(model.input)\n",
        "print(model.output)"
      ],
      "execution_count": 19,
      "outputs": [
        {
          "output_type": "stream",
          "name": "stdout",
          "text": [
            "KerasTensor(type_spec=TensorSpec(shape=(None, 784), dtype=tf.float32, name='dense_1_input'), name='dense_1_input', description=\"created by layer 'dense_1_input'\")\n",
            "KerasTensor(type_spec=TensorSpec(shape=(None, 10), dtype=tf.float32, name=None), name='dense_3/Softmax:0', description=\"created by layer 'dense_3'\")\n"
          ]
        }
      ]
    },
    {
      "cell_type": "code",
      "metadata": {
        "colab": {
          "base_uri": "https://localhost:8080/"
        },
        "id": "FpY6d-bPif-9",
        "outputId": "5a81d862-620f-403f-e2e0-022edf2facc6"
      },
      "source": [
        "print(model.input_shape)\n",
        "print(model.output_shape)\n",
        "model.input"
      ],
      "execution_count": 20,
      "outputs": [
        {
          "output_type": "stream",
          "name": "stdout",
          "text": [
            "(None, 784)\n",
            "(None, 10)\n"
          ]
        },
        {
          "output_type": "execute_result",
          "data": {
            "text/plain": [
              "<KerasTensor: shape=(None, 784) dtype=float32 (created by layer 'dense_1_input')>"
            ]
          },
          "metadata": {},
          "execution_count": 20
        }
      ]
    },
    {
      "cell_type": "code",
      "metadata": {
        "colab": {
          "base_uri": "https://localhost:8080/"
        },
        "id": "WY3Uk5x7irgJ",
        "outputId": "a11d381a-afe3-42de-b47d-2f5bf3633ea3"
      },
      "source": [
        "model.layers[0].input, model.layers[0].output, model.layers[0].trainable"
      ],
      "execution_count": 21,
      "outputs": [
        {
          "output_type": "execute_result",
          "data": {
            "text/plain": [
              "(<KerasTensor: shape=(None, 784) dtype=float32 (created by layer 'dense_1_input')>,\n",
              " <KerasTensor: shape=(None, 100) dtype=float32 (created by layer 'dense_1')>,\n",
              " True)"
            ]
          },
          "metadata": {},
          "execution_count": 21
        }
      ]
    },
    {
      "cell_type": "code",
      "metadata": {
        "id": "jiv81CMBcf88"
      },
      "source": [
        "model.compile(optimizer= 'rmsprop',             # set up hyperparamers\n",
        "             loss = 'categorical_crossentropy',\n",
        "             metrics = ['accuracy'])"
      ],
      "execution_count": 22,
      "outputs": []
    },
    {
      "cell_type": "code",
      "metadata": {
        "id": "oV47F7rsb5EY",
        "colab": {
          "base_uri": "https://localhost:8080/"
        },
        "outputId": "713f3886-38b5-44b7-ff80-905ecb463cd8"
      },
      "source": [
        "model.fit(train_images, train_labels, epochs=30, batch_size=200) "
      ],
      "execution_count": 23,
      "outputs": [
        {
          "output_type": "stream",
          "name": "stdout",
          "text": [
            "Epoch 1/30\n",
            "300/300 [==============================] - 2s 4ms/step - loss: 0.3631 - accuracy: 0.8969\n",
            "Epoch 2/30\n",
            "300/300 [==============================] - 1s 4ms/step - loss: 0.1549 - accuracy: 0.9544\n",
            "Epoch 3/30\n",
            "300/300 [==============================] - 1s 4ms/step - loss: 0.1086 - accuracy: 0.9676\n",
            "Epoch 4/30\n",
            "300/300 [==============================] - 1s 4ms/step - loss: 0.0834 - accuracy: 0.9746\n",
            "Epoch 5/30\n",
            "300/300 [==============================] - 1s 4ms/step - loss: 0.0677 - accuracy: 0.9790\n",
            "Epoch 6/30\n",
            "300/300 [==============================] - 1s 4ms/step - loss: 0.0561 - accuracy: 0.9825\n",
            "Epoch 7/30\n",
            "300/300 [==============================] - 1s 4ms/step - loss: 0.0469 - accuracy: 0.9857\n",
            "Epoch 8/30\n",
            "300/300 [==============================] - 1s 4ms/step - loss: 0.0389 - accuracy: 0.9881\n",
            "Epoch 9/30\n",
            "300/300 [==============================] - 1s 4ms/step - loss: 0.0336 - accuracy: 0.9901\n",
            "Epoch 10/30\n",
            "300/300 [==============================] - 1s 4ms/step - loss: 0.0279 - accuracy: 0.9915\n",
            "Epoch 11/30\n",
            "300/300 [==============================] - 1s 4ms/step - loss: 0.0242 - accuracy: 0.9924\n",
            "Epoch 12/30\n",
            "300/300 [==============================] - 1s 4ms/step - loss: 0.0206 - accuracy: 0.9939\n",
            "Epoch 13/30\n",
            "300/300 [==============================] - 1s 4ms/step - loss: 0.0174 - accuracy: 0.9948\n",
            "Epoch 14/30\n",
            "300/300 [==============================] - 1s 4ms/step - loss: 0.0158 - accuracy: 0.9955\n",
            "Epoch 15/30\n",
            "300/300 [==============================] - 1s 4ms/step - loss: 0.0131 - accuracy: 0.9961\n",
            "Epoch 16/30\n",
            "300/300 [==============================] - 1s 4ms/step - loss: 0.0114 - accuracy: 0.9966\n",
            "Epoch 17/30\n",
            "300/300 [==============================] - 1s 4ms/step - loss: 0.0100 - accuracy: 0.9971\n",
            "Epoch 18/30\n",
            "300/300 [==============================] - 1s 3ms/step - loss: 0.0090 - accuracy: 0.9971\n",
            "Epoch 19/30\n",
            "300/300 [==============================] - 1s 4ms/step - loss: 0.0078 - accuracy: 0.9976\n",
            "Epoch 20/30\n",
            "300/300 [==============================] - 1s 4ms/step - loss: 0.0069 - accuracy: 0.9979\n",
            "Epoch 21/30\n",
            "300/300 [==============================] - 1s 4ms/step - loss: 0.0056 - accuracy: 0.9984\n",
            "Epoch 22/30\n",
            "300/300 [==============================] - 1s 4ms/step - loss: 0.0053 - accuracy: 0.9984\n",
            "Epoch 23/30\n",
            "300/300 [==============================] - 1s 4ms/step - loss: 0.0046 - accuracy: 0.9987\n",
            "Epoch 24/30\n",
            "300/300 [==============================] - 1s 4ms/step - loss: 0.0039 - accuracy: 0.9989\n",
            "Epoch 25/30\n",
            "300/300 [==============================] - 1s 4ms/step - loss: 0.0039 - accuracy: 0.9987\n",
            "Epoch 26/30\n",
            "300/300 [==============================] - 1s 4ms/step - loss: 0.0034 - accuracy: 0.9989\n",
            "Epoch 27/30\n",
            "300/300 [==============================] - 1s 4ms/step - loss: 0.0030 - accuracy: 0.9991\n",
            "Epoch 28/30\n",
            "300/300 [==============================] - 1s 4ms/step - loss: 0.0026 - accuracy: 0.9992\n",
            "Epoch 29/30\n",
            "300/300 [==============================] - 1s 3ms/step - loss: 0.0024 - accuracy: 0.9993\n",
            "Epoch 30/30\n",
            "300/300 [==============================] - 1s 4ms/step - loss: 0.0026 - accuracy: 0.9990\n"
          ]
        },
        {
          "output_type": "execute_result",
          "data": {
            "text/plain": [
              "<keras.callbacks.History at 0x7fc8c7186d50>"
            ]
          },
          "metadata": {},
          "execution_count": 23
        }
      ]
    },
    {
      "cell_type": "code",
      "metadata": {
        "id": "JWGwyDRBdNqL",
        "colab": {
          "base_uri": "https://localhost:8080/"
        },
        "outputId": "6612e8d0-d3cf-4121-9a12-e9168bcefe92"
      },
      "source": [
        "test_loss, test_acc = model.evaluate(test_images, test_labels) # default batch size=32\n",
        "print('test_acc = ',test_acc)"
      ],
      "execution_count": 24,
      "outputs": [
        {
          "output_type": "stream",
          "name": "stdout",
          "text": [
            "313/313 [==============================] - 1s 3ms/step - loss: 0.1384 - accuracy: 0.9776\n",
            "test_acc =  0.9775999784469604\n"
          ]
        }
      ]
    },
    {
      "cell_type": "markdown",
      "metadata": {
        "id": "44tLYKCwtYc-"
      },
      "source": [
        "## CNN "
      ]
    },
    {
      "cell_type": "code",
      "metadata": {
        "id": "GtGbjQ2Xcrzc"
      },
      "source": [
        "# keras.layers.Conv2D(filters, kernel_size,...)\n",
        "# - filters: the dimensionality of the output space (the number of output filters).\n",
        "# - parameter 수: 입력채널수 X 필터폭 X 필터높이 X 출력채널수 \n",
        "# - bias 도 고려"
      ],
      "execution_count": 25,
      "outputs": []
    },
    {
      "cell_type": "code",
      "metadata": {
        "id": "8nuyNeduXF08"
      },
      "source": [
        "(train_images, train_labels), (test_images, test_labels) = mnist.load_data()\n",
        "train_images = train_images.reshape(60000, 28, 28, 1)\n",
        "train_images = train_images.astype('float32')/255         # scaling\n",
        "\n",
        "test_images = test_images.reshape(10000, 28, 28, 1)\n",
        "test_images = test_images.astype('float32')/255\n",
        "\n",
        "train_labels = to_categorical(train_labels)   # one-hot encoding\n",
        "test_labels = to_categorical(test_labels)"
      ],
      "execution_count": 26,
      "outputs": []
    },
    {
      "cell_type": "code",
      "metadata": {
        "id": "ZF7JkSQvrYAj",
        "colab": {
          "base_uri": "https://localhost:8080/"
        },
        "outputId": "8ea6bcea-a068-4d3b-d2da-21462fcef5ca"
      },
      "source": [
        "from keras import layers\n",
        "from keras import models\n",
        "\n",
        "model = models.Sequential()\n",
        "\n",
        "model.add(layers.Conv2D(32, (3,3), activation='relu', input_shape = (28, 28, 1)))\n",
        "model.add(layers.MaxPooling2D((2,2)))\n",
        "model.add(layers.Conv2D(64, (3,3), activation='relu'))\n",
        "model.add(layers.MaxPooling2D((2,2)))\n",
        "model.add(layers.Conv2D(64, (3,3), activation='relu'))\n",
        "# print(model.output_shape)\n",
        "\n",
        "model.add(layers.Flatten())\n",
        "model.add(layers.Dense(10, activation='softmax'))\n",
        "print(model.output_shape)\n",
        "\n",
        "model.summary()   "
      ],
      "execution_count": 27,
      "outputs": [
        {
          "output_type": "stream",
          "name": "stdout",
          "text": [
            "(None, 10)\n",
            "Model: \"sequential_2\"\n",
            "_________________________________________________________________\n",
            "Layer (type)                 Output Shape              Param #   \n",
            "=================================================================\n",
            "conv2d (Conv2D)              (None, 26, 26, 32)        320       \n",
            "_________________________________________________________________\n",
            "max_pooling2d (MaxPooling2D) (None, 13, 13, 32)        0         \n",
            "_________________________________________________________________\n",
            "conv2d_1 (Conv2D)            (None, 11, 11, 64)        18496     \n",
            "_________________________________________________________________\n",
            "max_pooling2d_1 (MaxPooling2 (None, 5, 5, 64)          0         \n",
            "_________________________________________________________________\n",
            "conv2d_2 (Conv2D)            (None, 3, 3, 64)          36928     \n",
            "_________________________________________________________________\n",
            "flatten_1 (Flatten)          (None, 576)               0         \n",
            "_________________________________________________________________\n",
            "dense_4 (Dense)              (None, 10)                5770      \n",
            "=================================================================\n",
            "Total params: 61,514\n",
            "Trainable params: 61,514\n",
            "Non-trainable params: 0\n",
            "_________________________________________________________________\n"
          ]
        }
      ]
    },
    {
      "cell_type": "code",
      "metadata": {
        "id": "SM-4br69crzu"
      },
      "source": [
        "# number of parameters\n",
        "# conv2d_1 : 3*3*1*32 + 32 = 320\n",
        "# conv2d_2 : 3*3*32*64 + 64 = 18496\n",
        "# conv2d_3 : 3*3*64*64 + 64 = 36928\n",
        "# dense_6 : 3*3*64*10 + 10 = 5770"
      ],
      "execution_count": 28,
      "outputs": []
    },
    {
      "cell_type": "code",
      "metadata": {
        "id": "_ikkdb8qsx6d"
      },
      "source": [
        "model.compile(optimizer= 'rmsprop',\n",
        "             loss = 'categorical_crossentropy',\n",
        "             metrics = ['accuracy'])"
      ],
      "execution_count": 29,
      "outputs": []
    },
    {
      "cell_type": "code",
      "metadata": {
        "id": "FWsfipcXu20x",
        "colab": {
          "base_uri": "https://localhost:8080/"
        },
        "outputId": "4031f303-79c6-44a7-9d4f-cf69e82c10b6"
      },
      "source": [
        "model.fit(train_images, train_labels, epochs=30, batch_size=200)"
      ],
      "execution_count": 30,
      "outputs": [
        {
          "output_type": "stream",
          "name": "stdout",
          "text": [
            "Epoch 1/30\n",
            "300/300 [==============================] - 32s 13ms/step - loss: 0.3025 - accuracy: 0.9079\n",
            "Epoch 2/30\n",
            "300/300 [==============================] - 4s 12ms/step - loss: 0.0764 - accuracy: 0.9767\n",
            "Epoch 3/30\n",
            "300/300 [==============================] - 4s 12ms/step - loss: 0.0490 - accuracy: 0.9848\n",
            "Epoch 4/30\n",
            "300/300 [==============================] - 4s 12ms/step - loss: 0.0381 - accuracy: 0.9884\n",
            "Epoch 5/30\n",
            "300/300 [==============================] - 4s 12ms/step - loss: 0.0299 - accuracy: 0.9907\n",
            "Epoch 6/30\n",
            "300/300 [==============================] - 4s 12ms/step - loss: 0.0246 - accuracy: 0.9922\n",
            "Epoch 7/30\n",
            "300/300 [==============================] - 4s 12ms/step - loss: 0.0202 - accuracy: 0.9935\n",
            "Epoch 8/30\n",
            "300/300 [==============================] - 4s 12ms/step - loss: 0.0163 - accuracy: 0.9949\n",
            "Epoch 9/30\n",
            "300/300 [==============================] - 4s 12ms/step - loss: 0.0146 - accuracy: 0.9954\n",
            "Epoch 10/30\n",
            "300/300 [==============================] - 4s 12ms/step - loss: 0.0122 - accuracy: 0.9961\n",
            "Epoch 11/30\n",
            "300/300 [==============================] - 4s 12ms/step - loss: 0.0101 - accuracy: 0.9967\n",
            "Epoch 12/30\n",
            "300/300 [==============================] - 4s 12ms/step - loss: 0.0087 - accuracy: 0.9976\n",
            "Epoch 13/30\n",
            "300/300 [==============================] - 4s 12ms/step - loss: 0.0075 - accuracy: 0.9976\n",
            "Epoch 14/30\n",
            "300/300 [==============================] - 4s 12ms/step - loss: 0.0062 - accuracy: 0.9980\n",
            "Epoch 15/30\n",
            "300/300 [==============================] - 4s 12ms/step - loss: 0.0056 - accuracy: 0.9981\n",
            "Epoch 16/30\n",
            "300/300 [==============================] - 4s 12ms/step - loss: 0.0046 - accuracy: 0.9985\n",
            "Epoch 17/30\n",
            "300/300 [==============================] - 4s 12ms/step - loss: 0.0041 - accuracy: 0.9986\n",
            "Epoch 18/30\n",
            "300/300 [==============================] - 4s 12ms/step - loss: 0.0037 - accuracy: 0.9989\n",
            "Epoch 19/30\n",
            "300/300 [==============================] - 4s 12ms/step - loss: 0.0031 - accuracy: 0.9990\n",
            "Epoch 20/30\n",
            "300/300 [==============================] - 4s 12ms/step - loss: 0.0029 - accuracy: 0.9989\n",
            "Epoch 21/30\n",
            "300/300 [==============================] - 4s 12ms/step - loss: 0.0026 - accuracy: 0.9992\n",
            "Epoch 22/30\n",
            "300/300 [==============================] - 4s 12ms/step - loss: 0.0020 - accuracy: 0.9993\n",
            "Epoch 23/30\n",
            "300/300 [==============================] - 4s 12ms/step - loss: 0.0020 - accuracy: 0.9992\n",
            "Epoch 24/30\n",
            "300/300 [==============================] - 4s 12ms/step - loss: 0.0015 - accuracy: 0.9995\n",
            "Epoch 25/30\n",
            "300/300 [==============================] - 4s 12ms/step - loss: 0.0025 - accuracy: 0.9993\n",
            "Epoch 26/30\n",
            "300/300 [==============================] - 4s 12ms/step - loss: 0.0015 - accuracy: 0.9995\n",
            "Epoch 27/30\n",
            "300/300 [==============================] - 4s 12ms/step - loss: 0.0012 - accuracy: 0.9997\n",
            "Epoch 28/30\n",
            "300/300 [==============================] - 4s 12ms/step - loss: 0.0017 - accuracy: 0.9993\n",
            "Epoch 29/30\n",
            "300/300 [==============================] - 4s 12ms/step - loss: 8.9502e-04 - accuracy: 0.9997\n",
            "Epoch 30/30\n",
            "300/300 [==============================] - 4s 12ms/step - loss: 0.0013 - accuracy: 0.9995\n"
          ]
        },
        {
          "output_type": "execute_result",
          "data": {
            "text/plain": [
              "<keras.callbacks.History at 0x7fc8c6f72d50>"
            ]
          },
          "metadata": {},
          "execution_count": 30
        }
      ]
    },
    {
      "cell_type": "code",
      "metadata": {
        "id": "H4MhJEoUvCm0",
        "colab": {
          "base_uri": "https://localhost:8080/"
        },
        "outputId": "fc9d4947-7c70-491c-d3c3-a866b10b0fa6"
      },
      "source": [
        "test_loss, test_acc = model.evaluate(test_images, test_labels)\n",
        "print('test_acc = ',test_acc)"
      ],
      "execution_count": 31,
      "outputs": [
        {
          "output_type": "stream",
          "name": "stdout",
          "text": [
            "313/313 [==============================] - 1s 4ms/step - loss: 0.0534 - accuracy: 0.9917\n",
            "test_acc =  0.9916999936103821\n"
          ]
        }
      ]
    },
    {
      "cell_type": "code",
      "metadata": {
        "id": "HZrE6QuDUC2V",
        "colab": {
          "base_uri": "https://localhost:8080/",
          "height": 298
        },
        "outputId": "56bd76b6-8a29-4000-e98a-a2f0279cc9cc"
      },
      "source": [
        "from PIL import Image, ImageOps\n",
        "import matplotlib.pyplot as plt\n",
        "image = Image.open('num_4_thin.png' ).convert('LA')  # to gray\n",
        "image = ImageOps.grayscale(image)\n",
        "image = np.asarray(image.resize((28,28)))\n",
        "image = 255. - image\n",
        "plt.imshow(image, cmap='Greys')\n",
        "print(np.asarray(image).shape)\n",
        "# model.predict(image.reshape(1, 28,28,1).astype('float64') / 255)\n",
        "model.predict(image.reshape(1, 28,28,1))"
      ],
      "execution_count": 34,
      "outputs": [
        {
          "output_type": "stream",
          "name": "stdout",
          "text": [
            "(28, 28)\n"
          ]
        },
        {
          "output_type": "execute_result",
          "data": {
            "text/plain": [
              "array([[0., 0., 0., 0., 1., 0., 0., 0., 0., 0.]], dtype=float32)"
            ]
          },
          "metadata": {},
          "execution_count": 34
        },
        {
          "output_type": "display_data",
          "data": {
            "image/png": "[encoded data removed]",
            "text/plain": [
              "<Figure size 432x288 with 1 Axes>"
            ]
          },
          "metadata": {
            "needs_background": "light"
          }
        }
      ]
    },
    {
      "cell_type": "markdown",
      "metadata": {
        "id": "tlNf7x0ktFKT"
      },
      "source": [
        "## Without Deep Learning"
      ]
    },
    {
      "cell_type": "code",
      "metadata": {
        "id": "uyXhUMT-tD4b"
      },
      "source": [
        "# just for reference\n",
        "from sklearn.model_selection import train_test_split\n",
        "from sklearn import datasets, svm, metrics\n",
        "from sklearn.linear_model import SGDClassifier\n",
        "from sklearn.metrics import accuracy_score\n",
        "import numpy as np\n",
        "(train_images, train_labels), (test_images, test_labels) = mnist.load_data()\n",
        "train_images = train_images.reshape((60000, 28*28*1))\n",
        "X = train_images.astype('float32')/255         # scaling\n",
        "y = train_labels\n",
        "X_train, X_test, y_train, y_test = train_test_split(X, y, test_size=0.25)"
      ],
      "execution_count": 35,
      "outputs": []
    },
    {
      "cell_type": "code",
      "metadata": {
        "colab": {
          "base_uri": "https://localhost:8080/"
        },
        "id": "AyQX8koWuJey",
        "outputId": "a6452d95-243f-405f-fc7a-f19a5de6334a"
      },
      "source": [
        "X_train.shape, X_test.shape, y_train.shape, y_test.shape"
      ],
      "execution_count": 36,
      "outputs": [
        {
          "output_type": "execute_result",
          "data": {
            "text/plain": [
              "((45000, 784), (15000, 784), (45000,), (15000,))"
            ]
          },
          "metadata": {},
          "execution_count": 36
        }
      ]
    },
    {
      "cell_type": "code",
      "metadata": {
        "colab": {
          "base_uri": "https://localhost:8080/"
        },
        "id": "-hFiwQZjutaq",
        "outputId": "f9d8b213-ae20-4140-9f5f-2110d291194c"
      },
      "source": [
        "clf = SGDClassifier(max_iter=200)\n",
        "clf.fit(X_train, y_train)\n",
        "y_pred = clf.predict(X_test)\n",
        "print(accuracy_score(y_test, y_pred))"
      ],
      "execution_count": 37,
      "outputs": [
        {
          "output_type": "stream",
          "name": "stdout",
          "text": [
            "0.9104666666666666\n"
          ]
        }
      ]
    },
    {
      "cell_type": "code",
      "metadata": {
        "colab": {
          "base_uri": "https://localhost:8080/"
        },
        "id": "5QWZz2sflK1a",
        "outputId": "3f137709-24b3-4905-f6e3-2dbf94168981"
      },
      "source": [
        "clf.predict(image.reshape(1, 28*28))  # wrong"
      ],
      "execution_count": 38,
      "outputs": [
        {
          "output_type": "execute_result",
          "data": {
            "text/plain": [
              "array([3], dtype=uint8)"
            ]
          },
          "metadata": {},
          "execution_count": 38
        }
      ]
    }
  ]
}