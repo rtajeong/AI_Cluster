{
  "nbformat": 4,
  "nbformat_minor": 0,
  "metadata": {
    "kernelspec": {
      "display_name": "Python 3",
      "language": "python",
      "name": "python3"
    },
    "language_info": {
      "codemirror_mode": {
        "name": "ipython",
        "version": 3
      },
      "file_extension": ".py",
      "mimetype": "text/x-python",
      "name": "python",
      "nbconvert_exporter": "python",
      "pygments_lexer": "ipython3",
      "version": "3.8.8"
    },
    "colab": {
      "name": "gg_19_DNA Sequence data.ipynb",
      "provenance": [],
      "collapsed_sections": [],
      "include_colab_link": true
    }
  },
  "cells": [
    {
      "cell_type": "markdown",
      "metadata": {
        "id": "view-in-github",
        "colab_type": "text"
      },
      "source": [
        "<a href=\"https://colab.research.google.com/github/rtajeong/AI_Cluster/blob/main/gg_19_DNA_Sequence_data.ipynb\" target=\"_parent\"><img src=\"https://colab.research.google.com/assets/colab-badge.svg\" alt=\"Open In Colab\"/></a>"
      ]
    },
    {
      "cell_type": "markdown",
      "metadata": {
        "id": "DIeBmfLFsfse"
      },
      "source": [
        "# DNA Sequencing with Machine Learning\n",
        "\n",
        "다루는 내용\n",
        "--\n",
        "\n",
        "- DNA sequence data encoding\n",
        "- gene family 예측\n",
        "\n",
        "데이터\n",
        "--\n",
        "- https://www.kaggle.com/nageshsingh/dna-sequence-dataset"
      ]
    },
    {
      "cell_type": "markdown",
      "metadata": {
        "id": "Y5-4uU3Jsfsl"
      },
      "source": [
        "### DNA data handling using Biopython"
      ]
    },
    {
      "cell_type": "code",
      "metadata": {
        "scrolled": true,
        "colab": {
          "base_uri": "https://localhost:8080/"
        },
        "id": "43dYoE8ksfsm",
        "outputId": "e3ac022f-f1d6-4534-bb85-d64c096a63a3"
      },
      "source": [
        "pip install Bio"
      ],
      "execution_count": 1,
      "outputs": [
        {
          "output_type": "stream",
          "name": "stdout",
          "text": [
            "Collecting Bio\n",
            "  Downloading bio-1.3.2-py3-none-any.whl (272 kB)\n",
            "\u001b[?25l\r\u001b[K     |█▏                              | 10 kB 18.1 MB/s eta 0:00:01\r\u001b[K     |██▍                             | 20 kB 22.2 MB/s eta 0:00:01\r\u001b[K     |███▋                            | 30 kB 24.8 MB/s eta 0:00:01\r\u001b[K     |████▉                           | 40 kB 27.3 MB/s eta 0:00:01\r\u001b[K     |██████                          | 51 kB 28.6 MB/s eta 0:00:01\r\u001b[K     |███████▎                        | 61 kB 31.0 MB/s eta 0:00:01\r\u001b[K     |████████▍                       | 71 kB 31.2 MB/s eta 0:00:01\r\u001b[K     |█████████▋                      | 81 kB 31.9 MB/s eta 0:00:01\r\u001b[K     |██████████▉                     | 92 kB 30.8 MB/s eta 0:00:01\r\u001b[K     |████████████                    | 102 kB 31.0 MB/s eta 0:00:01\r\u001b[K     |█████████████▎                  | 112 kB 31.0 MB/s eta 0:00:01\r\u001b[K     |██████████████▌                 | 122 kB 31.0 MB/s eta 0:00:01\r\u001b[K     |███████████████▋                | 133 kB 31.0 MB/s eta 0:00:01\r\u001b[K     |████████████████▉               | 143 kB 31.0 MB/s eta 0:00:01\r\u001b[K     |██████████████████              | 153 kB 31.0 MB/s eta 0:00:01\r\u001b[K     |███████████████████▎            | 163 kB 31.0 MB/s eta 0:00:01\r\u001b[K     |████████████████████▌           | 174 kB 31.0 MB/s eta 0:00:01\r\u001b[K     |█████████████████████▊          | 184 kB 31.0 MB/s eta 0:00:01\r\u001b[K     |██████████████████████▉         | 194 kB 31.0 MB/s eta 0:00:01\r\u001b[K     |████████████████████████        | 204 kB 31.0 MB/s eta 0:00:01\r\u001b[K     |█████████████████████████▎      | 215 kB 31.0 MB/s eta 0:00:01\r\u001b[K     |██████████████████████████▌     | 225 kB 31.0 MB/s eta 0:00:01\r\u001b[K     |███████████████████████████▊    | 235 kB 31.0 MB/s eta 0:00:01\r\u001b[K     |█████████████████████████████   | 245 kB 31.0 MB/s eta 0:00:01\r\u001b[K     |██████████████████████████████▏ | 256 kB 31.0 MB/s eta 0:00:01\r\u001b[K     |███████████████████████████████▎| 266 kB 31.0 MB/s eta 0:00:01\r\u001b[K     |████████████████████████████████| 272 kB 31.0 MB/s \n",
            "\u001b[?25hRequirement already satisfied: tqdm in /usr/local/lib/python3.7/dist-packages (from Bio) (4.62.3)\n",
            "Collecting biopython>=1.79\n",
            "  Downloading biopython-1.79-cp37-cp37m-manylinux_2_5_x86_64.manylinux1_x86_64.whl (2.3 MB)\n",
            "\u001b[K     |████████████████████████████████| 2.3 MB 42.8 MB/s \n",
            "\u001b[?25hCollecting mygene\n",
            "  Downloading mygene-3.2.2-py2.py3-none-any.whl (5.4 kB)\n",
            "Requirement already satisfied: requests in /usr/local/lib/python3.7/dist-packages (from Bio) (2.23.0)\n",
            "Requirement already satisfied: numpy in /usr/local/lib/python3.7/dist-packages (from biopython>=1.79->Bio) (1.19.5)\n",
            "Collecting biothings-client>=0.2.6\n",
            "  Downloading biothings_client-0.2.6-py2.py3-none-any.whl (37 kB)\n",
            "Requirement already satisfied: certifi>=2017.4.17 in /usr/local/lib/python3.7/dist-packages (from requests->Bio) (2021.10.8)\n",
            "Requirement already satisfied: idna<3,>=2.5 in /usr/local/lib/python3.7/dist-packages (from requests->Bio) (2.10)\n",
            "Requirement already satisfied: urllib3!=1.25.0,!=1.25.1,<1.26,>=1.21.1 in /usr/local/lib/python3.7/dist-packages (from requests->Bio) (1.24.3)\n",
            "Requirement already satisfied: chardet<4,>=3.0.2 in /usr/local/lib/python3.7/dist-packages (from requests->Bio) (3.0.4)\n",
            "Installing collected packages: biothings-client, mygene, biopython, Bio\n",
            "Successfully installed Bio-1.3.2 biopython-1.79 biothings-client-0.2.6 mygene-3.2.2\n"
          ]
        }
      ]
    },
    {
      "cell_type": "markdown",
      "metadata": {
        "id": "6v6_tr0Q4hoE"
      },
      "source": [
        "- fasta format: 염기서열 혹은 단백질서열을 문자열로 표현한 것"
      ]
    },
    {
      "cell_type": "code",
      "metadata": {
        "scrolled": true,
        "colab": {
          "base_uri": "https://localhost:8080/"
        },
        "id": "gzbarmNRsfsp",
        "outputId": "bf6da54f-4c35-4024-ffb0-8f9c68559a87"
      },
      "source": [
        "from Bio import SeqIO\n",
        "for sequence in SeqIO.parse('./example_dna.fa', \"fasta\"):\n",
        "    print(sequence.id)\n",
        "    print(sequence.seq)\n",
        "    print(len(sequence))"
      ],
      "execution_count": 25,
      "outputs": [
        {
          "output_type": "stream",
          "name": "stdout",
          "text": [
            "ENST00000435737.5\n",
            "ATGTTTCGCATCACCAACATTGAGTTTCTTCCCGAATACCGACAAAAGGAGTCCAGGGAATTTCTTTCAGTGTCACGGACTGTGCAGCAAGTGATAAACCTGGTTTATACAACATCTGCCTTCTCCAAATTTTATGAGCAGTCTGTTGTTGCAGATGTCAGCAACAACAAAGGCGGCCTCCTTGTCCACTTTTGGATTGTTTTTGTCATGCCACGTGCCAAAGGCCACATCTTCTGTGAAGACTGTGTTGCCGCCATCTTGAAGGACTCCATCCAGACAAGCATCATAAACCGGACCTCTGTGGGGAGCTTGCAGGGACTGGCTGTGGACATGGACTCTGTGGTACTAAATGAAGTCCTGGGGCTGACTCTCATTGTCTGGATTGACTGA\n",
            "390\n",
            "ENST00000419127.5\n",
            "ATGTTTCGCATCACCAACATTGAGTTTCTTCCCGAATACCGACAAAAGGAGTCCAGGGAATTTCTTTCAGTGTCACGGACTGTGCAGCAAGTGATAAACCTGGTTTATACAACATCTGCCTTCTCCAAATTTTATGAGCAGTCTGTTGTTGCAGATGTCAGCAACAACAAAGGCGGCCTCCTTGTCCACTTTTGGATTGTTTTTGTCATGCCACGTGCCAAAGGCCACATCTTCTGTGAAGACTGTGTTGCCGCCATCTTGAAGGACTCCATCCAGACAAGCATCATAAACCGGACCTCTGTGGGGAGCTTGCAGGGACTGGCTGTGGACATGGACTCTGTGGTACTAAATGACAAAGGCTGCTCTCAGTACTTCTATGCAGAGCATCTGTCTCTCCACTACCCGCTGGAGATTTCTGCAGCCTCAGGGAGGCTGATGTGTCACTTCAAGCTGGTGGCCATAGTGGGCTACCTGATTCGTCTCTCAATCAAGTCCATCCAAATCGAAGCCGACAACTGTGTCACTGACTCCCTGACCATTTACGACTCCCTTTTGCCCATCCGGAGCAGCATCTTGTACAGAATTTGTGAACCCACAAGAACATTAATGTCATTTGTTTCTACAAATAATCTCATGTTGGTGACATTTAAGTCTCCTCATATACGGAGGCTCTCAGGAATCCGGGCATATTTTGAGGTCATTCCAGAACAAAAGTGTGAAAACACAGTGTTGGTCAAAGACATCACTGGCTTTGAAGGGAAAATTTCAAGCCCATATTACCCGAGCTACTATCCTCCAAAATGCAAGTGTACCTGGAAATTTCAGACTTCTCTATCAACTCTTGGCATAGCACTGAAATTCTATAACTATTCAATAACCAAGAAGAGTATGAAAGGCTGTGAGCATGGATGGTGGGAAATTAATGAGCACATGTACTGTGGCTCCTACATGGATCATCAGACAATTTTTCGAGTGCCCAGCCCTCTGGTTCACATTCAGCTCCAGTGCAGTTCAAGGCTTTCAGACAAGCCACTTTTGGCAGAATATGGCAGTTACAACATCAGTCAACCCTGCCCTGTTGGATCTTTTAGATGCTCCTCCGGTTTATGTGTCCCTCAGGCCCAGCGTTGTGATGGAGTAAATGACTGCTTTGATGAAAGTGATGAACTGTTTTGCGTGAGCCCTCAACCTGCCTGCAATACCAGCTCCTTCAGGCAGCATGGCCCTCTCATCTGTGATGGCTTCAGGGACTGTGAGAATGGCCGGGATGAGCAAAACTGCACTCAAAGTATTCCATGCAACAACAGAACTTTTAAGTGTGGCAATGATATTTGCTTTAGGAAACAAAATGCAAAATGTGATGGGACAGTGGATTGTCCAGATGGAAGTGATGAAGAAGGCTGCACCTGCAGCAGGAGTTCCTCCGCCCTTCACCGCATCATCGGAGGCACAGACACCCTGGAGGGGGGTTGGCCGTGGCAGGTCAGCCTCCACTTTGTTGGATCTGCCTACTGTGGTGCCTCAGTCATCTCCAGGGAGTGGCTTCTTTCTGCAGCCCACTGTTTTCATGGAAACAGGCTGTCAGATCCCACACCATGGACTGCACACCTCGGGATGTATGTTCAGGGGAATGCCAAGTTTGTCTCCCCGGTGAGAAGAATTGTGGTCCACGAGTACTATAACAGTCAGACTTTTGATTATGATATTGCTTTGCTACAGCTCAGTATTGCCTGGCCTGAGACCCTGAAACAGCTCATTCAGCCAATATGCATTCCTCCCACTGGTCAGAGAGTTCGCAGTGGGGAGAAGTGCTGGGTAACTGGCTGGGGGCGAAGACACGAAGCAGATAATAAAGGCTCCCTCGTTCTGCAGCAAGCGGAGGTAGAGCTCATTGATCAAACGCTCTGTGTTTCCACCTACGGGATCATCACTTCTCGGATGCTCTGTGCAGGCATAATGTCAGGCAAGAGAGATGCCTGCAAAGGAGATTCGGGTGGACCTTTATCTTGTCGAAGAAAAAGTGATGGAAAATGGATTTTGACTGGCATTGTTAGCTGGGGACATGGAAGTGGACGACCAAACTTTCCTGGTGTTTACACAAGGGTGTCAAACTTTGTTCCCTGGATTCATAAATATGTCCCTTCTCTTTTGTAA\n",
            "2154\n"
          ]
        }
      ]
    },
    {
      "cell_type": "markdown",
      "metadata": {
        "id": "xnzwYBDOsfsq"
      },
      "source": [
        "### Ordinal encoding DNA sequence data"
      ]
    },
    {
      "cell_type": "code",
      "metadata": {
        "id": "V3beviDssfsq"
      },
      "source": [
        "import numpy as np\n",
        "import re"
      ],
      "execution_count": 26,
      "outputs": []
    },
    {
      "cell_type": "code",
      "metadata": {
        "id": "VWrHd2ROsfsr"
      },
      "source": [
        "def string_to_array(seq_string):\n",
        "   seq_string = seq_string.lower()\n",
        "   seq_string = re.sub('[^acgt]', 'n', seq_string) # a,c,g,t 를 제외한 모든 문자\n",
        "   seq_string = np.array(list(seq_string))\n",
        "   return seq_string"
      ],
      "execution_count": 27,
      "outputs": []
    },
    {
      "cell_type": "code",
      "metadata": {
        "colab": {
          "base_uri": "https://localhost:8080/"
        },
        "id": "-Eu__vvu52qQ",
        "outputId": "eb6c0c78-8cbf-4b46-9be1-c52d038910ed"
      },
      "source": [
        "string_to_array(\"kbcdefgacgtttTTT\")"
      ],
      "execution_count": 28,
      "outputs": [
        {
          "output_type": "execute_result",
          "data": {
            "text/plain": [
              "array(['n', 'n', 'c', 'n', 'n', 'n', 'g', 'a', 'c', 'g', 't', 't', 't',\n",
              "       't', 't', 't'], dtype='<U1')"
            ]
          },
          "metadata": {},
          "execution_count": 28
        }
      ]
    },
    {
      "cell_type": "code",
      "metadata": {
        "colab": {
          "base_uri": "https://localhost:8080/"
        },
        "id": "mDQdjPR_sfss",
        "outputId": "a3f0905e-114b-443d-b678-94f81d0a7ba1"
      },
      "source": [
        "# create a label encoder with 'acgtn' alphabet\n",
        "from sklearn.preprocessing import LabelEncoder\n",
        "\n",
        "label_encoder = LabelEncoder()\n",
        "label_encoder.fit(np.array(['a','c','g','t','z']))"
      ],
      "execution_count": 29,
      "outputs": [
        {
          "output_type": "execute_result",
          "data": {
            "text/plain": [
              "LabelEncoder()"
            ]
          },
          "metadata": {},
          "execution_count": 29
        }
      ]
    },
    {
      "cell_type": "code",
      "metadata": {
        "colab": {
          "base_uri": "https://localhost:8080/"
        },
        "id": "_cjbF73O65Go",
        "outputId": "6697129c-fa43-4eb6-f913-43636d2ca992"
      },
      "source": [
        "label_encoder.classes_"
      ],
      "execution_count": 30,
      "outputs": [
        {
          "output_type": "execute_result",
          "data": {
            "text/plain": [
              "array(['a', 'c', 'g', 't', 'z'], dtype='<U1')"
            ]
          },
          "metadata": {},
          "execution_count": 30
        }
      ]
    },
    {
      "cell_type": "code",
      "metadata": {
        "colab": {
          "base_uri": "https://localhost:8080/"
        },
        "id": "9PiIsGB8t_KK",
        "outputId": "96bbde8f-9b1f-4e05-bd36-8be7c4dd3ed5"
      },
      "source": [
        "seq_test = 'TTCAGCCAGTG'\n",
        "label_encoder.transform(string_to_array(seq_test))"
      ],
      "execution_count": 31,
      "outputs": [
        {
          "output_type": "execute_result",
          "data": {
            "text/plain": [
              "array([3, 3, 1, 0, 2, 1, 1, 0, 2, 3, 2])"
            ]
          },
          "metadata": {},
          "execution_count": 31
        }
      ]
    },
    {
      "cell_type": "code",
      "metadata": {
        "id": "Zagy-1mrsfsu"
      },
      "source": [
        "def ordinal_encoder(my_array):\n",
        "    integer_encoded = label_encoder.transform(my_array)\n",
        "    float_encoded = integer_encoded.astype(float)\n",
        "    float_encoded[float_encoded == 0] = 0.25 # A\n",
        "    float_encoded[float_encoded == 1] = 0.50 # C\n",
        "    float_encoded[float_encoded == 2] = 0.75 # G\n",
        "    float_encoded[float_encoded == 3] = 1.00 # T\n",
        "    float_encoded[float_encoded == 4] = 0.00 # anything else, lets say n\n",
        "    return float_encoded"
      ],
      "execution_count": 32,
      "outputs": []
    },
    {
      "cell_type": "code",
      "metadata": {
        "colab": {
          "base_uri": "https://localhost:8080/"
        },
        "id": "mzRnIBmusfsv",
        "outputId": "28562ba6-be72-49a0-a3f6-643b7d1c96b8"
      },
      "source": [
        "#Let’s try it out a simple short sequence:\n",
        "seq_test = 'TTCAGCCAGTG'\n",
        "ordinal_encoder(string_to_array(seq_test))"
      ],
      "execution_count": 33,
      "outputs": [
        {
          "output_type": "execute_result",
          "data": {
            "text/plain": [
              "array([1.  , 1.  , 0.5 , 0.25, 0.75, 0.5 , 0.5 , 0.25, 0.75, 1.  , 0.75])"
            ]
          },
          "metadata": {},
          "execution_count": 33
        }
      ]
    },
    {
      "cell_type": "markdown",
      "metadata": {
        "id": "1gaElpYUsfsw"
      },
      "source": [
        "### One-hot encoding DNA Sequence"
      ]
    },
    {
      "cell_type": "code",
      "metadata": {
        "id": "Cd3IgF0Wsfsx"
      },
      "source": [
        "from sklearn.preprocessing import OneHotEncoder"
      ],
      "execution_count": 34,
      "outputs": []
    },
    {
      "cell_type": "code",
      "metadata": {
        "id": "HVVb0Sn0sfsx"
      },
      "source": [
        "def one_hot_encoder(seq_string):\n",
        "    int_encoded = label_encoder.transform(seq_string)\n",
        "    onehot_encoder = OneHotEncoder(sparse=False, dtype=int)\n",
        "    # int_encoded = int_encoded.reshape(len(int_encoded), 1)\n",
        "    onehot_encoded = onehot_encoder.fit_transform(int_encoded.reshape(-1,1))\n",
        "    onehot_encoded = np.delete(onehot_encoded, -1, 1)  # delete the last index in axis=1\n",
        "    return onehot_encoded"
      ],
      "execution_count": 41,
      "outputs": []
    },
    {
      "cell_type": "code",
      "metadata": {
        "colab": {
          "base_uri": "https://localhost:8080/"
        },
        "id": "b2Nm_OPV7-B4",
        "outputId": "2cbbfaa0-c1b5-4cb7-84cd-5f6322176869"
      },
      "source": [
        "int_encoded = label_encoder.transform(string_to_array(\"GAATTCTCGAA\")); int_encoded"
      ],
      "execution_count": 38,
      "outputs": [
        {
          "output_type": "execute_result",
          "data": {
            "text/plain": [
              "array([2, 0, 0, 3, 3, 1, 3, 1, 2, 0, 0])"
            ]
          },
          "metadata": {},
          "execution_count": 38
        }
      ]
    },
    {
      "cell_type": "code",
      "metadata": {
        "colab": {
          "base_uri": "https://localhost:8080/"
        },
        "id": "kbAsso9N816I",
        "outputId": "4bade9ef-dd41-45a1-a0b4-aa55d8bfed17"
      },
      "source": [
        "onehot_encoder = OneHotEncoder(sparse=False, dtype=int)\n",
        "onehot_encoder.fit_transform(int_encoded.reshape(-1,1))"
      ],
      "execution_count": 40,
      "outputs": [
        {
          "output_type": "execute_result",
          "data": {
            "text/plain": [
              "array([[0, 0, 1, 0],\n",
              "       [1, 0, 0, 0],\n",
              "       [1, 0, 0, 0],\n",
              "       [0, 0, 0, 1],\n",
              "       [0, 0, 0, 1],\n",
              "       [0, 1, 0, 0],\n",
              "       [0, 0, 0, 1],\n",
              "       [0, 1, 0, 0],\n",
              "       [0, 0, 1, 0],\n",
              "       [1, 0, 0, 0],\n",
              "       [1, 0, 0, 0]])"
            ]
          },
          "metadata": {},
          "execution_count": 40
        }
      ]
    },
    {
      "cell_type": "code",
      "metadata": {
        "colab": {
          "base_uri": "https://localhost:8080/"
        },
        "id": "wxb2ZxO_wRD5",
        "outputId": "0b7db293-78ea-43d5-cf9f-8b8dd2dd9ca4"
      },
      "source": [
        "seq_test = 'GAATTCTCGAA'\n",
        "print(string_to_array(seq_test))\n",
        "t = label_encoder.transform(string_to_array(seq_test))\n",
        "onehot_encoder = OneHotEncoder(sparse=False, dtype=int)\n",
        "\n",
        "t_en = onehot_encoder.fit_transform(t.reshape(-1,1))\n",
        "t_en"
      ],
      "execution_count": 43,
      "outputs": [
        {
          "output_type": "stream",
          "name": "stdout",
          "text": [
            "['g' 'a' 'a' 't' 't' 'c' 't' 'c' 'g' 'a' 'a']\n"
          ]
        },
        {
          "output_type": "execute_result",
          "data": {
            "text/plain": [
              "array([[0, 0, 1, 0],\n",
              "       [1, 0, 0, 0],\n",
              "       [1, 0, 0, 0],\n",
              "       [0, 0, 0, 1],\n",
              "       [0, 0, 0, 1],\n",
              "       [0, 1, 0, 0],\n",
              "       [0, 0, 0, 1],\n",
              "       [0, 1, 0, 0],\n",
              "       [0, 0, 1, 0],\n",
              "       [1, 0, 0, 0],\n",
              "       [1, 0, 0, 0]])"
            ]
          },
          "metadata": {},
          "execution_count": 43
        }
      ]
    },
    {
      "cell_type": "code",
      "metadata": {
        "colab": {
          "base_uri": "https://localhost:8080/"
        },
        "id": "THRZNnr3xLAK",
        "outputId": "78de8bc0-b458-46d4-c5b3-1ec0535ade4a"
      },
      "source": [
        "np.delete(t_en, -1, 1)"
      ],
      "execution_count": 44,
      "outputs": [
        {
          "output_type": "execute_result",
          "data": {
            "text/plain": [
              "array([[0, 0, 1],\n",
              "       [1, 0, 0],\n",
              "       [1, 0, 0],\n",
              "       [0, 0, 0],\n",
              "       [0, 0, 0],\n",
              "       [0, 1, 0],\n",
              "       [0, 0, 0],\n",
              "       [0, 1, 0],\n",
              "       [0, 0, 1],\n",
              "       [1, 0, 0],\n",
              "       [1, 0, 0]])"
            ]
          },
          "metadata": {},
          "execution_count": 44
        }
      ]
    },
    {
      "cell_type": "code",
      "metadata": {
        "colab": {
          "base_uri": "https://localhost:8080/"
        },
        "id": "LM-V4g7YyHhZ",
        "outputId": "7bef79bb-a2b0-433f-fe41-81cf41f3f49f"
      },
      "source": [
        "onehot_encoder.get_feature_names()"
      ],
      "execution_count": 45,
      "outputs": [
        {
          "output_type": "execute_result",
          "data": {
            "text/plain": [
              "array(['x0_0', 'x0_1', 'x0_2', 'x0_3'], dtype=object)"
            ]
          },
          "metadata": {},
          "execution_count": 45
        }
      ]
    },
    {
      "cell_type": "code",
      "metadata": {
        "colab": {
          "base_uri": "https://localhost:8080/"
        },
        "id": "C19ZPz-_9tGw",
        "outputId": "d082d2dc-6196-4f36-f2b7-aa33b562cb60"
      },
      "source": [
        "label_encoder.classes_"
      ],
      "execution_count": 47,
      "outputs": [
        {
          "output_type": "execute_result",
          "data": {
            "text/plain": [
              "array(['a', 'c', 'g', 't', 'z'], dtype='<U1')"
            ]
          },
          "metadata": {},
          "execution_count": 47
        }
      ]
    },
    {
      "cell_type": "code",
      "metadata": {
        "colab": {
          "base_uri": "https://localhost:8080/"
        },
        "id": "gsgERVa5sfsy",
        "outputId": "1d31942a-3a30-4893-fa36-2f97fc33c84f"
      },
      "source": [
        "#So let’s try it out with a simple short sequence:\n",
        "seq_test = 'GAATTCTCGAA'\n",
        "one_hot_encoder(string_to_array(seq_test))"
      ],
      "execution_count": 46,
      "outputs": [
        {
          "output_type": "execute_result",
          "data": {
            "text/plain": [
              "array([[0, 0, 1],\n",
              "       [1, 0, 0],\n",
              "       [1, 0, 0],\n",
              "       [0, 0, 0],\n",
              "       [0, 0, 0],\n",
              "       [0, 1, 0],\n",
              "       [0, 0, 0],\n",
              "       [0, 1, 0],\n",
              "       [0, 0, 1],\n",
              "       [1, 0, 0],\n",
              "       [1, 0, 0]])"
            ]
          },
          "metadata": {},
          "execution_count": 46
        }
      ]
    },
    {
      "cell_type": "markdown",
      "metadata": {
        "id": "-3QtQT1Lsfsz"
      },
      "source": [
        "### DNA sequence as a “language”, known as k-mer counting"
      ]
    },
    {
      "cell_type": "code",
      "metadata": {
        "id": "0eIm7_xEsfsz"
      },
      "source": [
        "def Kmers_funct(seq, size):\n",
        "    return [seq[x:x+size].lower() for x in range(len(seq) - size + 1)]"
      ],
      "execution_count": 48,
      "outputs": []
    },
    {
      "cell_type": "code",
      "metadata": {
        "colab": {
          "base_uri": "https://localhost:8080/"
        },
        "id": "P7UF4RUosfs0",
        "outputId": "324b39af-23f0-46ee-8eeb-5fc1e2d53728"
      },
      "source": [
        "#So let’s try it out with a simple sequence:\n",
        "mySeq = 'GTGCCCAGGTTCAGTGAGTGACACAGGCAG'\n",
        "Kmers_funct(mySeq, size=7)"
      ],
      "execution_count": 49,
      "outputs": [
        {
          "output_type": "execute_result",
          "data": {
            "text/plain": [
              "['gtgccca',\n",
              " 'tgcccag',\n",
              " 'gcccagg',\n",
              " 'cccaggt',\n",
              " 'ccaggtt',\n",
              " 'caggttc',\n",
              " 'aggttca',\n",
              " 'ggttcag',\n",
              " 'gttcagt',\n",
              " 'ttcagtg',\n",
              " 'tcagtga',\n",
              " 'cagtgag',\n",
              " 'agtgagt',\n",
              " 'gtgagtg',\n",
              " 'tgagtga',\n",
              " 'gagtgac',\n",
              " 'agtgaca',\n",
              " 'gtgacac',\n",
              " 'tgacaca',\n",
              " 'gacacag',\n",
              " 'acacagg',\n",
              " 'cacaggc',\n",
              " 'acaggca',\n",
              " 'caggcag']"
            ]
          },
          "metadata": {},
          "execution_count": 49
        }
      ]
    },
    {
      "cell_type": "code",
      "metadata": {
        "colab": {
          "base_uri": "https://localhost:8080/",
          "height": 52
        },
        "id": "oR7kqoeUsfs0",
        "outputId": "2a0c9d65-0cb5-4d3f-a913-7f7e1156cd38"
      },
      "source": [
        "words = Kmers_funct(mySeq, size=6)\n",
        "joined_sentence = ' '.join(words)\n",
        "joined_sentence"
      ],
      "execution_count": 50,
      "outputs": [
        {
          "output_type": "execute_result",
          "data": {
            "application/vnd.google.colaboratory.intrinsic+json": {
              "type": "string"
            },
            "text/plain": [
              "'gtgccc tgccca gcccag cccagg ccaggt caggtt aggttc ggttca gttcag ttcagt tcagtg cagtga agtgag gtgagt tgagtg gagtga agtgac gtgaca tgacac gacaca acacag cacagg acaggc caggca aggcag'"
            ]
          },
          "metadata": {},
          "execution_count": 50
        }
      ]
    },
    {
      "cell_type": "markdown",
      "metadata": {
        "id": "ag5TaJRLsfs1"
      },
      "source": [
        "### \\# another example : a couple more of \"sentences\""
      ]
    },
    {
      "cell_type": "code",
      "metadata": {
        "id": "jWc-Hquvsfs1"
      },
      "source": [
        "mySeq1 = 'TCTCACACATGTGCCAATCACTGTCACCC'\n",
        "mySeq2 = 'GTGCCCAGGTTCAGTGAGTGACACAGGCAG'\n",
        "sentence1 = ' '.join(Kmers_funct(mySeq1, size=6))\n",
        "sentence2 = ' '.join(Kmers_funct(mySeq2, size=6))"
      ],
      "execution_count": 51,
      "outputs": []
    },
    {
      "cell_type": "code",
      "metadata": {
        "colab": {
          "base_uri": "https://localhost:8080/"
        },
        "id": "hJF-0Hew-aoH",
        "outputId": "dede84e9-42ef-46ff-c2fc-84c8822fbdca"
      },
      "source": [
        "(len(mySeq1) -6 + 1) * 7 -1   #seq of length 6 + space"
      ],
      "execution_count": 58,
      "outputs": [
        {
          "output_type": "execute_result",
          "data": {
            "text/plain": [
              "167"
            ]
          },
          "metadata": {},
          "execution_count": 58
        }
      ]
    },
    {
      "cell_type": "code",
      "metadata": {
        "colab": {
          "base_uri": "https://localhost:8080/"
        },
        "id": "FdKd-QZQy9qg",
        "outputId": "03750032-cb6f-43d6-9ed7-d1a3c0ae2f16"
      },
      "source": [
        "len(sentence1), len(sentence2)"
      ],
      "execution_count": 52,
      "outputs": [
        {
          "output_type": "execute_result",
          "data": {
            "text/plain": [
              "(167, 174)"
            ]
          },
          "metadata": {},
          "execution_count": 52
        }
      ]
    },
    {
      "cell_type": "code",
      "metadata": {
        "id": "5YAT93FAsfs1"
      },
      "source": [
        "# Creating the Bag of Words model:\n",
        "from sklearn.feature_extraction.text import CountVectorizer"
      ],
      "execution_count": 59,
      "outputs": []
    },
    {
      "cell_type": "code",
      "metadata": {
        "colab": {
          "base_uri": "https://localhost:8080/"
        },
        "id": "7KaXCrdysfs2",
        "outputId": "5c7b1d8d-a2a2-4dad-a0d3-2234be31524d"
      },
      "source": [
        "cv = CountVectorizer()\n",
        "X = cv.fit_transform([joined_sentence, sentence1, sentence2]).toarray()\n",
        "X"
      ],
      "execution_count": 60,
      "outputs": [
        {
          "output_type": "execute_result",
          "data": {
            "text/plain": [
              "array([[0, 1, 0, 1, 0, 0, 1, 1, 1, 1, 0, 0, 0, 0, 1, 0, 0, 1, 1, 1, 0, 0,\n",
              "        1, 1, 0, 0, 1, 1, 0, 1, 1, 0, 1, 1, 0, 1, 1, 0, 0, 0, 1, 0, 1, 1,\n",
              "        0, 1, 0, 0, 1],\n",
              "       [1, 0, 1, 0, 1, 1, 0, 0, 0, 0, 1, 1, 1, 1, 0, 1, 1, 0, 0, 0, 1, 1,\n",
              "        0, 0, 1, 1, 0, 0, 1, 0, 0, 1, 0, 0, 1, 0, 0, 1, 1, 1, 0, 1, 0, 0,\n",
              "        1, 0, 1, 1, 0],\n",
              "       [0, 1, 0, 1, 0, 0, 1, 1, 1, 1, 0, 0, 0, 0, 1, 0, 0, 1, 1, 1, 0, 0,\n",
              "        1, 1, 0, 0, 1, 1, 0, 1, 1, 0, 1, 1, 0, 1, 1, 0, 0, 0, 1, 0, 1, 1,\n",
              "        0, 1, 0, 0, 1]])"
            ]
          },
          "metadata": {},
          "execution_count": 60
        }
      ]
    },
    {
      "cell_type": "code",
      "metadata": {
        "colab": {
          "base_uri": "https://localhost:8080/"
        },
        "id": "yav6ps-y_CwP",
        "outputId": "3ccae722-ce29-4897-bb0e-b6b8ac7652c6"
      },
      "source": [
        "cv.get_feature_names()"
      ],
      "execution_count": 64,
      "outputs": [
        {
          "output_type": "execute_result",
          "data": {
            "text/plain": [
              "['aatcac',\n",
              " 'acacag',\n",
              " 'acacat',\n",
              " 'acaggc',\n",
              " 'acatgt',\n",
              " 'actgtc',\n",
              " 'aggcag',\n",
              " 'aggttc',\n",
              " 'agtgac',\n",
              " 'agtgag',\n",
              " 'atcact',\n",
              " 'atgtgc',\n",
              " 'caatca',\n",
              " 'cacaca',\n",
              " 'cacagg',\n",
              " 'cacatg',\n",
              " 'cactgt',\n",
              " 'caggca',\n",
              " 'caggtt',\n",
              " 'cagtga',\n",
              " 'catgtg',\n",
              " 'ccaatc',\n",
              " 'ccaggt',\n",
              " 'cccagg',\n",
              " 'ctcaca',\n",
              " 'ctgtca',\n",
              " 'gacaca',\n",
              " 'gagtga',\n",
              " 'gccaat',\n",
              " 'gcccag',\n",
              " 'ggttca',\n",
              " 'gtcacc',\n",
              " 'gtgaca',\n",
              " 'gtgagt',\n",
              " 'gtgcca',\n",
              " 'gtgccc',\n",
              " 'gttcag',\n",
              " 'tcacac',\n",
              " 'tcaccc',\n",
              " 'tcactg',\n",
              " 'tcagtg',\n",
              " 'tctcac',\n",
              " 'tgacac',\n",
              " 'tgagtg',\n",
              " 'tgccaa',\n",
              " 'tgccca',\n",
              " 'tgtcac',\n",
              " 'tgtgcc',\n",
              " 'ttcagt']"
            ]
          },
          "metadata": {},
          "execution_count": 64
        }
      ]
    },
    {
      "cell_type": "code",
      "metadata": {
        "id": "278IYpf0sfs3"
      },
      "source": [
        "import numpy as np # linear algebra\n",
        "import pandas as pd # data processing, CSV file I/O (e.g. pd.read_csv)\n",
        "import os\n",
        "import matplotlib.pyplot as plt\n",
        "%matplotlib inline"
      ],
      "execution_count": 65,
      "outputs": []
    },
    {
      "cell_type": "code",
      "metadata": {
        "colab": {
          "base_uri": "https://localhost:8080/"
        },
        "id": "UoSiVgDRBHcf",
        "outputId": "098ab881-720e-4fa0-8811-7c2f7a817acc"
      },
      "source": [
        "!ls -la"
      ],
      "execution_count": 77,
      "outputs": [
        {
          "output_type": "stream",
          "name": "stdout",
          "text": [
            "total 1572\n",
            "drwxr-xr-x 1 root root   4096 Nov 12 02:03 .\n",
            "drwxr-xr-x 1 root root   4096 Nov 12 01:58 ..\n",
            "-rw-r--r-- 1 root root 507564 Nov 12 02:02 chimpanzee.txt.zip\n",
            "drwxr-xr-x 4 root root   4096 Nov  1 13:34 .config\n",
            "-rw-r--r-- 1 root root 397905 Nov 12 02:02 dog.txt.zip\n",
            "-rw-r--r-- 1 root root   3099 Nov 12 02:01 example_dna.fa\n",
            "-rw-r--r-- 1 root root 673617 Nov 12 02:02 human.txt.zip\n",
            "drwxr-xr-x 2 root root   4096 Nov 12 02:03 .ipynb_checkpoints\n",
            "drwxr-xr-x 1 root root   4096 Nov  1 13:35 sample_data\n"
          ]
        }
      ]
    },
    {
      "cell_type": "code",
      "metadata": {
        "colab": {
          "base_uri": "https://localhost:8080/"
        },
        "id": "ENymP7kSASmR",
        "outputId": "386e3a63-a8f5-48f3-a6e2-0beb85635284"
      },
      "source": [
        "[i for i in os.walk('.')]"
      ],
      "execution_count": 75,
      "outputs": [
        {
          "output_type": "execute_result",
          "data": {
            "text/plain": [
              "[('.',\n",
              "  ['.config', '.ipynb_checkpoints', 'sample_data'],\n",
              "  ['human.txt.zip', 'example_dna.fa', 'dog.txt.zip', 'chimpanzee.txt.zip']),\n",
              " ('./.config',\n",
              "  ['configurations', 'logs'],\n",
              "  ['active_config',\n",
              "   'config_sentinel',\n",
              "   '.last_update_check.json',\n",
              "   'gce',\n",
              "   '.last_survey_prompt.yaml',\n",
              "   '.last_opt_in_prompt.yaml']),\n",
              " ('./.config/configurations', [], ['config_default']),\n",
              " ('./.config/logs', ['2021.11.01'], []),\n",
              " ('./.config/logs/2021.11.01',\n",
              "  [],\n",
              "  ['13.34.28.082269.log',\n",
              "   '13.34.35.080342.log',\n",
              "   '13.34.55.017895.log',\n",
              "   '13.34.08.637862.log',\n",
              "   '13.33.47.856572.log',\n",
              "   '13.34.55.836922.log']),\n",
              " ('./.ipynb_checkpoints', [], []),\n",
              " ('./sample_data',\n",
              "  [],\n",
              "  ['anscombe.json',\n",
              "   'README.md',\n",
              "   'california_housing_test.csv',\n",
              "   'california_housing_train.csv',\n",
              "   'mnist_test.csv',\n",
              "   'mnist_train_small.csv'])]"
            ]
          },
          "metadata": {},
          "execution_count": 75
        }
      ]
    },
    {
      "cell_type": "code",
      "metadata": {
        "id": "KS-6kW3-BmzW"
      },
      "source": [
        "os.mkdir(\"data\")"
      ],
      "execution_count": 78,
      "outputs": []
    },
    {
      "cell_type": "code",
      "metadata": {
        "id": "vUsys347BwMO"
      },
      "source": [
        "!mv chim* dog* example* human* ./data"
      ],
      "execution_count": 80,
      "outputs": []
    },
    {
      "cell_type": "code",
      "metadata": {
        "colab": {
          "base_uri": "https://localhost:8080/"
        },
        "id": "r3LkPs0_B5GV",
        "outputId": "3cb0faa3-18fd-4fc2-a3bb-69f2df279e06"
      },
      "source": [
        "!ls -al"
      ],
      "execution_count": 81,
      "outputs": [
        {
          "output_type": "stream",
          "name": "stdout",
          "text": [
            "total 24\n",
            "drwxr-xr-x 1 root root 4096 Nov 12 02:43 .\n",
            "drwxr-xr-x 1 root root 4096 Nov 12 01:58 ..\n",
            "drwxr-xr-x 4 root root 4096 Nov  1 13:34 .config\n",
            "drwxr-xr-x 2 root root 4096 Nov 12 02:43 data\n",
            "drwxr-xr-x 2 root root 4096 Nov 12 02:03 .ipynb_checkpoints\n",
            "drwxr-xr-x 1 root root 4096 Nov  1 13:35 sample_data\n"
          ]
        }
      ]
    },
    {
      "cell_type": "code",
      "metadata": {
        "id": "YMK7sPGOsfs3",
        "colab": {
          "base_uri": "https://localhost:8080/"
        },
        "outputId": "9d0baa49-dfb2-49c8-89b1-2ec457292794"
      },
      "source": [
        "for dirname, _, filenames in os.walk('./data'):\n",
        "    for filename in filenames:\n",
        "        print(os.path.join(dirname, filename))"
      ],
      "execution_count": 82,
      "outputs": [
        {
          "output_type": "stream",
          "name": "stdout",
          "text": [
            "./data/human.txt.zip\n",
            "./data/example_dna.fa\n",
            "./data/dog.txt.zip\n",
            "./data/chimpanzee.txt.zip\n"
          ]
        }
      ]
    },
    {
      "cell_type": "markdown",
      "metadata": {
        "id": "G1a0ZQRnsfs4"
      },
      "source": [
        "### Load human DNA data"
      ]
    },
    {
      "cell_type": "code",
      "metadata": {
        "id": "95WgOGy0sfs4",
        "colab": {
          "base_uri": "https://localhost:8080/",
          "height": 203
        },
        "outputId": "135a68ba-6881-40cf-add0-bd193ca813dd"
      },
      "source": [
        "human_dna = pd.read_table('./data/human.txt.zip')\n",
        "human_dna.head()"
      ],
      "execution_count": 85,
      "outputs": [
        {
          "output_type": "execute_result",
          "data": {
            "text/html": [
              "<div>\n",
              "<style scoped>\n",
              "    .dataframe tbody tr th:only-of-type {\n",
              "        vertical-align: middle;\n",
              "    }\n",
              "\n",
              "    .dataframe tbody tr th {\n",
              "        vertical-align: top;\n",
              "    }\n",
              "\n",
              "    .dataframe thead th {\n",
              "        text-align: right;\n",
              "    }\n",
              "</style>\n",
              "<table border=\"1\" class=\"dataframe\">\n",
              "  <thead>\n",
              "    <tr style=\"text-align: right;\">\n",
              "      <th></th>\n",
              "      <th>sequence</th>\n",
              "      <th>class</th>\n",
              "    </tr>\n",
              "  </thead>\n",
              "  <tbody>\n",
              "    <tr>\n",
              "      <th>0</th>\n",
              "      <td>ATGCCCCAACTAAATACTACCGTATGGCCCACCATAATTACCCCCA...</td>\n",
              "      <td>4</td>\n",
              "    </tr>\n",
              "    <tr>\n",
              "      <th>1</th>\n",
              "      <td>ATGAACGAAAATCTGTTCGCTTCATTCATTGCCCCCACAATCCTAG...</td>\n",
              "      <td>4</td>\n",
              "    </tr>\n",
              "    <tr>\n",
              "      <th>2</th>\n",
              "      <td>ATGTGTGGCATTTGGGCGCTGTTTGGCAGTGATGATTGCCTTTCTG...</td>\n",
              "      <td>3</td>\n",
              "    </tr>\n",
              "    <tr>\n",
              "      <th>3</th>\n",
              "      <td>ATGTGTGGCATTTGGGCGCTGTTTGGCAGTGATGATTGCCTTTCTG...</td>\n",
              "      <td>3</td>\n",
              "    </tr>\n",
              "    <tr>\n",
              "      <th>4</th>\n",
              "      <td>ATGCAACAGCATTTTGAATTTGAATACCAGACCAAAGTGGATGGTG...</td>\n",
              "      <td>3</td>\n",
              "    </tr>\n",
              "  </tbody>\n",
              "</table>\n",
              "</div>"
            ],
            "text/plain": [
              "                                            sequence  class\n",
              "0  ATGCCCCAACTAAATACTACCGTATGGCCCACCATAATTACCCCCA...      4\n",
              "1  ATGAACGAAAATCTGTTCGCTTCATTCATTGCCCCCACAATCCTAG...      4\n",
              "2  ATGTGTGGCATTTGGGCGCTGTTTGGCAGTGATGATTGCCTTTCTG...      3\n",
              "3  ATGTGTGGCATTTGGGCGCTGTTTGGCAGTGATGATTGCCTTTCTG...      3\n",
              "4  ATGCAACAGCATTTTGAATTTGAATACCAGACCAAAGTGGATGGTG...      3"
            ]
          },
          "metadata": {},
          "execution_count": 85
        }
      ]
    },
    {
      "cell_type": "code",
      "metadata": {
        "scrolled": true,
        "id": "whtig09nsfs5",
        "colab": {
          "base_uri": "https://localhost:8080/",
          "height": 295
        },
        "outputId": "541918bc-49c0-46c1-c0dc-f64f6348ef8e"
      },
      "source": [
        "human_dna['class'].value_counts().sort_index().plot.bar()\n",
        "plt.title(\"Class distribution of Human DNA\")"
      ],
      "execution_count": 86,
      "outputs": [
        {
          "output_type": "execute_result",
          "data": {
            "text/plain": [
              "Text(0.5, 1.0, 'Class distribution of Human DNA')"
            ]
          },
          "metadata": {},
          "execution_count": 86
        },
        {
          "output_type": "display_data",
          "data": {
            "image/png": "[encoded data removed]",
            "text/plain": [
              "<Figure size 432x288 with 1 Axes>"
            ]
          },
          "metadata": {
            "needs_background": "light"
          }
        }
      ]
    },
    {
      "cell_type": "markdown",
      "metadata": {
        "id": "FE1LMfqbsfs5"
      },
      "source": [
        "### Load Chimpanzee DNA data"
      ]
    },
    {
      "cell_type": "code",
      "metadata": {
        "id": "Qw6KqvB_sfs6",
        "colab": {
          "base_uri": "https://localhost:8080/",
          "height": 203
        },
        "outputId": "e2969847-17ae-4605-aa82-4e880d5cf5d5"
      },
      "source": [
        "chimp_dna = pd.read_table('./data/chimpanzee.txt.zip')\n",
        "chimp_dna.head()"
      ],
      "execution_count": 87,
      "outputs": [
        {
          "output_type": "execute_result",
          "data": {
            "text/html": [
              "<div>\n",
              "<style scoped>\n",
              "    .dataframe tbody tr th:only-of-type {\n",
              "        vertical-align: middle;\n",
              "    }\n",
              "\n",
              "    .dataframe tbody tr th {\n",
              "        vertical-align: top;\n",
              "    }\n",
              "\n",
              "    .dataframe thead th {\n",
              "        text-align: right;\n",
              "    }\n",
              "</style>\n",
              "<table border=\"1\" class=\"dataframe\">\n",
              "  <thead>\n",
              "    <tr style=\"text-align: right;\">\n",
              "      <th></th>\n",
              "      <th>sequence</th>\n",
              "      <th>class</th>\n",
              "    </tr>\n",
              "  </thead>\n",
              "  <tbody>\n",
              "    <tr>\n",
              "      <th>0</th>\n",
              "      <td>ATGCCCCAACTAAATACCGCCGTATGACCCACCATAATTACCCCCA...</td>\n",
              "      <td>4</td>\n",
              "    </tr>\n",
              "    <tr>\n",
              "      <th>1</th>\n",
              "      <td>ATGAACGAAAATCTATTCGCTTCATTCGCTGCCCCCACAATCCTAG...</td>\n",
              "      <td>4</td>\n",
              "    </tr>\n",
              "    <tr>\n",
              "      <th>2</th>\n",
              "      <td>ATGGCCTCGCGCTGGTGGCGGTGGCGACGCGGCTGCTCCTGGAGGC...</td>\n",
              "      <td>4</td>\n",
              "    </tr>\n",
              "    <tr>\n",
              "      <th>3</th>\n",
              "      <td>ATGGCCTCGCGCTGGTGGCGGTGGCGACGCGGCTGCTCCTGGAGGC...</td>\n",
              "      <td>4</td>\n",
              "    </tr>\n",
              "    <tr>\n",
              "      <th>4</th>\n",
              "      <td>ATGGGCAGCGCCAGCCCGGGTCTGAGCAGCGTGTCCCCCAGCCACC...</td>\n",
              "      <td>6</td>\n",
              "    </tr>\n",
              "  </tbody>\n",
              "</table>\n",
              "</div>"
            ],
            "text/plain": [
              "                                            sequence  class\n",
              "0  ATGCCCCAACTAAATACCGCCGTATGACCCACCATAATTACCCCCA...      4\n",
              "1  ATGAACGAAAATCTATTCGCTTCATTCGCTGCCCCCACAATCCTAG...      4\n",
              "2  ATGGCCTCGCGCTGGTGGCGGTGGCGACGCGGCTGCTCCTGGAGGC...      4\n",
              "3  ATGGCCTCGCGCTGGTGGCGGTGGCGACGCGGCTGCTCCTGGAGGC...      4\n",
              "4  ATGGGCAGCGCCAGCCCGGGTCTGAGCAGCGTGTCCCCCAGCCACC...      6"
            ]
          },
          "metadata": {},
          "execution_count": 87
        }
      ]
    },
    {
      "cell_type": "code",
      "metadata": {
        "id": "QnHWBUbesfs6",
        "colab": {
          "base_uri": "https://localhost:8080/",
          "height": 295
        },
        "outputId": "01b0704f-0afa-488a-f5af-b0b15c54af4b"
      },
      "source": [
        "chimp_dna['class'].value_counts().sort_index().plot.bar()\n",
        "plt.title(\"Class distribution of Chimpanzee DNA\")"
      ],
      "execution_count": 88,
      "outputs": [
        {
          "output_type": "execute_result",
          "data": {
            "text/plain": [
              "Text(0.5, 1.0, 'Class distribution of Chimpanzee DNA')"
            ]
          },
          "metadata": {},
          "execution_count": 88
        },
        {
          "output_type": "display_data",
          "data": {
            "image/png": "[encoded data removed]",
            "text/plain": [
              "<Figure size 432x288 with 1 Axes>"
            ]
          },
          "metadata": {
            "needs_background": "light"
          }
        }
      ]
    },
    {
      "cell_type": "markdown",
      "metadata": {
        "id": "i1y3VZInsfs6"
      },
      "source": [
        "### Load Dog DNA data"
      ]
    },
    {
      "cell_type": "code",
      "metadata": {
        "scrolled": true,
        "id": "iS16-IuWsfs6",
        "colab": {
          "base_uri": "https://localhost:8080/",
          "height": 203
        },
        "outputId": "d328e3e2-e661-42c3-a144-7b8a8b21f107"
      },
      "source": [
        "dog_dna = pd.read_table('./data/dog.txt.zip')\n",
        "dog_dna.head()"
      ],
      "execution_count": 89,
      "outputs": [
        {
          "output_type": "execute_result",
          "data": {
            "text/html": [
              "<div>\n",
              "<style scoped>\n",
              "    .dataframe tbody tr th:only-of-type {\n",
              "        vertical-align: middle;\n",
              "    }\n",
              "\n",
              "    .dataframe tbody tr th {\n",
              "        vertical-align: top;\n",
              "    }\n",
              "\n",
              "    .dataframe thead th {\n",
              "        text-align: right;\n",
              "    }\n",
              "</style>\n",
              "<table border=\"1\" class=\"dataframe\">\n",
              "  <thead>\n",
              "    <tr style=\"text-align: right;\">\n",
              "      <th></th>\n",
              "      <th>sequence</th>\n",
              "      <th>class</th>\n",
              "    </tr>\n",
              "  </thead>\n",
              "  <tbody>\n",
              "    <tr>\n",
              "      <th>0</th>\n",
              "      <td>ATGCCACAGCTAGATACATCCACCTGATTTATTATAATCTTTTCAA...</td>\n",
              "      <td>4</td>\n",
              "    </tr>\n",
              "    <tr>\n",
              "      <th>1</th>\n",
              "      <td>ATGAACGAAAATCTATTCGCTTCTTTCGCTGCCCCCTCAATAATAG...</td>\n",
              "      <td>4</td>\n",
              "    </tr>\n",
              "    <tr>\n",
              "      <th>2</th>\n",
              "      <td>ATGGAAACACCCTTCTACGGCGATGAGGCGCTGAGCGGCCTGGGCG...</td>\n",
              "      <td>6</td>\n",
              "    </tr>\n",
              "    <tr>\n",
              "      <th>3</th>\n",
              "      <td>ATGTGCACTAAAATGGAACAGCCCTTCTACCACGACGACTCATACG...</td>\n",
              "      <td>6</td>\n",
              "    </tr>\n",
              "    <tr>\n",
              "      <th>4</th>\n",
              "      <td>ATGAGCCGGCAGCTAAACAGAAGCCAGAACTGCTCCTTCAGTGACG...</td>\n",
              "      <td>0</td>\n",
              "    </tr>\n",
              "  </tbody>\n",
              "</table>\n",
              "</div>"
            ],
            "text/plain": [
              "                                            sequence  class\n",
              "0  ATGCCACAGCTAGATACATCCACCTGATTTATTATAATCTTTTCAA...      4\n",
              "1  ATGAACGAAAATCTATTCGCTTCTTTCGCTGCCCCCTCAATAATAG...      4\n",
              "2  ATGGAAACACCCTTCTACGGCGATGAGGCGCTGAGCGGCCTGGGCG...      6\n",
              "3  ATGTGCACTAAAATGGAACAGCCCTTCTACCACGACGACTCATACG...      6\n",
              "4  ATGAGCCGGCAGCTAAACAGAAGCCAGAACTGCTCCTTCAGTGACG...      0"
            ]
          },
          "metadata": {},
          "execution_count": 89
        }
      ]
    },
    {
      "cell_type": "code",
      "metadata": {
        "scrolled": true,
        "id": "qX7qR_X2sfs7",
        "colab": {
          "base_uri": "https://localhost:8080/",
          "height": 295
        },
        "outputId": "2ccb4a8e-8b93-4954-e44c-3f7c7470bdd9"
      },
      "source": [
        "dog_dna['class'].value_counts().sort_index().plot.bar()\n",
        "plt.title(\"Class distribution of Dog DNA\")"
      ],
      "execution_count": 90,
      "outputs": [
        {
          "output_type": "execute_result",
          "data": {
            "text/plain": [
              "Text(0.5, 1.0, 'Class distribution of Dog DNA')"
            ]
          },
          "metadata": {},
          "execution_count": 90
        },
        {
          "output_type": "display_data",
          "data": {
            "image/png": "[encoded data removed]",
            "text/plain": [
              "<Figure size 432x288 with 1 Axes>"
            ]
          },
          "metadata": {
            "needs_background": "light"
          }
        }
      ]
    },
    {
      "cell_type": "markdown",
      "metadata": {
        "id": "aJMRnq9asfs7"
      },
      "source": [
        "### convert a sequence of characters into k-mer words\n",
        "- default size = 6 (hexamers)\n",
        "- Kmers_funct() : \n",
        "    - 입력 : any sequence string\n",
        "    - 출력 : all possible overlapping k-mers of a specified length"
      ]
    },
    {
      "cell_type": "code",
      "metadata": {
        "id": "7DSCMMqFsfs7"
      },
      "source": [
        "def Kmers_funct(seq, size=6):\n",
        "    return [seq[x:x+size].lower() for x in range(len(seq) - size + 1)]"
      ],
      "execution_count": 91,
      "outputs": []
    },
    {
      "cell_type": "code",
      "metadata": {
        "colab": {
          "base_uri": "https://localhost:8080/"
        },
        "id": "8_x9GMRJD412",
        "outputId": "eef35bc4-af1c-4648-a796-ad0a1f543f32"
      },
      "source": [
        "Kmers_funct(\"abcdefghijklmn\", 6)"
      ],
      "execution_count": 95,
      "outputs": [
        {
          "output_type": "execute_result",
          "data": {
            "text/plain": [
              "['abcdef',\n",
              " 'bcdefg',\n",
              " 'cdefgh',\n",
              " 'defghi',\n",
              " 'efghij',\n",
              " 'fghijk',\n",
              " 'ghijkl',\n",
              " 'hijklm',\n",
              " 'ijklmn']"
            ]
          },
          "metadata": {},
          "execution_count": 95
        }
      ]
    },
    {
      "cell_type": "code",
      "metadata": {
        "id": "B2Nvb8FVsfs8"
      },
      "source": [
        "# convert our training data sequences into short overlapping k-mers of length 6. \n",
        "# Lets do that for each species of data we have using our Kmers_funct function.\n",
        "\n",
        "human_dna['words'] = human_dna.apply(lambda x: Kmers_funct(x['sequence']), axis=1)\n",
        "human_dna = human_dna.drop('sequence', axis=1)\n",
        "\n",
        "chimp_dna['words'] = chimp_dna.apply(lambda x: Kmers_funct(x['sequence']), axis=1)\n",
        "chimp_dna = chimp_dna.drop('sequence', axis=1)\n",
        "\n",
        "dog_dna['words'] = dog_dna.apply(lambda x: Kmers_funct(x['sequence']), axis=1)\n",
        "dog_dna = dog_dna.drop('sequence', axis=1)"
      ],
      "execution_count": 96,
      "outputs": []
    },
    {
      "cell_type": "code",
      "metadata": {
        "scrolled": true,
        "id": "UWNN_bFVsfs8",
        "colab": {
          "base_uri": "https://localhost:8080/",
          "height": 203
        },
        "outputId": "dd623f5f-4f69-44bc-c069-75f3d4987471"
      },
      "source": [
        "human_dna.head()"
      ],
      "execution_count": 97,
      "outputs": [
        {
          "output_type": "execute_result",
          "data": {
            "text/html": [
              "<div>\n",
              "<style scoped>\n",
              "    .dataframe tbody tr th:only-of-type {\n",
              "        vertical-align: middle;\n",
              "    }\n",
              "\n",
              "    .dataframe tbody tr th {\n",
              "        vertical-align: top;\n",
              "    }\n",
              "\n",
              "    .dataframe thead th {\n",
              "        text-align: right;\n",
              "    }\n",
              "</style>\n",
              "<table border=\"1\" class=\"dataframe\">\n",
              "  <thead>\n",
              "    <tr style=\"text-align: right;\">\n",
              "      <th></th>\n",
              "      <th>class</th>\n",
              "      <th>words</th>\n",
              "    </tr>\n",
              "  </thead>\n",
              "  <tbody>\n",
              "    <tr>\n",
              "      <th>0</th>\n",
              "      <td>4</td>\n",
              "      <td>[atgccc, tgcccc, gcccca, ccccaa, cccaac, ccaac...</td>\n",
              "    </tr>\n",
              "    <tr>\n",
              "      <th>1</th>\n",
              "      <td>4</td>\n",
              "      <td>[atgaac, tgaacg, gaacga, aacgaa, acgaaa, cgaaa...</td>\n",
              "    </tr>\n",
              "    <tr>\n",
              "      <th>2</th>\n",
              "      <td>3</td>\n",
              "      <td>[atgtgt, tgtgtg, gtgtgg, tgtggc, gtggca, tggca...</td>\n",
              "    </tr>\n",
              "    <tr>\n",
              "      <th>3</th>\n",
              "      <td>3</td>\n",
              "      <td>[atgtgt, tgtgtg, gtgtgg, tgtggc, gtggca, tggca...</td>\n",
              "    </tr>\n",
              "    <tr>\n",
              "      <th>4</th>\n",
              "      <td>3</td>\n",
              "      <td>[atgcaa, tgcaac, gcaaca, caacag, aacagc, acagc...</td>\n",
              "    </tr>\n",
              "  </tbody>\n",
              "</table>\n",
              "</div>"
            ],
            "text/plain": [
              "   class                                              words\n",
              "0      4  [atgccc, tgcccc, gcccca, ccccaa, cccaac, ccaac...\n",
              "1      4  [atgaac, tgaacg, gaacga, aacgaa, acgaaa, cgaaa...\n",
              "2      3  [atgtgt, tgtgtg, gtgtgg, tgtggc, gtggca, tggca...\n",
              "3      3  [atgtgt, tgtgtg, gtgtgg, tgtggc, gtggca, tggca...\n",
              "4      3  [atgcaa, tgcaac, gcaaca, caacag, aacagc, acagc..."
            ]
          },
          "metadata": {},
          "execution_count": 97
        }
      ]
    },
    {
      "cell_type": "markdown",
      "metadata": {
        "id": "ESJqBEC8sfs8"
      },
      "source": [
        "### convert the lists of k-mers for each gene into string sentences of words\n",
        "- can be used to create the Bag of Words model\n",
        "- target variable y : class labels"
      ]
    },
    {
      "cell_type": "code",
      "metadata": {
        "id": "kzm7NXsHsfs8"
      },
      "source": [
        "human_texts = list(human_dna['words'])\n",
        "\n",
        "for item in range(len(human_texts)):\n",
        "    human_texts[item] = ' '.join(human_texts[item])\n",
        "#separate labels\n",
        "y_human = human_dna.iloc[:, 0].values # y_human for human_dna"
      ],
      "execution_count": 98,
      "outputs": []
    },
    {
      "cell_type": "code",
      "metadata": {
        "id": "VxWfrwPlE7O9"
      },
      "source": [
        "list(human_dna['words'])[0]"
      ],
      "execution_count": null,
      "outputs": []
    },
    {
      "cell_type": "code",
      "metadata": {
        "id": "MQQH3RcFsfs9"
      },
      "source": [
        "chimp_texts = list(chimp_dna['words'])\n",
        "for item in range(len(chimp_texts)):\n",
        "    chimp_texts[item] = ' '.join(chimp_texts[item])\n",
        "#separate labels\n",
        "y_chim = chimp_dna.iloc[:, 0].values # y_chim for chimp_dna\n",
        "\n",
        "dog_texts = list(dog_dna['words'])\n",
        "for item in range(len(dog_texts)):\n",
        "    dog_texts[item] = ' '.join(dog_texts[item])\n",
        "#separate labels\n",
        "y_dog = dog_dna.iloc[:, 0].values  # y_dog for dog_dna"
      ],
      "execution_count": 106,
      "outputs": []
    },
    {
      "cell_type": "code",
      "metadata": {
        "id": "AkB2MM1psfs9",
        "colab": {
          "base_uri": "https://localhost:8080/"
        },
        "outputId": "3ff221e1-a9cb-4732-e1af-b344f5a76a30"
      },
      "source": [
        "y_human"
      ],
      "execution_count": 107,
      "outputs": [
        {
          "output_type": "execute_result",
          "data": {
            "text/plain": [
              "array([4, 4, 3, ..., 6, 6, 6])"
            ]
          },
          "metadata": {},
          "execution_count": 107
        }
      ]
    },
    {
      "cell_type": "markdown",
      "metadata": {
        "id": "Lt_D6PCnsfs9"
      },
      "source": [
        "### Convert k-mer words into uniform length numerical vectors \n",
        "- 입력 : k-mer words\n",
        "- 출력 : uniform length numerical vectors\n",
        "    - 내용 : counts for every k-mer in the vocabulary\n",
        "\n"
      ]
    },
    {
      "cell_type": "code",
      "metadata": {
        "id": "yKHgugq_sfs-"
      },
      "source": [
        "from sklearn.feature_extraction.text import CountVectorizer\n",
        "cv = CountVectorizer(ngram_range=(4,4)) # The n-gram size of 4 is previously determined by testing\n",
        "X = cv.fit_transform(human_texts)\n",
        "X_chimp = cv.transform(chimp_texts)\n",
        "X_dog = cv.transform(dog_texts)"
      ],
      "execution_count": 108,
      "outputs": []
    },
    {
      "cell_type": "code",
      "metadata": {
        "id": "PcubMP-0sfs-",
        "colab": {
          "base_uri": "https://localhost:8080/"
        },
        "outputId": "72cccc60-53fc-4b23-868b-7db2c1c2bceb"
      },
      "source": [
        "print(X.shape)\n",
        "print(X_chimp.shape)\n",
        "print(X_dog.shape)"
      ],
      "execution_count": 109,
      "outputs": [
        {
          "output_type": "stream",
          "name": "stdout",
          "text": [
            "(4380, 232414)\n",
            "(1682, 232414)\n",
            "(820, 232414)\n"
          ]
        }
      ]
    },
    {
      "cell_type": "markdown",
      "metadata": {
        "id": "IoF1cAJQsfs-"
      },
      "source": [
        "### Train / Test 데이터 분리"
      ]
    },
    {
      "cell_type": "code",
      "metadata": {
        "id": "1gYuIgR0sfs-"
      },
      "source": [
        "# Splitting the human dataset into the training set and test set\n",
        "from sklearn.model_selection import train_test_split\n",
        "X_train, X_test, y_train, y_test = train_test_split(X, \n",
        "                                                    y_human, \n",
        "                                                    test_size = 0.20, \n",
        "                                                    random_state=42)"
      ],
      "execution_count": 110,
      "outputs": []
    },
    {
      "cell_type": "markdown",
      "metadata": {
        "id": "5ATwN1tTsfs_"
      },
      "source": [
        "### 다항(multinomial) naive Bayes 분류기 생성\n",
        "- 사전에 parameter tuning\n",
        "    - ngram size = 4(예를 들어, Countvectorizer() 함수를 통해)\n",
        "    - 모델 alpha = 0.1 값이 최선임을 발견\n",
        "    - parameter 조율과 관련된 자세한 내용은 생략"
      ]
    },
    {
      "cell_type": "code",
      "metadata": {
        "id": "jaxs3-CXsfs_",
        "colab": {
          "base_uri": "https://localhost:8080/"
        },
        "outputId": "ac97130b-b89a-42a2-e45f-6d6664710881"
      },
      "source": [
        "from sklearn.naive_bayes import MultinomialNB\n",
        "classifier = MultinomialNB(alpha=0.1)\n",
        "classifier.fit(X_train, y_train)"
      ],
      "execution_count": 111,
      "outputs": [
        {
          "output_type": "execute_result",
          "data": {
            "text/plain": [
              "MultinomialNB(alpha=0.1, class_prior=None, fit_prior=True)"
            ]
          },
          "metadata": {},
          "execution_count": 111
        }
      ]
    },
    {
      "cell_type": "markdown",
      "metadata": {
        "id": "dSeQG_Hysfs_"
      },
      "source": [
        "### test 데이터 셋에 대해 예측 수행"
      ]
    },
    {
      "cell_type": "code",
      "metadata": {
        "id": "HzXu4WG_sfs_"
      },
      "source": [
        "y_pred = classifier.predict(X_test)"
      ],
      "execution_count": 112,
      "outputs": []
    },
    {
      "cell_type": "markdown",
      "metadata": {
        "id": "8OQVaIYysftA"
      },
      "source": [
        "### 성능 평가\n",
        "- 모델 성능 지표\n",
        "    - 혼돈 메트릭스(confusion matrix)\n",
        "    - 정확도(accuracy)\n",
        "    - 정밀도(precision)\n",
        "    - 리콜(recall)\n",
        "    - F1 점수(f1 score)"
      ]
    },
    {
      "cell_type": "markdown",
      "metadata": {
        "id": "vcmWZkq9sftA"
      },
      "source": [
        "#### Human DNA Sequence"
      ]
    },
    {
      "cell_type": "code",
      "metadata": {
        "id": "OT3AGZ95sftA"
      },
      "source": [
        "from sklearn.metrics import accuracy_score, f1_score, precision_score, recall_score"
      ],
      "execution_count": 113,
      "outputs": []
    },
    {
      "cell_type": "code",
      "metadata": {
        "id": "KVP_YqWesftA",
        "colab": {
          "base_uri": "https://localhost:8080/"
        },
        "outputId": "0251344d-bb29-477b-adf8-bc6f6035250b"
      },
      "source": [
        "print(\"Confusion matrix for predictions on human test DNA sequence\\n\")\n",
        "print(pd.crosstab(pd.Series(y_test, name='Actual'), pd.Series(y_pred, name='Predicted')))"
      ],
      "execution_count": 114,
      "outputs": [
        {
          "output_type": "stream",
          "name": "stdout",
          "text": [
            "Confusion matrix for predictions on human test DNA sequence\n",
            "\n",
            "Predicted   0    1   2    3    4   5    6\n",
            "Actual                                   \n",
            "0          99    0   0    0    1   0    2\n",
            "1           0  104   0    0    0   0    2\n",
            "2           0    0  78    0    0   0    0\n",
            "3           0    0   0  124    0   0    1\n",
            "4           1    0   0    0  143   0    5\n",
            "5           0    0   0    0    0  51    0\n",
            "6           1    0   0    1    0   0  263\n"
          ]
        }
      ]
    },
    {
      "cell_type": "code",
      "metadata": {
        "id": "NNsafc1PsftA"
      },
      "source": [
        "def get_metrics(y_test, y_predicted):\n",
        "    accuracy = accuracy_score(y_test, y_predicted)\n",
        "    precision = precision_score(y_test, y_predicted, average='weighted')\n",
        "    recall = recall_score(y_test, y_predicted, average='weighted')\n",
        "    f1 = f1_score(y_test, y_predicted, average='weighted')\n",
        "    return accuracy, precision, recall, f1\n",
        "accuracy, precision, recall, f1 = get_metrics(y_test, y_pred)"
      ],
      "execution_count": 115,
      "outputs": []
    },
    {
      "cell_type": "code",
      "metadata": {
        "scrolled": true,
        "id": "ieeO2H3vsftB",
        "colab": {
          "base_uri": "https://localhost:8080/"
        },
        "outputId": "a7df1e0b-0e96-42c4-fb63-1aeb458582c0"
      },
      "source": [
        "print(\"accuracy = %.3f \\nprecision = %.3f \\nrecall = %.3f \\nf1 = %.3f\" % (accuracy, precision, recall, f1))"
      ],
      "execution_count": 116,
      "outputs": [
        {
          "output_type": "stream",
          "name": "stdout",
          "text": [
            "accuracy = 0.984 \n",
            "precision = 0.984 \n",
            "recall = 0.984 \n",
            "f1 = 0.984\n"
          ]
        }
      ]
    },
    {
      "cell_type": "markdown",
      "metadata": {
        "id": "TpbERjM2sftB"
      },
      "source": [
        "### 실제 test 데이터에 대한 성능 평가\n",
        "- 다른 종들의 DNA 시퀀스들에 대해 얼마나 좋은 성능을 낼 수 있는 지 시험\n",
        "    - Chimpanzee 데이터 : human과 가장 유사할 것으로 기대\n",
        "    - Dog 데이터 : human의 가장 좋은 친구 "
      ]
    },
    {
      "cell_type": "markdown",
      "metadata": {
        "id": "Qj_nzQWDsftB"
      },
      "source": [
        "#### Chimpanzee DNA Sequence"
      ]
    },
    {
      "cell_type": "code",
      "metadata": {
        "id": "wtXt-4rIsftC"
      },
      "source": [
        "# Predicting the chimp, dog sequences\n",
        "y_pred_chimp = classifier.predict(X_chimp)"
      ],
      "execution_count": 117,
      "outputs": []
    },
    {
      "cell_type": "code",
      "metadata": {
        "scrolled": true,
        "id": "Ftf3l2xnsftC",
        "outputId": "486eb9bc-b8eb-4ed4-932d-1cfa28cecb32"
      },
      "source": [
        "# performance on chimpanzee genes\n",
        "print(\"Confusion matrix for predictions on Chimpanzee test DNA sequence\\n\")\n",
        "print(pd.crosstab(pd.Series(y_chim, name='Actual'), pd.Series(y_pred_chimp, name='Predicted')))\n",
        "accuracy, precision, recall, f1 = get_metrics(y_chim, y_pred_chimp)\n",
        "print(\"accuracy = %.3f \\nprecision = %.3f \\nrecall = %.3f \\nf1 = %.3f\" % (accuracy, precision, recall, f1))"
      ],
      "execution_count": null,
      "outputs": [
        {
          "name": "stdout",
          "output_type": "stream",
          "text": [
            "Confusion matrix for predictions on Chimpanzee test DNA sequence\n",
            "\n",
            "Predicted    0    1    2    3    4    5    6\n",
            "Actual                                      \n",
            "0          232    0    0    0    0    0    2\n",
            "1            0  184    0    0    0    0    1\n",
            "2            0    0  144    0    0    0    0\n",
            "3            0    0    0  227    0    0    1\n",
            "4            2    0    0    0  254    0    5\n",
            "5            0    0    0    0    0  109    0\n",
            "6            0    0    0    0    0    0  521\n",
            "accuracy = 0.993 \n",
            "precision = 0.994 \n",
            "recall = 0.993 \n",
            "f1 = 0.993\n"
          ]
        }
      ]
    },
    {
      "cell_type": "markdown",
      "metadata": {
        "id": "cGOy-qR5sftC"
      },
      "source": [
        "#### Dog DNA Sequence"
      ]
    },
    {
      "cell_type": "code",
      "metadata": {
        "id": "gNosrey6sftD"
      },
      "source": [
        "y_pred_dog = classifier.predict(X_dog)"
      ],
      "execution_count": 118,
      "outputs": []
    },
    {
      "cell_type": "code",
      "metadata": {
        "id": "8CTLLCuFsftD",
        "colab": {
          "base_uri": "https://localhost:8080/"
        },
        "outputId": "ea3aa228-c859-4861-e293-218224b14103"
      },
      "source": [
        "# performance on dog genes\n",
        "print(\"Confusion matrix for predictions on Dog test DNA sequence\\n\")\n",
        "print(pd.crosstab(pd.Series(y_dog, name='Actual'), pd.Series(y_pred_dog, name='Predicted')))\n",
        "accuracy, precision, recall, f1 = get_metrics(y_dog, y_pred_dog)\n",
        "print(\"accuracy = %.3f \\nprecision = %.3f \\nrecall = %.3f \\nf1 = %.3f\" % (accuracy, precision, recall, f1))"
      ],
      "execution_count": 119,
      "outputs": [
        {
          "output_type": "stream",
          "name": "stdout",
          "text": [
            "Confusion matrix for predictions on Dog test DNA sequence\n",
            "\n",
            "Predicted    0   1   2   3    4   5    6\n",
            "Actual                                  \n",
            "0          127   0   0   0    0   0    4\n",
            "1            0  63   0   0    1   0   11\n",
            "2            0   0  49   0    1   0   14\n",
            "3            1   0   0  81    2   0   11\n",
            "4            4   0   0   1  126   0    4\n",
            "5            4   0   0   0    1  53    2\n",
            "6            0   0   0   0    0   0  260\n",
            "accuracy = 0.926 \n",
            "precision = 0.934 \n",
            "recall = 0.926 \n",
            "f1 = 0.925\n"
          ]
        }
      ]
    },
    {
      "cell_type": "code",
      "metadata": {
        "id": "JY8aPqOysftD"
      },
      "source": [
        ""
      ],
      "execution_count": null,
      "outputs": []
    }
  ]
}