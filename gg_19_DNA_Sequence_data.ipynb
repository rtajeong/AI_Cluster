{
  "nbformat": 4,
  "nbformat_minor": 0,
  "metadata": {
    "kernelspec": {
      "display_name": "Python 3",
      "language": "python",
      "name": "python3"
    },
    "language_info": {
      "codemirror_mode": {
        "name": "ipython",
        "version": 3
      },
      "file_extension": ".py",
      "mimetype": "text/x-python",
      "name": "python",
      "nbconvert_exporter": "python",
      "pygments_lexer": "ipython3",
      "version": "3.8.8"
    },
    "colab": {
      "name": "gg_19_DNA Sequence data.ipynb",
      "provenance": [],
      "collapsed_sections": [],
      "include_colab_link": true
    }
  },
  "cells": [
    {
      "cell_type": "markdown",
      "metadata": {
        "id": "view-in-github",
        "colab_type": "text"
      },
      "source": [
        "<a href=\"https://colab.research.google.com/github/rtajeong/AI_Cluster/blob/main/gg_19_DNA_Sequence_data.ipynb\" target=\"_parent\"><img src=\"https://colab.research.google.com/assets/colab-badge.svg\" alt=\"Open In Colab\"/></a>"
      ]
    },
    {
      "cell_type": "markdown",
      "metadata": {
        "id": "DIeBmfLFsfse"
      },
      "source": [
        "# DNA Sequencing with Machine Learning\n",
        "\n",
        "다루는 내용\n",
        "--\n",
        "\n",
        "- DNA sequence data encoding\n",
        "- gene family 예측\n",
        "\n",
        "데이터\n",
        "--\n",
        "- https://www.kaggle.com/nageshsingh/dna-sequence-dataset"
      ]
    },
    {
      "cell_type": "markdown",
      "metadata": {
        "id": "Y5-4uU3Jsfsl"
      },
      "source": [
        "### DNA data handling using Biopython"
      ]
    },
    {
      "cell_type": "code",
      "metadata": {
        "scrolled": true,
        "colab": {
          "base_uri": "https://localhost:8080/"
        },
        "id": "43dYoE8ksfsm",
        "outputId": "1a6e8667-a4c9-4af6-bde3-5efba71bb4c7"
      },
      "source": [
        "pip install Bio"
      ],
      "execution_count": 129,
      "outputs": [
        {
          "output_type": "stream",
          "name": "stdout",
          "text": [
            "Requirement already satisfied: Bio in /usr/local/lib/python3.7/dist-packages (1.3.2)\n",
            "Requirement already satisfied: tqdm in /usr/local/lib/python3.7/dist-packages (from Bio) (4.62.3)\n",
            "Requirement already satisfied: requests in /usr/local/lib/python3.7/dist-packages (from Bio) (2.23.0)\n",
            "Requirement already satisfied: biopython>=1.79 in /usr/local/lib/python3.7/dist-packages (from Bio) (1.79)\n",
            "Requirement already satisfied: mygene in /usr/local/lib/python3.7/dist-packages (from Bio) (3.2.2)\n",
            "Requirement already satisfied: numpy in /usr/local/lib/python3.7/dist-packages (from biopython>=1.79->Bio) (1.19.5)\n",
            "Requirement already satisfied: biothings-client>=0.2.6 in /usr/local/lib/python3.7/dist-packages (from mygene->Bio) (0.2.6)\n",
            "Requirement already satisfied: urllib3!=1.25.0,!=1.25.1,<1.26,>=1.21.1 in /usr/local/lib/python3.7/dist-packages (from requests->Bio) (1.24.3)\n",
            "Requirement already satisfied: chardet<4,>=3.0.2 in /usr/local/lib/python3.7/dist-packages (from requests->Bio) (3.0.4)\n",
            "Requirement already satisfied: certifi>=2017.4.17 in /usr/local/lib/python3.7/dist-packages (from requests->Bio) (2021.10.8)\n",
            "Requirement already satisfied: idna<3,>=2.5 in /usr/local/lib/python3.7/dist-packages (from requests->Bio) (2.10)\n"
          ]
        }
      ]
    },
    {
      "cell_type": "markdown",
      "metadata": {
        "id": "6v6_tr0Q4hoE"
      },
      "source": [
        "- fasta format: 염기서열 혹은 단백질서열을 문자열로 표현한 것"
      ]
    },
    {
      "cell_type": "code",
      "metadata": {
        "scrolled": true,
        "colab": {
          "base_uri": "https://localhost:8080/"
        },
        "id": "gzbarmNRsfsp",
        "outputId": "0410fdb8-6d7f-4af1-dbea-4e36ff6efe82"
      },
      "source": [
        "from Bio import SeqIO\n",
        "for sequence in SeqIO.parse('./example_dna.fa', \"fasta\"):\n",
        "    print(sequence.id)\n",
        "    print(sequence.seq)\n",
        "    print(len(sequence))"
      ],
      "execution_count": 130,
      "outputs": [
        {
          "output_type": "stream",
          "name": "stdout",
          "text": [
            "ENST00000435737.5\n",
            "ATGTTTCGCATCACCAACATTGAGTTTCTTCCCGAATACCGACAAAAGGAGTCCAGGGAATTTCTTTCAGTGTCACGGACTGTGCAGCAAGTGATAAACCTGGTTTATACAACATCTGCCTTCTCCAAATTTTATGAGCAGTCTGTTGTTGCAGATGTCAGCAACAACAAAGGCGGCCTCCTTGTCCACTTTTGGATTGTTTTTGTCATGCCACGTGCCAAAGGCCACATCTTCTGTGAAGACTGTGTTGCCGCCATCTTGAAGGACTCCATCCAGACAAGCATCATAAACCGGACCTCTGTGGGGAGCTTGCAGGGACTGGCTGTGGACATGGACTCTGTGGTACTAAATGAAGTCCTGGGGCTGACTCTCATTGTCTGGATTGACTGA\n",
            "390\n",
            "ENST00000419127.5\n",
            "ATGTTTCGCATCACCAACATTGAGTTTCTTCCCGAATACCGACAAAAGGAGTCCAGGGAATTTCTTTCAGTGTCACGGACTGTGCAGCAAGTGATAAACCTGGTTTATACAACATCTGCCTTCTCCAAATTTTATGAGCAGTCTGTTGTTGCAGATGTCAGCAACAACAAAGGCGGCCTCCTTGTCCACTTTTGGATTGTTTTTGTCATGCCACGTGCCAAAGGCCACATCTTCTGTGAAGACTGTGTTGCCGCCATCTTGAAGGACTCCATCCAGACAAGCATCATAAACCGGACCTCTGTGGGGAGCTTGCAGGGACTGGCTGTGGACATGGACTCTGTGGTACTAAATGACAAAGGCTGCTCTCAGTACTTCTATGCAGAGCATCTGTCTCTCCACTACCCGCTGGAGATTTCTGCAGCCTCAGGGAGGCTGATGTGTCACTTCAAGCTGGTGGCCATAGTGGGCTACCTGATTCGTCTCTCAATCAAGTCCATCCAAATCGAAGCCGACAACTGTGTCACTGACTCCCTGACCATTTACGACTCCCTTTTGCCCATCCGGAGCAGCATCTTGTACAGAATTTGTGAACCCACAAGAACATTAATGTCATTTGTTTCTACAAATAATCTCATGTTGGTGACATTTAAGTCTCCTCATATACGGAGGCTCTCAGGAATCCGGGCATATTTTGAGGTCATTCCAGAACAAAAGTGTGAAAACACAGTGTTGGTCAAAGACATCACTGGCTTTGAAGGGAAAATTTCAAGCCCATATTACCCGAGCTACTATCCTCCAAAATGCAAGTGTACCTGGAAATTTCAGACTTCTCTATCAACTCTTGGCATAGCACTGAAATTCTATAACTATTCAATAACCAAGAAGAGTATGAAAGGCTGTGAGCATGGATGGTGGGAAATTAATGAGCACATGTACTGTGGCTCCTACATGGATCATCAGACAATTTTTCGAGTGCCCAGCCCTCTGGTTCACATTCAGCTCCAGTGCAGTTCAAGGCTTTCAGACAAGCCACTTTTGGCAGAATATGGCAGTTACAACATCAGTCAACCCTGCCCTGTTGGATCTTTTAGATGCTCCTCCGGTTTATGTGTCCCTCAGGCCCAGCGTTGTGATGGAGTAAATGACTGCTTTGATGAAAGTGATGAACTGTTTTGCGTGAGCCCTCAACCTGCCTGCAATACCAGCTCCTTCAGGCAGCATGGCCCTCTCATCTGTGATGGCTTCAGGGACTGTGAGAATGGCCGGGATGAGCAAAACTGCACTCAAAGTATTCCATGCAACAACAGAACTTTTAAGTGTGGCAATGATATTTGCTTTAGGAAACAAAATGCAAAATGTGATGGGACAGTGGATTGTCCAGATGGAAGTGATGAAGAAGGCTGCACCTGCAGCAGGAGTTCCTCCGCCCTTCACCGCATCATCGGAGGCACAGACACCCTGGAGGGGGGTTGGCCGTGGCAGGTCAGCCTCCACTTTGTTGGATCTGCCTACTGTGGTGCCTCAGTCATCTCCAGGGAGTGGCTTCTTTCTGCAGCCCACTGTTTTCATGGAAACAGGCTGTCAGATCCCACACCATGGACTGCACACCTCGGGATGTATGTTCAGGGGAATGCCAAGTTTGTCTCCCCGGTGAGAAGAATTGTGGTCCACGAGTACTATAACAGTCAGACTTTTGATTATGATATTGCTTTGCTACAGCTCAGTATTGCCTGGCCTGAGACCCTGAAACAGCTCATTCAGCCAATATGCATTCCTCCCACTGGTCAGAGAGTTCGCAGTGGGGAGAAGTGCTGGGTAACTGGCTGGGGGCGAAGACACGAAGCAGATAATAAAGGCTCCCTCGTTCTGCAGCAAGCGGAGGTAGAGCTCATTGATCAAACGCTCTGTGTTTCCACCTACGGGATCATCACTTCTCGGATGCTCTGTGCAGGCATAATGTCAGGCAAGAGAGATGCCTGCAAAGGAGATTCGGGTGGACCTTTATCTTGTCGAAGAAAAAGTGATGGAAAATGGATTTTGACTGGCATTGTTAGCTGGGGACATGGAAGTGGACGACCAAACTTTCCTGGTGTTTACACAAGGGTGTCAAACTTTGTTCCCTGGATTCATAAATATGTCCCTTCTCTTTTGTAA\n",
            "2154\n"
          ]
        }
      ]
    },
    {
      "cell_type": "markdown",
      "metadata": {
        "id": "xnzwYBDOsfsq"
      },
      "source": [
        "### Ordinal encoding DNA sequence data"
      ]
    },
    {
      "cell_type": "code",
      "metadata": {
        "id": "V3beviDssfsq"
      },
      "source": [
        "import numpy as np\n",
        "import re"
      ],
      "execution_count": 131,
      "outputs": []
    },
    {
      "cell_type": "code",
      "metadata": {
        "id": "VWrHd2ROsfsr"
      },
      "source": [
        "def string_to_array(seq_string):\n",
        "   seq_string = seq_string.lower()\n",
        "   seq_string = re.sub('[^acgt]', 'n', seq_string) # a,c,g,t 를 제외한 모든 문자\n",
        "   seq_string = np.array(list(seq_string))\n",
        "   return seq_string"
      ],
      "execution_count": 132,
      "outputs": []
    },
    {
      "cell_type": "code",
      "metadata": {
        "colab": {
          "base_uri": "https://localhost:8080/"
        },
        "id": "-Eu__vvu52qQ",
        "outputId": "04a048c8-60ac-4a29-c204-9b83ca36a817"
      },
      "source": [
        "string_to_array(\"kbcdefgacgtttTTT\")"
      ],
      "execution_count": 133,
      "outputs": [
        {
          "output_type": "execute_result",
          "data": {
            "text/plain": [
              "array(['n', 'n', 'c', 'n', 'n', 'n', 'g', 'a', 'c', 'g', 't', 't', 't',\n",
              "       't', 't', 't'], dtype='<U1')"
            ]
          },
          "metadata": {},
          "execution_count": 133
        }
      ]
    },
    {
      "cell_type": "code",
      "metadata": {
        "colab": {
          "base_uri": "https://localhost:8080/"
        },
        "id": "mDQdjPR_sfss",
        "outputId": "7f73c83a-b0cf-4564-c8a2-a24926466718"
      },
      "source": [
        "# create a label encoder with 'acgtn' alphabet\n",
        "from sklearn.preprocessing import LabelEncoder\n",
        "\n",
        "label_encoder = LabelEncoder()\n",
        "label_encoder.fit(np.array(['a','c','g','t','n']))"
      ],
      "execution_count": 134,
      "outputs": [
        {
          "output_type": "execute_result",
          "data": {
            "text/plain": [
              "LabelEncoder()"
            ]
          },
          "metadata": {},
          "execution_count": 134
        }
      ]
    },
    {
      "cell_type": "code",
      "metadata": {
        "colab": {
          "base_uri": "https://localhost:8080/"
        },
        "id": "_cjbF73O65Go",
        "outputId": "d58e670c-0b78-42b8-deb5-e9f7a3fccd10"
      },
      "source": [
        "label_encoder.classes_"
      ],
      "execution_count": 135,
      "outputs": [
        {
          "output_type": "execute_result",
          "data": {
            "text/plain": [
              "array(['a', 'c', 'g', 'n', 't'], dtype='<U1')"
            ]
          },
          "metadata": {},
          "execution_count": 135
        }
      ]
    },
    {
      "cell_type": "code",
      "metadata": {
        "colab": {
          "base_uri": "https://localhost:8080/"
        },
        "id": "9PiIsGB8t_KK",
        "outputId": "f0827ef5-a894-4f72-daa3-17dea3fcb940"
      },
      "source": [
        "seq_test = 'TTCAGCCAGTG'\n",
        "label_encoder.transform(string_to_array(seq_test))"
      ],
      "execution_count": 136,
      "outputs": [
        {
          "output_type": "execute_result",
          "data": {
            "text/plain": [
              "array([4, 4, 1, 0, 2, 1, 1, 0, 2, 4, 2])"
            ]
          },
          "metadata": {},
          "execution_count": 136
        }
      ]
    },
    {
      "cell_type": "code",
      "metadata": {
        "id": "Zagy-1mrsfsu"
      },
      "source": [
        "def ordinal_encoder(my_array):\n",
        "    integer_encoded = label_encoder.transform(my_array)\n",
        "    float_encoded = integer_encoded.astype(float)\n",
        "    float_encoded[float_encoded == 0] = 0.25 # A\n",
        "    float_encoded[float_encoded == 1] = 0.50 # C\n",
        "    float_encoded[float_encoded == 2] = 0.75 # G\n",
        "    float_encoded[float_encoded == 3] = 1.00 # T\n",
        "    float_encoded[float_encoded == 4] = 0.00 # anything else, lets say n\n",
        "    return float_encoded"
      ],
      "execution_count": 137,
      "outputs": []
    },
    {
      "cell_type": "code",
      "metadata": {
        "colab": {
          "base_uri": "https://localhost:8080/"
        },
        "id": "mzRnIBmusfsv",
        "outputId": "0b9fa76c-9d5c-42e6-e2c6-f4ad117b0c4a"
      },
      "source": [
        "#Let’s try it out a simple short sequence:\n",
        "seq_test = 'TTCAGCCAGTG'\n",
        "ordinal_encoder(string_to_array(seq_test))"
      ],
      "execution_count": 138,
      "outputs": [
        {
          "output_type": "execute_result",
          "data": {
            "text/plain": [
              "array([0.  , 0.  , 0.5 , 0.25, 0.75, 0.5 , 0.5 , 0.25, 0.75, 0.  , 0.75])"
            ]
          },
          "metadata": {},
          "execution_count": 138
        }
      ]
    },
    {
      "cell_type": "markdown",
      "metadata": {
        "id": "1gaElpYUsfsw"
      },
      "source": [
        "### One-hot encoding DNA Sequence"
      ]
    },
    {
      "cell_type": "code",
      "metadata": {
        "id": "Cd3IgF0Wsfsx"
      },
      "source": [
        "from sklearn.preprocessing import OneHotEncoder"
      ],
      "execution_count": 139,
      "outputs": []
    },
    {
      "cell_type": "code",
      "metadata": {
        "id": "HVVb0Sn0sfsx"
      },
      "source": [
        "def one_hot_encoder(seq_string):\n",
        "    int_encoded = label_encoder.transform(seq_string)\n",
        "    onehot_encoder = OneHotEncoder(sparse=False, dtype=int)\n",
        "    # int_encoded = int_encoded.reshape(len(int_encoded), 1)\n",
        "    onehot_encoded = onehot_encoder.fit_transform(int_encoded.reshape(-1,1))\n",
        "    #  onehot_encoded = np.delete(onehot_encoded, -1, 1)  # delete the last index in axis=1\n",
        "    return onehot_encoded"
      ],
      "execution_count": 140,
      "outputs": []
    },
    {
      "cell_type": "code",
      "metadata": {
        "colab": {
          "base_uri": "https://localhost:8080/"
        },
        "id": "b2Nm_OPV7-B4",
        "outputId": "6337c17b-d90e-4d3e-8107-50fc1de349b2"
      },
      "source": [
        "int_encoded = label_encoder.transform(string_to_array(\"GAATTCTCGAA\")); int_encoded"
      ],
      "execution_count": 141,
      "outputs": [
        {
          "output_type": "execute_result",
          "data": {
            "text/plain": [
              "array([2, 0, 0, 4, 4, 1, 4, 1, 2, 0, 0])"
            ]
          },
          "metadata": {},
          "execution_count": 141
        }
      ]
    },
    {
      "cell_type": "code",
      "metadata": {
        "colab": {
          "base_uri": "https://localhost:8080/"
        },
        "id": "kbAsso9N816I",
        "outputId": "c6b3cee9-06b9-481b-ad22-871c9e65e6e6"
      },
      "source": [
        "onehot_encoder = OneHotEncoder(sparse=False, dtype=int)\n",
        "onehot_encoder.fit_transform(int_encoded.reshape(-1,1))"
      ],
      "execution_count": 142,
      "outputs": [
        {
          "output_type": "execute_result",
          "data": {
            "text/plain": [
              "array([[0, 0, 1, 0],\n",
              "       [1, 0, 0, 0],\n",
              "       [1, 0, 0, 0],\n",
              "       [0, 0, 0, 1],\n",
              "       [0, 0, 0, 1],\n",
              "       [0, 1, 0, 0],\n",
              "       [0, 0, 0, 1],\n",
              "       [0, 1, 0, 0],\n",
              "       [0, 0, 1, 0],\n",
              "       [1, 0, 0, 0],\n",
              "       [1, 0, 0, 0]])"
            ]
          },
          "metadata": {},
          "execution_count": 142
        }
      ]
    },
    {
      "cell_type": "code",
      "metadata": {
        "colab": {
          "base_uri": "https://localhost:8080/"
        },
        "id": "wxb2ZxO_wRD5",
        "outputId": "43cbfd8b-5e23-45c0-cdc8-ac395e7200b4"
      },
      "source": [
        "seq_test = 'GAATTCTCGAA'\n",
        "print(string_to_array(seq_test))\n",
        "t = label_encoder.transform(string_to_array(seq_test))\n",
        "onehot_encoder = OneHotEncoder(sparse=False, dtype=int)\n",
        "\n",
        "t_en = onehot_encoder.fit_transform(t.reshape(-1,1))\n",
        "t_en"
      ],
      "execution_count": 143,
      "outputs": [
        {
          "output_type": "stream",
          "name": "stdout",
          "text": [
            "['g' 'a' 'a' 't' 't' 'c' 't' 'c' 'g' 'a' 'a']\n"
          ]
        },
        {
          "output_type": "execute_result",
          "data": {
            "text/plain": [
              "array([[0, 0, 1, 0],\n",
              "       [1, 0, 0, 0],\n",
              "       [1, 0, 0, 0],\n",
              "       [0, 0, 0, 1],\n",
              "       [0, 0, 0, 1],\n",
              "       [0, 1, 0, 0],\n",
              "       [0, 0, 0, 1],\n",
              "       [0, 1, 0, 0],\n",
              "       [0, 0, 1, 0],\n",
              "       [1, 0, 0, 0],\n",
              "       [1, 0, 0, 0]])"
            ]
          },
          "metadata": {},
          "execution_count": 143
        }
      ]
    },
    {
      "cell_type": "code",
      "metadata": {
        "colab": {
          "base_uri": "https://localhost:8080/"
        },
        "id": "LM-V4g7YyHhZ",
        "outputId": "0781f154-4e10-463e-a5f1-e40e23d2be3f"
      },
      "source": [
        "onehot_encoder.get_feature_names()"
      ],
      "execution_count": 144,
      "outputs": [
        {
          "output_type": "execute_result",
          "data": {
            "text/plain": [
              "array(['x0_0', 'x0_1', 'x0_2', 'x0_4'], dtype=object)"
            ]
          },
          "metadata": {},
          "execution_count": 144
        }
      ]
    },
    {
      "cell_type": "code",
      "metadata": {
        "colab": {
          "base_uri": "https://localhost:8080/"
        },
        "id": "C19ZPz-_9tGw",
        "outputId": "7d77fd32-bb10-4677-e71d-fe33452d09d6"
      },
      "source": [
        "label_encoder.classes_"
      ],
      "execution_count": 145,
      "outputs": [
        {
          "output_type": "execute_result",
          "data": {
            "text/plain": [
              "array(['a', 'c', 'g', 'n', 't'], dtype='<U1')"
            ]
          },
          "metadata": {},
          "execution_count": 145
        }
      ]
    },
    {
      "cell_type": "code",
      "metadata": {
        "colab": {
          "base_uri": "https://localhost:8080/"
        },
        "id": "gsgERVa5sfsy",
        "outputId": "71562873-a596-4270-b637-7e4f211a06e6"
      },
      "source": [
        "#So let’s try it out with a simple short sequence:\n",
        "seq_test = 'GAATTCTCGAA'\n",
        "one_hot_encoder(string_to_array(seq_test))"
      ],
      "execution_count": 146,
      "outputs": [
        {
          "output_type": "execute_result",
          "data": {
            "text/plain": [
              "array([[0, 0, 1, 0],\n",
              "       [1, 0, 0, 0],\n",
              "       [1, 0, 0, 0],\n",
              "       [0, 0, 0, 1],\n",
              "       [0, 0, 0, 1],\n",
              "       [0, 1, 0, 0],\n",
              "       [0, 0, 0, 1],\n",
              "       [0, 1, 0, 0],\n",
              "       [0, 0, 1, 0],\n",
              "       [1, 0, 0, 0],\n",
              "       [1, 0, 0, 0]])"
            ]
          },
          "metadata": {},
          "execution_count": 146
        }
      ]
    },
    {
      "cell_type": "markdown",
      "metadata": {
        "id": "-3QtQT1Lsfsz"
      },
      "source": [
        "### DNA sequence as a “language”, known as k-mer counting"
      ]
    },
    {
      "cell_type": "code",
      "metadata": {
        "id": "0eIm7_xEsfsz"
      },
      "source": [
        "def Kmers_funct(seq, size):\n",
        "    return [seq[x:x+size].lower() for x in range(len(seq) - size + 1)]"
      ],
      "execution_count": 147,
      "outputs": []
    },
    {
      "cell_type": "code",
      "metadata": {
        "colab": {
          "base_uri": "https://localhost:8080/"
        },
        "id": "P7UF4RUosfs0",
        "outputId": "9959c755-4ecc-4446-fadb-c81bb5154b5e"
      },
      "source": [
        "#So let’s try it out with a simple sequence:\n",
        "mySeq = 'GTGCCCAGGTTCAGTGAGTGACACAGGCAG'\n",
        "Kmers_funct(mySeq, size=7)"
      ],
      "execution_count": 148,
      "outputs": [
        {
          "output_type": "execute_result",
          "data": {
            "text/plain": [
              "['gtgccca',\n",
              " 'tgcccag',\n",
              " 'gcccagg',\n",
              " 'cccaggt',\n",
              " 'ccaggtt',\n",
              " 'caggttc',\n",
              " 'aggttca',\n",
              " 'ggttcag',\n",
              " 'gttcagt',\n",
              " 'ttcagtg',\n",
              " 'tcagtga',\n",
              " 'cagtgag',\n",
              " 'agtgagt',\n",
              " 'gtgagtg',\n",
              " 'tgagtga',\n",
              " 'gagtgac',\n",
              " 'agtgaca',\n",
              " 'gtgacac',\n",
              " 'tgacaca',\n",
              " 'gacacag',\n",
              " 'acacagg',\n",
              " 'cacaggc',\n",
              " 'acaggca',\n",
              " 'caggcag']"
            ]
          },
          "metadata": {},
          "execution_count": 148
        }
      ]
    },
    {
      "cell_type": "code",
      "metadata": {
        "colab": {
          "base_uri": "https://localhost:8080/",
          "height": 52
        },
        "id": "oR7kqoeUsfs0",
        "outputId": "d1640b42-afaa-43a9-a009-477ba5e80799"
      },
      "source": [
        "words = Kmers_funct(mySeq, size=6)\n",
        "joined_sentence = ' '.join(words)\n",
        "joined_sentence"
      ],
      "execution_count": 149,
      "outputs": [
        {
          "output_type": "execute_result",
          "data": {
            "application/vnd.google.colaboratory.intrinsic+json": {
              "type": "string"
            },
            "text/plain": [
              "'gtgccc tgccca gcccag cccagg ccaggt caggtt aggttc ggttca gttcag ttcagt tcagtg cagtga agtgag gtgagt tgagtg gagtga agtgac gtgaca tgacac gacaca acacag cacagg acaggc caggca aggcag'"
            ]
          },
          "metadata": {},
          "execution_count": 149
        }
      ]
    },
    {
      "cell_type": "markdown",
      "metadata": {
        "id": "ag5TaJRLsfs1"
      },
      "source": [
        "### \\# another example : a couple more of \"sentences\""
      ]
    },
    {
      "cell_type": "code",
      "metadata": {
        "id": "jWc-Hquvsfs1"
      },
      "source": [
        "mySeq1 = 'TCTCACACATGTGCCAATCACTGTCACCC'\n",
        "mySeq2 = 'GTGCCCAGGTTCAGTGAGTGACACAGGCAG'\n",
        "sentence1 = ' '.join(Kmers_funct(mySeq1, size=6))\n",
        "sentence2 = ' '.join(Kmers_funct(mySeq2, size=6))"
      ],
      "execution_count": 150,
      "outputs": []
    },
    {
      "cell_type": "code",
      "metadata": {
        "colab": {
          "base_uri": "https://localhost:8080/"
        },
        "id": "hJF-0Hew-aoH",
        "outputId": "33655865-8f8c-4536-ae81-7ebd773dae77"
      },
      "source": [
        "(len(mySeq1) -6 + 1) * 7 -1   # seq of length 6 + space"
      ],
      "execution_count": 151,
      "outputs": [
        {
          "output_type": "execute_result",
          "data": {
            "text/plain": [
              "167"
            ]
          },
          "metadata": {},
          "execution_count": 151
        }
      ]
    },
    {
      "cell_type": "code",
      "metadata": {
        "colab": {
          "base_uri": "https://localhost:8080/"
        },
        "id": "FdKd-QZQy9qg",
        "outputId": "eb1dfe8d-f6f7-4268-87b8-9b84be5054f5"
      },
      "source": [
        "len(sentence1), len(sentence2)"
      ],
      "execution_count": 152,
      "outputs": [
        {
          "output_type": "execute_result",
          "data": {
            "text/plain": [
              "(167, 174)"
            ]
          },
          "metadata": {},
          "execution_count": 152
        }
      ]
    },
    {
      "cell_type": "code",
      "metadata": {
        "id": "5YAT93FAsfs1"
      },
      "source": [
        "# Creating the Bag of Words model:\n",
        "from sklearn.feature_extraction.text import CountVectorizer, TfidfVectorizer"
      ],
      "execution_count": 198,
      "outputs": []
    },
    {
      "cell_type": "code",
      "metadata": {
        "colab": {
          "base_uri": "https://localhost:8080/"
        },
        "id": "7KaXCrdysfs2",
        "outputId": "db4ed957-4ba9-447b-e679-abd80c1efb00"
      },
      "source": [
        "cv = CountVectorizer()\n",
        "X = cv.fit_transform([joined_sentence, sentence1, sentence2]).toarray()\n",
        "X"
      ],
      "execution_count": 154,
      "outputs": [
        {
          "output_type": "execute_result",
          "data": {
            "text/plain": [
              "array([[0, 1, 0, 1, 0, 0, 1, 1, 1, 1, 0, 0, 0, 0, 1, 0, 0, 1, 1, 1, 0, 0,\n",
              "        1, 1, 0, 0, 1, 1, 0, 1, 1, 0, 1, 1, 0, 1, 1, 0, 0, 0, 1, 0, 1, 1,\n",
              "        0, 1, 0, 0, 1],\n",
              "       [1, 0, 1, 0, 1, 1, 0, 0, 0, 0, 1, 1, 1, 1, 0, 1, 1, 0, 0, 0, 1, 1,\n",
              "        0, 0, 1, 1, 0, 0, 1, 0, 0, 1, 0, 0, 1, 0, 0, 1, 1, 1, 0, 1, 0, 0,\n",
              "        1, 0, 1, 1, 0],\n",
              "       [0, 1, 0, 1, 0, 0, 1, 1, 1, 1, 0, 0, 0, 0, 1, 0, 0, 1, 1, 1, 0, 0,\n",
              "        1, 1, 0, 0, 1, 1, 0, 1, 1, 0, 1, 1, 0, 1, 1, 0, 0, 0, 1, 0, 1, 1,\n",
              "        0, 1, 0, 0, 1]])"
            ]
          },
          "metadata": {},
          "execution_count": 154
        }
      ]
    },
    {
      "cell_type": "code",
      "metadata": {
        "colab": {
          "base_uri": "https://localhost:8080/"
        },
        "id": "yav6ps-y_CwP",
        "outputId": "03c35288-41db-4f0b-fb5e-834cfe28ad1a"
      },
      "source": [
        "cv.get_feature_names()"
      ],
      "execution_count": 155,
      "outputs": [
        {
          "output_type": "execute_result",
          "data": {
            "text/plain": [
              "['aatcac',\n",
              " 'acacag',\n",
              " 'acacat',\n",
              " 'acaggc',\n",
              " 'acatgt',\n",
              " 'actgtc',\n",
              " 'aggcag',\n",
              " 'aggttc',\n",
              " 'agtgac',\n",
              " 'agtgag',\n",
              " 'atcact',\n",
              " 'atgtgc',\n",
              " 'caatca',\n",
              " 'cacaca',\n",
              " 'cacagg',\n",
              " 'cacatg',\n",
              " 'cactgt',\n",
              " 'caggca',\n",
              " 'caggtt',\n",
              " 'cagtga',\n",
              " 'catgtg',\n",
              " 'ccaatc',\n",
              " 'ccaggt',\n",
              " 'cccagg',\n",
              " 'ctcaca',\n",
              " 'ctgtca',\n",
              " 'gacaca',\n",
              " 'gagtga',\n",
              " 'gccaat',\n",
              " 'gcccag',\n",
              " 'ggttca',\n",
              " 'gtcacc',\n",
              " 'gtgaca',\n",
              " 'gtgagt',\n",
              " 'gtgcca',\n",
              " 'gtgccc',\n",
              " 'gttcag',\n",
              " 'tcacac',\n",
              " 'tcaccc',\n",
              " 'tcactg',\n",
              " 'tcagtg',\n",
              " 'tctcac',\n",
              " 'tgacac',\n",
              " 'tgagtg',\n",
              " 'tgccaa',\n",
              " 'tgccca',\n",
              " 'tgtcac',\n",
              " 'tgtgcc',\n",
              " 'ttcagt']"
            ]
          },
          "metadata": {},
          "execution_count": 155
        }
      ]
    },
    {
      "cell_type": "code",
      "metadata": {
        "id": "278IYpf0sfs3"
      },
      "source": [
        "import numpy as np # linear algebra\n",
        "import pandas as pd # data processing, CSV file I/O (e.g. pd.read_csv)\n",
        "import os\n",
        "import matplotlib.pyplot as plt\n",
        "%matplotlib inline"
      ],
      "execution_count": 156,
      "outputs": []
    },
    {
      "cell_type": "markdown",
      "metadata": {
        "id": "G1a0ZQRnsfs4"
      },
      "source": [
        "### Load human DNA data"
      ]
    },
    {
      "cell_type": "code",
      "metadata": {
        "id": "95WgOGy0sfs4",
        "colab": {
          "base_uri": "https://localhost:8080/",
          "height": 203
        },
        "outputId": "29f1cf92-3063-4d39-b995-deed4471002f"
      },
      "source": [
        "human_dna = pd.read_table('human.txt.zip')\n",
        "human_dna.head()"
      ],
      "execution_count": 157,
      "outputs": [
        {
          "output_type": "execute_result",
          "data": {
            "text/html": [
              "<div>\n",
              "<style scoped>\n",
              "    .dataframe tbody tr th:only-of-type {\n",
              "        vertical-align: middle;\n",
              "    }\n",
              "\n",
              "    .dataframe tbody tr th {\n",
              "        vertical-align: top;\n",
              "    }\n",
              "\n",
              "    .dataframe thead th {\n",
              "        text-align: right;\n",
              "    }\n",
              "</style>\n",
              "<table border=\"1\" class=\"dataframe\">\n",
              "  <thead>\n",
              "    <tr style=\"text-align: right;\">\n",
              "      <th></th>\n",
              "      <th>sequence</th>\n",
              "      <th>class</th>\n",
              "    </tr>\n",
              "  </thead>\n",
              "  <tbody>\n",
              "    <tr>\n",
              "      <th>0</th>\n",
              "      <td>ATGCCCCAACTAAATACTACCGTATGGCCCACCATAATTACCCCCA...</td>\n",
              "      <td>4</td>\n",
              "    </tr>\n",
              "    <tr>\n",
              "      <th>1</th>\n",
              "      <td>ATGAACGAAAATCTGTTCGCTTCATTCATTGCCCCCACAATCCTAG...</td>\n",
              "      <td>4</td>\n",
              "    </tr>\n",
              "    <tr>\n",
              "      <th>2</th>\n",
              "      <td>ATGTGTGGCATTTGGGCGCTGTTTGGCAGTGATGATTGCCTTTCTG...</td>\n",
              "      <td>3</td>\n",
              "    </tr>\n",
              "    <tr>\n",
              "      <th>3</th>\n",
              "      <td>ATGTGTGGCATTTGGGCGCTGTTTGGCAGTGATGATTGCCTTTCTG...</td>\n",
              "      <td>3</td>\n",
              "    </tr>\n",
              "    <tr>\n",
              "      <th>4</th>\n",
              "      <td>ATGCAACAGCATTTTGAATTTGAATACCAGACCAAAGTGGATGGTG...</td>\n",
              "      <td>3</td>\n",
              "    </tr>\n",
              "  </tbody>\n",
              "</table>\n",
              "</div>"
            ],
            "text/plain": [
              "                                            sequence  class\n",
              "0  ATGCCCCAACTAAATACTACCGTATGGCCCACCATAATTACCCCCA...      4\n",
              "1  ATGAACGAAAATCTGTTCGCTTCATTCATTGCCCCCACAATCCTAG...      4\n",
              "2  ATGTGTGGCATTTGGGCGCTGTTTGGCAGTGATGATTGCCTTTCTG...      3\n",
              "3  ATGTGTGGCATTTGGGCGCTGTTTGGCAGTGATGATTGCCTTTCTG...      3\n",
              "4  ATGCAACAGCATTTTGAATTTGAATACCAGACCAAAGTGGATGGTG...      3"
            ]
          },
          "metadata": {},
          "execution_count": 157
        }
      ]
    },
    {
      "cell_type": "code",
      "metadata": {
        "scrolled": true,
        "id": "whtig09nsfs5",
        "colab": {
          "base_uri": "https://localhost:8080/",
          "height": 295
        },
        "outputId": "902ac623-cc07-4858-f2c6-f5c45d1b144b"
      },
      "source": [
        "human_dna['class'].value_counts().sort_index().plot.bar()\n",
        "plt.title(\"Class distribution of Human DNA\")"
      ],
      "execution_count": 158,
      "outputs": [
        {
          "output_type": "execute_result",
          "data": {
            "text/plain": [
              "Text(0.5, 1.0, 'Class distribution of Human DNA')"
            ]
          },
          "metadata": {},
          "execution_count": 158
        },
        {
          "output_type": "display_data",
          "data": {
            "image/png": "[encoded data removed]",
            "text/plain": [
              "<Figure size 432x288 with 1 Axes>"
            ]
          },
          "metadata": {
            "needs_background": "light"
          }
        }
      ]
    },
    {
      "cell_type": "markdown",
      "metadata": {
        "id": "FE1LMfqbsfs5"
      },
      "source": [
        "### Load Chimpanzee DNA data"
      ]
    },
    {
      "cell_type": "code",
      "metadata": {
        "id": "Qw6KqvB_sfs6",
        "colab": {
          "base_uri": "https://localhost:8080/",
          "height": 203
        },
        "outputId": "20a06aee-b7b8-4906-e98c-83a6f7741e90"
      },
      "source": [
        "chimp_dna = pd.read_table('chimpanzee.txt.zip')\n",
        "chimp_dna.head()"
      ],
      "execution_count": 159,
      "outputs": [
        {
          "output_type": "execute_result",
          "data": {
            "text/html": [
              "<div>\n",
              "<style scoped>\n",
              "    .dataframe tbody tr th:only-of-type {\n",
              "        vertical-align: middle;\n",
              "    }\n",
              "\n",
              "    .dataframe tbody tr th {\n",
              "        vertical-align: top;\n",
              "    }\n",
              "\n",
              "    .dataframe thead th {\n",
              "        text-align: right;\n",
              "    }\n",
              "</style>\n",
              "<table border=\"1\" class=\"dataframe\">\n",
              "  <thead>\n",
              "    <tr style=\"text-align: right;\">\n",
              "      <th></th>\n",
              "      <th>sequence</th>\n",
              "      <th>class</th>\n",
              "    </tr>\n",
              "  </thead>\n",
              "  <tbody>\n",
              "    <tr>\n",
              "      <th>0</th>\n",
              "      <td>ATGCCCCAACTAAATACCGCCGTATGACCCACCATAATTACCCCCA...</td>\n",
              "      <td>4</td>\n",
              "    </tr>\n",
              "    <tr>\n",
              "      <th>1</th>\n",
              "      <td>ATGAACGAAAATCTATTCGCTTCATTCGCTGCCCCCACAATCCTAG...</td>\n",
              "      <td>4</td>\n",
              "    </tr>\n",
              "    <tr>\n",
              "      <th>2</th>\n",
              "      <td>ATGGCCTCGCGCTGGTGGCGGTGGCGACGCGGCTGCTCCTGGAGGC...</td>\n",
              "      <td>4</td>\n",
              "    </tr>\n",
              "    <tr>\n",
              "      <th>3</th>\n",
              "      <td>ATGGCCTCGCGCTGGTGGCGGTGGCGACGCGGCTGCTCCTGGAGGC...</td>\n",
              "      <td>4</td>\n",
              "    </tr>\n",
              "    <tr>\n",
              "      <th>4</th>\n",
              "      <td>ATGGGCAGCGCCAGCCCGGGTCTGAGCAGCGTGTCCCCCAGCCACC...</td>\n",
              "      <td>6</td>\n",
              "    </tr>\n",
              "  </tbody>\n",
              "</table>\n",
              "</div>"
            ],
            "text/plain": [
              "                                            sequence  class\n",
              "0  ATGCCCCAACTAAATACCGCCGTATGACCCACCATAATTACCCCCA...      4\n",
              "1  ATGAACGAAAATCTATTCGCTTCATTCGCTGCCCCCACAATCCTAG...      4\n",
              "2  ATGGCCTCGCGCTGGTGGCGGTGGCGACGCGGCTGCTCCTGGAGGC...      4\n",
              "3  ATGGCCTCGCGCTGGTGGCGGTGGCGACGCGGCTGCTCCTGGAGGC...      4\n",
              "4  ATGGGCAGCGCCAGCCCGGGTCTGAGCAGCGTGTCCCCCAGCCACC...      6"
            ]
          },
          "metadata": {},
          "execution_count": 159
        }
      ]
    },
    {
      "cell_type": "code",
      "metadata": {
        "id": "QnHWBUbesfs6",
        "colab": {
          "base_uri": "https://localhost:8080/",
          "height": 295
        },
        "outputId": "e3335278-55b6-4093-be63-d7aa4bd3b92c"
      },
      "source": [
        "chimp_dna['class'].value_counts().sort_index().plot.bar()\n",
        "plt.title(\"Class distribution of Chimpanzee DNA\")"
      ],
      "execution_count": 160,
      "outputs": [
        {
          "output_type": "execute_result",
          "data": {
            "text/plain": [
              "Text(0.5, 1.0, 'Class distribution of Chimpanzee DNA')"
            ]
          },
          "metadata": {},
          "execution_count": 160
        },
        {
          "output_type": "display_data",
          "data": {
            "image/png": "[encoded data removed]",
            "text/plain": [
              "<Figure size 432x288 with 1 Axes>"
            ]
          },
          "metadata": {
            "needs_background": "light"
          }
        }
      ]
    },
    {
      "cell_type": "markdown",
      "metadata": {
        "id": "i1y3VZInsfs6"
      },
      "source": [
        "### Load Dog DNA data"
      ]
    },
    {
      "cell_type": "code",
      "metadata": {
        "scrolled": true,
        "id": "iS16-IuWsfs6",
        "colab": {
          "base_uri": "https://localhost:8080/",
          "height": 203
        },
        "outputId": "fd2c4cf8-c8fa-458c-d895-8c3b5f4ec1df"
      },
      "source": [
        "dog_dna = pd.read_table('dog.txt.zip')\n",
        "dog_dna.head()"
      ],
      "execution_count": 161,
      "outputs": [
        {
          "output_type": "execute_result",
          "data": {
            "text/html": [
              "<div>\n",
              "<style scoped>\n",
              "    .dataframe tbody tr th:only-of-type {\n",
              "        vertical-align: middle;\n",
              "    }\n",
              "\n",
              "    .dataframe tbody tr th {\n",
              "        vertical-align: top;\n",
              "    }\n",
              "\n",
              "    .dataframe thead th {\n",
              "        text-align: right;\n",
              "    }\n",
              "</style>\n",
              "<table border=\"1\" class=\"dataframe\">\n",
              "  <thead>\n",
              "    <tr style=\"text-align: right;\">\n",
              "      <th></th>\n",
              "      <th>sequence</th>\n",
              "      <th>class</th>\n",
              "    </tr>\n",
              "  </thead>\n",
              "  <tbody>\n",
              "    <tr>\n",
              "      <th>0</th>\n",
              "      <td>ATGCCACAGCTAGATACATCCACCTGATTTATTATAATCTTTTCAA...</td>\n",
              "      <td>4</td>\n",
              "    </tr>\n",
              "    <tr>\n",
              "      <th>1</th>\n",
              "      <td>ATGAACGAAAATCTATTCGCTTCTTTCGCTGCCCCCTCAATAATAG...</td>\n",
              "      <td>4</td>\n",
              "    </tr>\n",
              "    <tr>\n",
              "      <th>2</th>\n",
              "      <td>ATGGAAACACCCTTCTACGGCGATGAGGCGCTGAGCGGCCTGGGCG...</td>\n",
              "      <td>6</td>\n",
              "    </tr>\n",
              "    <tr>\n",
              "      <th>3</th>\n",
              "      <td>ATGTGCACTAAAATGGAACAGCCCTTCTACCACGACGACTCATACG...</td>\n",
              "      <td>6</td>\n",
              "    </tr>\n",
              "    <tr>\n",
              "      <th>4</th>\n",
              "      <td>ATGAGCCGGCAGCTAAACAGAAGCCAGAACTGCTCCTTCAGTGACG...</td>\n",
              "      <td>0</td>\n",
              "    </tr>\n",
              "  </tbody>\n",
              "</table>\n",
              "</div>"
            ],
            "text/plain": [
              "                                            sequence  class\n",
              "0  ATGCCACAGCTAGATACATCCACCTGATTTATTATAATCTTTTCAA...      4\n",
              "1  ATGAACGAAAATCTATTCGCTTCTTTCGCTGCCCCCTCAATAATAG...      4\n",
              "2  ATGGAAACACCCTTCTACGGCGATGAGGCGCTGAGCGGCCTGGGCG...      6\n",
              "3  ATGTGCACTAAAATGGAACAGCCCTTCTACCACGACGACTCATACG...      6\n",
              "4  ATGAGCCGGCAGCTAAACAGAAGCCAGAACTGCTCCTTCAGTGACG...      0"
            ]
          },
          "metadata": {},
          "execution_count": 161
        }
      ]
    },
    {
      "cell_type": "code",
      "metadata": {
        "scrolled": true,
        "id": "qX7qR_X2sfs7",
        "colab": {
          "base_uri": "https://localhost:8080/",
          "height": 295
        },
        "outputId": "b3bfd232-62ea-4c04-c62d-fe1b12cadddf"
      },
      "source": [
        "dog_dna['class'].value_counts().sort_index().plot.bar()\n",
        "plt.title(\"Class distribution of Dog DNA\")"
      ],
      "execution_count": 162,
      "outputs": [
        {
          "output_type": "execute_result",
          "data": {
            "text/plain": [
              "Text(0.5, 1.0, 'Class distribution of Dog DNA')"
            ]
          },
          "metadata": {},
          "execution_count": 162
        },
        {
          "output_type": "display_data",
          "data": {
            "image/png": "[encoded data removed]",
            "text/plain": [
              "<Figure size 432x288 with 1 Axes>"
            ]
          },
          "metadata": {
            "needs_background": "light"
          }
        }
      ]
    },
    {
      "cell_type": "markdown",
      "metadata": {
        "id": "aJMRnq9asfs7"
      },
      "source": [
        "### convert a sequence of characters into k-mer words\n",
        "- default size = 6 (hexamers)\n",
        "- Kmers_funct() : \n",
        "    - 입력 : any sequence string\n",
        "    - 출력 : all possible overlapping k-mers of a specified length"
      ]
    },
    {
      "cell_type": "code",
      "metadata": {
        "id": "7DSCMMqFsfs7"
      },
      "source": [
        "def Kmers_funct(seq, size=6):\n",
        "    return [seq[x:x+size].lower() for x in range(len(seq) - size + 1)]"
      ],
      "execution_count": 163,
      "outputs": []
    },
    {
      "cell_type": "code",
      "metadata": {
        "colab": {
          "base_uri": "https://localhost:8080/"
        },
        "id": "8_x9GMRJD412",
        "outputId": "46a183c5-5308-4609-a324-db7f8b2e6350"
      },
      "source": [
        "Kmers_funct(\"abcdefghijklmn\", 6)"
      ],
      "execution_count": 164,
      "outputs": [
        {
          "output_type": "execute_result",
          "data": {
            "text/plain": [
              "['abcdef',\n",
              " 'bcdefg',\n",
              " 'cdefgh',\n",
              " 'defghi',\n",
              " 'efghij',\n",
              " 'fghijk',\n",
              " 'ghijkl',\n",
              " 'hijklm',\n",
              " 'ijklmn']"
            ]
          },
          "metadata": {},
          "execution_count": 164
        }
      ]
    },
    {
      "cell_type": "code",
      "metadata": {
        "id": "B2Nvb8FVsfs8"
      },
      "source": [
        "# convert our training data sequences into short overlapping k-mers of length 6. \n",
        "# Lets do that for each species of data we have using our Kmers_funct function.\n",
        "\n",
        "human_dna['words'] = human_dna.apply(lambda x: Kmers_funct(x['sequence']), axis=1)\n",
        "human_dna = human_dna.drop('sequence', axis=1)\n",
        "\n",
        "chimp_dna['words'] = chimp_dna.apply(lambda x: Kmers_funct(x['sequence']), axis=1)\n",
        "chimp_dna = chimp_dna.drop('sequence', axis=1)\n",
        "\n",
        "dog_dna['words'] = dog_dna.apply(lambda x: Kmers_funct(x['sequence']), axis=1)\n",
        "dog_dna = dog_dna.drop('sequence', axis=1)"
      ],
      "execution_count": 165,
      "outputs": []
    },
    {
      "cell_type": "code",
      "metadata": {
        "scrolled": true,
        "id": "UWNN_bFVsfs8",
        "colab": {
          "base_uri": "https://localhost:8080/",
          "height": 203
        },
        "outputId": "08cffbbb-25e0-4d03-ced6-f6242e5b2ab0"
      },
      "source": [
        "human_dna.head()"
      ],
      "execution_count": 166,
      "outputs": [
        {
          "output_type": "execute_result",
          "data": {
            "text/html": [
              "<div>\n",
              "<style scoped>\n",
              "    .dataframe tbody tr th:only-of-type {\n",
              "        vertical-align: middle;\n",
              "    }\n",
              "\n",
              "    .dataframe tbody tr th {\n",
              "        vertical-align: top;\n",
              "    }\n",
              "\n",
              "    .dataframe thead th {\n",
              "        text-align: right;\n",
              "    }\n",
              "</style>\n",
              "<table border=\"1\" class=\"dataframe\">\n",
              "  <thead>\n",
              "    <tr style=\"text-align: right;\">\n",
              "      <th></th>\n",
              "      <th>class</th>\n",
              "      <th>words</th>\n",
              "    </tr>\n",
              "  </thead>\n",
              "  <tbody>\n",
              "    <tr>\n",
              "      <th>0</th>\n",
              "      <td>4</td>\n",
              "      <td>[atgccc, tgcccc, gcccca, ccccaa, cccaac, ccaac...</td>\n",
              "    </tr>\n",
              "    <tr>\n",
              "      <th>1</th>\n",
              "      <td>4</td>\n",
              "      <td>[atgaac, tgaacg, gaacga, aacgaa, acgaaa, cgaaa...</td>\n",
              "    </tr>\n",
              "    <tr>\n",
              "      <th>2</th>\n",
              "      <td>3</td>\n",
              "      <td>[atgtgt, tgtgtg, gtgtgg, tgtggc, gtggca, tggca...</td>\n",
              "    </tr>\n",
              "    <tr>\n",
              "      <th>3</th>\n",
              "      <td>3</td>\n",
              "      <td>[atgtgt, tgtgtg, gtgtgg, tgtggc, gtggca, tggca...</td>\n",
              "    </tr>\n",
              "    <tr>\n",
              "      <th>4</th>\n",
              "      <td>3</td>\n",
              "      <td>[atgcaa, tgcaac, gcaaca, caacag, aacagc, acagc...</td>\n",
              "    </tr>\n",
              "  </tbody>\n",
              "</table>\n",
              "</div>"
            ],
            "text/plain": [
              "   class                                              words\n",
              "0      4  [atgccc, tgcccc, gcccca, ccccaa, cccaac, ccaac...\n",
              "1      4  [atgaac, tgaacg, gaacga, aacgaa, acgaaa, cgaaa...\n",
              "2      3  [atgtgt, tgtgtg, gtgtgg, tgtggc, gtggca, tggca...\n",
              "3      3  [atgtgt, tgtgtg, gtgtgg, tgtggc, gtggca, tggca...\n",
              "4      3  [atgcaa, tgcaac, gcaaca, caacag, aacagc, acagc..."
            ]
          },
          "metadata": {},
          "execution_count": 166
        }
      ]
    },
    {
      "cell_type": "markdown",
      "metadata": {
        "id": "ESJqBEC8sfs8"
      },
      "source": [
        "### convert the lists of k-mers for each gene into string sentences of words\n",
        "- can be used to create the Bag of Words model\n",
        "- target variable y : class labels"
      ]
    },
    {
      "cell_type": "code",
      "metadata": {
        "id": "kzm7NXsHsfs8"
      },
      "source": [
        "human_texts = list(human_dna['words'])\n",
        "\n",
        "for item in range(len(human_texts)):\n",
        "    human_texts[item] = ' '.join(human_texts[item])\n",
        "#separate labels\n",
        "y_human = human_dna.iloc[:, 0].values # y_human for human_dna"
      ],
      "execution_count": 167,
      "outputs": []
    },
    {
      "cell_type": "code",
      "metadata": {
        "colab": {
          "base_uri": "https://localhost:8080/"
        },
        "id": "VxWfrwPlE7O9",
        "outputId": "4f9b7a1b-d134-45b6-ca10-976325327894"
      },
      "source": [
        "list(human_dna['words'])[0]"
      ],
      "execution_count": 168,
      "outputs": [
        {
          "output_type": "execute_result",
          "data": {
            "text/plain": [
              "['atgccc',\n",
              " 'tgcccc',\n",
              " 'gcccca',\n",
              " 'ccccaa',\n",
              " 'cccaac',\n",
              " 'ccaact',\n",
              " 'caacta',\n",
              " 'aactaa',\n",
              " 'actaaa',\n",
              " 'ctaaat',\n",
              " 'taaata',\n",
              " 'aaatac',\n",
              " 'aatact',\n",
              " 'atacta',\n",
              " 'tactac',\n",
              " 'actacc',\n",
              " 'ctaccg',\n",
              " 'taccgt',\n",
              " 'accgta',\n",
              " 'ccgtat',\n",
              " 'cgtatg',\n",
              " 'gtatgg',\n",
              " 'tatggc',\n",
              " 'atggcc',\n",
              " 'tggccc',\n",
              " 'ggccca',\n",
              " 'gcccac',\n",
              " 'cccacc',\n",
              " 'ccacca',\n",
              " 'caccat',\n",
              " 'accata',\n",
              " 'ccataa',\n",
              " 'cataat',\n",
              " 'ataatt',\n",
              " 'taatta',\n",
              " 'aattac',\n",
              " 'attacc',\n",
              " 'ttaccc',\n",
              " 'tacccc',\n",
              " 'accccc',\n",
              " 'ccccca',\n",
              " 'ccccat',\n",
              " 'cccata',\n",
              " 'ccatac',\n",
              " 'catact',\n",
              " 'atactc',\n",
              " 'tactcc',\n",
              " 'actcct',\n",
              " 'ctcctt',\n",
              " 'tcctta',\n",
              " 'ccttac',\n",
              " 'cttaca',\n",
              " 'ttacac',\n",
              " 'tacact',\n",
              " 'acacta',\n",
              " 'cactat',\n",
              " 'actatt',\n",
              " 'ctattc',\n",
              " 'tattcc',\n",
              " 'attcct',\n",
              " 'ttcctc',\n",
              " 'tcctca',\n",
              " 'cctcat',\n",
              " 'ctcatc',\n",
              " 'tcatca',\n",
              " 'catcac',\n",
              " 'atcacc',\n",
              " 'tcaccc',\n",
              " 'caccca',\n",
              " 'acccaa',\n",
              " 'cccaac',\n",
              " 'ccaact',\n",
              " 'caacta',\n",
              " 'aactaa',\n",
              " 'actaaa',\n",
              " 'ctaaaa',\n",
              " 'taaaaa',\n",
              " 'aaaaat',\n",
              " 'aaaata',\n",
              " 'aaatat',\n",
              " 'aatatt',\n",
              " 'atatta',\n",
              " 'tattaa',\n",
              " 'attaaa',\n",
              " 'ttaaac',\n",
              " 'taaaca',\n",
              " 'aaacac',\n",
              " 'aacaca',\n",
              " 'acacaa',\n",
              " 'cacaaa',\n",
              " 'acaaac',\n",
              " 'caaact',\n",
              " 'aaacta',\n",
              " 'aactac',\n",
              " 'actacc',\n",
              " 'ctacca',\n",
              " 'taccac',\n",
              " 'accacc',\n",
              " 'ccacct',\n",
              " 'caccta',\n",
              " 'acctac',\n",
              " 'cctacc',\n",
              " 'ctacct',\n",
              " 'tacctc',\n",
              " 'acctcc',\n",
              " 'cctccc',\n",
              " 'ctccct',\n",
              " 'tccctc',\n",
              " 'ccctca',\n",
              " 'cctcac',\n",
              " 'ctcacc',\n",
              " 'tcacca',\n",
              " 'caccaa',\n",
              " 'accaaa',\n",
              " 'ccaaag',\n",
              " 'caaagc',\n",
              " 'aaagcc',\n",
              " 'aagccc',\n",
              " 'agccca',\n",
              " 'gcccat',\n",
              " 'cccata',\n",
              " 'ccataa',\n",
              " 'cataaa',\n",
              " 'ataaaa',\n",
              " 'taaaaa',\n",
              " 'aaaaat',\n",
              " 'aaaata',\n",
              " 'aaataa',\n",
              " 'aataaa',\n",
              " 'ataaaa',\n",
              " 'taaaaa',\n",
              " 'aaaaaa',\n",
              " 'aaaaat',\n",
              " 'aaaatt',\n",
              " 'aaatta',\n",
              " 'aattat',\n",
              " 'attata',\n",
              " 'ttataa',\n",
              " 'tataac',\n",
              " 'ataaca',\n",
              " 'taacaa',\n",
              " 'aacaaa',\n",
              " 'acaaac',\n",
              " 'caaacc',\n",
              " 'aaaccc',\n",
              " 'aaccct',\n",
              " 'accctg',\n",
              " 'ccctga',\n",
              " 'cctgag',\n",
              " 'ctgaga',\n",
              " 'tgagaa',\n",
              " 'gagaac',\n",
              " 'agaacc',\n",
              " 'gaacca',\n",
              " 'aaccaa',\n",
              " 'accaaa',\n",
              " 'ccaaaa',\n",
              " 'caaaat',\n",
              " 'aaaatg',\n",
              " 'aaatga',\n",
              " 'aatgaa',\n",
              " 'atgaac',\n",
              " 'tgaacg',\n",
              " 'gaacga',\n",
              " 'aacgaa',\n",
              " 'acgaaa',\n",
              " 'cgaaaa',\n",
              " 'gaaaat',\n",
              " 'aaaatc',\n",
              " 'aaatct',\n",
              " 'aatctg',\n",
              " 'atctgt',\n",
              " 'tctgtt',\n",
              " 'ctgttc',\n",
              " 'tgttcg',\n",
              " 'gttcgc',\n",
              " 'ttcgct',\n",
              " 'tcgctt',\n",
              " 'cgcttc',\n",
              " 'gcttca',\n",
              " 'cttcat',\n",
              " 'ttcatt',\n",
              " 'tcattc',\n",
              " 'cattca',\n",
              " 'attcat',\n",
              " 'ttcatt',\n",
              " 'tcattg',\n",
              " 'cattgc',\n",
              " 'attgcc',\n",
              " 'ttgccc',\n",
              " 'tgcccc',\n",
              " 'gccccc',\n",
              " 'ccccca',\n",
              " 'ccccac',\n",
              " 'cccaca',\n",
              " 'ccacaa',\n",
              " 'cacaat',\n",
              " 'acaatc',\n",
              " 'caatcc',\n",
              " 'aatcct',\n",
              " 'atccta',\n",
              " 'tcctag']"
            ]
          },
          "metadata": {},
          "execution_count": 168
        }
      ]
    },
    {
      "cell_type": "code",
      "metadata": {
        "id": "MQQH3RcFsfs9"
      },
      "source": [
        "chimp_texts = list(chimp_dna['words'])\n",
        "for item in range(len(chimp_texts)):\n",
        "    chimp_texts[item] = ' '.join(chimp_texts[item])\n",
        "#separate labels\n",
        "y_chim = chimp_dna.iloc[:, 0].values # y_chim for chimp_dna\n",
        "\n",
        "dog_texts = list(dog_dna['words'])\n",
        "for item in range(len(dog_texts)):\n",
        "    dog_texts[item] = ' '.join(dog_texts[item])\n",
        "#separate labels\n",
        "y_dog = dog_dna.iloc[:, 0].values  # y_dog for dog_dna"
      ],
      "execution_count": 169,
      "outputs": []
    },
    {
      "cell_type": "code",
      "metadata": {
        "id": "AkB2MM1psfs9",
        "colab": {
          "base_uri": "https://localhost:8080/"
        },
        "outputId": "909ddae7-af7c-4b49-9bda-0f4f8b7ea508"
      },
      "source": [
        "y_human"
      ],
      "execution_count": 170,
      "outputs": [
        {
          "output_type": "execute_result",
          "data": {
            "text/plain": [
              "array([4, 4, 3, ..., 6, 6, 6])"
            ]
          },
          "metadata": {},
          "execution_count": 170
        }
      ]
    },
    {
      "cell_type": "markdown",
      "metadata": {
        "id": "Lt_D6PCnsfs9"
      },
      "source": [
        "### Convert k-mer words into uniform length numerical vectors \n",
        "- 입력 : k-mer words\n",
        "- 출력 : uniform length numerical vectors\n",
        "    - 내용 : counts for every k-mer in the vocabulary\n",
        "\n"
      ]
    },
    {
      "cell_type": "code",
      "metadata": {
        "id": "yKHgugq_sfs-"
      },
      "source": [
        "from sklearn.feature_extraction.text import CountVectorizer\n",
        "cv = CountVectorizer(ngram_range=(4,4)) # The n-gram size of 4 is previously determined by testing\n",
        "X = cv.fit_transform(human_texts)\n",
        "X_chimp = cv.transform(chimp_texts)\n",
        "X_dog = cv.transform(dog_texts)"
      ],
      "execution_count": 171,
      "outputs": []
    },
    {
      "cell_type": "code",
      "metadata": {
        "id": "PcubMP-0sfs-",
        "colab": {
          "base_uri": "https://localhost:8080/"
        },
        "outputId": "4a6c7a3b-a622-4b6d-f212-4ac504e03ec2"
      },
      "source": [
        "print(X.shape)\n",
        "print(X_chimp.shape)\n",
        "print(X_dog.shape)"
      ],
      "execution_count": 172,
      "outputs": [
        {
          "output_type": "stream",
          "name": "stdout",
          "text": [
            "(4380, 232414)\n",
            "(1682, 232414)\n",
            "(820, 232414)\n"
          ]
        }
      ]
    },
    {
      "cell_type": "markdown",
      "metadata": {
        "id": "IoF1cAJQsfs-"
      },
      "source": [
        "### Train / Test 데이터 분리"
      ]
    },
    {
      "cell_type": "code",
      "metadata": {
        "id": "1gYuIgR0sfs-"
      },
      "source": [
        "# Splitting the human dataset into the training set and test set\n",
        "from sklearn.model_selection import train_test_split\n",
        "X_train, X_test, y_train, y_test = train_test_split(X, \n",
        "                                                    y_human, \n",
        "                                                    test_size = 0.20, \n",
        "                                                    random_state=42)"
      ],
      "execution_count": 173,
      "outputs": []
    },
    {
      "cell_type": "markdown",
      "metadata": {
        "id": "5ATwN1tTsfs_"
      },
      "source": [
        "### 다항(multinomial) naive Bayes 분류기 생성\n",
        "- 사전에 parameter tuning\n",
        "    - ngram size = 4(예를 들어, Countvectorizer() 함수를 통해)\n",
        "    - 모델 alpha = 0.1 값이 최선임을 발견\n",
        "    - parameter 조율과 관련된 자세한 내용은 생략"
      ]
    },
    {
      "cell_type": "markdown",
      "metadata": {
        "id": "o6OMj8MvPLVV"
      },
      "source": [
        "- The smoothing priors \\alpha >= 0 accounts for features not present in the learning samples and prevents zero probabilities in further computations. \n",
        "-The parameters \\theta is estimated by a smoothed version of maximum likelihood, i.e. relative frequency counting:"
      ]
    },
    {
      "cell_type": "markdown",
      "metadata": {
        "id": "uq7R4-SyPQr5"
      },
      "source": [
        "- ![image.png](data:image/png;base64,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)"
      ]
    },
    {
      "cell_type": "code",
      "metadata": {
        "id": "jaxs3-CXsfs_",
        "colab": {
          "base_uri": "https://localhost:8080/"
        },
        "outputId": "fd781673-fe92-4344-a4eb-db4cdde90166"
      },
      "source": [
        "from sklearn.naive_bayes import MultinomialNB\n",
        "classifier = MultinomialNB(alpha=0.1)  # smoothing parameter (see the manual)\n",
        "classifier.fit(X_train, y_train)"
      ],
      "execution_count": 174,
      "outputs": [
        {
          "output_type": "execute_result",
          "data": {
            "text/plain": [
              "MultinomialNB(alpha=0.1, class_prior=None, fit_prior=True)"
            ]
          },
          "metadata": {},
          "execution_count": 174
        }
      ]
    },
    {
      "cell_type": "markdown",
      "metadata": {
        "id": "dSeQG_Hysfs_"
      },
      "source": [
        "### test 데이터 셋에 대해 예측 수행"
      ]
    },
    {
      "cell_type": "code",
      "metadata": {
        "id": "HzXu4WG_sfs_"
      },
      "source": [
        "y_pred = classifier.predict(X_test)"
      ],
      "execution_count": 175,
      "outputs": []
    },
    {
      "cell_type": "markdown",
      "metadata": {
        "id": "8OQVaIYysftA"
      },
      "source": [
        "### 성능 평가\n",
        "- 모델 성능 지표\n",
        "    - 혼돈 메트릭스(confusion matrix)\n",
        "    - 정확도(accuracy)\n",
        "    - 정밀도(precision)\n",
        "    - 리콜(recall)\n",
        "    - F1 점수(f1 score)"
      ]
    },
    {
      "cell_type": "markdown",
      "metadata": {
        "id": "vcmWZkq9sftA"
      },
      "source": [
        "#### Human DNA Sequence"
      ]
    },
    {
      "cell_type": "code",
      "metadata": {
        "id": "OT3AGZ95sftA"
      },
      "source": [
        "from sklearn.metrics import accuracy_score, f1_score, precision_score, recall_score"
      ],
      "execution_count": 176,
      "outputs": []
    },
    {
      "cell_type": "code",
      "metadata": {
        "id": "KVP_YqWesftA",
        "colab": {
          "base_uri": "https://localhost:8080/"
        },
        "outputId": "b035ff4a-65d5-435f-cb30-2a0e8b5e16a0"
      },
      "source": [
        "print(\"Confusion matrix for predictions on human test DNA sequence\\n\")\n",
        "print(pd.crosstab(pd.Series(y_test, name='Actual'), pd.Series(y_pred, name='Predicted')))"
      ],
      "execution_count": 177,
      "outputs": [
        {
          "output_type": "stream",
          "name": "stdout",
          "text": [
            "Confusion matrix for predictions on human test DNA sequence\n",
            "\n",
            "Predicted   0    1   2    3    4   5    6\n",
            "Actual                                   \n",
            "0          99    0   0    0    1   0    2\n",
            "1           0  104   0    0    0   0    2\n",
            "2           0    0  78    0    0   0    0\n",
            "3           0    0   0  124    0   0    1\n",
            "4           1    0   0    0  143   0    5\n",
            "5           0    0   0    0    0  51    0\n",
            "6           1    0   0    1    0   0  263\n"
          ]
        }
      ]
    },
    {
      "cell_type": "code",
      "metadata": {
        "id": "NNsafc1PsftA"
      },
      "source": [
        "def get_metrics(y_test, y_predicted):\n",
        "    accuracy = accuracy_score(y_test, y_predicted)\n",
        "    precision = precision_score(y_test, y_predicted, average='weighted')\n",
        "    recall = recall_score(y_test, y_predicted, average='weighted')\n",
        "    f1 = f1_score(y_test, y_predicted, average='weighted')\n",
        "    return accuracy, precision, recall, f1\n",
        "accuracy, precision, recall, f1 = get_metrics(y_test, y_pred)"
      ],
      "execution_count": 178,
      "outputs": []
    },
    {
      "cell_type": "code",
      "metadata": {
        "scrolled": true,
        "id": "ieeO2H3vsftB",
        "colab": {
          "base_uri": "https://localhost:8080/"
        },
        "outputId": "d365fef2-32d5-4b95-d331-ce39351393a5"
      },
      "source": [
        "print(\"accuracy = %.3f \\nprecision = %.3f \\nrecall = %.3f \\nf1 = %.3f\" % (accuracy, precision, recall, f1))"
      ],
      "execution_count": 179,
      "outputs": [
        {
          "output_type": "stream",
          "name": "stdout",
          "text": [
            "accuracy = 0.984 \n",
            "precision = 0.984 \n",
            "recall = 0.984 \n",
            "f1 = 0.984\n"
          ]
        }
      ]
    },
    {
      "cell_type": "markdown",
      "metadata": {
        "id": "TpbERjM2sftB"
      },
      "source": [
        "### 실제 test 데이터에 대한 성능 평가\n",
        "- 다른 종들의 DNA 시퀀스들에 대해 얼마나 좋은 성능을 낼 수 있는 지 시험\n",
        "    - Chimpanzee 데이터 : human과 가장 유사할 것으로 기대\n",
        "    - Dog 데이터 : human의 가장 좋은 친구 "
      ]
    },
    {
      "cell_type": "markdown",
      "metadata": {
        "id": "Qj_nzQWDsftB"
      },
      "source": [
        "#### Chimpanzee DNA Sequence"
      ]
    },
    {
      "cell_type": "code",
      "metadata": {
        "id": "wtXt-4rIsftC"
      },
      "source": [
        "# Predicting the chimp, dog sequences\n",
        "y_pred_chimp = classifier.predict(X_chimp)"
      ],
      "execution_count": 180,
      "outputs": []
    },
    {
      "cell_type": "code",
      "metadata": {
        "scrolled": true,
        "id": "Ftf3l2xnsftC",
        "colab": {
          "base_uri": "https://localhost:8080/"
        },
        "outputId": "78a3ad75-9fe9-4806-c83e-730ad5a4de53"
      },
      "source": [
        "# performance on chimpanzee genes\n",
        "print(\"Confusion matrix for predictions on Chimpanzee test DNA sequence\\n\")\n",
        "print(pd.crosstab(pd.Series(y_chim, name='Actual'), pd.Series(y_pred_chimp, name='Predicted')))\n",
        "accuracy, precision, recall, f1 = get_metrics(y_chim, y_pred_chimp)\n",
        "print(\"accuracy = %.3f \\nprecision = %.3f \\nrecall = %.3f \\nf1 = %.3f\" % (accuracy, precision, recall, f1))"
      ],
      "execution_count": 181,
      "outputs": [
        {
          "output_type": "stream",
          "name": "stdout",
          "text": [
            "Confusion matrix for predictions on Chimpanzee test DNA sequence\n",
            "\n",
            "Predicted    0    1    2    3    4    5    6\n",
            "Actual                                      \n",
            "0          232    0    0    0    0    0    2\n",
            "1            0  184    0    0    0    0    1\n",
            "2            0    0  144    0    0    0    0\n",
            "3            0    0    0  227    0    0    1\n",
            "4            2    0    0    0  254    0    5\n",
            "5            0    0    0    0    0  109    0\n",
            "6            0    0    0    0    0    0  521\n",
            "accuracy = 0.993 \n",
            "precision = 0.994 \n",
            "recall = 0.993 \n",
            "f1 = 0.993\n"
          ]
        }
      ]
    },
    {
      "cell_type": "markdown",
      "metadata": {
        "id": "cGOy-qR5sftC"
      },
      "source": [
        "#### Dog DNA Sequence"
      ]
    },
    {
      "cell_type": "code",
      "metadata": {
        "id": "gNosrey6sftD"
      },
      "source": [
        "y_pred_dog = classifier.predict(X_dog)"
      ],
      "execution_count": 182,
      "outputs": []
    },
    {
      "cell_type": "code",
      "metadata": {
        "id": "8CTLLCuFsftD",
        "colab": {
          "base_uri": "https://localhost:8080/"
        },
        "outputId": "f952cfe1-3aab-463c-a06c-a460e3ca808b"
      },
      "source": [
        "# performance on dog genes\n",
        "print(\"Confusion matrix for predictions on Dog test DNA sequence\\n\")\n",
        "print(pd.crosstab(pd.Series(y_dog, name='Actual'), pd.Series(y_pred_dog, name='Predicted')))\n",
        "accuracy, precision, recall, f1 = get_metrics(y_dog, y_pred_dog)\n",
        "print(\"accuracy = %.3f \\nprecision = %.3f \\nrecall = %.3f \\nf1 = %.3f\" % (accuracy, precision, recall, f1))"
      ],
      "execution_count": 183,
      "outputs": [
        {
          "output_type": "stream",
          "name": "stdout",
          "text": [
            "Confusion matrix for predictions on Dog test DNA sequence\n",
            "\n",
            "Predicted    0   1   2   3    4   5    6\n",
            "Actual                                  \n",
            "0          127   0   0   0    0   0    4\n",
            "1            0  63   0   0    1   0   11\n",
            "2            0   0  49   0    1   0   14\n",
            "3            1   0   0  81    2   0   11\n",
            "4            4   0   0   1  126   0    4\n",
            "5            4   0   0   0    1  53    2\n",
            "6            0   0   0   0    0   0  260\n",
            "accuracy = 0.926 \n",
            "precision = 0.934 \n",
            "recall = 0.926 \n",
            "f1 = 0.925\n"
          ]
        }
      ]
    },
    {
      "cell_type": "markdown",
      "metadata": {
        "id": "LMkvGqOFTJee"
      },
      "source": [
        "# Altogether\n",
        "- this time 9-mer instead of 6-mer and 4-gram"
      ]
    },
    {
      "cell_type": "code",
      "metadata": {
        "id": "JY8aPqOysftD"
      },
      "source": [
        "human_dna = pd.read_table('human.txt.zip')\n",
        "chimp_dna = pd.read_table('chimpanzee.txt.zip')\n",
        "dog_dna = pd.read_table('dog.txt.zip')"
      ],
      "execution_count": 192,
      "outputs": []
    },
    {
      "cell_type": "code",
      "metadata": {
        "id": "3MwQYiL2QVDG"
      },
      "source": [
        "human_dna['words'] = human_dna.apply(lambda x: Kmers_funct(x['sequence'], 9), axis=1)\n",
        "human_dna = human_dna.drop('sequence', axis=1)\n",
        "\n",
        "chimp_dna['words'] = chimp_dna.apply(lambda x: Kmers_funct(x['sequence'], 9), axis=1)\n",
        "chimp_dna = chimp_dna.drop('sequence', axis=1)\n",
        "\n",
        "dog_dna['words'] = dog_dna.apply(lambda x: Kmers_funct(x['sequence'], 9), axis=1)\n",
        "dog_dna = dog_dna.drop('sequence', axis=1)\n",
        "\n",
        "human_texts = list(human_dna['words'])\n",
        "for item in range(len(human_texts)):\n",
        "    human_texts[item] = ' '.join(human_texts[item])\n",
        "y_human = human_dna.iloc[:, 0].values # y_human for human_dna\n",
        "\n",
        "chimp_texts = list(chimp_dna['words'])\n",
        "for item in range(len(chimp_texts)):\n",
        "    chimp_texts[item] = ' '.join(chimp_texts[item])\n",
        "y_chim = chimp_dna.iloc[:, 0].values # y_chim for chimp_dna\n",
        "\n",
        "dog_texts = list(dog_dna['words'])\n",
        "for item in range(len(dog_texts)):\n",
        "    dog_texts[item] = ' '.join(dog_texts[item])\n",
        "y_dog = dog_dna.iloc[:, 0].values  # y_dog for dog_dna"
      ],
      "execution_count": 193,
      "outputs": []
    },
    {
      "cell_type": "code",
      "metadata": {
        "id": "_nXhK71OQldd"
      },
      "source": [
        "cv = CountVectorizer() # The n-gram size of 4 is previously determined by testing\n",
        "X = cv.fit_transform(human_texts)\n",
        "X_chimp = cv.transform(chimp_texts)\n",
        "X_dog = cv.transform(dog_texts)"
      ],
      "execution_count": 202,
      "outputs": []
    },
    {
      "cell_type": "code",
      "metadata": {
        "colab": {
          "base_uri": "https://localhost:8080/"
        },
        "id": "hzTJl6BpQyEm",
        "outputId": "52d01330-d1ff-47a3-dad8-c406a8458d73"
      },
      "source": [
        "X_train, X_test, y_train, y_test = train_test_split(X, \n",
        "                                                    y_human, \n",
        "                                                    test_size = 0.20, \n",
        "                                                    random_state=42)\n",
        "\n",
        "classifier = MultinomialNB(alpha=0.1)  # smoothing parameter (see the manual)\n",
        "classifier.fit(X_train, y_train)"
      ],
      "execution_count": 203,
      "outputs": [
        {
          "output_type": "execute_result",
          "data": {
            "text/plain": [
              "MultinomialNB(alpha=0.1, class_prior=None, fit_prior=True)"
            ]
          },
          "metadata": {},
          "execution_count": 203
        }
      ]
    },
    {
      "cell_type": "code",
      "metadata": {
        "colab": {
          "base_uri": "https://localhost:8080/"
        },
        "id": "c2gGo2a-Q9PN",
        "outputId": "8b1335e6-b8f5-4f66-c68c-f4a46a142121"
      },
      "source": [
        "y_pred = classifier.predict(X_test)\n",
        "print(\"Confusion matrix for predictions on human test DNA sequence\\n\")\n",
        "print(pd.crosstab(pd.Series(y_test, name='Actual'), pd.Series(y_pred, name='Predicted')))\n",
        "get_metrics(y_test, y_pred)"
      ],
      "execution_count": 204,
      "outputs": [
        {
          "output_type": "stream",
          "name": "stdout",
          "text": [
            "Confusion matrix for predictions on human test DNA sequence\n",
            "\n",
            "Predicted   0    1   2    3    4   5    6\n",
            "Actual                                   \n",
            "0          99    0   0    0    1   0    2\n",
            "1           0  104   0    0    0   0    2\n",
            "2           0    0  78    0    0   0    0\n",
            "3           0    0   0  124    0   0    1\n",
            "4           1    0   0    0  143   0    5\n",
            "5           0    0   0    0    0  51    0\n",
            "6           1    0   0    1    0   0  263\n"
          ]
        },
        {
          "output_type": "execute_result",
          "data": {
            "text/plain": [
              "(0.9840182648401826, 0.984290543482443, 0.9840182648401826, 0.9840270014702487)"
            ]
          },
          "metadata": {},
          "execution_count": 204
        }
      ]
    },
    {
      "cell_type": "markdown",
      "metadata": {
        "id": "isjr2NYQTstW"
      },
      "source": [
        "- (almost) the same as before"
      ]
    }
  ]
}