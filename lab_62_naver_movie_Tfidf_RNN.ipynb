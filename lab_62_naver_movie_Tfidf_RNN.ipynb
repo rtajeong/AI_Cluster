{
  "nbformat": 4,
  "nbformat_minor": 0,
  "metadata": {
    "accelerator": "GPU",
    "colab": {
      "name": "lab_62_naver_movie_Tfidf_RNN.ipynb",
      "provenance": [],
      "collapsed_sections": [],
      "include_colab_link": true
    },
    "kernelspec": {
      "display_name": "Python 3",
      "language": "python",
      "name": "python3"
    },
    "language_info": {
      "codemirror_mode": {
        "name": "ipython",
        "version": 3
      },
      "file_extension": ".py",
      "mimetype": "text/x-python",
      "name": "python",
      "nbconvert_exporter": "python",
      "pygments_lexer": "ipython3",
      "version": "3.6.8"
    }
  },
  "cells": [
    {
      "cell_type": "markdown",
      "metadata": {
        "id": "view-in-github",
        "colab_type": "text"
      },
      "source": [
        "<a href=\"https://colab.research.google.com/github/rtajeong/AI_Cluster/blob/main/lab_62_naver_movie_Tfidf_RNN.ipynb\" target=\"_parent\"><img src=\"https://colab.research.google.com/assets/colab-badge.svg\" alt=\"Open In Colab\"/></a>"
      ]
    },
    {
      "cell_type": "markdown",
      "metadata": {
        "id": "QC56DBCixpFQ"
      },
      "source": [
        "# Naver Movie sentiment analysis\n",
        "- using Tfidf vectorizer"
      ]
    },
    {
      "cell_type": "markdown",
      "metadata": {
        "id": "qOZVTcEODvqS"
      },
      "source": [
        "- 감성분석\n",
        "- 네이버 영화평점 (Naver sentiment movie corpus v.1.0) 데이터(https://github.com/e9t/nsmc)\n",
        "- 영화 리뷰 20만건이 저장됨. 각 평가 데이터는 0(부정), 1(긍정)으로 label 됨.\n",
        "\n",
        "한글 자연어 처리\n",
        "- KoNLPy(“코엔엘파이”라고 읽습니다)는 한국어 정보처리를 위한 파이썬 패키지입니다.\n",
        "- konlpy 패키지에서 제공하는 Twitter라는 문서 분석 라이브러리 사용 (트위터 분석 뿐 아니라 한글 텍스트 \n",
        "  처리도 가능)\n",
        "- colab 사용 권장"
      ]
    },
    {
      "cell_type": "code",
      "metadata": {
        "id": "zHoKWwCbZoAm",
        "colab": {
          "base_uri": "https://localhost:8080/"
        },
        "outputId": "e9c70bbe-04e0-440c-e18f-7b78ff55b946"
      },
      "source": [
        "!pip install konlpy"
      ],
      "execution_count": null,
      "outputs": [
        {
          "output_type": "stream",
          "name": "stdout",
          "text": [
            "Requirement already satisfied: konlpy in /usr/local/lib/python3.7/dist-packages (0.5.2)\n",
            "Requirement already satisfied: beautifulsoup4==4.6.0 in /usr/local/lib/python3.7/dist-packages (from konlpy) (4.6.0)\n",
            "Requirement already satisfied: numpy>=1.6 in /usr/local/lib/python3.7/dist-packages (from konlpy) (1.19.5)\n",
            "Requirement already satisfied: colorama in /usr/local/lib/python3.7/dist-packages (from konlpy) (0.4.4)\n",
            "Requirement already satisfied: JPype1>=0.7.0 in /usr/local/lib/python3.7/dist-packages (from konlpy) (1.3.0)\n",
            "Requirement already satisfied: tweepy>=3.7.0 in /usr/local/lib/python3.7/dist-packages (from konlpy) (3.10.0)\n",
            "Requirement already satisfied: lxml>=4.1.0 in /usr/local/lib/python3.7/dist-packages (from konlpy) (4.2.6)\n",
            "Requirement already satisfied: typing-extensions in /usr/local/lib/python3.7/dist-packages (from JPype1>=0.7.0->konlpy) (3.7.4.3)\n",
            "Requirement already satisfied: requests[socks]>=2.11.1 in /usr/local/lib/python3.7/dist-packages (from tweepy>=3.7.0->konlpy) (2.23.0)\n",
            "Requirement already satisfied: six>=1.10.0 in /usr/local/lib/python3.7/dist-packages (from tweepy>=3.7.0->konlpy) (1.15.0)\n",
            "Requirement already satisfied: requests-oauthlib>=0.7.0 in /usr/local/lib/python3.7/dist-packages (from tweepy>=3.7.0->konlpy) (1.3.0)\n",
            "Requirement already satisfied: oauthlib>=3.0.0 in /usr/local/lib/python3.7/dist-packages (from requests-oauthlib>=0.7.0->tweepy>=3.7.0->konlpy) (3.1.1)\n",
            "Requirement already satisfied: chardet<4,>=3.0.2 in /usr/local/lib/python3.7/dist-packages (from requests[socks]>=2.11.1->tweepy>=3.7.0->konlpy) (3.0.4)\n",
            "Requirement already satisfied: idna<3,>=2.5 in /usr/local/lib/python3.7/dist-packages (from requests[socks]>=2.11.1->tweepy>=3.7.0->konlpy) (2.10)\n",
            "Requirement already satisfied: urllib3!=1.25.0,!=1.25.1,<1.26,>=1.21.1 in /usr/local/lib/python3.7/dist-packages (from requests[socks]>=2.11.1->tweepy>=3.7.0->konlpy) (1.24.3)\n",
            "Requirement already satisfied: certifi>=2017.4.17 in /usr/local/lib/python3.7/dist-packages (from requests[socks]>=2.11.1->tweepy>=3.7.0->konlpy) (2021.5.30)\n",
            "Requirement already satisfied: PySocks!=1.5.7,>=1.5.6 in /usr/local/lib/python3.7/dist-packages (from requests[socks]>=2.11.1->tweepy>=3.7.0->konlpy) (1.7.1)\n"
          ]
        }
      ]
    },
    {
      "cell_type": "code",
      "metadata": {
        "id": "vUusS2vgZ_Zx"
      },
      "source": [
        "# 패키지 설치\n",
        "import konlpy\n",
        "import pandas as pd\n",
        "import numpy as np\n",
        "from konlpy.tag import Twitter\n",
        "from sklearn.feature_extraction.text import TfidfVectorizer\n",
        "from tensorflow.keras.models import Sequential\n",
        "from tensorflow.keras.layers import Dense, Dropout, Activation\n",
        "from sklearn import model_selection, metrics\n",
        "\n",
        "# 토큰 파서\n",
        "def twitter_tokenizer(text):\n",
        "    return Twitter().morphs(text)"
      ],
      "execution_count": null,
      "outputs": []
    },
    {
      "cell_type": "code",
      "metadata": {
        "colab": {
          "base_uri": "https://localhost:8080/"
        },
        "id": "PYD7eARjMZ7d",
        "outputId": "e30cf20a-322d-40f4-eee3-f45a6589cc12"
      },
      "source": [
        "twitter_tokenizer(\"Welcome to data science world!...한국말도 똑 같아요...\")"
      ],
      "execution_count": null,
      "outputs": [
        {
          "output_type": "stream",
          "name": "stderr",
          "text": [
            "/usr/local/lib/python3.7/dist-packages/konlpy/tag/_okt.py:16: UserWarning: \"Twitter\" has changed to \"Okt\" since KoNLPy v0.4.5.\n",
            "  warn('\"Twitter\" has changed to \"Okt\" since KoNLPy v0.4.5.')\n"
          ]
        },
        {
          "output_type": "execute_result",
          "data": {
            "text/plain": [
              "['Welcome',\n",
              " 'to',\n",
              " 'data',\n",
              " 'science',\n",
              " 'world',\n",
              " '!...',\n",
              " '한국말',\n",
              " '도',\n",
              " '똑',\n",
              " '같아요',\n",
              " '...']"
            ]
          },
          "metadata": {},
          "execution_count": 12
        }
      ]
    },
    {
      "cell_type": "code",
      "metadata": {
        "id": "R0svk5kdfrBs",
        "colab": {
          "base_uri": "https://localhost:8080/"
        },
        "outputId": "944dd052-32df-40bc-ed97-82ea35e5e4e1"
      },
      "source": [
        "!curl -L https://bit.ly/2X9Owwr -o ratings_train.txt\n",
        "!curl -L https://bit.ly/2WuLd5I -o ratings_test.txt"
      ],
      "execution_count": null,
      "outputs": [
        {
          "output_type": "stream",
          "name": "stdout",
          "text": [
            "  % Total    % Received % Xferd  Average Speed   Time    Time     Time  Current\n",
            "                                 Dload  Upload   Total   Spent    Left  Speed\n",
            "100   152  100   152    0     0   1345      0 --:--:-- --:--:-- --:--:--  1345\n",
            "100   148    0   148    0     0    360      0 --:--:-- --:--:-- --:--:--     0\n",
            "100   318  100   318    0     0    476      0 --:--:-- --:--:-- --:--:--   476\n",
            "100 14.0M  100 14.0M    0     0  4575k      0  0:00:03  0:00:03 --:--:-- 9076k\n",
            "  % Total    % Received % Xferd  Average Speed   Time    Time     Time  Current\n",
            "                                 Dload  Upload   Total   Spent    Left  Speed\n",
            "100   151  100   151    0     0   1360      0 --:--:-- --:--:-- --:--:--  1348\n",
            "100   147    0   147    0     0    379      0 --:--:-- --:--:-- --:--:--   379\n",
            "100   318  100   318    0     0    511      0 --:--:-- --:--:-- --:--:--   511\n",
            "100 4827k  100 4827k    0     0  1862k      0  0:00:02  0:00:02 --:--:-- 3503k\n"
          ]
        }
      ]
    },
    {
      "cell_type": "code",
      "metadata": {
        "id": "yUHPI7zrhcQ-"
      },
      "source": [
        "# 데이터 로드\n",
        "df_train = pd.read_csv('ratings_train.txt', delimiter='\\t', keep_default_na=False)\n",
        "df_test = pd.read_csv('ratings_test.txt', delimiter='\\t', keep_default_na=False)\n"
      ],
      "execution_count": null,
      "outputs": []
    },
    {
      "cell_type": "code",
      "metadata": {
        "id": "aTYJbZvmheI1",
        "colab": {
          "base_uri": "https://localhost:8080/",
          "height": 203
        },
        "outputId": "7dfa8d51-15ee-475b-e4f8-4e42bb60aa30"
      },
      "source": [
        "df_train[:5]"
      ],
      "execution_count": null,
      "outputs": [
        {
          "output_type": "execute_result",
          "data": {
            "text/html": [
              "<div>\n",
              "<style scoped>\n",
              "    .dataframe tbody tr th:only-of-type {\n",
              "        vertical-align: middle;\n",
              "    }\n",
              "\n",
              "    .dataframe tbody tr th {\n",
              "        vertical-align: top;\n",
              "    }\n",
              "\n",
              "    .dataframe thead th {\n",
              "        text-align: right;\n",
              "    }\n",
              "</style>\n",
              "<table border=\"1\" class=\"dataframe\">\n",
              "  <thead>\n",
              "    <tr style=\"text-align: right;\">\n",
              "      <th></th>\n",
              "      <th>id</th>\n",
              "      <th>document</th>\n",
              "      <th>label</th>\n",
              "    </tr>\n",
              "  </thead>\n",
              "  <tbody>\n",
              "    <tr>\n",
              "      <th>0</th>\n",
              "      <td>9976970</td>\n",
              "      <td>아 더빙.. 진짜 짜증나네요 목소리</td>\n",
              "      <td>0</td>\n",
              "    </tr>\n",
              "    <tr>\n",
              "      <th>1</th>\n",
              "      <td>3819312</td>\n",
              "      <td>흠...포스터보고 초딩영화줄....오버연기조차 가볍지 않구나</td>\n",
              "      <td>1</td>\n",
              "    </tr>\n",
              "    <tr>\n",
              "      <th>2</th>\n",
              "      <td>10265843</td>\n",
              "      <td>너무재밓었다그래서보는것을추천한다</td>\n",
              "      <td>0</td>\n",
              "    </tr>\n",
              "    <tr>\n",
              "      <th>3</th>\n",
              "      <td>9045019</td>\n",
              "      <td>교도소 이야기구먼 ..솔직히 재미는 없다..평점 조정</td>\n",
              "      <td>0</td>\n",
              "    </tr>\n",
              "    <tr>\n",
              "      <th>4</th>\n",
              "      <td>6483659</td>\n",
              "      <td>사이몬페그의 익살스런 연기가 돋보였던 영화!스파이더맨에서 늙어보이기만 했던 커스틴 ...</td>\n",
              "      <td>1</td>\n",
              "    </tr>\n",
              "  </tbody>\n",
              "</table>\n",
              "</div>"
            ],
            "text/plain": [
              "         id                                           document  label\n",
              "0   9976970                                아 더빙.. 진짜 짜증나네요 목소리      0\n",
              "1   3819312                  흠...포스터보고 초딩영화줄....오버연기조차 가볍지 않구나      1\n",
              "2  10265843                                  너무재밓었다그래서보는것을추천한다      0\n",
              "3   9045019                      교도소 이야기구먼 ..솔직히 재미는 없다..평점 조정      0\n",
              "4   6483659  사이몬페그의 익살스런 연기가 돋보였던 영화!스파이더맨에서 늙어보이기만 했던 커스틴 ...      1"
            ]
          },
          "metadata": {},
          "execution_count": 15
        }
      ]
    },
    {
      "cell_type": "code",
      "metadata": {
        "colab": {
          "base_uri": "https://localhost:8080/",
          "height": 203
        },
        "id": "F49W1A3WA1o9",
        "outputId": "e8ad1565-34eb-484d-8ef4-a90d17b59b89"
      },
      "source": [
        "df_test[:5]"
      ],
      "execution_count": null,
      "outputs": [
        {
          "output_type": "execute_result",
          "data": {
            "text/html": [
              "<div>\n",
              "<style scoped>\n",
              "    .dataframe tbody tr th:only-of-type {\n",
              "        vertical-align: middle;\n",
              "    }\n",
              "\n",
              "    .dataframe tbody tr th {\n",
              "        vertical-align: top;\n",
              "    }\n",
              "\n",
              "    .dataframe thead th {\n",
              "        text-align: right;\n",
              "    }\n",
              "</style>\n",
              "<table border=\"1\" class=\"dataframe\">\n",
              "  <thead>\n",
              "    <tr style=\"text-align: right;\">\n",
              "      <th></th>\n",
              "      <th>id</th>\n",
              "      <th>document</th>\n",
              "      <th>label</th>\n",
              "    </tr>\n",
              "  </thead>\n",
              "  <tbody>\n",
              "    <tr>\n",
              "      <th>0</th>\n",
              "      <td>6270596</td>\n",
              "      <td>굳 ㅋ</td>\n",
              "      <td>1</td>\n",
              "    </tr>\n",
              "    <tr>\n",
              "      <th>1</th>\n",
              "      <td>9274899</td>\n",
              "      <td>GDNTOPCLASSINTHECLUB</td>\n",
              "      <td>0</td>\n",
              "    </tr>\n",
              "    <tr>\n",
              "      <th>2</th>\n",
              "      <td>8544678</td>\n",
              "      <td>뭐야 이 평점들은.... 나쁘진 않지만 10점 짜리는 더더욱 아니잖아</td>\n",
              "      <td>0</td>\n",
              "    </tr>\n",
              "    <tr>\n",
              "      <th>3</th>\n",
              "      <td>6825595</td>\n",
              "      <td>지루하지는 않은데 완전 막장임... 돈주고 보기에는....</td>\n",
              "      <td>0</td>\n",
              "    </tr>\n",
              "    <tr>\n",
              "      <th>4</th>\n",
              "      <td>6723715</td>\n",
              "      <td>3D만 아니었어도 별 다섯 개 줬을텐데.. 왜 3D로 나와서 제 심기를 불편하게 하죠??</td>\n",
              "      <td>0</td>\n",
              "    </tr>\n",
              "  </tbody>\n",
              "</table>\n",
              "</div>"
            ],
            "text/plain": [
              "        id                                           document  label\n",
              "0  6270596                                                굳 ㅋ      1\n",
              "1  9274899                               GDNTOPCLASSINTHECLUB      0\n",
              "2  8544678             뭐야 이 평점들은.... 나쁘진 않지만 10점 짜리는 더더욱 아니잖아      0\n",
              "3  6825595                   지루하지는 않은데 완전 막장임... 돈주고 보기에는....      0\n",
              "4  6723715  3D만 아니었어도 별 다섯 개 줬을텐데.. 왜 3D로 나와서 제 심기를 불편하게 하죠??      0"
            ]
          },
          "metadata": {},
          "execution_count": 16
        }
      ]
    },
    {
      "cell_type": "code",
      "metadata": {
        "id": "UKrYF8xLqkSq",
        "colab": {
          "base_uri": "https://localhost:8080/"
        },
        "outputId": "e6d8a62c-099a-47e1-ab62-137a52b7c38d"
      },
      "source": [
        "df_train['document'].values == df_train['document'].to_numpy()"
      ],
      "execution_count": null,
      "outputs": [
        {
          "output_type": "execute_result",
          "data": {
            "text/plain": [
              "array([ True,  True,  True, ...,  True,  True,  True])"
            ]
          },
          "metadata": {},
          "execution_count": 17
        }
      ]
    },
    {
      "cell_type": "code",
      "metadata": {
        "id": "vXK-nf2zbPFf"
      },
      "source": [
        "text_train, y_train = df_train['document'].to_numpy(), df_train['label'].to_numpy()\n",
        "text_test, y_test = df_test['document'].to_numpy(), df_test['label'].to_numpy()"
      ],
      "execution_count": null,
      "outputs": []
    },
    {
      "cell_type": "code",
      "metadata": {
        "colab": {
          "base_uri": "https://localhost:8080/"
        },
        "id": "r3DQGNzQPvDT",
        "outputId": "a53dee8d-899f-4312-a537-b4cd990dea18"
      },
      "source": [
        "text_train.shape, y_train.shape, text_test.shape, y_test.shape"
      ],
      "execution_count": null,
      "outputs": [
        {
          "output_type": "execute_result",
          "data": {
            "text/plain": [
              "((150000,), (150000,), (50000,), (50000,))"
            ]
          },
          "metadata": {},
          "execution_count": 19
        }
      ]
    },
    {
      "cell_type": "code",
      "metadata": {
        "id": "8DFLqtiMQPqS"
      },
      "source": [
        "# too much... -> let's take few of them\n",
        "text_train, y_train = text_train[:2000], y_train[:2000]\n",
        "text_test, y_test = text_test[:1000], y_test[:1000]"
      ],
      "execution_count": null,
      "outputs": []
    },
    {
      "cell_type": "code",
      "metadata": {
        "colab": {
          "base_uri": "https://localhost:8080/"
        },
        "id": "5rpWKybsuFXX",
        "outputId": "8f7af7a2-fd28-46ac-8c93-c8f013272546"
      },
      "source": [
        "y_train.shape, y_test.shape"
      ],
      "execution_count": null,
      "outputs": [
        {
          "output_type": "execute_result",
          "data": {
            "text/plain": [
              "((2000,), (1000,))"
            ]
          },
          "metadata": {},
          "execution_count": 21
        }
      ]
    },
    {
      "cell_type": "code",
      "metadata": {
        "colab": {
          "base_uri": "https://localhost:8080/"
        },
        "id": "Gmv2-UsduKM_",
        "outputId": "d57ed791-5834-432e-beaa-cad62f7099d4"
      },
      "source": [
        "y_train.mean(), y_test.mean()    # check distribution of classes 1 and 0"
      ],
      "execution_count": null,
      "outputs": [
        {
          "output_type": "execute_result",
          "data": {
            "text/plain": [
              "(0.4945, 0.508)"
            ]
          },
          "metadata": {},
          "execution_count": 22
        }
      ]
    },
    {
      "cell_type": "code",
      "metadata": {
        "id": "mV7O1GW9uXJN",
        "colab": {
          "base_uri": "https://localhost:8080/"
        },
        "outputId": "52ed2f6a-ee97-4fe1-b854-b431db5d8592"
      },
      "source": [
        "cv = TfidfVectorizer(tokenizer=twitter_tokenizer, max_features=3000)\n",
        "X_train = cv.fit_transform(text_train)\n",
        "X_test = cv.transform(text_test)"
      ],
      "execution_count": null,
      "outputs": [
        {
          "output_type": "stream",
          "name": "stderr",
          "text": [
            "/usr/local/lib/python3.7/dist-packages/konlpy/tag/_okt.py:16: UserWarning: \"Twitter\" has changed to \"Okt\" since KoNLPy v0.4.5.\n",
            "  warn('\"Twitter\" has changed to \"Okt\" since KoNLPy v0.4.5.')\n",
            "/usr/local/lib/python3.7/dist-packages/konlpy/tag/_okt.py:16: UserWarning: \"Twitter\" has changed to \"Okt\" since KoNLPy v0.4.5.\n",
            "  warn('\"Twitter\" has changed to \"Okt\" since KoNLPy v0.4.5.')\n"
          ]
        }
      ]
    },
    {
      "cell_type": "code",
      "metadata": {
        "id": "OQa7k9WDnvMC",
        "colab": {
          "base_uri": "https://localhost:8080/"
        },
        "outputId": "614aca3b-f2fa-4212-cd13-b922ed9d0873"
      },
      "source": [
        "X_train.shape, y_train.shape, X_test.shape, y_test.shape"
      ],
      "execution_count": null,
      "outputs": [
        {
          "output_type": "execute_result",
          "data": {
            "text/plain": [
              "((2000, 3000), (2000,), (1000, 3000), (1000,))"
            ]
          },
          "metadata": {},
          "execution_count": 24
        }
      ]
    },
    {
      "cell_type": "code",
      "metadata": {
        "id": "ZNtFJNw_xMIE",
        "colab": {
          "base_uri": "https://localhost:8080/"
        },
        "outputId": "0e4aca9a-c5df-488f-8185-17ec8343c565"
      },
      "source": [
        "cv.get_feature_names()[-5:]"
      ],
      "execution_count": null,
      "outputs": [
        {
          "output_type": "execute_result",
          "data": {
            "text/plain": [
              "['힘들건데', '힘들게', '힘들다', '힘들었네요', '힘들었음']"
            ]
          },
          "metadata": {},
          "execution_count": 25
        }
      ]
    },
    {
      "cell_type": "markdown",
      "metadata": {
        "id": "GuZAXYBCuspQ"
      },
      "source": [
        "# Linear Classification"
      ]
    },
    {
      "cell_type": "code",
      "metadata": {
        "colab": {
          "base_uri": "https://localhost:8080/"
        },
        "id": "T80YGTWQuvg3",
        "outputId": "a43fd36b-a837-436e-c15b-46289a4ba764"
      },
      "source": [
        "from sklearn.linear_model import SGDClassifier\n",
        "clf = SGDClassifier()\n",
        "result = clf.fit(X_train,y_train)\n",
        "feature_names = cv.get_feature_names()\n",
        "print(\"Training : \", result.score(X_train, y_train))\n",
        "print(\"Testing : \", result.score(X_test, y_test))"
      ],
      "execution_count": null,
      "outputs": [
        {
          "output_type": "stream",
          "name": "stdout",
          "text": [
            "Training :  0.985\n",
            "Testing :  0.739\n"
          ]
        }
      ]
    },
    {
      "cell_type": "markdown",
      "metadata": {
        "id": "1xCm3OMurqM2"
      },
      "source": [
        "# 로지스틱 회귀"
      ]
    },
    {
      "cell_type": "code",
      "metadata": {
        "id": "z2nXu2qirWn-",
        "colab": {
          "base_uri": "https://localhost:8080/"
        },
        "outputId": "760ab785-96b1-4270-fd3d-e336bd6f1f7e"
      },
      "source": [
        "from sklearn.linear_model import LogisticRegression\n",
        "lr = LogisticRegression()\n",
        "result = lr.fit(X_train,y_train)\n",
        "feature_names = cv.get_feature_names()\n",
        "print(\"Training : \", result.score(X_train, y_train))\n",
        "print(\"Testing : \", result.score(X_test, y_test))"
      ],
      "execution_count": null,
      "outputs": [
        {
          "output_type": "stream",
          "name": "stdout",
          "text": [
            "Training :  0.916\n",
            "Testing :  0.771\n"
          ]
        }
      ]
    },
    {
      "cell_type": "markdown",
      "metadata": {
        "id": "FVjDfOWKrnGG"
      },
      "source": [
        "# MLP"
      ]
    },
    {
      "cell_type": "code",
      "metadata": {
        "id": "qcOzFAiRIz3t",
        "colab": {
          "base_uri": "https://localhost:8080/"
        },
        "outputId": "f8b5d72a-5aa7-4f78-f02b-98767c2a5e04"
      },
      "source": [
        "# use one-hot encoded target\n",
        "from tensorflow.keras.utils import to_categorical\n",
        "y_train_ohe = to_categorical(y_train)\n",
        "y_test_ohe = to_categorical(y_test)\n",
        "max_words = X_train.shape[1]\n",
        "batch_size = 100\n",
        "nb_epoch = 5\n",
        "\n",
        "model = Sequential()\n",
        "model.add(Dense(64, input_shape=(max_words,), activation=\"relu\"))\n",
        "model.add(Dropout(0.2))\n",
        "model.add(Dense(64, activation=\"relu\"))\n",
        "model.add(Dropout(0.2))\n",
        "model.add(Dense(2, activation='softmax'))\n",
        "model.compile(loss='categorical_crossentropy', optimizer='adam',\n",
        "              metrics=['accuracy'])\n",
        "\n",
        "model.fit(X_train.toarray(), y_train_ohe, epochs=nb_epoch, \n",
        "          batch_size=batch_size) \n",
        "print(\"Training : \", model.evaluate(X_train.toarray(), y_train_ohe))\n",
        "print(\"Testing : \", model.evaluate(X_test.toarray(), y_test_ohe))"
      ],
      "execution_count": null,
      "outputs": [
        {
          "output_type": "stream",
          "name": "stdout",
          "text": [
            "Epoch 1/5\n",
            "20/20 [==============================] - 3s 4ms/step - loss: 0.6917 - accuracy: 0.5410\n",
            "Epoch 2/5\n",
            "20/20 [==============================] - 0s 4ms/step - loss: 0.6694 - accuracy: 0.7450\n",
            "Epoch 3/5\n",
            "20/20 [==============================] - 0s 4ms/step - loss: 0.5885 - accuracy: 0.8615\n",
            "Epoch 4/5\n",
            "20/20 [==============================] - 0s 4ms/step - loss: 0.4187 - accuracy: 0.8885\n",
            "Epoch 5/5\n",
            "20/20 [==============================] - 0s 4ms/step - loss: 0.2461 - accuracy: 0.9280\n",
            "63/63 [==============================] - 0s 3ms/step - loss: 0.1596 - accuracy: 0.9595\n",
            "Training :  [0.15957583487033844, 0.9595000147819519]\n",
            "32/32 [==============================] - 0s 3ms/step - loss: 0.4986 - accuracy: 0.7540\n",
            "Testing :  [0.4986066520214081, 0.7540000081062317]\n"
          ]
        }
      ]
    },
    {
      "cell_type": "code",
      "metadata": {
        "colab": {
          "base_uri": "https://localhost:8080/"
        },
        "id": "vkSVmHKIWpSA",
        "outputId": "8b1d34b5-0018-4f63-d5e5-079b214dcf9d"
      },
      "source": [
        "# use binary target\n",
        "\n",
        "max_words = X_train.shape[1]\n",
        "batch_size = 100\n",
        "nb_epoch = 5\n",
        "\n",
        "model = Sequential()\n",
        "model.add(Dense(64, input_shape=(max_words,)))\n",
        "model.add(Activation('relu'))\n",
        "model.add(Dropout(0.2))\n",
        "model.add(Dense(64, activation=\"relu\"))\n",
        "model.add(Dropout(0.2))\n",
        "model.add(Dense(1, activation='sigmoid'))\n",
        "model.compile(loss='binary_crossentropy', optimizer='adam',\n",
        "              metrics=['accuracy'])\n",
        "\n",
        "model.fit(X_train.toarray(), y_train, epochs=nb_epoch, \n",
        "          batch_size=batch_size) \n",
        "print(\"Training : \", model.evaluate(X_train.toarray(), y_train))\n",
        "print(\"Testing : \", model.evaluate(X_test.toarray(), y_test))"
      ],
      "execution_count": null,
      "outputs": [
        {
          "output_type": "stream",
          "name": "stdout",
          "text": [
            "Epoch 1/5\n",
            "20/20 [==============================] - 1s 3ms/step - loss: 0.6910 - accuracy: 0.5560\n",
            "Epoch 2/5\n",
            "20/20 [==============================] - 0s 3ms/step - loss: 0.6697 - accuracy: 0.7800\n",
            "Epoch 3/5\n",
            "20/20 [==============================] - 0s 4ms/step - loss: 0.5963 - accuracy: 0.8635\n",
            "Epoch 4/5\n",
            "20/20 [==============================] - 0s 3ms/step - loss: 0.4505 - accuracy: 0.8945\n",
            "Epoch 5/5\n",
            "20/20 [==============================] - 0s 3ms/step - loss: 0.2864 - accuracy: 0.9310\n",
            "63/63 [==============================] - 1s 3ms/step - loss: 0.2006 - accuracy: 0.9540\n",
            "Training :  [0.20061413943767548, 0.9539999961853027]\n",
            "32/32 [==============================] - 0s 3ms/step - loss: 0.4924 - accuracy: 0.7530\n",
            "Testing :  [0.4923769235610962, 0.753000020980835]\n"
          ]
        }
      ]
    },
    {
      "cell_type": "markdown",
      "metadata": {
        "id": "HPxkhfIbrj3s"
      },
      "source": [
        "# RNN"
      ]
    },
    {
      "cell_type": "code",
      "metadata": {
        "id": "FO0oSWc6uuqZ",
        "colab": {
          "base_uri": "https://localhost:8080/"
        },
        "outputId": "c4f28b07-f9ee-44c0-d19b-616490c4e6e4"
      },
      "source": [
        "# just for checking\n",
        "X_train.A[0] == X_train.toarray()[0]"
      ],
      "execution_count": null,
      "outputs": [
        {
          "output_type": "execute_result",
          "data": {
            "text/plain": [
              "array([ True,  True,  True, ...,  True,  True,  True])"
            ]
          },
          "metadata": {},
          "execution_count": 30
        }
      ]
    },
    {
      "cell_type": "code",
      "metadata": {
        "colab": {
          "base_uri": "https://localhost:8080/"
        },
        "id": "XrnHPa9-ZjMv",
        "outputId": "7c370d4b-570a-4615-db3b-a03d1b6e3009"
      },
      "source": [
        "X_train.shape, X_test.shape, y_train.shape, y_test.shape"
      ],
      "execution_count": null,
      "outputs": [
        {
          "output_type": "execute_result",
          "data": {
            "text/plain": [
              "((2000, 3000), (1000, 3000), (2000,), (1000,))"
            ]
          },
          "metadata": {},
          "execution_count": 31
        }
      ]
    },
    {
      "cell_type": "code",
      "metadata": {
        "id": "6CniODJt9RSV",
        "colab": {
          "base_uri": "https://localhost:8080/"
        },
        "outputId": "144763f8-782e-46b5-bdcc-2a30d1d41c54"
      },
      "source": [
        "# RNN 학습을 위한 데이터 재배열\n",
        "X_train_rnn = X_train.A.reshape((X_train.shape[0], 1, X_train.shape[1]))\n",
        "X_test_rnn = X_test.A.reshape((X_test.shape[0], 1, X_test.shape[1]))\n",
        "\n",
        "print(X_train_rnn.shape, X_test_rnn.shape)"
      ],
      "execution_count": null,
      "outputs": [
        {
          "output_type": "stream",
          "name": "stdout",
          "text": [
            "(2000, 1, 3000) (1000, 1, 3000)\n"
          ]
        }
      ]
    },
    {
      "cell_type": "code",
      "metadata": {
        "id": "RcczPT0RnZBj"
      },
      "source": [
        "from tensorflow.keras.models import Sequential\n",
        "from tensorflow.keras.layers import SimpleRNN, Dense\n",
        "\n",
        "model = Sequential()\n",
        "model.add(SimpleRNN(128, \n",
        "                    input_shape=(X_train_rnn.shape[1], X_train_rnn.shape[2]), \n",
        "                    return_sequences=True))\n",
        "# return_sequences: return the last output in the output sequence, or the full sequence\n",
        "# By this, it is possible to access the hidden state output for each input time step.\n",
        "model.add(Activation('relu'))\n",
        "model.add(Dropout(0.2))\n",
        "model.add(SimpleRNN(128))\n",
        "model.add(Activation('relu'))\n",
        "model.add(Dropout(0.2))\n",
        "model.add(Dense(2, activation=\"softmax\"))\n",
        "model.compile(loss='categorical_crossentropy', \n",
        "              optimizer='adam', metrics=['accuracy'])   "
      ],
      "execution_count": null,
      "outputs": []
    },
    {
      "cell_type": "code",
      "metadata": {
        "id": "khpbDJzeviTx",
        "colab": {
          "base_uri": "https://localhost:8080/"
        },
        "outputId": "563850e5-7769-4944-e98b-85aaff7989a3"
      },
      "source": [
        "model.summary()"
      ],
      "execution_count": null,
      "outputs": [
        {
          "output_type": "stream",
          "name": "stdout",
          "text": [
            "Model: \"sequential_2\"\n",
            "_________________________________________________________________\n",
            "Layer (type)                 Output Shape              Param #   \n",
            "=================================================================\n",
            "simple_rnn (SimpleRNN)       (None, 1, 128)            400512    \n",
            "_________________________________________________________________\n",
            "activation_1 (Activation)    (None, 1, 128)            0         \n",
            "_________________________________________________________________\n",
            "dropout_4 (Dropout)          (None, 1, 128)            0         \n",
            "_________________________________________________________________\n",
            "simple_rnn_1 (SimpleRNN)     (None, 128)               32896     \n",
            "_________________________________________________________________\n",
            "activation_2 (Activation)    (None, 128)               0         \n",
            "_________________________________________________________________\n",
            "dropout_5 (Dropout)          (None, 128)               0         \n",
            "_________________________________________________________________\n",
            "dense_6 (Dense)              (None, 2)                 258       \n",
            "=================================================================\n",
            "Total params: 433,666\n",
            "Trainable params: 433,666\n",
            "Non-trainable params: 0\n",
            "_________________________________________________________________\n"
          ]
        }
      ]
    },
    {
      "cell_type": "code",
      "metadata": {
        "id": "Xyg_34khnY-z",
        "colab": {
          "base_uri": "https://localhost:8080/"
        },
        "outputId": "92ef240c-1925-4a7b-db4f-9ca5711d2cf0"
      },
      "source": [
        "model.fit(X_train_rnn, y_train_ohe, batch_size = 100,\n",
        "          epochs=nb_epoch)"
      ],
      "execution_count": null,
      "outputs": [
        {
          "output_type": "stream",
          "name": "stdout",
          "text": [
            "Epoch 1/5\n",
            "20/20 [==============================] - 2s 24ms/step - loss: 0.6887 - accuracy: 0.5465\n",
            "Epoch 2/5\n",
            "20/20 [==============================] - 0s 6ms/step - loss: 0.6325 - accuracy: 0.7965\n",
            "Epoch 3/5\n",
            "20/20 [==============================] - 0s 6ms/step - loss: 0.4334 - accuracy: 0.8890\n",
            "Epoch 4/5\n",
            "20/20 [==============================] - 0s 6ms/step - loss: 0.2157 - accuracy: 0.9240\n",
            "Epoch 5/5\n",
            "20/20 [==============================] - 0s 7ms/step - loss: 0.1026 - accuracy: 0.9690\n"
          ]
        },
        {
          "output_type": "execute_result",
          "data": {
            "text/plain": [
              "<keras.callbacks.History at 0x7f174c21f3d0>"
            ]
          },
          "metadata": {},
          "execution_count": 35
        }
      ]
    },
    {
      "cell_type": "code",
      "metadata": {
        "id": "MVlbejnyAKvF",
        "colab": {
          "base_uri": "https://localhost:8080/"
        },
        "outputId": "e4eb9ad1-efae-45b2-e66c-69e50db0083f"
      },
      "source": [
        "y_pred = np.argmax(model.predict(X_test_rnn), axis=1)\n",
        "print(\"accuracy score: \", metrics.accuracy_score(y_test, y_pred))\n",
        "print(\"Training : \", model.evaluate(X_train_rnn, y_train_ohe))\n",
        "print(\"Testing : \", model.evaluate(X_test_rnn, y_test_ohe))"
      ],
      "execution_count": null,
      "outputs": [
        {
          "output_type": "stream",
          "name": "stdout",
          "text": [
            "accuracy score:  0.765\n",
            "63/63 [==============================] - 1s 4ms/step - loss: 0.0617 - accuracy: 0.9870\n",
            "Training :  [0.061724983155727386, 0.9869999885559082]\n",
            "32/32 [==============================] - 0s 3ms/step - loss: 0.5956 - accuracy: 0.7650\n",
            "Testing :  [0.5956090688705444, 0.7649999856948853]\n"
          ]
        }
      ]
    },
    {
      "cell_type": "markdown",
      "metadata": {
        "id": "D932OfhL4tsv"
      },
      "source": [
        "# LSTM\n",
        "- https://colah.github.io/posts/2015-08-Understanding-LSTMs/"
      ]
    },
    {
      "cell_type": "code",
      "metadata": {
        "id": "1DMmgcPpnY7_"
      },
      "source": [
        "from keras.layers import LSTM\n",
        "model = Sequential()\n",
        "model.add(LSTM(128, \n",
        "               input_shape=(X_train_rnn.shape[1], X_train_rnn.shape[2]), \n",
        "               return_sequences=True))\n",
        "model.add(Activation('relu'))\n",
        "model.add(Dropout(0.2))\n",
        "model.add(LSTM(128))\n",
        "model.add(Activation('relu'))\n",
        "model.add(Dropout(0.2))\n",
        "model.add(Dense(2, activation='softmax'))\n",
        "model.compile(loss='categorical_crossentropy', optimizer='adam', metrics=['accuracy'])"
      ],
      "execution_count": null,
      "outputs": []
    },
    {
      "cell_type": "code",
      "metadata": {
        "id": "1_lAhezqnY1b",
        "colab": {
          "base_uri": "https://localhost:8080/"
        },
        "outputId": "a5bab216-a548-4329-8fdd-cc6a9f5b8828"
      },
      "source": [
        "model.fit(X_train_rnn, y_train_ohe, batch_size = 100,\n",
        "          epochs=nb_epoch)"
      ],
      "execution_count": null,
      "outputs": [
        {
          "output_type": "stream",
          "name": "stdout",
          "text": [
            "Epoch 1/5\n",
            "20/20 [==============================] - 6s 10ms/step - loss: 0.6931 - accuracy: 0.5375\n",
            "Epoch 2/5\n",
            "20/20 [==============================] - 0s 10ms/step - loss: 0.6903 - accuracy: 0.8005\n",
            "Epoch 3/5\n",
            "20/20 [==============================] - 0s 10ms/step - loss: 0.6703 - accuracy: 0.8725\n",
            "Epoch 4/5\n",
            "20/20 [==============================] - 0s 10ms/step - loss: 0.5868 - accuracy: 0.8930\n",
            "Epoch 5/5\n",
            "20/20 [==============================] - 0s 10ms/step - loss: 0.4041 - accuracy: 0.9105\n"
          ]
        },
        {
          "output_type": "execute_result",
          "data": {
            "text/plain": [
              "<keras.callbacks.History at 0x7f174c60d350>"
            ]
          },
          "metadata": {},
          "execution_count": 38
        }
      ]
    },
    {
      "cell_type": "code",
      "metadata": {
        "id": "NuF_snQCnYym",
        "colab": {
          "base_uri": "https://localhost:8080/"
        },
        "outputId": "fdad3a80-3bf5-4036-e815-ca6db05d4f32"
      },
      "source": [
        "y_pred = np.argmax(model.predict(X_test_rnn), axis=1)\n",
        "print(\"accuracy score: \", metrics.accuracy_score(y_test, y_pred))\n",
        "print(\"Training : \", model.evaluate(X_train_rnn, y_train_ohe))\n",
        "print(\"Testing : \", model.evaluate(X_test_rnn, y_test_ohe))"
      ],
      "execution_count": null,
      "outputs": [
        {
          "output_type": "stream",
          "name": "stdout",
          "text": [
            "accuracy score:  0.774\n",
            "63/63 [==============================] - 1s 5ms/step - loss: 0.2751 - accuracy: 0.9315\n",
            "Training :  [0.27514004707336426, 0.9315000176429749]\n",
            "32/32 [==============================] - 0s 5ms/step - loss: 0.4868 - accuracy: 0.7740\n",
            "Testing :  [0.4867841601371765, 0.7739999890327454]\n"
          ]
        }
      ]
    },
    {
      "cell_type": "markdown",
      "metadata": {
        "id": "m31cOdUC46HW"
      },
      "source": [
        "# GRU"
      ]
    },
    {
      "cell_type": "code",
      "metadata": {
        "id": "E4ny8IcNQvQX"
      },
      "source": [
        "from keras.layers import GRU\n",
        "model = Sequential()\n",
        "model.add(GRU(128, input_shape=(X_train_rnn.shape[1], X_train_rnn.shape[2]), return_sequences=True))\n",
        "model.add(Activation('relu'))\n",
        "model.add(Dropout(0.2))\n",
        "model.add(GRU(128))\n",
        "model.add(Activation('relu'))\n",
        "model.add(Dropout(0.2))\n",
        "model.add(Dense(2, activation='softmax'))\n",
        "model.compile(loss='categorical_crossentropy', optimizer='adam', metrics=['accuracy'])"
      ],
      "execution_count": null,
      "outputs": []
    },
    {
      "cell_type": "code",
      "metadata": {
        "id": "36JZepib5BUG",
        "colab": {
          "base_uri": "https://localhost:8080/"
        },
        "outputId": "8057529b-c7b2-4f51-a465-ef3d4f7c2246"
      },
      "source": [
        "model.fit(X_train_rnn, y_train_ohe, batch_size = 100,\n",
        "          epochs=nb_epoch)"
      ],
      "execution_count": null,
      "outputs": [
        {
          "output_type": "stream",
          "name": "stdout",
          "text": [
            "Epoch 1/5\n",
            "20/20 [==============================] - 4s 10ms/step - loss: 0.6921 - accuracy: 0.5170\n",
            "Epoch 2/5\n",
            "20/20 [==============================] - 0s 10ms/step - loss: 0.6716 - accuracy: 0.7150\n",
            "Epoch 3/5\n",
            "20/20 [==============================] - 0s 10ms/step - loss: 0.5628 - accuracy: 0.8495\n",
            "Epoch 4/5\n",
            "20/20 [==============================] - 0s 11ms/step - loss: 0.3357 - accuracy: 0.9130\n",
            "Epoch 5/5\n",
            "20/20 [==============================] - 0s 10ms/step - loss: 0.1801 - accuracy: 0.9390\n"
          ]
        },
        {
          "output_type": "execute_result",
          "data": {
            "text/plain": [
              "<keras.callbacks.History at 0x7f1749542e10>"
            ]
          },
          "metadata": {},
          "execution_count": 41
        }
      ]
    },
    {
      "cell_type": "code",
      "metadata": {
        "id": "4DDCYicE5i11",
        "colab": {
          "base_uri": "https://localhost:8080/"
        },
        "outputId": "1a3881c8-c846-4d7b-d065-55d28600afc3"
      },
      "source": [
        "y_pred = np.argmax(model.predict(X_test_rnn), axis=1)\n",
        "print(\"accuracy score: \", metrics.accuracy_score(y_test, y_pred))\n",
        "print(\"Training : \", model.evaluate(X_train_rnn, y_train_ohe))\n",
        "print(\"Testing : \", model.evaluate(X_test_rnn, y_test_ohe))"
      ],
      "execution_count": null,
      "outputs": [
        {
          "output_type": "stream",
          "name": "stdout",
          "text": [
            "accuracy score:  0.766\n",
            "63/63 [==============================] - 1s 5ms/step - loss: 0.1123 - accuracy: 0.9670\n",
            "Training :  [0.11229105293750763, 0.9670000076293945]\n",
            "32/32 [==============================] - 0s 5ms/step - loss: 0.5520 - accuracy: 0.7660\n",
            "Testing :  [0.552036702632904, 0.765999972820282]\n"
          ]
        }
      ]
    },
    {
      "cell_type": "markdown",
      "metadata": {
        "id": "f3aEgdk_ERG7"
      },
      "source": [
        "# Exercise"
      ]
    },
    {
      "cell_type": "markdown",
      "metadata": {
        "id": "2tlsGoCFEckK"
      },
      "source": [
        "### 한국어 불용어 처리\n",
        "- 한국어  불용어 확인은 형태소 분석 라이브러리인 KonLPy 를 이용하면 됨.\n",
        "- (예) 한국어 품사 중 조사를 추출하는 예\n",
        "- pos (part-of-speech): 품사 (명사, 동사, ...)"
      ]
    },
    {
      "cell_type": "code",
      "metadata": {
        "id": "dClfCoqdEVWr"
      },
      "source": [
        "from konlpy.tag import Twitter"
      ],
      "execution_count": null,
      "outputs": []
    },
    {
      "cell_type": "code",
      "metadata": {
        "colab": {
          "base_uri": "https://localhost:8080/"
        },
        "id": "-yeIxkT_EgLL",
        "outputId": "b5bebc22-8d88-441d-9277-db75cf2a5929"
      },
      "source": [
        "Twitter().morphs(\"텍스트 데이터를 이용해서 불용어 사전을 구축하기 위한 간단 예제\")"
      ],
      "execution_count": null,
      "outputs": [
        {
          "output_type": "stream",
          "name": "stderr",
          "text": [
            "/usr/local/lib/python3.7/dist-packages/konlpy/tag/_okt.py:16: UserWarning: \"Twitter\" has changed to \"Okt\" since KoNLPy v0.4.5.\n",
            "  warn('\"Twitter\" has changed to \"Okt\" since KoNLPy v0.4.5.')\n"
          ]
        },
        {
          "output_type": "execute_result",
          "data": {
            "text/plain": [
              "['텍스트',\n",
              " '데이터',\n",
              " '를',\n",
              " '이용',\n",
              " '해서',\n",
              " '불',\n",
              " '용어',\n",
              " '사전',\n",
              " '을',\n",
              " '구축',\n",
              " '하기',\n",
              " '위',\n",
              " '한',\n",
              " '간단',\n",
              " '예제']"
            ]
          },
          "metadata": {},
          "execution_count": 44
        }
      ]
    },
    {
      "cell_type": "code",
      "metadata": {
        "colab": {
          "base_uri": "https://localhost:8080/"
        },
        "id": "18atX5HKExzq",
        "outputId": "ed3f7a2c-6c21-4550-ec33-793af8104c99"
      },
      "source": [
        "Twitter().pos(\"텍스트 데이터를 이용해서 불용어 사잔을 구축하기 위한 간단 예제\")"
      ],
      "execution_count": null,
      "outputs": [
        {
          "output_type": "stream",
          "name": "stderr",
          "text": [
            "/usr/local/lib/python3.7/dist-packages/konlpy/tag/_okt.py:16: UserWarning: \"Twitter\" has changed to \"Okt\" since KoNLPy v0.4.5.\n",
            "  warn('\"Twitter\" has changed to \"Okt\" since KoNLPy v0.4.5.')\n"
          ]
        },
        {
          "output_type": "execute_result",
          "data": {
            "text/plain": [
              "[('텍스트', 'Noun'),\n",
              " ('데이터', 'Noun'),\n",
              " ('를', 'Josa'),\n",
              " ('이용', 'Noun'),\n",
              " ('해서', 'Verb'),\n",
              " ('불', 'Noun'),\n",
              " ('용어', 'Noun'),\n",
              " ('사잔', 'Noun'),\n",
              " ('을', 'Josa'),\n",
              " ('구축', 'Noun'),\n",
              " ('하기', 'Verb'),\n",
              " ('위', 'Noun'),\n",
              " ('한', 'Josa'),\n",
              " ('간단', 'Noun'),\n",
              " ('예제', 'Noun')]"
            ]
          },
          "metadata": {},
          "execution_count": 45
        }
      ]
    },
    {
      "cell_type": "code",
      "metadata": {
        "colab": {
          "base_uri": "https://localhost:8080/"
        },
        "id": "MvUaoyprE13a",
        "outputId": "049eda61-f2c7-42fe-ca0b-e90735fd811e"
      },
      "source": [
        "Twitter().pos(\"텍스트 데이터를 이용해서 불용어 사전을 구축하기 위한 간단 예제\", norm=True)   # norm - 오타 수정 (사잔->사전)"
      ],
      "execution_count": null,
      "outputs": [
        {
          "output_type": "stream",
          "name": "stderr",
          "text": [
            "/usr/local/lib/python3.7/dist-packages/konlpy/tag/_okt.py:16: UserWarning: \"Twitter\" has changed to \"Okt\" since KoNLPy v0.4.5.\n",
            "  warn('\"Twitter\" has changed to \"Okt\" since KoNLPy v0.4.5.')\n"
          ]
        },
        {
          "output_type": "execute_result",
          "data": {
            "text/plain": [
              "[('텍스트', 'Noun'),\n",
              " ('데이터', 'Noun'),\n",
              " ('를', 'Josa'),\n",
              " ('이용', 'Noun'),\n",
              " ('해서', 'Verb'),\n",
              " ('불', 'Noun'),\n",
              " ('용어', 'Noun'),\n",
              " ('사전', 'Noun'),\n",
              " ('을', 'Josa'),\n",
              " ('구축', 'Noun'),\n",
              " ('하기', 'Verb'),\n",
              " ('위', 'Noun'),\n",
              " ('한', 'Josa'),\n",
              " ('간단', 'Noun'),\n",
              " ('예제', 'Noun')]"
            ]
          },
          "metadata": {},
          "execution_count": 46
        }
      ]
    },
    {
      "cell_type": "code",
      "metadata": {
        "colab": {
          "base_uri": "https://localhost:8080/"
        },
        "id": "d1YtWTj3E5ix",
        "outputId": "3432a197-b98d-434b-a791-a7d31129f623"
      },
      "source": [
        "Twitter().nouns(\"텍스트 데이터를 이용해서 불용어 사전을 구축하기 위한 간단 예제\")"
      ],
      "execution_count": null,
      "outputs": [
        {
          "output_type": "stream",
          "name": "stderr",
          "text": [
            "/usr/local/lib/python3.7/dist-packages/konlpy/tag/_okt.py:16: UserWarning: \"Twitter\" has changed to \"Okt\" since KoNLPy v0.4.5.\n",
            "  warn('\"Twitter\" has changed to \"Okt\" since KoNLPy v0.4.5.')\n"
          ]
        },
        {
          "output_type": "execute_result",
          "data": {
            "text/plain": [
              "['텍스트', '데이터', '이용', '불', '용어', '사전', '구축', '위', '간단', '예제']"
            ]
          },
          "metadata": {},
          "execution_count": 47
        }
      ]
    },
    {
      "cell_type": "markdown",
      "metadata": {
        "id": "Cvu-QUmoE9oB"
      },
      "source": [
        "- norm: 오타수정, stem: 어근 찾기"
      ]
    },
    {
      "cell_type": "code",
      "metadata": {
        "colab": {
          "base_uri": "https://localhost:8080/"
        },
        "id": "fv4sweKpE-Rj",
        "outputId": "50bf763e-9189-4d10-dbc2-043ba2f106f1"
      },
      "source": [
        "from konlpy.tag import Twitter\n",
        "\n",
        "word_tags = Twitter().pos(\"텍스트 데이터를 이용해서 불용어 사전을 구축하기 위한 간단 예제\", norm=True, stem=True)\n",
        "print(word_tags)\n",
        "stop_words = [word[0] for word in word_tags if word[1]==\"Josa\"]\n",
        "print (stop_words)"
      ],
      "execution_count": null,
      "outputs": [
        {
          "output_type": "stream",
          "name": "stdout",
          "text": [
            "[('텍스트', 'Noun'), ('데이터', 'Noun'), ('를', 'Josa'), ('이용', 'Noun'), ('하다', 'Verb'), ('불', 'Noun'), ('용어', 'Noun'), ('사전', 'Noun'), ('을', 'Josa'), ('구축', 'Noun'), ('하다', 'Verb'), ('위', 'Noun'), ('한', 'Josa'), ('간단', 'Noun'), ('예제', 'Noun')]\n",
            "['를', '을', '한']\n"
          ]
        },
        {
          "output_type": "stream",
          "name": "stderr",
          "text": [
            "/usr/local/lib/python3.7/dist-packages/konlpy/tag/_okt.py:16: UserWarning: \"Twitter\" has changed to \"Okt\" since KoNLPy v0.4.5.\n",
            "  warn('\"Twitter\" has changed to \"Okt\" since KoNLPy v0.4.5.')\n"
          ]
        }
      ]
    },
    {
      "cell_type": "markdown",
      "metadata": {
        "id": "T3PYb_LlFKtz"
      },
      "source": [
        "### Pickling\n",
        "\n",
        "- “Pickling” is the process whereby a Python object hierarchy is converted into a byte stream, and “unpickling” is the inverse operation, whereby a byte stream (from a binary file or bytes-like object) is converted back into an object hierarchy.\n",
        "- Pickling (and unpickling) is alternatively known as “serialization”, “marshalling,” or “flattening”; however, to avoid confusion, the terms “pickling” and “unpickling” are being mostly used.\n",
        "- Comparison with json\n",
        "  - There are fundamental differences between the pickle protocols and JSON (JavaScript Object Notation):\n",
        "\n",
        "  - JSON is a text serialization format (it outputs unicode text, although most of the time it is then encoded to utf-8), while pickle is a binary serialization format;\n",
        "  - JSON is human-readable, while pickle is not;\n",
        "  - JSON is interoperable and widely used outside of the Python ecosystem, while pickle is Python-specific;\n",
        "  - JSON, by default, can only represent a subset of the Python built-in types, and no custom classes; pickle can represent an extremely large number of Python types (many of them automatically, by clever usage of Python’s introspection facilities; complex cases can be tackled by implementing specific object APIs);\n",
        "  - Unlike pickle, deserializing untrusted JSON does not in itself create an arbitrary code execution vulnerability."
      ]
    },
    {
      "cell_type": "code",
      "metadata": {
        "id": "XwJadYciFqL6"
      },
      "source": [
        "cv_ = TfidfVectorizer(tokenizer=twitter_tokenizer, max_features=3000)"
      ],
      "execution_count": null,
      "outputs": []
    },
    {
      "cell_type": "code",
      "metadata": {
        "colab": {
          "base_uri": "https://localhost:8080/"
        },
        "id": "n0yny8GjFjDa",
        "outputId": "b1c322d3-ccb3-41fb-c70a-9daf4c76c83d"
      },
      "source": [
        "import os\n",
        "import pickle\n",
        "if not os.path.isfile(\"X_data.pickle\"): \n",
        "    print('file does not exists')\n",
        "    X_data_pre = cv_.fit_transform(text_train)\n",
        "    pickle.dump(X_data_pre, open(\"X_data.pickle\", \"wb\"))"
      ],
      "execution_count": null,
      "outputs": [
        {
          "output_type": "stream",
          "name": "stdout",
          "text": [
            "file does not exists\n"
          ]
        },
        {
          "output_type": "stream",
          "name": "stderr",
          "text": [
            "/usr/local/lib/python3.7/dist-packages/konlpy/tag/_okt.py:16: UserWarning: \"Twitter\" has changed to \"Okt\" since KoNLPy v0.4.5.\n",
            "  warn('\"Twitter\" has changed to \"Okt\" since KoNLPy v0.4.5.')\n"
          ]
        }
      ]
    },
    {
      "cell_type": "code",
      "metadata": {
        "id": "2l0YzuI4FoyS"
      },
      "source": [
        "# 저장된 tfidf vector 데이터 읽기\n",
        "with open('X_data.pickle', 'rb') as f:\n",
        "    X_data_post = pickle.load(f)"
      ],
      "execution_count": null,
      "outputs": []
    },
    {
      "cell_type": "code",
      "metadata": {
        "colab": {
          "base_uri": "https://localhost:8080/"
        },
        "id": "BEMoQ6eyGxsy",
        "outputId": "c17d9a7d-d7cb-4a5d-9f53-aa14c9598507"
      },
      "source": [
        "X_data_pre.toarray() == X_data_post.toarray()"
      ],
      "execution_count": null,
      "outputs": [
        {
          "output_type": "execute_result",
          "data": {
            "text/plain": [
              "array([[ True,  True,  True, ...,  True,  True,  True],\n",
              "       [ True,  True,  True, ...,  True,  True,  True],\n",
              "       [ True,  True,  True, ...,  True,  True,  True],\n",
              "       ...,\n",
              "       [ True,  True,  True, ...,  True,  True,  True],\n",
              "       [ True,  True,  True, ...,  True,  True,  True],\n",
              "       [ True,  True,  True, ...,  True,  True,  True]])"
            ]
          },
          "metadata": {},
          "execution_count": 63
        }
      ]
    }
  ]
}