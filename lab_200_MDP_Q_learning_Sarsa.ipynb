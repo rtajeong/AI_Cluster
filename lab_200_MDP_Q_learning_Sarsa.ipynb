{
  "nbformat": 4,
  "nbformat_minor": 0,
  "metadata": {
    "colab": {
      "name": "lab_200_MDP_Q_learning_Sarsa.ipynb",
      "provenance": [],
      "collapsed_sections": [],
      "toc_visible": true,
      "authorship_tag": "ABX9TyPpaNzRnjov8/lzZxIghG2Z",
      "include_colab_link": true
    },
    "kernelspec": {
      "name": "python3",
      "display_name": "Python 3"
    },
    "language_info": {
      "name": "python"
    }
  },
  "cells": [
    {
      "cell_type": "markdown",
      "metadata": {
        "id": "view-in-github",
        "colab_type": "text"
      },
      "source": [
        "<a href=\"https://colab.research.google.com/github/rtajeong/AI_Cluster/blob/main/lab_200_MDP_Q_learning_Sarsa.ipynb\" target=\"_parent\"><img src=\"https://colab.research.google.com/assets/colab-badge.svg\" alt=\"Open In Colab\"/></a>"
      ]
    },
    {
      "cell_type": "markdown",
      "metadata": {
        "id": "k5s8IWmCIbmc"
      },
      "source": [
        "# Reinforcement Leaarning"
      ]
    },
    {
      "cell_type": "markdown",
      "metadata": {
        "id": "Ft8amQE-IeKC"
      },
      "source": [
        "## Markov Chains"
      ]
    },
    {
      "cell_type": "code",
      "metadata": {
        "id": "lUHl78Z-HWIV"
      },
      "source": [
        "import tensorflow as tf\n",
        "from tensorflow import keras\n",
        "assert tf.__version__ >= \"2.0\"\n",
        "import numpy as np\n",
        "import os\n",
        "np.random.seed(42)\n",
        "tf.random.set_seed(42)\n",
        "%matplotlib inline\n",
        "import matplotlib as mpl\n",
        "import matplotlib.pyplot as plt"
      ],
      "execution_count": null,
      "outputs": []
    },
    {
      "cell_type": "code",
      "metadata": {
        "colab": {
          "base_uri": "https://localhost:8080/"
        },
        "id": "2cvkeFASImr6",
        "outputId": "7a583497-937b-4cfe-9241-1213b29765d0"
      },
      "source": [
        "np.random.seed(42)\n",
        "\n",
        "transition_probabilities = [ # shape=[s, s']\n",
        "        [0.7, 0.2, 0.0, 0.1],  # from s0 to s0, s1, s2, s3\n",
        "        [0.0, 0.0, 0.9, 0.1],  # from s1 to ...\n",
        "        [0.0, 1.0, 0.0, 0.0],  # from s2 to ...\n",
        "        [0.0, 0.0, 0.0, 1.0]]  # from s3 to ...\n",
        "\n",
        "n_max_steps = 50\n",
        "\n",
        "def print_sequence():\n",
        "    current_state = 0\n",
        "    print(\"States:\", end=\" \")\n",
        "    for step in range(n_max_steps):\n",
        "        print(current_state, end=\" \")\n",
        "        if current_state == 3:\n",
        "            break\n",
        "        current_state = np.random.choice(range(4), p=transition_probabilities[current_state])\n",
        "    else:\n",
        "        print(\"...\", end=\"\")\n",
        "    print()\n",
        "\n",
        "for _ in range(10):\n",
        "    print_sequence()"
      ],
      "execution_count": null,
      "outputs": [
        {
          "output_type": "stream",
          "name": "stdout",
          "text": [
            "States: 0 0 3 \n",
            "States: 0 1 2 1 2 1 2 1 2 1 3 \n",
            "States: 0 1 2 1 2 1 2 1 2 1 2 1 2 1 2 1 2 1 2 1 2 1 3 \n",
            "States: 0 3 \n",
            "States: 0 1 2 1 2 1 2 1 2 1 2 1 2 1 2 1 3 \n",
            "States: 0 1 3 \n",
            "States: 0 1 2 1 2 1 2 1 2 1 2 1 2 1 2 1 2 1 2 1 2 1 2 1 2 1 2 1 2 1 2 1 2 1 2 1 2 1 2 1 2 1 2 1 2 1 2 1 2 1 ...\n",
            "States: 0 0 3 \n",
            "States: 0 0 0 1 2 1 2 1 3 \n",
            "States: 0 1 2 1 2 1 2 1 2 1 2 1 2 1 2 1 2 1 2 1 2 1 3 \n"
          ]
        }
      ]
    },
    {
      "cell_type": "markdown",
      "metadata": {
        "id": "Wz9q83vxKSIS"
      },
      "source": [
        "## MDP\n",
        "- Let's define some transition probabilities, rewards and possible actions. For example, in state s0, if action a0 is chosen then with proba 0.7 we will go to state s0 with reward +10, with probability 0.3 we will go to state s1 with no reward, and with never go to state s2 (so the transition probabilities are [0.7, 0.3, 0.0], and the rewards are [+10, 0, 0]):"
      ]
    },
    {
      "cell_type": "code",
      "metadata": {
        "id": "VCpTvI5QKVeB"
      },
      "source": [
        "transition_probabilities = [ # shape=[s, a, s']\n",
        "        [[0.7, 0.3, 0.0], \n",
        "         [1.0, 0.0, 0.0], \n",
        "         [0.8, 0.2, 0.0]],\n",
        "\n",
        "        [[0.0, 1.0, 0.0], \n",
        "         None, \n",
        "         [0.0, 0.0, 1.0]],\n",
        "\n",
        "        [None, \n",
        "         [0.8, 0.1, 0.1], \n",
        "         None]]\n",
        "\n",
        "rewards = [ # shape=[s, a, s']\n",
        "        [[+10, 0, 0], \n",
        "         [0, 0, 0], \n",
        "         [0, 0, 0]],\n",
        "\n",
        "        [[0, 0, 0], \n",
        "         [0, 0, 0], \n",
        "         [0, 0, -50]],\n",
        "\n",
        "        [[0, 0, 0], \n",
        "         [+40, 0, 0], \n",
        "         [0, 0, 0]]]\n",
        "\n",
        "possible_actions = [[0, 1, 2], [0, 2], [1]]"
      ],
      "execution_count": null,
      "outputs": []
    },
    {
      "cell_type": "code",
      "metadata": {
        "colab": {
          "base_uri": "https://localhost:8080/"
        },
        "id": "HPQv6_DAKd3Z",
        "outputId": "aac8b497-dd11-45ef-aabe-26ad7a1bdb47"
      },
      "source": [
        "print(transition_probabilities[0][0])"
      ],
      "execution_count": null,
      "outputs": [
        {
          "output_type": "stream",
          "name": "stdout",
          "text": [
            "[0.7, 0.3, 0.0]\n"
          ]
        }
      ]
    },
    {
      "cell_type": "code",
      "metadata": {
        "colab": {
          "base_uri": "https://localhost:8080/"
        },
        "id": "qA1kLdNHKhFa",
        "outputId": "6e7d1bfd-6639-4fb8-8525-c900a6434ba9"
      },
      "source": [
        "print(rewards[0][0])"
      ],
      "execution_count": null,
      "outputs": [
        {
          "output_type": "stream",
          "name": "stdout",
          "text": [
            "[10, 0, 0]\n"
          ]
        }
      ]
    },
    {
      "cell_type": "code",
      "metadata": {
        "colab": {
          "base_uri": "https://localhost:8080/"
        },
        "id": "0Bmp2vpLKi_6",
        "outputId": "86ab2202-cac3-49f2-be77-a02a9a775861"
      },
      "source": [
        "print(possible_actions[0])"
      ],
      "execution_count": null,
      "outputs": [
        {
          "output_type": "stream",
          "name": "stdout",
          "text": [
            "[0, 1, 2]\n"
          ]
        }
      ]
    },
    {
      "cell_type": "markdown",
      "metadata": {
        "id": "rUXfO9k3Kqbf"
      },
      "source": [
        "## Q-value Iteration"
      ]
    },
    {
      "cell_type": "code",
      "metadata": {
        "id": "tF8-ljm_KtVL"
      },
      "source": [
        "Q_values = np.full((3, 3), -np.inf)    # -np.inf for impossible actions\n",
        "for state, actions in enumerate(possible_actions):\n",
        "    Q_values[state, actions] = 0.0     # for all possible actions"
      ],
      "execution_count": null,
      "outputs": []
    },
    {
      "cell_type": "code",
      "metadata": {
        "colab": {
          "base_uri": "https://localhost:8080/"
        },
        "id": "YEudCFn1Kwax",
        "outputId": "201f18e5-f1ee-488f-9d28-901df44402e4"
      },
      "source": [
        "Q_values"
      ],
      "execution_count": null,
      "outputs": [
        {
          "output_type": "execute_result",
          "data": {
            "text/plain": [
              "array([[  0.,   0.,   0.],\n",
              "       [  0., -inf,   0.],\n",
              "       [-inf,   0., -inf]])"
            ]
          },
          "metadata": {},
          "execution_count": 76
        }
      ]
    },
    {
      "cell_type": "code",
      "metadata": {
        "id": "jpibaAi2Kygx"
      },
      "source": [
        "gamma = 0.90  # the discount factor\n",
        "\n",
        "history1 = [] \n",
        "for iteration in range(50): \n",
        "    Q_prev = Q_values.copy()\n",
        "    history1.append(Q_prev) \n",
        "    for s in range(3):\n",
        "        for a in possible_actions[s]:\n",
        "            Q_values[s, a] = np.sum([\n",
        "                    transition_probabilities[s][a][sp]\n",
        "                    * (rewards[s][a][sp] + gamma * np.max(Q_prev[sp])) for sp in range(3)])\n",
        "\n",
        "history1 = np.array(history1)"
      ],
      "execution_count": null,
      "outputs": []
    },
    {
      "cell_type": "code",
      "metadata": {
        "colab": {
          "base_uri": "https://localhost:8080/"
        },
        "id": "lRyw1uueMVPS",
        "outputId": "a60dc167-f2a8-425b-8f2f-f07aa6cecd06"
      },
      "source": [
        "history1.round(2)[:5]"
      ],
      "execution_count": null,
      "outputs": [
        {
          "output_type": "execute_result",
          "data": {
            "text/plain": [
              "array([[[  0.  ,   0.  ,   0.  ],\n",
              "        [  0.  ,   -inf,   0.  ],\n",
              "        [  -inf,   0.  ,   -inf]],\n",
              "\n",
              "       [[  7.  ,   0.  ,   0.  ],\n",
              "        [  0.  ,   -inf, -50.  ],\n",
              "        [  -inf,  32.  ,   -inf]],\n",
              "\n",
              "       [[ 11.41,   6.3 ,   5.04],\n",
              "        [  0.  ,   -inf, -21.2 ],\n",
              "        [  -inf,  39.92,   -inf]],\n",
              "\n",
              "       [[ 14.19,  10.27,   8.22],\n",
              "        [  0.  ,   -inf, -14.07],\n",
              "        [  -inf,  43.81,   -inf]],\n",
              "\n",
              "       [[ 15.94,  12.77,  10.22],\n",
              "        [  0.  ,   -inf, -10.57],\n",
              "        [  -inf,  46.16,   -inf]]])"
            ]
          },
          "metadata": {},
          "execution_count": 78
        }
      ]
    },
    {
      "cell_type": "code",
      "metadata": {
        "colab": {
          "base_uri": "https://localhost:8080/"
        },
        "id": "_kXYNiJ3K7Ff",
        "outputId": "1e085079-7a41-41bf-b47d-5c399e3b87e6"
      },
      "source": [
        "Q_values"
      ],
      "execution_count": null,
      "outputs": [
        {
          "output_type": "execute_result",
          "data": {
            "text/plain": [
              "array([[18.91891892, 17.02702702, 13.62162162],\n",
              "       [ 0.        ,        -inf, -4.87971488],\n",
              "       [       -inf, 50.13365013,        -inf]])"
            ]
          },
          "metadata": {},
          "execution_count": 79
        }
      ]
    },
    {
      "cell_type": "code",
      "metadata": {
        "colab": {
          "base_uri": "https://localhost:8080/"
        },
        "id": "4hRaO54vxCs7",
        "outputId": "db7a8d3f-6ccf-46b6-8bdf-66c9905f9d6d"
      },
      "source": [
        "history1[-1]"
      ],
      "execution_count": null,
      "outputs": [
        {
          "output_type": "execute_result",
          "data": {
            "text/plain": [
              "array([[18.91891892, 17.02702702, 13.62162162],\n",
              "       [ 0.        ,        -inf, -4.87971489],\n",
              "       [       -inf, 50.13365013,        -inf]])"
            ]
          },
          "metadata": {},
          "execution_count": 80
        }
      ]
    },
    {
      "cell_type": "code",
      "metadata": {
        "colab": {
          "base_uri": "https://localhost:8080/"
        },
        "id": "eCOcJR49K9Nn",
        "outputId": "c84dfe58-12d7-4f6b-af35-5cd4a3102d44"
      },
      "source": [
        "history1.shape"
      ],
      "execution_count": null,
      "outputs": [
        {
          "output_type": "execute_result",
          "data": {
            "text/plain": [
              "(50, 3, 3)"
            ]
          },
          "metadata": {},
          "execution_count": 81
        }
      ]
    },
    {
      "cell_type": "code",
      "metadata": {
        "colab": {
          "base_uri": "https://localhost:8080/"
        },
        "id": "uoJm8HxRK_Mq",
        "outputId": "e7f1cb94-591c-4d9c-d734-6dbfe05790e5"
      },
      "source": [
        "np.argmax(Q_values, axis=1)  # actions"
      ],
      "execution_count": null,
      "outputs": [
        {
          "output_type": "execute_result",
          "data": {
            "text/plain": [
              "array([0, 0, 1])"
            ]
          },
          "metadata": {},
          "execution_count": 82
        }
      ]
    },
    {
      "cell_type": "markdown",
      "metadata": {
        "id": "vgd07nkyLDQB"
      },
      "source": [
        "- 0.90의 할인 계수를 사용할 때 이 MDP에 대한 최적의 정책은 상태 s0에 있을 때 action a0을 선택하고 상태 s1에 있을 때 action a0을 선택하고 마지막으로 상태 s2에 있을 때 action a1(유일한 가능한 action)을 선택한다."
      ]
    },
    {
      "cell_type": "markdown",
      "metadata": {
        "id": "SUv5s91yLE95"
      },
      "source": [
        "- Let's try again with a discount factor of 0.95:"
      ]
    },
    {
      "cell_type": "code",
      "metadata": {
        "id": "hShAKeOnLJCy"
      },
      "source": [
        "Q_values = np.full((3, 3), -np.inf) # -np.inf for impossible actions\n",
        "for state, actions in enumerate(possible_actions):\n",
        "    Q_values[state, actions] = 0.0  # for all possible actions"
      ],
      "execution_count": null,
      "outputs": []
    },
    {
      "cell_type": "code",
      "metadata": {
        "id": "aAeSS2y3LNGx"
      },
      "source": [
        "gamma = 0.95  # the discount factor\n",
        "\n",
        "for iteration in range(50):\n",
        "    Q_prev = Q_values.copy()\n",
        "    for s in range(3):\n",
        "        for a in possible_actions[s]:\n",
        "            Q_values[s, a] = np.sum([\n",
        "                    transition_probabilities[s][a][sp]\n",
        "                    * (rewards[s][a][sp] + gamma * np.max(Q_prev[sp]))\n",
        "                for sp in range(3)])"
      ],
      "execution_count": null,
      "outputs": []
    },
    {
      "cell_type": "code",
      "metadata": {
        "colab": {
          "base_uri": "https://localhost:8080/"
        },
        "id": "BeWm_YGSLQtZ",
        "outputId": "b5c6df41-2ae6-4fdb-9536-e409992624dd"
      },
      "source": [
        "Q_values.round(2)"
      ],
      "execution_count": null,
      "outputs": [
        {
          "output_type": "execute_result",
          "data": {
            "text/plain": [
              "array([[21.73, 20.64, 16.7 ],\n",
              "       [ 0.95,  -inf,  1.01],\n",
              "       [ -inf, 53.71,  -inf]])"
            ]
          },
          "metadata": {},
          "execution_count": 85
        }
      ]
    },
    {
      "cell_type": "code",
      "metadata": {
        "colab": {
          "base_uri": "https://localhost:8080/"
        },
        "id": "wA2ltTVxLSwA",
        "outputId": "43e5da4f-d14e-42ef-a78d-a996dddf95c2"
      },
      "source": [
        "np.argmax(Q_values, axis=1)"
      ],
      "execution_count": null,
      "outputs": [
        {
          "output_type": "execute_result",
          "data": {
            "text/plain": [
              "array([0, 2, 1])"
            ]
          },
          "metadata": {},
          "execution_count": 86
        }
      ]
    },
    {
      "cell_type": "markdown",
      "metadata": {
        "id": "P_UA_x5aLWGj"
      },
      "source": [
        "- 이제 정책이 변경되었다. 상태 s1에서 우리는 이제 불을 통과하는 것을 선호한다 (액션 a2 선택). 할인 요인이 더 크기 때문에 에이전트는 미래를 더 중요하게 여기므로 더 많은 미래 보상을 얻기 위해 즉각적인 패널티를 지불할 준비가 되어 있기 때문이다."
      ]
    },
    {
      "cell_type": "markdown",
      "metadata": {
        "id": "xt3bVT2LLX-B"
      },
      "source": [
        "## Q-Learning\n",
        "- Q-Learning은 Agent의 플레이를 관찰하고(예: 무작위로) Q-값의 추정치를 점진적으로 개선함으로써 작동한다. 정확한 Q-Value 추정값(또는 충분히 근접한)이 있으면 최적의 정책은 가장 높은 Q-Value를 갖는 작업을 선택한다. (Greedy Policy).\n",
        "\n"
      ]
    },
    {
      "cell_type": "markdown",
      "metadata": {
        "id": "g0UxFI-DLmHC"
      },
      "source": [
        "- Environment 를 대신하도록 새 상태와 보상을 가져오는 함수를 정의한다."
      ]
    },
    {
      "cell_type": "code",
      "metadata": {
        "id": "NSd1Sb0MLXMx"
      },
      "source": [
        "def step(state, action):\n",
        "    probas = transition_probabilities[state][action]\n",
        "    next_state = np.random.choice([0, 1, 2], p=probas)\n",
        "    reward = rewards[state][action][next_state]\n",
        "    return next_state, reward"
      ],
      "execution_count": null,
      "outputs": []
    },
    {
      "cell_type": "markdown",
      "metadata": {
        "id": "5_i0uVx5LjZ-"
      },
      "source": [
        "- 가능한 모든 상태를 여러 번 방문하는 한 모든 정책이 될 수 있는 탐색 정책도 필요하다. 상태 공간이 매우 작기 때문에 무작위 정책을 사용한다."
      ]
    },
    {
      "cell_type": "code",
      "metadata": {
        "id": "2OqNZaiMLkMx"
      },
      "source": [
        "# random policy\n",
        "def exploration_policy(state):\n",
        "    return np.random.choice(possible_actions[state])\n",
        "\n",
        "# epsilon-greedy\n",
        "def exploration_policy2(state, epsilon=0.1):\n",
        "    if np.random.rand() <= epsilon:\n",
        "        return np.random.choice(possible_actions[state])\n",
        "    else:\n",
        "        return np.argmax(Q_values[state])"
      ],
      "execution_count": null,
      "outputs": []
    },
    {
      "cell_type": "markdown",
      "metadata": {
        "id": "zCM631yzLrnr"
      },
      "source": [
        "Now let's initialize the Q-Values like earlier, and run the Q-Learning algorithm:"
      ]
    },
    {
      "cell_type": "code",
      "metadata": {
        "id": "crPDG6iULsRR",
        "colab": {
          "base_uri": "https://localhost:8080/"
        },
        "outputId": "32eda2e5-4e47-4e4f-f771-c275eab7a371"
      },
      "source": [
        "np.random.seed(42)\n",
        "\n",
        "# Q_values = np.full((3, 3), -np.inf)\n",
        "# for state, actions in enumerate(possible_actions):\n",
        "#    Q_values[state][actions] = 0\n",
        "Q_values = np.full((3, 3), 0.0)\n",
        "\n",
        "alpha0 = 0.05 # initial learning rate\n",
        "decay = 0.005 # learning rate decay\n",
        "gamma = 0.90 # discount factor\n",
        "state = 0 # initial state\n",
        "history2 = [] \n",
        "\n",
        "for iteration in range(10000):\n",
        "    history2.append(Q_values.copy())\n",
        "    action = exploration_policy(state)\n",
        "    next_state, reward = step(state, action)\n",
        "    next_value = np.max(Q_values[next_state]) # greedy policy at the next step\n",
        "    alpha = alpha0 / (1 + iteration * decay)\n",
        "    Q_values[state, action] *= 1 - alpha\n",
        "    Q_values[state, action] += alpha * (reward + gamma * next_value)\n",
        "    state = next_state\n",
        "\n",
        "history2 = np.array(history2)\n",
        "print(Q_values)"
      ],
      "execution_count": null,
      "outputs": [
        {
          "output_type": "stream",
          "name": "stdout",
          "text": [
            "[[18.77621289 17.2238872  13.74543343]\n",
            " [ 0.          0.         -8.00485647]\n",
            " [ 0.         49.40208921  0.        ]]\n"
          ]
        }
      ]
    },
    {
      "cell_type": "code",
      "metadata": {
        "colab": {
          "base_uri": "https://localhost:8080/"
        },
        "id": "VfNRxohaNNwQ",
        "outputId": "055eda6e-d539-46b5-d785-5260a94d3712"
      },
      "source": [
        "history2.round(2)[-5:]"
      ],
      "execution_count": null,
      "outputs": [
        {
          "output_type": "execute_result",
          "data": {
            "text/plain": [
              "array([[[18.78, 17.22, 13.75],\n",
              "        [ 0.  ,  0.  , -8.01],\n",
              "        [ 0.  , 49.39,  0.  ]],\n",
              "\n",
              "       [[18.79, 17.22, 13.75],\n",
              "        [ 0.  ,  0.  , -8.01],\n",
              "        [ 0.  , 49.39,  0.  ]],\n",
              "\n",
              "       [[18.77, 17.22, 13.75],\n",
              "        [ 0.  ,  0.  , -8.01],\n",
              "        [ 0.  , 49.39,  0.  ]],\n",
              "\n",
              "       [[18.77, 17.22, 13.75],\n",
              "        [ 0.  ,  0.  , -8.  ],\n",
              "        [ 0.  , 49.39,  0.  ]],\n",
              "\n",
              "       [[18.77, 17.22, 13.75],\n",
              "        [ 0.  ,  0.  , -8.  ],\n",
              "        [ 0.  , 49.4 ,  0.  ]]])"
            ]
          },
          "metadata": {},
          "execution_count": 185
        }
      ]
    },
    {
      "cell_type": "code",
      "metadata": {
        "colab": {
          "base_uri": "https://localhost:8080/"
        },
        "id": "jd9ii8A-L1F5",
        "outputId": "39d3f0a4-8457-4dd8-8c55-635e5e451228"
      },
      "source": [
        "np.argmax(Q_values, axis=1) # optimal action for each state"
      ],
      "execution_count": null,
      "outputs": [
        {
          "output_type": "execute_result",
          "data": {
            "text/plain": [
              "array([0, 0, 1])"
            ]
          },
          "metadata": {},
          "execution_count": 186
        }
      ]
    },
    {
      "cell_type": "code",
      "metadata": {
        "colab": {
          "base_uri": "https://localhost:8080/",
          "height": 300
        },
        "id": "fx99IVn4L5M6",
        "outputId": "4a28bf35-2a88-4c3e-b315-ae4361e8a368"
      },
      "source": [
        "true_Q_value = history1[-1, 0, 0]  # last value of (s0,a0)\n",
        "\n",
        "fig, axes = plt.subplots(1, 2, figsize=(10, 4), sharey=True)\n",
        "axes[0].set_ylabel(\"Q-Value$(s_0, a_0)$\", fontsize=14)\n",
        "axes[0].set_title(\"Q-Value Iteration\", fontsize=14)\n",
        "axes[1].set_title(\"Q-Learning\", fontsize=14)\n",
        "for ax, width, history in zip(axes, (50, 10000), (history1, history2)):\n",
        "    ax.plot([0, width], [true_Q_value, true_Q_value], \"k--\")\n",
        "    ax.plot(np.arange(width), history[:, 0, 0], \"b-\", linewidth=2)\n",
        "    ax.set_xlabel(\"Iterations\", fontsize=14)\n",
        "    ax.axis([0, width, 0, 24])"
      ],
      "execution_count": null,
      "outputs": [
        {
          "output_type": "display_data",
          "data": {
            "image/png": "[encoded data removed]",
            "text/plain": [
              "<Figure size 720x288 with 2 Axes>"
            ]
          },
          "metadata": {
            "needs_background": "light"
          }
        }
      ]
    },
    {
      "cell_type": "markdown",
      "metadata": {
        "id": "UPfCqyb-NWag"
      },
      "source": [
        "- 위의 그림은 Q_Value(s0,a0) 의 수렴 과정을 보이고 있다. 그림에서 보듯이, Q-Value 반복 알고리즘(왼쪽)은 20회 미만의 반복으로 매우 빠르게 수렴하는 반면 Q-Learning 알고리즘(오른쪽)은 수렴하는 데 약 8,000회 반복이 걸린다. 예상할 수 있듯이, 상태전이확률이나 보상을 모르면 최적의 정책을 찾는 것이 훨씬 더 어려워진다."
      ]
    },
    {
      "cell_type": "markdown",
      "metadata": {
        "id": "j_vjofGMNcAS"
      },
      "source": [
        "## SARSA"
      ]
    },
    {
      "cell_type": "code",
      "metadata": {
        "id": "iqiL1uGTNdzJ"
      },
      "source": [
        "np.random.seed(42)\n",
        "\n",
        "# Q_values = np.full((3, 3), -np.inf)\n",
        "# for state, actions in enumerate(possible_actions):\n",
        "#    Q_values[state][actions] = 0\n",
        "Q_values = np.full((3, 3), 0.0)\n",
        "\n",
        "alpha0 = 0.05 # initial learning rate\n",
        "decay = 0.005 # learning rate decay\n",
        "gamma = 0.90 # discount factor\n",
        "state = 0 # initial state\n",
        "history3 = [] # Not shown in the book\n",
        "\n",
        "action = exploration_policy2(state, 0.5)\n",
        "for iteration in range(10000):\n",
        "    history3.append(Q_values.copy()) # Not shown\n",
        "\n",
        "    next_state, reward = step(state, action)\n",
        "    next_action = exploration_policy2(next_state, 0.5)   # on-policy\n",
        "    next_value = Q_values[next_state, next_action]\n",
        "    alpha = alpha0 / (1 + iteration * decay)\n",
        "    Q_values[state, action] *= 1 - alpha\n",
        "    Q_values[state, action] += alpha * (reward + gamma * next_value)\n",
        "    #if (iteration < 50):\n",
        "    #    print(state, next_state, action, next_action, Q_values[state, action], \n",
        "    #          Q_values[next_state, next_action])\n",
        "    state = next_state\n",
        "    action = next_action\n",
        "\n",
        "history3 = np.array(history3) # Not shown"
      ],
      "execution_count": null,
      "outputs": []
    },
    {
      "cell_type": "code",
      "metadata": {
        "colab": {
          "base_uri": "https://localhost:8080/",
          "height": 300
        },
        "id": "TyoVrOl5Nizc",
        "outputId": "9ed0ffa7-a8fa-4ff4-b85a-539e79d5dd41"
      },
      "source": [
        "true_Q_value = history1[-1, 0, 0]  # last value of (s0,a0)\n",
        "\n",
        "fig, axes = plt.subplots(1, 3, figsize=(10, 4), sharey=True)\n",
        "axes[0].set_ylabel(\"Q-Value$(s_0, a_0)$\", fontsize=14)\n",
        "axes[0].set_title(\"Q-Value Iteration\", fontsize=14)\n",
        "axes[1].set_title(\"Q-Learning\", fontsize=14)\n",
        "axes[2].set_title(\"SARSA\", fontsize=14)\n",
        "for ax, width, history in zip(axes, (50, 10000, 10000), (history1, history2, history3)):\n",
        "    ax.plot([0, width], [true_Q_value, true_Q_value], \"k--\")\n",
        "    ax.plot(np.arange(width), history[:, 0, 0], \"b-\", linewidth=2)\n",
        "    ax.set_xlabel(\"Iterations\", fontsize=14)\n",
        "    ax.axis([0, width, 0, 24])"
      ],
      "execution_count": null,
      "outputs": [
        {
          "output_type": "display_data",
          "data": {
            "image/png": "[encoded data removed]",
            "text/plain": [
              "<Figure size 720x288 with 3 Axes>"
            ]
          },
          "metadata": {
            "needs_background": "light"
          }
        }
      ]
    }
  ]
}