{
  "nbformat": 4,
  "nbformat_minor": 0,
  "metadata": {
    "colab": {
      "name": "gg_20_맞춤형의료_돌연변이_분류.ipynb",
      "provenance": [],
      "collapsed_sections": [],
      "include_colab_link": true
    },
    "kernelspec": {
      "display_name": "Python 3",
      "language": "python",
      "name": "python3"
    },
    "language_info": {
      "codemirror_mode": {
        "name": "ipython",
        "version": 3
      },
      "file_extension": ".py",
      "mimetype": "text/x-python",
      "name": "python",
      "nbconvert_exporter": "python",
      "pygments_lexer": "ipython3",
      "version": "3.6.1"
    },
    "accelerator": "GPU"
  },
  "cells": [
    {
      "cell_type": "markdown",
      "metadata": {
        "id": "view-in-github",
        "colab_type": "text"
      },
      "source": [
        "<a href=\"https://colab.research.google.com/github/rtajeong/AI_Cluster/blob/main/gg_20_%EB%A7%9E%EC%B6%A4%ED%98%95%EC%9D%98%EB%A3%8C_%EB%8F%8C%EC%97%B0%EB%B3%80%EC%9D%B4_%EB%B6%84%EB%A5%98.ipynb\" target=\"_parent\"><img src=\"https://colab.research.google.com/assets/colab-badge.svg\" alt=\"Open In Colab\"/></a>"
      ]
    },
    {
      "cell_type": "markdown",
      "metadata": {
        "id": "u27wbqxeLCpN"
      },
      "source": [
        "# Predict the effect of Genetic Variants"
      ]
    },
    {
      "cell_type": "markdown",
      "metadata": {
        "id": "WY2_f4x5zU29"
      },
      "source": [
        "- 암이 이해하기 어렵고 치료가 어려운 주된 이유 중 하나는 종양 유전자 돌연변이가 다양하고 복접하기 때문임.\n",
        "- 종양 세포에는 수천 개의 유전자가 있으며 이들 각각의 유전자는 수천 개의 알려진 돌연변이와 아직 발견되지 않은 수많은 돌연변이를 가질 수 있다. 하지만, 모든 돌연변이가 암인 것은 아니며 그 중 일부는 양성일 수 있다. 결국, 유전자는 자연 진화의 일부로 계속 돌연변이를 일으키며, 각 돌연변이가 유기체에 해로운 것은 아니다. \n",
        "- 효과적인 항암제를 개발하기 위해 약물 연구자는 종양에서 대부분의 돌연변이의 특성을 알아야 한다.\n",
        "- 그러나, 종양 유전자 돌연변이를 분류하는 과정은 수동적이고 힘들며 시간이 많이 걸리는 작업임. 실험실의 종양 표본에서 발견된 각 돌연변이에 대해 연구자는 발견된 돌연변이를 적절한 클래스로 분류하기 위해 여러 페이지의 의학 문헌을 검토해야 한다.\n"
      ]
    },
    {
      "cell_type": "markdown",
      "metadata": {
        "id": "2hEA1PO-wXFl"
      },
      "source": [
        "-  Personalized Medicine Dataset that was compiled and released by the Memorial Sloan Kettering Cancer Center (MSKCC) for a Kaggle Competition that they hosted in 2017. \n",
        "- This dataset contains research papers from various medical journals about studies on tumor gene mutation classification. The training dataset has 3321 such papers. **Each paper is about a particular gene and a mutation associated with it.**\n",
        "- **Expert cancer researchers have annotated these mutations in one of the nine classes (1–9).** \n",
        "- While it is not stated in the Kaggle Competition what these classes of mutations represent, someone found from an article in an edited compilation¹ that they could very likely mean the following:\n",
        "  - https://towardsdatascience.com/distributed-biomedical-text-mining-using-pyspark-for-classification-of-cancer-gene-mutations-3e11507b2450\n",
        "  - class 1: Gain of function\n",
        "  - class 2: Likely gain of function\n",
        "  - class 3: Loss of function\n",
        "  - class 4: Likely loss of function\n",
        "  - class 5: Neutral\n",
        "  - class 6: Likely neutral\n",
        "  - class 7: Switch of function\n",
        "  - class 8: Likely switch of function\n",
        "  - class 9: Inconclusive"
      ]
    },
    {
      "cell_type": "markdown",
      "metadata": {
        "id": "ZnyDSYxyJJoY"
      },
      "source": [
        "Features\n",
        "- Id: The id of the row used to link the mutation to the clinical evidence (Numerical)\n",
        "- Gene: The gene where this genetic mutation is located (Categorical) - 유전자\n",
        "- Variants: The aminoacid change for this mutations (Categorical) - 변이\n",
        "- Text: Text collected from the clinical evidences (Text) -임상실험 논문 또는 보고서\n",
        "- Class: 1-9 the class this genetic mutation has been classified on (Numeric) - 전문가 의견"
      ]
    },
    {
      "cell_type": "code",
      "metadata": {
        "id": "sUiKs6b4LCpP",
        "scrolled": true
      },
      "source": [
        "import os\n",
        "import re\n",
        "import tqdm\n",
        "import string\n",
        "import pandas as pd\n",
        "import numpy as np\n",
        "import keras"
      ],
      "execution_count": 3,
      "outputs": []
    },
    {
      "cell_type": "markdown",
      "metadata": {
        "id": "1LeATGj5on1Z"
      },
      "source": [
        "# Using CountVectorizer\n",
        "- original problem in https://www.kaggle.com/c/msk-redefining-cancer-treatment\n",
        "- the python code based on https://www.kaggle.com/fugacity/personalized-medicine-multiclass-classification/notebook"
      ]
    },
    {
      "cell_type": "code",
      "metadata": {
        "id": "hfrgS86Toro7"
      },
      "source": [
        "import pandas as pd\n",
        "import matplotlib.pyplot as plt\n",
        "import seaborn as sns\n",
        "import re\n",
        "import time\n",
        "import warnings\n",
        "import numpy as np\n",
        "import pandas as pd\n",
        "from collections import Counter\n",
        "from scipy.sparse import hstack\n",
        "from collections import Counter, defaultdict\n",
        "import math\n",
        "from nltk.corpus import stopwords\n",
        "from sklearn.preprocessing import normalize\n",
        "from sklearn.feature_extraction.text import CountVectorizer\n",
        "from sklearn.feature_extraction.text import TfidfVectorizer\n",
        "from sklearn.manifold import TSNE\n",
        "from sklearn.decomposition import PCA, TruncatedSVD\n",
        "from sklearn.metrics import confusion_matrix, log_loss\n",
        "from imblearn.over_sampling import SMOTE\n",
        "from sklearn.model_selection import StratifiedKFold \n",
        "from sklearn import model_selection\n",
        "from sklearn.neighbors import KNeighborsClassifier\n",
        "from sklearn.linear_model import SGDClassifier\n",
        "from sklearn.multiclass import OneVsRestClassifier\n",
        "from sklearn.svm import SVC\n",
        "from sklearn.ensemble import RandomForestClassifier\n",
        "from sklearn.linear_model import LogisticRegression\n",
        "from sklearn.calibration import CalibratedClassifierCV\n",
        "from sklearn.naive_bayes import MultinomialNB, GaussianNB\n",
        "from sklearn.model_selection import train_test_split\n",
        "from mlxtend.classifier import StackingClassifier\n",
        "from IPython.display import Image\n",
        "warnings.filterwarnings(\"ignore\")\n",
        "%matplotlib inline"
      ],
      "execution_count": 4,
      "outputs": []
    },
    {
      "cell_type": "markdown",
      "metadata": {
        "id": "3DZUXn-VpAEV"
      },
      "source": [
        "## 1. Data preparation"
      ]
    },
    {
      "cell_type": "code",
      "metadata": {
        "id": "PBrD1bpPr0du"
      },
      "source": [
        "data_variants = pd.read_csv('training_variants.zip')\n",
        "data_text =pd.read_csv(\"training_text.zip\",sep=\"\\|\\|\",engine=\"python\",names=[\"ID\",\"TEXT\"],skiprows=1)"
      ],
      "execution_count": 6,
      "outputs": []
    },
    {
      "cell_type": "code",
      "metadata": {
        "colab": {
          "base_uri": "https://localhost:8080/"
        },
        "id": "Q__V17BdpPxX",
        "outputId": "0be0cdab-f86b-4ce2-b7e6-cc0988955ec9"
      },
      "source": [
        "import nltk\n",
        "nltk.download('stopwords')\n",
        "\n",
        "stop_words = set(stopwords.words('english'))\n",
        "\n",
        "def data_text_preprocess(total_text, ind, col):\n",
        "    if type(total_text) is not int:\n",
        "        string = \"\"\n",
        "        total_text = re.sub('[^a-zA-Z0-9\\n]', ' ', str(total_text))  # special character -> space\n",
        "        total_text = re.sub('\\s+',' ', str(total_text)) # multiple spaces -> single space\n",
        "        total_text = total_text.lower()                 # to lower case\n",
        "        \n",
        "        for word in total_text.split():\n",
        "            if not word in stop_words:\n",
        "                string += word + \" \"\n",
        "        \n",
        "        data_text[col][ind] = string"
      ],
      "execution_count": 8,
      "outputs": [
        {
          "output_type": "stream",
          "name": "stdout",
          "text": [
            "[nltk_data] Downloading package stopwords to /root/nltk_data...\n",
            "[nltk_data]   Package stopwords is already up-to-date!\n"
          ]
        }
      ]
    },
    {
      "cell_type": "code",
      "metadata": {
        "id": "H1zdUqiW3qoy"
      },
      "source": [
        "def data_text_preprocess2(text, ind, col):\n",
        "    if type(text) is int: \n",
        "        return\n",
        "\n",
        "    str_ = \"\"\n",
        "    text = re.sub(r\"[^A-Za-z0-9^,!.\\/'+-=]\", \" \", text)\n",
        "    text = text.lower().split()\n",
        "    stops = set(stopwords.words(\"english\"))\n",
        "    text = [w for w in text if not w in stops]    \n",
        "    text = \" \".join(text)\n",
        "    text= text.translate(str.maketrans(\"\",\"\", string.punctuation))\n",
        "\n",
        "    for word in text.split():\n",
        "        if not word in stop_words:\n",
        "            str_ += word + \" \"\n",
        "        \n",
        "    data_text[col][ind] = str_\n",
        "    return"
      ],
      "execution_count": 9,
      "outputs": []
    },
    {
      "cell_type": "code",
      "metadata": {
        "colab": {
          "base_uri": "https://localhost:8080/",
          "height": 203
        },
        "id": "J_-io4l0zu7i",
        "outputId": "4a4e1d6d-5b93-423e-c9a3-cdfc709a4baf"
      },
      "source": [
        "data_text.head()"
      ],
      "execution_count": 10,
      "outputs": [
        {
          "output_type": "execute_result",
          "data": {
            "text/html": [
              "<div>\n",
              "<style scoped>\n",
              "    .dataframe tbody tr th:only-of-type {\n",
              "        vertical-align: middle;\n",
              "    }\n",
              "\n",
              "    .dataframe tbody tr th {\n",
              "        vertical-align: top;\n",
              "    }\n",
              "\n",
              "    .dataframe thead th {\n",
              "        text-align: right;\n",
              "    }\n",
              "</style>\n",
              "<table border=\"1\" class=\"dataframe\">\n",
              "  <thead>\n",
              "    <tr style=\"text-align: right;\">\n",
              "      <th></th>\n",
              "      <th>ID</th>\n",
              "      <th>TEXT</th>\n",
              "    </tr>\n",
              "  </thead>\n",
              "  <tbody>\n",
              "    <tr>\n",
              "      <th>0</th>\n",
              "      <td>0</td>\n",
              "      <td>Cyclin-dependent kinases (CDKs) regulate a var...</td>\n",
              "    </tr>\n",
              "    <tr>\n",
              "      <th>1</th>\n",
              "      <td>1</td>\n",
              "      <td>Abstract Background  Non-small cell lung canc...</td>\n",
              "    </tr>\n",
              "    <tr>\n",
              "      <th>2</th>\n",
              "      <td>2</td>\n",
              "      <td>Abstract Background  Non-small cell lung canc...</td>\n",
              "    </tr>\n",
              "    <tr>\n",
              "      <th>3</th>\n",
              "      <td>3</td>\n",
              "      <td>Recent evidence has demonstrated that acquired...</td>\n",
              "    </tr>\n",
              "    <tr>\n",
              "      <th>4</th>\n",
              "      <td>4</td>\n",
              "      <td>Oncogenic mutations in the monomeric Casitas B...</td>\n",
              "    </tr>\n",
              "  </tbody>\n",
              "</table>\n",
              "</div>"
            ],
            "text/plain": [
              "   ID                                               TEXT\n",
              "0   0  Cyclin-dependent kinases (CDKs) regulate a var...\n",
              "1   1   Abstract Background  Non-small cell lung canc...\n",
              "2   2   Abstract Background  Non-small cell lung canc...\n",
              "3   3  Recent evidence has demonstrated that acquired...\n",
              "4   4  Oncogenic mutations in the monomeric Casitas B..."
            ]
          },
          "metadata": {},
          "execution_count": 10
        }
      ]
    },
    {
      "cell_type": "code",
      "metadata": {
        "colab": {
          "base_uri": "https://localhost:8080/",
          "height": 203
        },
        "id": "STHYlipBz0xO",
        "outputId": "edfdf2d4-7e48-42dd-9ad3-4ebbb4c59044"
      },
      "source": [
        "data_variants.head()"
      ],
      "execution_count": 11,
      "outputs": [
        {
          "output_type": "execute_result",
          "data": {
            "text/html": [
              "<div>\n",
              "<style scoped>\n",
              "    .dataframe tbody tr th:only-of-type {\n",
              "        vertical-align: middle;\n",
              "    }\n",
              "\n",
              "    .dataframe tbody tr th {\n",
              "        vertical-align: top;\n",
              "    }\n",
              "\n",
              "    .dataframe thead th {\n",
              "        text-align: right;\n",
              "    }\n",
              "</style>\n",
              "<table border=\"1\" class=\"dataframe\">\n",
              "  <thead>\n",
              "    <tr style=\"text-align: right;\">\n",
              "      <th></th>\n",
              "      <th>ID</th>\n",
              "      <th>Gene</th>\n",
              "      <th>Variation</th>\n",
              "      <th>Class</th>\n",
              "    </tr>\n",
              "  </thead>\n",
              "  <tbody>\n",
              "    <tr>\n",
              "      <th>0</th>\n",
              "      <td>0</td>\n",
              "      <td>FAM58A</td>\n",
              "      <td>Truncating Mutations</td>\n",
              "      <td>1</td>\n",
              "    </tr>\n",
              "    <tr>\n",
              "      <th>1</th>\n",
              "      <td>1</td>\n",
              "      <td>CBL</td>\n",
              "      <td>W802*</td>\n",
              "      <td>2</td>\n",
              "    </tr>\n",
              "    <tr>\n",
              "      <th>2</th>\n",
              "      <td>2</td>\n",
              "      <td>CBL</td>\n",
              "      <td>Q249E</td>\n",
              "      <td>2</td>\n",
              "    </tr>\n",
              "    <tr>\n",
              "      <th>3</th>\n",
              "      <td>3</td>\n",
              "      <td>CBL</td>\n",
              "      <td>N454D</td>\n",
              "      <td>3</td>\n",
              "    </tr>\n",
              "    <tr>\n",
              "      <th>4</th>\n",
              "      <td>4</td>\n",
              "      <td>CBL</td>\n",
              "      <td>L399V</td>\n",
              "      <td>4</td>\n",
              "    </tr>\n",
              "  </tbody>\n",
              "</table>\n",
              "</div>"
            ],
            "text/plain": [
              "   ID    Gene             Variation  Class\n",
              "0   0  FAM58A  Truncating Mutations      1\n",
              "1   1     CBL                 W802*      2\n",
              "2   2     CBL                 Q249E      2\n",
              "3   3     CBL                 N454D      3\n",
              "4   4     CBL                 L399V      4"
            ]
          },
          "metadata": {},
          "execution_count": 11
        }
      ]
    },
    {
      "cell_type": "code",
      "metadata": {
        "id": "iy5alTdVp5S5"
      },
      "source": [
        "for index, row in data_text.iterrows():\n",
        "    if type(row['TEXT']) is str:\n",
        "        data_text_preprocess(row['TEXT'], index, 'TEXT')"
      ],
      "execution_count": 15,
      "outputs": []
    },
    {
      "cell_type": "code",
      "metadata": {
        "colab": {
          "base_uri": "https://localhost:8080/",
          "height": 203
        },
        "id": "4cxtclD61FHe",
        "outputId": "e6b2d218-2340-49d9-ae3e-b91f0013f025"
      },
      "source": [
        "data_text.head()"
      ],
      "execution_count": 16,
      "outputs": [
        {
          "output_type": "execute_result",
          "data": {
            "text/html": [
              "<div>\n",
              "<style scoped>\n",
              "    .dataframe tbody tr th:only-of-type {\n",
              "        vertical-align: middle;\n",
              "    }\n",
              "\n",
              "    .dataframe tbody tr th {\n",
              "        vertical-align: top;\n",
              "    }\n",
              "\n",
              "    .dataframe thead th {\n",
              "        text-align: right;\n",
              "    }\n",
              "</style>\n",
              "<table border=\"1\" class=\"dataframe\">\n",
              "  <thead>\n",
              "    <tr style=\"text-align: right;\">\n",
              "      <th></th>\n",
              "      <th>ID</th>\n",
              "      <th>TEXT</th>\n",
              "    </tr>\n",
              "  </thead>\n",
              "  <tbody>\n",
              "    <tr>\n",
              "      <th>0</th>\n",
              "      <td>0</td>\n",
              "      <td>cyclin dependent kinases cdks regulate variety...</td>\n",
              "    </tr>\n",
              "    <tr>\n",
              "      <th>1</th>\n",
              "      <td>1</td>\n",
              "      <td>abstract background non small cell lung cancer...</td>\n",
              "    </tr>\n",
              "    <tr>\n",
              "      <th>2</th>\n",
              "      <td>2</td>\n",
              "      <td>abstract background non small cell lung cancer...</td>\n",
              "    </tr>\n",
              "    <tr>\n",
              "      <th>3</th>\n",
              "      <td>3</td>\n",
              "      <td>recent evidence demonstrated acquired uniparen...</td>\n",
              "    </tr>\n",
              "    <tr>\n",
              "      <th>4</th>\n",
              "      <td>4</td>\n",
              "      <td>oncogenic mutations monomeric casitas b lineag...</td>\n",
              "    </tr>\n",
              "  </tbody>\n",
              "</table>\n",
              "</div>"
            ],
            "text/plain": [
              "   ID                                               TEXT\n",
              "0   0  cyclin dependent kinases cdks regulate variety...\n",
              "1   1  abstract background non small cell lung cancer...\n",
              "2   2  abstract background non small cell lung cancer...\n",
              "3   3  recent evidence demonstrated acquired uniparen...\n",
              "4   4  oncogenic mutations monomeric casitas b lineag..."
            ]
          },
          "metadata": {},
          "execution_count": 16
        }
      ]
    },
    {
      "cell_type": "code",
      "metadata": {
        "colab": {
          "base_uri": "https://localhost:8080/",
          "height": 203
        },
        "id": "7OmTZyeip_G0",
        "outputId": "8264bda8-1e94-4ca7-f278-d77a8d9d3f4e"
      },
      "source": [
        "all_data = pd.merge(data_variants, data_text, on='ID', how='left')\n",
        "all_data.head()"
      ],
      "execution_count": 17,
      "outputs": [
        {
          "output_type": "execute_result",
          "data": {
            "text/html": [
              "<div>\n",
              "<style scoped>\n",
              "    .dataframe tbody tr th:only-of-type {\n",
              "        vertical-align: middle;\n",
              "    }\n",
              "\n",
              "    .dataframe tbody tr th {\n",
              "        vertical-align: top;\n",
              "    }\n",
              "\n",
              "    .dataframe thead th {\n",
              "        text-align: right;\n",
              "    }\n",
              "</style>\n",
              "<table border=\"1\" class=\"dataframe\">\n",
              "  <thead>\n",
              "    <tr style=\"text-align: right;\">\n",
              "      <th></th>\n",
              "      <th>ID</th>\n",
              "      <th>Gene</th>\n",
              "      <th>Variation</th>\n",
              "      <th>Class</th>\n",
              "      <th>TEXT</th>\n",
              "    </tr>\n",
              "  </thead>\n",
              "  <tbody>\n",
              "    <tr>\n",
              "      <th>0</th>\n",
              "      <td>0</td>\n",
              "      <td>FAM58A</td>\n",
              "      <td>Truncating Mutations</td>\n",
              "      <td>1</td>\n",
              "      <td>cyclin dependent kinases cdks regulate variety...</td>\n",
              "    </tr>\n",
              "    <tr>\n",
              "      <th>1</th>\n",
              "      <td>1</td>\n",
              "      <td>CBL</td>\n",
              "      <td>W802*</td>\n",
              "      <td>2</td>\n",
              "      <td>abstract background non small cell lung cancer...</td>\n",
              "    </tr>\n",
              "    <tr>\n",
              "      <th>2</th>\n",
              "      <td>2</td>\n",
              "      <td>CBL</td>\n",
              "      <td>Q249E</td>\n",
              "      <td>2</td>\n",
              "      <td>abstract background non small cell lung cancer...</td>\n",
              "    </tr>\n",
              "    <tr>\n",
              "      <th>3</th>\n",
              "      <td>3</td>\n",
              "      <td>CBL</td>\n",
              "      <td>N454D</td>\n",
              "      <td>3</td>\n",
              "      <td>recent evidence demonstrated acquired uniparen...</td>\n",
              "    </tr>\n",
              "    <tr>\n",
              "      <th>4</th>\n",
              "      <td>4</td>\n",
              "      <td>CBL</td>\n",
              "      <td>L399V</td>\n",
              "      <td>4</td>\n",
              "      <td>oncogenic mutations monomeric casitas b lineag...</td>\n",
              "    </tr>\n",
              "  </tbody>\n",
              "</table>\n",
              "</div>"
            ],
            "text/plain": [
              "   ID    Gene  ... Class                                               TEXT\n",
              "0   0  FAM58A  ...     1  cyclin dependent kinases cdks regulate variety...\n",
              "1   1     CBL  ...     2  abstract background non small cell lung cancer...\n",
              "2   2     CBL  ...     2  abstract background non small cell lung cancer...\n",
              "3   3     CBL  ...     3  recent evidence demonstrated acquired uniparen...\n",
              "4   4     CBL  ...     4  oncogenic mutations monomeric casitas b lineag...\n",
              "\n",
              "[5 rows x 5 columns]"
            ]
          },
          "metadata": {},
          "execution_count": 17
        }
      ]
    },
    {
      "cell_type": "markdown",
      "metadata": {
        "id": "nvkFwdUy15TV"
      },
      "source": [
        "- For example, the paper with ID 1 is about the CBL gene and its variation(mutation) W802*. This mutation belongs to class 2.\n",
        "- It is a dense scientific paper that contains several biological terms and overall, it contains 5757 words. It will take at least few hours to read a paper.\n",
        "- What if a tumor gene contains 10 different mutations which is a modest number for the number of mutations that can be present?"
      ]
    },
    {
      "cell_type": "code",
      "metadata": {
        "colab": {
          "base_uri": "https://localhost:8080/",
          "height": 421
        },
        "id": "B6R1juqgqC_w",
        "outputId": "c8996ff0-ee59-4e2d-c187-729a902b395e"
      },
      "source": [
        "plt.figure(figsize=(8,6))\n",
        "sns.countplot(x='Class', data=all_data)\n",
        "plt.gca().xaxis.tick_bottom()\n",
        "plt.title('Data count by Class')"
      ],
      "execution_count": 18,
      "outputs": [
        {
          "output_type": "execute_result",
          "data": {
            "text/plain": [
              "Text(0.5, 1.0, 'Data count by Class')"
            ]
          },
          "metadata": {},
          "execution_count": 18
        },
        {
          "output_type": "display_data",
          "data": {
            "image/png": "[encoded data removed]",
            "text/plain": [
              "<Figure size 576x432 with 1 Axes>"
            ]
          },
          "metadata": {
            "needs_background": "light"
          }
        }
      ]
    },
    {
      "cell_type": "code",
      "metadata": {
        "colab": {
          "base_uri": "https://localhost:8080/",
          "height": 203
        },
        "id": "E4VaoL0bqCvM",
        "outputId": "9782e482-9e0e-4e03-8406-ebdc493ab5cb"
      },
      "source": [
        "all_data[all_data.isnull().any(axis=1)]"
      ],
      "execution_count": 19,
      "outputs": [
        {
          "output_type": "execute_result",
          "data": {
            "text/html": [
              "<div>\n",
              "<style scoped>\n",
              "    .dataframe tbody tr th:only-of-type {\n",
              "        vertical-align: middle;\n",
              "    }\n",
              "\n",
              "    .dataframe tbody tr th {\n",
              "        vertical-align: top;\n",
              "    }\n",
              "\n",
              "    .dataframe thead th {\n",
              "        text-align: right;\n",
              "    }\n",
              "</style>\n",
              "<table border=\"1\" class=\"dataframe\">\n",
              "  <thead>\n",
              "    <tr style=\"text-align: right;\">\n",
              "      <th></th>\n",
              "      <th>ID</th>\n",
              "      <th>Gene</th>\n",
              "      <th>Variation</th>\n",
              "      <th>Class</th>\n",
              "      <th>TEXT</th>\n",
              "    </tr>\n",
              "  </thead>\n",
              "  <tbody>\n",
              "    <tr>\n",
              "      <th>1109</th>\n",
              "      <td>1109</td>\n",
              "      <td>FANCA</td>\n",
              "      <td>S1088F</td>\n",
              "      <td>1</td>\n",
              "      <td>NaN</td>\n",
              "    </tr>\n",
              "    <tr>\n",
              "      <th>1277</th>\n",
              "      <td>1277</td>\n",
              "      <td>ARID5B</td>\n",
              "      <td>Truncating Mutations</td>\n",
              "      <td>1</td>\n",
              "      <td>NaN</td>\n",
              "    </tr>\n",
              "    <tr>\n",
              "      <th>1407</th>\n",
              "      <td>1407</td>\n",
              "      <td>FGFR3</td>\n",
              "      <td>K508M</td>\n",
              "      <td>6</td>\n",
              "      <td>NaN</td>\n",
              "    </tr>\n",
              "    <tr>\n",
              "      <th>1639</th>\n",
              "      <td>1639</td>\n",
              "      <td>FLT1</td>\n",
              "      <td>Amplification</td>\n",
              "      <td>6</td>\n",
              "      <td>NaN</td>\n",
              "    </tr>\n",
              "    <tr>\n",
              "      <th>2755</th>\n",
              "      <td>2755</td>\n",
              "      <td>BRAF</td>\n",
              "      <td>G596C</td>\n",
              "      <td>7</td>\n",
              "      <td>NaN</td>\n",
              "    </tr>\n",
              "  </tbody>\n",
              "</table>\n",
              "</div>"
            ],
            "text/plain": [
              "        ID    Gene             Variation  Class TEXT\n",
              "1109  1109   FANCA                S1088F      1  NaN\n",
              "1277  1277  ARID5B  Truncating Mutations      1  NaN\n",
              "1407  1407   FGFR3                 K508M      6  NaN\n",
              "1639  1639    FLT1         Amplification      6  NaN\n",
              "2755  2755    BRAF                 G596C      7  NaN"
            ]
          },
          "metadata": {},
          "execution_count": 19
        }
      ]
    },
    {
      "cell_type": "code",
      "metadata": {
        "colab": {
          "base_uri": "https://localhost:8080/",
          "height": 203
        },
        "id": "O3YHcizr_AvQ",
        "outputId": "9bd9678f-2a34-4611-998a-7b85ba71efd4"
      },
      "source": [
        "missing_rows_index = all_data[all_data.isnull().any(axis=1)].index\n",
        "all_data.loc[missing_rows_index]"
      ],
      "execution_count": 21,
      "outputs": [
        {
          "output_type": "execute_result",
          "data": {
            "text/html": [
              "<div>\n",
              "<style scoped>\n",
              "    .dataframe tbody tr th:only-of-type {\n",
              "        vertical-align: middle;\n",
              "    }\n",
              "\n",
              "    .dataframe tbody tr th {\n",
              "        vertical-align: top;\n",
              "    }\n",
              "\n",
              "    .dataframe thead th {\n",
              "        text-align: right;\n",
              "    }\n",
              "</style>\n",
              "<table border=\"1\" class=\"dataframe\">\n",
              "  <thead>\n",
              "    <tr style=\"text-align: right;\">\n",
              "      <th></th>\n",
              "      <th>ID</th>\n",
              "      <th>Gene</th>\n",
              "      <th>Variation</th>\n",
              "      <th>Class</th>\n",
              "      <th>TEXT</th>\n",
              "    </tr>\n",
              "  </thead>\n",
              "  <tbody>\n",
              "    <tr>\n",
              "      <th>1109</th>\n",
              "      <td>1109</td>\n",
              "      <td>FANCA</td>\n",
              "      <td>S1088F</td>\n",
              "      <td>1</td>\n",
              "      <td>NaN</td>\n",
              "    </tr>\n",
              "    <tr>\n",
              "      <th>1277</th>\n",
              "      <td>1277</td>\n",
              "      <td>ARID5B</td>\n",
              "      <td>Truncating Mutations</td>\n",
              "      <td>1</td>\n",
              "      <td>NaN</td>\n",
              "    </tr>\n",
              "    <tr>\n",
              "      <th>1407</th>\n",
              "      <td>1407</td>\n",
              "      <td>FGFR3</td>\n",
              "      <td>K508M</td>\n",
              "      <td>6</td>\n",
              "      <td>NaN</td>\n",
              "    </tr>\n",
              "    <tr>\n",
              "      <th>1639</th>\n",
              "      <td>1639</td>\n",
              "      <td>FLT1</td>\n",
              "      <td>Amplification</td>\n",
              "      <td>6</td>\n",
              "      <td>NaN</td>\n",
              "    </tr>\n",
              "    <tr>\n",
              "      <th>2755</th>\n",
              "      <td>2755</td>\n",
              "      <td>BRAF</td>\n",
              "      <td>G596C</td>\n",
              "      <td>7</td>\n",
              "      <td>NaN</td>\n",
              "    </tr>\n",
              "  </tbody>\n",
              "</table>\n",
              "</div>"
            ],
            "text/plain": [
              "        ID    Gene             Variation  Class TEXT\n",
              "1109  1109   FANCA                S1088F      1  NaN\n",
              "1277  1277  ARID5B  Truncating Mutations      1  NaN\n",
              "1407  1407   FGFR3                 K508M      6  NaN\n",
              "1639  1639    FLT1         Amplification      6  NaN\n",
              "2755  2755    BRAF                 G596C      7  NaN"
            ]
          },
          "metadata": {},
          "execution_count": 21
        }
      ]
    },
    {
      "cell_type": "code",
      "metadata": {
        "id": "3d2R0r_EqCrx"
      },
      "source": [
        "# Adding Variation column to TEXT\n",
        "all_data.loc[all_data['TEXT'].isnull(),'TEXT'] = all_data['Gene'] + ' ' + all_data['Variation'] "
      ],
      "execution_count": 22,
      "outputs": []
    },
    {
      "cell_type": "code",
      "metadata": {
        "colab": {
          "base_uri": "https://localhost:8080/",
          "height": 203
        },
        "id": "M6AZ8HYP_8jD",
        "outputId": "71b64cfb-544c-44af-e0e6-a3068369d7d8"
      },
      "source": [
        "all_data.loc[missing_rows_index]"
      ],
      "execution_count": 23,
      "outputs": [
        {
          "output_type": "execute_result",
          "data": {
            "text/html": [
              "<div>\n",
              "<style scoped>\n",
              "    .dataframe tbody tr th:only-of-type {\n",
              "        vertical-align: middle;\n",
              "    }\n",
              "\n",
              "    .dataframe tbody tr th {\n",
              "        vertical-align: top;\n",
              "    }\n",
              "\n",
              "    .dataframe thead th {\n",
              "        text-align: right;\n",
              "    }\n",
              "</style>\n",
              "<table border=\"1\" class=\"dataframe\">\n",
              "  <thead>\n",
              "    <tr style=\"text-align: right;\">\n",
              "      <th></th>\n",
              "      <th>ID</th>\n",
              "      <th>Gene</th>\n",
              "      <th>Variation</th>\n",
              "      <th>Class</th>\n",
              "      <th>TEXT</th>\n",
              "    </tr>\n",
              "  </thead>\n",
              "  <tbody>\n",
              "    <tr>\n",
              "      <th>1109</th>\n",
              "      <td>1109</td>\n",
              "      <td>FANCA</td>\n",
              "      <td>S1088F</td>\n",
              "      <td>1</td>\n",
              "      <td>FANCA S1088F</td>\n",
              "    </tr>\n",
              "    <tr>\n",
              "      <th>1277</th>\n",
              "      <td>1277</td>\n",
              "      <td>ARID5B</td>\n",
              "      <td>Truncating Mutations</td>\n",
              "      <td>1</td>\n",
              "      <td>ARID5B Truncating Mutations</td>\n",
              "    </tr>\n",
              "    <tr>\n",
              "      <th>1407</th>\n",
              "      <td>1407</td>\n",
              "      <td>FGFR3</td>\n",
              "      <td>K508M</td>\n",
              "      <td>6</td>\n",
              "      <td>FGFR3 K508M</td>\n",
              "    </tr>\n",
              "    <tr>\n",
              "      <th>1639</th>\n",
              "      <td>1639</td>\n",
              "      <td>FLT1</td>\n",
              "      <td>Amplification</td>\n",
              "      <td>6</td>\n",
              "      <td>FLT1 Amplification</td>\n",
              "    </tr>\n",
              "    <tr>\n",
              "      <th>2755</th>\n",
              "      <td>2755</td>\n",
              "      <td>BRAF</td>\n",
              "      <td>G596C</td>\n",
              "      <td>7</td>\n",
              "      <td>BRAF G596C</td>\n",
              "    </tr>\n",
              "  </tbody>\n",
              "</table>\n",
              "</div>"
            ],
            "text/plain": [
              "        ID    Gene             Variation  Class                         TEXT\n",
              "1109  1109   FANCA                S1088F      1                 FANCA S1088F\n",
              "1277  1277  ARID5B  Truncating Mutations      1  ARID5B Truncating Mutations\n",
              "1407  1407   FGFR3                 K508M      6                  FGFR3 K508M\n",
              "1639  1639    FLT1         Amplification      6           FLT1 Amplification\n",
              "2755  2755    BRAF                 G596C      7                   BRAF G596C"
            ]
          },
          "metadata": {},
          "execution_count": 23
        }
      ]
    },
    {
      "cell_type": "code",
      "metadata": {
        "id": "UlVo--8eqCls"
      },
      "source": [
        "# replaceing spaces with '_'\n",
        "y_true = all_data['Class'].values\n",
        "all_data['Gene']      = all_data['Gene'].str.replace('\\s+', '_')\n",
        "all_data['Variation'] = all_data['Variation'].str.replace('\\s+', '_')"
      ],
      "execution_count": 24,
      "outputs": []
    },
    {
      "cell_type": "code",
      "metadata": {
        "colab": {
          "base_uri": "https://localhost:8080/",
          "height": 203
        },
        "id": "gKniwP3z2wfn",
        "outputId": "48d9a2ad-df4a-4cfd-8aab-0cb9b250297a"
      },
      "source": [
        "all_data.loc[missing_rows_index]"
      ],
      "execution_count": 25,
      "outputs": [
        {
          "output_type": "execute_result",
          "data": {
            "text/html": [
              "<div>\n",
              "<style scoped>\n",
              "    .dataframe tbody tr th:only-of-type {\n",
              "        vertical-align: middle;\n",
              "    }\n",
              "\n",
              "    .dataframe tbody tr th {\n",
              "        vertical-align: top;\n",
              "    }\n",
              "\n",
              "    .dataframe thead th {\n",
              "        text-align: right;\n",
              "    }\n",
              "</style>\n",
              "<table border=\"1\" class=\"dataframe\">\n",
              "  <thead>\n",
              "    <tr style=\"text-align: right;\">\n",
              "      <th></th>\n",
              "      <th>ID</th>\n",
              "      <th>Gene</th>\n",
              "      <th>Variation</th>\n",
              "      <th>Class</th>\n",
              "      <th>TEXT</th>\n",
              "    </tr>\n",
              "  </thead>\n",
              "  <tbody>\n",
              "    <tr>\n",
              "      <th>1109</th>\n",
              "      <td>1109</td>\n",
              "      <td>FANCA</td>\n",
              "      <td>S1088F</td>\n",
              "      <td>1</td>\n",
              "      <td>FANCA S1088F</td>\n",
              "    </tr>\n",
              "    <tr>\n",
              "      <th>1277</th>\n",
              "      <td>1277</td>\n",
              "      <td>ARID5B</td>\n",
              "      <td>Truncating_Mutations</td>\n",
              "      <td>1</td>\n",
              "      <td>ARID5B Truncating Mutations</td>\n",
              "    </tr>\n",
              "    <tr>\n",
              "      <th>1407</th>\n",
              "      <td>1407</td>\n",
              "      <td>FGFR3</td>\n",
              "      <td>K508M</td>\n",
              "      <td>6</td>\n",
              "      <td>FGFR3 K508M</td>\n",
              "    </tr>\n",
              "    <tr>\n",
              "      <th>1639</th>\n",
              "      <td>1639</td>\n",
              "      <td>FLT1</td>\n",
              "      <td>Amplification</td>\n",
              "      <td>6</td>\n",
              "      <td>FLT1 Amplification</td>\n",
              "    </tr>\n",
              "    <tr>\n",
              "      <th>2755</th>\n",
              "      <td>2755</td>\n",
              "      <td>BRAF</td>\n",
              "      <td>G596C</td>\n",
              "      <td>7</td>\n",
              "      <td>BRAF G596C</td>\n",
              "    </tr>\n",
              "  </tbody>\n",
              "</table>\n",
              "</div>"
            ],
            "text/plain": [
              "        ID    Gene             Variation  Class                         TEXT\n",
              "1109  1109   FANCA                S1088F      1                 FANCA S1088F\n",
              "1277  1277  ARID5B  Truncating_Mutations      1  ARID5B Truncating Mutations\n",
              "1407  1407   FGFR3                 K508M      6                  FGFR3 K508M\n",
              "1639  1639    FLT1         Amplification      6           FLT1 Amplification\n",
              "2755  2755    BRAF                 G596C      7                   BRAF G596C"
            ]
          },
          "metadata": {},
          "execution_count": 25
        }
      ]
    },
    {
      "cell_type": "markdown",
      "metadata": {
        "id": "6OzwD7_p8S5w"
      },
      "source": [
        "## 2. Split dataset into Train and Test "
      ]
    },
    {
      "cell_type": "code",
      "metadata": {
        "id": "W_yAm0HwrNFB",
        "colab": {
          "base_uri": "https://localhost:8080/"
        },
        "outputId": "f4e937aa-7ba7-4ed4-fbd4-2d8aefdcf92d"
      },
      "source": [
        "X_train, X_test, y_train, y_test = train_test_split(all_data, y_true, stratify = y_true, test_size=0.2)\n",
        "print('train data:', X_train.shape, y_train.shape)\n",
        "print('test data:', X_test.shape, y_test.shape)"
      ],
      "execution_count": 26,
      "outputs": [
        {
          "output_type": "stream",
          "name": "stdout",
          "text": [
            "train data: (2656, 5) (2656,)\n",
            "test data: (665, 5) (665,)\n"
          ]
        }
      ]
    },
    {
      "cell_type": "code",
      "metadata": {
        "id": "NmEz7QTqrM8K",
        "colab": {
          "base_uri": "https://localhost:8080/",
          "height": 421
        },
        "outputId": "eccae16d-29c4-4ca6-aa5c-e95d4ec035c8"
      },
      "source": [
        "X_train_distribution = X_train['Class'].value_counts() / X_train.shape[0]\n",
        "X_test_distribution = X_test['Class'].value_counts() / X_test.shape[0]\n",
        "\n",
        "train_set = pd.Series(X_train_distribution).sort_index()\n",
        "test_set = pd.Series(X_test_distribution).sort_index()\n",
        "\n",
        "pd.DataFrame(  {\n",
        "     'Train Set(%)': train_set,\n",
        "     'Test Set(%)':test_set\n",
        "    }).plot.bar(figsize=(12,6))\n",
        "plt.title('Distribution of data per set and class')\n",
        "plt.xticks(rotation=0)\n",
        "plt.xlabel('Class')\n",
        "plt.ylabel('% Of total data')\n",
        "plt.plot()"
      ],
      "execution_count": 27,
      "outputs": [
        {
          "output_type": "execute_result",
          "data": {
            "text/plain": [
              "[]"
            ]
          },
          "metadata": {},
          "execution_count": 27
        },
        {
          "output_type": "display_data",
          "data": {
            "image/png": "[encoded data removed]",
            "text/plain": [
              "<Figure size 864x432 with 1 Axes>"
            ]
          },
          "metadata": {
            "needs_background": "light"
          }
        }
      ]
    },
    {
      "cell_type": "markdown",
      "metadata": {
        "id": "7QljNaSTrpzT"
      },
      "source": [
        "- Data is distributed quite evenly across sets."
      ]
    },
    {
      "cell_type": "code",
      "metadata": {
        "colab": {
          "base_uri": "https://localhost:8080/",
          "height": 203
        },
        "id": "yOSj2OXu9NyV",
        "outputId": "0bf1a634-df42-4ed6-a951-011af3f510a2"
      },
      "source": [
        "X_train.head()"
      ],
      "execution_count": 28,
      "outputs": [
        {
          "output_type": "execute_result",
          "data": {
            "text/html": [
              "<div>\n",
              "<style scoped>\n",
              "    .dataframe tbody tr th:only-of-type {\n",
              "        vertical-align: middle;\n",
              "    }\n",
              "\n",
              "    .dataframe tbody tr th {\n",
              "        vertical-align: top;\n",
              "    }\n",
              "\n",
              "    .dataframe thead th {\n",
              "        text-align: right;\n",
              "    }\n",
              "</style>\n",
              "<table border=\"1\" class=\"dataframe\">\n",
              "  <thead>\n",
              "    <tr style=\"text-align: right;\">\n",
              "      <th></th>\n",
              "      <th>ID</th>\n",
              "      <th>Gene</th>\n",
              "      <th>Variation</th>\n",
              "      <th>Class</th>\n",
              "      <th>TEXT</th>\n",
              "    </tr>\n",
              "  </thead>\n",
              "  <tbody>\n",
              "    <tr>\n",
              "      <th>3177</th>\n",
              "      <td>3177</td>\n",
              "      <td>HNF1A</td>\n",
              "      <td>Truncating_Mutations</td>\n",
              "      <td>1</td>\n",
              "      <td>mutations hepatocyte nuclear factor hnf 1 gene...</td>\n",
              "    </tr>\n",
              "    <tr>\n",
              "      <th>2795</th>\n",
              "      <td>2795</td>\n",
              "      <td>BRCA2</td>\n",
              "      <td>T1354M</td>\n",
              "      <td>6</td>\n",
              "      <td>mutation screening breast ovarian cancer predi...</td>\n",
              "    </tr>\n",
              "    <tr>\n",
              "      <th>1384</th>\n",
              "      <td>1384</td>\n",
              "      <td>FGFR1</td>\n",
              "      <td>Amplification</td>\n",
              "      <td>7</td>\n",
              "      <td>fibroblast growth factor receptor fgfr cascade...</td>\n",
              "    </tr>\n",
              "    <tr>\n",
              "      <th>3017</th>\n",
              "      <td>3017</td>\n",
              "      <td>KIT</td>\n",
              "      <td>V560D</td>\n",
              "      <td>7</td>\n",
              "      <td>amplifications mutations kit proto oncogene su...</td>\n",
              "    </tr>\n",
              "    <tr>\n",
              "      <th>2846</th>\n",
              "      <td>2846</td>\n",
              "      <td>BRCA2</td>\n",
              "      <td>R2336H</td>\n",
              "      <td>4</td>\n",
              "      <td>mutation screening breast ovarian cancer predi...</td>\n",
              "    </tr>\n",
              "  </tbody>\n",
              "</table>\n",
              "</div>"
            ],
            "text/plain": [
              "        ID   Gene  ... Class                                               TEXT\n",
              "3177  3177  HNF1A  ...     1  mutations hepatocyte nuclear factor hnf 1 gene...\n",
              "2795  2795  BRCA2  ...     6  mutation screening breast ovarian cancer predi...\n",
              "1384  1384  FGFR1  ...     7  fibroblast growth factor receptor fgfr cascade...\n",
              "3017  3017    KIT  ...     7  amplifications mutations kit proto oncogene su...\n",
              "2846  2846  BRCA2  ...     4  mutation screening breast ovarian cancer predi...\n",
              "\n",
              "[5 rows x 5 columns]"
            ]
          },
          "metadata": {},
          "execution_count": 28
        }
      ]
    },
    {
      "cell_type": "code",
      "metadata": {
        "colab": {
          "base_uri": "https://localhost:8080/"
        },
        "id": "rZccFUxh9NwP",
        "outputId": "70e4134c-939f-4dc2-9a85-1883b3dfc929"
      },
      "source": [
        "y_train[:5]"
      ],
      "execution_count": 29,
      "outputs": [
        {
          "output_type": "execute_result",
          "data": {
            "text/plain": [
              "array([1, 6, 7, 7, 4])"
            ]
          },
          "metadata": {},
          "execution_count": 29
        }
      ]
    },
    {
      "cell_type": "markdown",
      "metadata": {
        "id": "q3qjXOWw8jgY"
      },
      "source": [
        "## 3. Feature analysis and featurization"
      ]
    },
    {
      "cell_type": "code",
      "metadata": {
        "id": "OgIElfcBSIKq"
      },
      "source": [
        "def model_performance(name, clf, alpha, train_x, train_y, test_x, test_y):\n",
        "    clf = clf\n",
        "    clf.fit(train_x, train_y)\n",
        "    sig_clf = CalibratedClassifierCV(clf, method=\"sigmoid\")\n",
        "    sig_clf.fit(train_x, train_y)\n",
        "    \n",
        "    train_y_pred = sig_clf.predict_proba(train_x)\n",
        "    train_log_loss = np.round(log_loss(train_y, train_y_pred, labels=clf.classes_),3)\n",
        "    \n",
        "    test_y_pred = sig_clf.predict_proba(test_x)\n",
        "    test_log_loss = np.round(log_loss(test_y, test_y_pred, labels=clf.classes_),3)\n",
        "    \n",
        "    y_pred = sig_clf.predict(test_x)\n",
        "    \n",
        "    accuracy = sig_clf.score(test_x, test_y)\n",
        "    \n",
        "    report_perf=[name,\n",
        "                 alpha,\n",
        "                 train_log_loss,\n",
        "                 test_log_loss,\n",
        "                 accuracy]\n",
        "    \n",
        "    temp_df = pd.DataFrame([report_perf], \n",
        "                           columns=['Model','alpha','train_log_loss','test_log_loss','Accuracy(%)'])   \n",
        "    return temp_df, y_pred"
      ],
      "execution_count": 30,
      "outputs": []
    },
    {
      "cell_type": "markdown",
      "metadata": {
        "id": "I8guJkRGP6kM"
      },
      "source": [
        "### 3.1 Genes and Variations features"
      ]
    },
    {
      "cell_type": "code",
      "metadata": {
        "colab": {
          "base_uri": "https://localhost:8080/"
        },
        "id": "n5EzJtc09Nt1",
        "outputId": "0bb11a72-d411-495b-bab0-49360240d836"
      },
      "source": [
        "print ('Number of unique Genes:',len(X_train['Gene'].unique()), len(X_test['Gene'].unique()))\n",
        "print ('Number of unique Variations:',len(X_train['Variation'].unique()), len(X_test['Variation'].unique()))"
      ],
      "execution_count": 31,
      "outputs": [
        {
          "output_type": "stream",
          "name": "stdout",
          "text": [
            "Number of unique Genes: 245 163\n",
            "Number of unique Variations: 2401 612\n"
          ]
        }
      ]
    },
    {
      "cell_type": "code",
      "metadata": {
        "colab": {
          "base_uri": "https://localhost:8080/"
        },
        "id": "XmPJUiGm8-Le",
        "outputId": "c21e4b00-65ba-4926-d7ac-9e4956757a38"
      },
      "source": [
        "# top 10 Genes that accurred the most\n",
        "X_train['Gene'].value_counts().head(10)"
      ],
      "execution_count": 32,
      "outputs": [
        {
          "output_type": "execute_result",
          "data": {
            "text/plain": [
              "BRCA1     212\n",
              "TP53      128\n",
              "EGFR      109\n",
              "PTEN      102\n",
              "BRCA2      98\n",
              "KIT        82\n",
              "BRAF       82\n",
              "ERBB2      59\n",
              "ALK        53\n",
              "PDGFRA     47\n",
              "Name: Gene, dtype: int64"
            ]
          },
          "metadata": {},
          "execution_count": 32
        }
      ]
    },
    {
      "cell_type": "code",
      "metadata": {
        "id": "_Zvd7kMq-CDI"
      },
      "source": [
        "vectorizer = CountVectorizer()    # one-hot encoding 효과\n",
        "X_train_Gene =  vectorizer.fit_transform(X_train['Gene'])\n",
        "X_test_Gene  =  vectorizer.transform(X_test['Gene'])"
      ],
      "execution_count": 34,
      "outputs": []
    },
    {
      "cell_type": "code",
      "metadata": {
        "colab": {
          "base_uri": "https://localhost:8080/",
          "height": 80
        },
        "id": "S43wJXai-wE-",
        "outputId": "99a2cd6f-720f-42f2-fa91-e77cf2b5209d"
      },
      "source": [
        "alpha = 0.001\n",
        "clf = SGDClassifier(class_weight='balanced', alpha=alpha, penalty='l2', loss='log', random_state=42)\n",
        "model_performance('Logistic Regression',\n",
        "                  clf,\n",
        "                  alpha,\n",
        "                  X_train_Gene, y_train,\n",
        "                  X_test_Gene, y_test)[0]"
      ],
      "execution_count": 40,
      "outputs": [
        {
          "output_type": "execute_result",
          "data": {
            "text/html": [
              "<div>\n",
              "<style scoped>\n",
              "    .dataframe tbody tr th:only-of-type {\n",
              "        vertical-align: middle;\n",
              "    }\n",
              "\n",
              "    .dataframe tbody tr th {\n",
              "        vertical-align: top;\n",
              "    }\n",
              "\n",
              "    .dataframe thead th {\n",
              "        text-align: right;\n",
              "    }\n",
              "</style>\n",
              "<table border=\"1\" class=\"dataframe\">\n",
              "  <thead>\n",
              "    <tr style=\"text-align: right;\">\n",
              "      <th></th>\n",
              "      <th>Model</th>\n",
              "      <th>alpha</th>\n",
              "      <th>train_log_loss</th>\n",
              "      <th>test_log_loss</th>\n",
              "      <th>Accuracy(%)</th>\n",
              "    </tr>\n",
              "  </thead>\n",
              "  <tbody>\n",
              "    <tr>\n",
              "      <th>0</th>\n",
              "      <td>Logistic Regression</td>\n",
              "      <td>0.001</td>\n",
              "      <td>1.113</td>\n",
              "      <td>1.214</td>\n",
              "      <td>0.566917</td>\n",
              "    </tr>\n",
              "  </tbody>\n",
              "</table>\n",
              "</div>"
            ],
            "text/plain": [
              "                 Model  alpha  train_log_loss  test_log_loss  Accuracy(%)\n",
              "0  Logistic Regression  0.001           1.113          1.214     0.566917"
            ]
          },
          "metadata": {},
          "execution_count": 40
        }
      ]
    },
    {
      "cell_type": "markdown",
      "metadata": {
        "id": "xkog9yCmAIS1"
      },
      "source": [
        "- We can see that Gene feature is reasonably stable across the train and test dataset."
      ]
    },
    {
      "cell_type": "code",
      "metadata": {
        "colab": {
          "base_uri": "https://localhost:8080/"
        },
        "id": "3x-vRJ9J9kge",
        "outputId": "3b191bfa-4214-4c0c-e409-a68a4da853dd"
      },
      "source": [
        "# top 10 Variations that accurred the most\n",
        "X_train['Variation'].value_counts().head(10)"
      ],
      "execution_count": 36,
      "outputs": [
        {
          "output_type": "execute_result",
          "data": {
            "text/plain": [
              "Truncating_Mutations    80\n",
              "Amplification           55\n",
              "Deletion                55\n",
              "Fusions                 28\n",
              "Overexpression           5\n",
              "G12V                     4\n",
              "Q61L                     3\n",
              "Q61H                     3\n",
              "E17K                     3\n",
              "A146V                    2\n",
              "Name: Variation, dtype: int64"
            ]
          },
          "metadata": {},
          "execution_count": 36
        }
      ]
    },
    {
      "cell_type": "code",
      "metadata": {
        "id": "vnPGN0J2AkY5"
      },
      "source": [
        "vectorizer = CountVectorizer()    # one hot encoding 효과\n",
        "X_train_Variation =  vectorizer.fit_transform(X_train['Variation'])\n",
        "X_test_Variation  =  vectorizer.transform(X_test['Variation'])"
      ],
      "execution_count": 37,
      "outputs": []
    },
    {
      "cell_type": "code",
      "metadata": {
        "colab": {
          "base_uri": "https://localhost:8080/",
          "height": 80
        },
        "id": "Eyq4JInWAned",
        "outputId": "2bbbb7b6-9e04-4051-8ea8-346ed0d08133"
      },
      "source": [
        "alpha = 0.001\n",
        "clf = SGDClassifier(class_weight='balanced', alpha=alpha, penalty='l2', loss='log', random_state=42)\n",
        "model_performance('Logistic Regression',\n",
        "                  clf,\n",
        "                  alpha,\n",
        "                  X_train_Variation, y_train,\n",
        "                  X_test_Variation, y_test)[0]"
      ],
      "execution_count": 39,
      "outputs": [
        {
          "output_type": "execute_result",
          "data": {
            "text/html": [
              "<div>\n",
              "<style scoped>\n",
              "    .dataframe tbody tr th:only-of-type {\n",
              "        vertical-align: middle;\n",
              "    }\n",
              "\n",
              "    .dataframe tbody tr th {\n",
              "        vertical-align: top;\n",
              "    }\n",
              "\n",
              "    .dataframe thead th {\n",
              "        text-align: right;\n",
              "    }\n",
              "</style>\n",
              "<table border=\"1\" class=\"dataframe\">\n",
              "  <thead>\n",
              "    <tr style=\"text-align: right;\">\n",
              "      <th></th>\n",
              "      <th>Model</th>\n",
              "      <th>alpha</th>\n",
              "      <th>train_log_loss</th>\n",
              "      <th>test_log_loss</th>\n",
              "      <th>Accuracy(%)</th>\n",
              "    </tr>\n",
              "  </thead>\n",
              "  <tbody>\n",
              "    <tr>\n",
              "      <th>0</th>\n",
              "      <td>Logistic Regression</td>\n",
              "      <td>0.001</td>\n",
              "      <td>1.164</td>\n",
              "      <td>1.703</td>\n",
              "      <td>0.345865</td>\n",
              "    </tr>\n",
              "  </tbody>\n",
              "</table>\n",
              "</div>"
            ],
            "text/plain": [
              "                 Model  alpha  train_log_loss  test_log_loss  Accuracy(%)\n",
              "0  Logistic Regression  0.001           1.164          1.703     0.345865"
            ]
          },
          "metadata": {},
          "execution_count": 39
        }
      ]
    },
    {
      "cell_type": "markdown",
      "metadata": {
        "id": "NZa33efaA7DN"
      },
      "source": [
        "- Variation feature is also considered to be stable across the train and test dataset (not more than Gene)."
      ]
    },
    {
      "cell_type": "code",
      "metadata": {
        "colab": {
          "base_uri": "https://localhost:8080/"
        },
        "id": "GhgCg9Aj59C0",
        "outputId": "628647df-df7d-4189-dcdd-8c3919232cf0"
      },
      "source": [
        "X_train_Gene.toarray().shape, X_train_Variation.toarray().shape"
      ],
      "execution_count": 56,
      "outputs": [
        {
          "output_type": "execute_result",
          "data": {
            "text/plain": [
              "((2656, 244), (2656, 2434))"
            ]
          },
          "metadata": {},
          "execution_count": 56
        }
      ]
    },
    {
      "cell_type": "code",
      "metadata": {
        "colab": {
          "base_uri": "https://localhost:8080/"
        },
        "id": "X3mmlJ0F6Vj1",
        "outputId": "6d2db857-516f-407f-af97-c80a083759d0"
      },
      "source": [
        "np.concatenate([X_train_Gene.toarray(), X_train_Variation.toarray()], axis=1).shape"
      ],
      "execution_count": 55,
      "outputs": [
        {
          "output_type": "execute_result",
          "data": {
            "text/plain": [
              "(2656, 2678)"
            ]
          },
          "metadata": {},
          "execution_count": 55
        }
      ]
    },
    {
      "cell_type": "code",
      "metadata": {
        "colab": {
          "base_uri": "https://localhost:8080/",
          "height": 80
        },
        "id": "iGxBbNQh5qkt",
        "outputId": "c37e01b6-5d9e-4192-8d01-328eb9b5b14c"
      },
      "source": [
        "X_train_Comb = np.concatenate([X_train_Gene.toarray(), X_train_Variation.toarray()], axis=1)\n",
        "X_test_Comb = np.concatenate([X_test_Gene.toarray(), X_test_Variation.toarray()], axis=1)\n",
        "alpha = 0.001\n",
        "clf = SGDClassifier(class_weight='balanced', alpha=alpha, penalty='l2', loss='log', random_state=42)\n",
        "model_performance('Logistic Regression',\n",
        "                  clf,\n",
        "                  alpha,\n",
        "                  X_train_Comb, y_train,\n",
        "                  X_test_Comb, y_test)[0]"
      ],
      "execution_count": 58,
      "outputs": [
        {
          "output_type": "execute_result",
          "data": {
            "text/html": [
              "<div>\n",
              "<style scoped>\n",
              "    .dataframe tbody tr th:only-of-type {\n",
              "        vertical-align: middle;\n",
              "    }\n",
              "\n",
              "    .dataframe tbody tr th {\n",
              "        vertical-align: top;\n",
              "    }\n",
              "\n",
              "    .dataframe thead th {\n",
              "        text-align: right;\n",
              "    }\n",
              "</style>\n",
              "<table border=\"1\" class=\"dataframe\">\n",
              "  <thead>\n",
              "    <tr style=\"text-align: right;\">\n",
              "      <th></th>\n",
              "      <th>Model</th>\n",
              "      <th>alpha</th>\n",
              "      <th>train_log_loss</th>\n",
              "      <th>test_log_loss</th>\n",
              "      <th>Accuracy(%)</th>\n",
              "    </tr>\n",
              "  </thead>\n",
              "  <tbody>\n",
              "    <tr>\n",
              "      <th>0</th>\n",
              "      <td>Logistic Regression</td>\n",
              "      <td>0.001</td>\n",
              "      <td>0.863</td>\n",
              "      <td>1.126</td>\n",
              "      <td>0.61203</td>\n",
              "    </tr>\n",
              "  </tbody>\n",
              "</table>\n",
              "</div>"
            ],
            "text/plain": [
              "                 Model  alpha  train_log_loss  test_log_loss  Accuracy(%)\n",
              "0  Logistic Regression  0.001           0.863          1.126      0.61203"
            ]
          },
          "metadata": {},
          "execution_count": 58
        }
      ]
    },
    {
      "cell_type": "markdown",
      "metadata": {
        "id": "Hqv_atr47zaL"
      },
      "source": [
        "- little better than single feature data"
      ]
    },
    {
      "cell_type": "markdown",
      "metadata": {
        "id": "KNTuZX-3BSSu"
      },
      "source": [
        "### 3.2 Featuring Text data"
      ]
    },
    {
      "cell_type": "markdown",
      "metadata": {
        "id": "pIrHPbSASKXm"
      },
      "source": [
        "- let's see what words are the mostly occurred in each class"
      ]
    },
    {
      "cell_type": "code",
      "metadata": {
        "colab": {
          "base_uri": "https://localhost:8080/"
        },
        "id": "Fqh2_zSj9Nfr",
        "outputId": "f2bf8c0b-f05d-411c-b585-9f83ecd84667"
      },
      "source": [
        "text_vectorizer = CountVectorizer(max_features=10000, min_df=3)\n",
        "# text_vectorizer = TfidfVectorizer(max_features=10000, min_df=3)\n",
        "X_train_Text = text_vectorizer.fit_transform(X_train['TEXT'])\n",
        "X_test_Text = text_vectorizer.transform(X_test['TEXT'])\n",
        "\n",
        "# getting all the feature names (words)\n",
        "X_train_Text_features = text_vectorizer.get_feature_names()\n",
        "print(\"Total number of unique words in train data :\", len(X_train_Text_features))"
      ],
      "execution_count": 59,
      "outputs": [
        {
          "output_type": "stream",
          "name": "stdout",
          "text": [
            "Total number of unique words in train data : 10000\n"
          ]
        }
      ]
    },
    {
      "cell_type": "code",
      "metadata": {
        "id": "pGkpPy2yIOid"
      },
      "source": [
        "# classs i 에서 대한 전체 count(or tfidf) 값이 높은 top_n 개의 단어\n",
        "def class_features(i, top_n = 10):\n",
        "    if top_n > len(y_train[y_train == i]):\n",
        "        top_n = len(y_train[y_train == i])\n",
        "    idx = X_train_Text[y_train == i].toarray().sum(axis=0).argsort()[::-1][:top_n]\n",
        "    features = [text_vectorizer.get_feature_names()[i] for i in idx]\n",
        "    return features"
      ],
      "execution_count": 60,
      "outputs": []
    },
    {
      "cell_type": "code",
      "metadata": {
        "colab": {
          "base_uri": "https://localhost:8080/"
        },
        "id": "hsnilYilLqFK",
        "outputId": "575e8e06-c458-4d0e-d326-3befeb2ce4a6"
      },
      "source": [
        "print(\"The most occurred 10 features for each class: \")\n",
        "for i in range(1,10):\n",
        "    words = class_features(i,10)\n",
        "    print (\"class {}: \".format(i), words)"
      ],
      "execution_count": 61,
      "outputs": [
        {
          "output_type": "stream",
          "name": "stdout",
          "text": [
            "The most occurred 10 features for each class: \n",
            "class 1:  ['mutations', 'cells', 'cell', 'et', 'al', 'p53', 'protein', 'cancer', 'fig', 'mutation']\n",
            "class 2:  ['mutations', 'cells', 'patients', 'cell', 'mutation', 'et', 'al', 'cancer', 'fig', 'figure']\n",
            "class 3:  ['mutations', 'brca1', 'cells', 'variants', 'cancer', 'al', 'et', 'figure', 'mutation', 'mtor']\n",
            "class 4:  ['mutations', 'cells', 'pten', 'protein', 'et', 'al', 'activity', 'fig', 'cell', 'figure']\n",
            "class 5:  ['brca1', 'variants', 'mutations', 'cancer', 'cells', 'protein', 'mutation', 'functional', 'type', 'vus']\n",
            "class 6:  ['brca1', 'mutations', 'variants', 'cancer', 'cells', 'mutation', 'fig', 'data', 'deleterious', 'binding']\n",
            "class 7:  ['mutations', 'cells', 'cell', 'patients', 'mutation', 'egfr', 'fig', 'kinase', 'figure', 'et']\n",
            "class 8:  ['mutations', 'cells', 'al', 'et', 'idh1', 'figure', 'akt', 'expression', 'mutant', 'cell']\n",
            "class 9:  ['cells', 'mutations', 'sf3b1', 'mutant', 'splicing', 'cell', 'figure', 'et', 'al', 'expression']\n"
          ]
        }
      ]
    },
    {
      "cell_type": "markdown",
      "metadata": {
        "id": "R6TxUP0BT-_7"
      },
      "source": [
        "- Now we see that tfidf will be better than countvectorizer."
      ]
    },
    {
      "cell_type": "code",
      "metadata": {
        "colab": {
          "base_uri": "https://localhost:8080/"
        },
        "id": "qzFMDO1-T7sk",
        "outputId": "ec92f2c2-45cd-4658-b35d-d980f94fce0d"
      },
      "source": [
        "# tfidf vectorizer\n",
        "text_vectorizer = TfidfVectorizer(max_features=10000, min_df=3)\n",
        "X_train_Text = text_vectorizer.fit_transform(X_train['TEXT'])\n",
        "X_test_Text = text_vectorizer.transform(X_test['TEXT'])\n",
        "\n",
        "# getting all the feature names (words)\n",
        "X_train_Text_features = text_vectorizer.get_feature_names()\n",
        "print(\"Total number of unique words in train data :\", len(X_train_Text_features))"
      ],
      "execution_count": 62,
      "outputs": [
        {
          "output_type": "stream",
          "name": "stdout",
          "text": [
            "Total number of unique words in train data : 10000\n"
          ]
        }
      ]
    },
    {
      "cell_type": "code",
      "metadata": {
        "colab": {
          "base_uri": "https://localhost:8080/"
        },
        "id": "9Qxpjal8UlUz",
        "outputId": "0f7fb2ce-753a-40df-f8bb-1cfb31820a65"
      },
      "source": [
        "print(\"The most occurred 10 features for each class: \")\n",
        "for i in range(1,10):\n",
        "    words = class_features(i,10)\n",
        "    print (\"class {}: \".format(i), words)"
      ],
      "execution_count": 63,
      "outputs": [
        {
          "output_type": "stream",
          "name": "stdout",
          "text": [
            "The most occurred 10 features for each class: \n",
            "class 1:  ['p53', 'mutations', 'brca1', 'variants', 'cells', 'brct', 'fig', 'tsc2', 'et', 'al']\n",
            "class 2:  ['mutations', 'egfr', 'patients', 'imatinib', 'braf', 'cells', 'kit', 'mutation', 'al', 'et']\n",
            "class 3:  ['brca1', 'mtor', 'mutations', 'alk', 'tsc1', 'cells', 'variants', 'pdgfra', 'flt3', 'mtorc1']\n",
            "class 4:  ['pten', 'mutations', 'p53', 'brca1', 'cells', 'variants', 'et', 'al', 'activity', 'fig']\n",
            "class 5:  ['brca1', 'variants', 'vus', 'brct', 'mutations', 'neutral', 'cancer', 'brca2', 'deleterious', 'variant']\n",
            "class 6:  ['brca1', 'variants', 'deleterious', 'brca2', 'vus', 'brca', 'mutations', 'odds', 'vuss', 'cancer']\n",
            "class 7:  ['mutations', 'cells', 'egfr', 'cell', 'fig', 'kinase', 'patients', 'alk', 'mutation', 'raf']\n",
            "class 8:  ['bcor', '2hg', 'idh2', 'idh1', 'h3', 'akt', 'rara', 'cells', 'ccnb3', 'idh']\n",
            "class 9:  ['sf3b1', 'splicing', 'ezh2', 'mds', 'u2af35', '2hg', 'sf3b1mut', 'u2af1', 'cells', 'mutations']\n"
          ]
        }
      ]
    },
    {
      "cell_type": "code",
      "metadata": {
        "colab": {
          "base_uri": "https://localhost:8080/"
        },
        "id": "3l0HQOq8DVwI",
        "outputId": "8fdbde30-ef35-4864-d2fd-6d5d5f33ce43"
      },
      "source": [
        "X_train_Text.shape, X_test_Text.shape"
      ],
      "execution_count": 64,
      "outputs": [
        {
          "output_type": "execute_result",
          "data": {
            "text/plain": [
              "((2656, 10000), (665, 10000))"
            ]
          },
          "metadata": {},
          "execution_count": 64
        }
      ]
    },
    {
      "cell_type": "code",
      "metadata": {
        "colab": {
          "base_uri": "https://localhost:8080/"
        },
        "id": "eCYDp4mSEATj",
        "outputId": "27324b43-4ef1-456c-d741-29f9b87510eb"
      },
      "source": [
        "X_train_Text_features[:10]"
      ],
      "execution_count": 65,
      "outputs": [
        {
          "output_type": "execute_result",
          "data": {
            "text/plain": [
              "['00', '000', '0001', '0002', '0008', '001', '002', '003', '004', '005']"
            ]
          },
          "metadata": {},
          "execution_count": 65
        }
      ]
    },
    {
      "cell_type": "code",
      "metadata": {
        "id": "5l_0Zmwy9Nci"
      },
      "source": [
        "# do not forget to normalize every feature\n",
        "X_train_Text = normalize(X_train_Text, axis=0)\n",
        "X_test_Text = normalize(X_test_Text, axis=0)"
      ],
      "execution_count": 66,
      "outputs": []
    },
    {
      "cell_type": "code",
      "metadata": {
        "colab": {
          "base_uri": "https://localhost:8080/"
        },
        "id": "wG5VHy_LGwNb",
        "outputId": "a8f255ad-59ef-420f-ac66-673a1e3a1806"
      },
      "source": [
        "X_train_Gene.shape, X_train_Variation.shape, X_train_Text.shape"
      ],
      "execution_count": 68,
      "outputs": [
        {
          "output_type": "execute_result",
          "data": {
            "text/plain": [
              "((2656, 244), (2656, 2434), (2656, 10000))"
            ]
          },
          "metadata": {},
          "execution_count": 68
        }
      ]
    },
    {
      "cell_type": "markdown",
      "metadata": {
        "id": "I-rkKtf6VeIT"
      },
      "source": [
        "### 3.3 Stacking all the fatures"
      ]
    },
    {
      "cell_type": "code",
      "metadata": {
        "id": "NZKMFa9Z9NSw"
      },
      "source": [
        "# stacking\n",
        "X_train_stacked = hstack([hstack([X_train_Gene, X_train_Variation]), X_train_Text])\n",
        "X_test_stacked  = hstack([hstack([X_test_Gene, X_test_Variation]), X_test_Text])"
      ],
      "execution_count": 69,
      "outputs": []
    },
    {
      "cell_type": "code",
      "metadata": {
        "colab": {
          "base_uri": "https://localhost:8080/"
        },
        "id": "l8K1wbopD0vz",
        "outputId": "efd7cd60-6bd9-46e6-9861-6c4b7c47f5e6"
      },
      "source": [
        "X_train_stacked.shape, X_test_stacked.shape, y_train.shape, y_test.shape"
      ],
      "execution_count": 70,
      "outputs": [
        {
          "output_type": "execute_result",
          "data": {
            "text/plain": [
              "((2656, 12678), (665, 12678), (2656,), (665,))"
            ]
          },
          "metadata": {},
          "execution_count": 70
        }
      ]
    },
    {
      "cell_type": "markdown",
      "metadata": {
        "id": "F0sdr9nz8QtR"
      },
      "source": [
        "- tSNE 는 계산 시간이 많이 걸리므로 feature 수나 sample 수가 많을 경우에는 PCA (dense matrix)나 TruncatedSVD (sparse matrix 의 경우)를 사용할 것을 권장한다."
      ]
    },
    {
      "cell_type": "code",
      "metadata": {
        "colab": {
          "base_uri": "https://localhost:8080/",
          "height": 504
        },
        "id": "tk4TjpjalalY",
        "outputId": "14bb2bc9-b6f9-48a6-ee28-d18bd5be00ba"
      },
      "source": [
        "# to see the distribution of the classes\n",
        "# xall = np.concatenate([X_train_stacked.toarray(), X_test_stacked.toarray()])\n",
        "# yall = np.concatenate([y_train, y_test])\n",
        "# xall = normalize(xall, axis=0)\n",
        "\n",
        "plt.figure(figsize=(16, 8))\n",
        "plt.subplot(1,2,1)\n",
        "tr_svd = TruncatedSVD(n_components=2, n_iter=250)\n",
        "tsvd = tr_svd.fit_transform(X_train_stacked.toarray())\n",
        "\n",
        "plt.xlim([0., 1.])\n",
        "plt.ylim([-0.3, 0.1])\n",
        "plt.scatter(tsvd[:,0], tsvd[:,1], c=y_train, s=3)\n",
        "plt.colorbar()\n",
        "\n",
        "plt.subplot(1,2,2)\n",
        "tsvd = tr_svd.transform(X_test_stacked.toarray())\n",
        "\n",
        "plt.xlim([0., 1.])\n",
        "plt.ylim([-0.3, 0.1])\n",
        "plt.scatter(tsvd[:,0], tsvd[:,1], c=y_test, s=3)\n",
        "plt.colorbar()"
      ],
      "execution_count": 71,
      "outputs": [
        {
          "output_type": "execute_result",
          "data": {
            "text/plain": [
              "<matplotlib.colorbar.Colorbar at 0x7f90be3524d0>"
            ]
          },
          "metadata": {},
          "execution_count": 71
        },
        {
          "output_type": "display_data",
          "data": {
            "image/png": "[encoded data removed]",
            "text/plain": [
              "<Figure size 1152x576 with 4 Axes>"
            ]
          },
          "metadata": {
            "needs_background": "light"
          }
        }
      ]
    },
    {
      "cell_type": "markdown",
      "metadata": {
        "id": "xkhz2gxUUqVS"
      },
      "source": [
        "## 4. Baseline Model Generation\n",
        "- The idea behind random model is to create a reference error value (True - Generated), based on randomly generated value.\n",
        "- This reference error gives a sense of how well our build model performce against the randomly generated values.\n",
        "- How we construct random model for our multiclassification case:\n",
        "  - Use Dummy classifier mode as the baseline model\n",
        "  - performance metrics are Log_loss and accuracy"
      ]
    },
    {
      "cell_type": "code",
      "metadata": {
        "id": "iNjy4zY2UaXd",
        "colab": {
          "base_uri": "https://localhost:8080/"
        },
        "outputId": "ba1e9051-9ecd-41ed-e67b-6fc77fade43a"
      },
      "source": [
        "# create baseline model\n",
        "from sklearn.dummy import DummyClassifier\n",
        "from sklearn.metrics import confusion_matrix, classification_report, accuracy_score\n",
        "\n",
        "dummy_clf = DummyClassifier()\n",
        "dummy_clf.fit(X_train_stacked, y_train)\n",
        "\n",
        "print(\"Accuracy and Log loss on Test Data using Dummy Model: \")\n",
        "print(accuracy_score(y_test, dummy_clf.predict(X_test_stacked)), \n",
        "      log_loss(y_test, dummy_clf.predict_proba(X_test_stacked)))\n",
        "\n",
        "# print(confusion_matrix(y_test, dummy_clf.predict(X_test.values)))\n",
        "print()\n",
        "print(classification_report(y_test, dummy_clf.predict(X_test.values)))"
      ],
      "execution_count": 73,
      "outputs": [
        {
          "output_type": "stream",
          "name": "stdout",
          "text": [
            "Accuracy and Log loss on Test Data using Dummy Model: \n",
            "0.18947368421052632 28.513967279407474\n",
            "\n",
            "              precision    recall  f1-score   support\n",
            "\n",
            "           1       0.24      0.26      0.25       114\n",
            "           2       0.08      0.08      0.08        91\n",
            "           3       0.00      0.00      0.00        18\n",
            "           4       0.23      0.23      0.23       137\n",
            "           5       0.09      0.06      0.07        48\n",
            "           6       0.07      0.07      0.07        55\n",
            "           7       0.29      0.29      0.29       191\n",
            "           8       0.25      0.25      0.25         4\n",
            "           9       0.00      0.00      0.00         7\n",
            "\n",
            "    accuracy                           0.20       665\n",
            "   macro avg       0.14      0.14      0.14       665\n",
            "weighted avg       0.20      0.20      0.20       665\n",
            "\n"
          ]
        }
      ]
    },
    {
      "cell_type": "markdown",
      "metadata": {
        "id": "9_fE26BdL5Bd"
      },
      "source": [
        "## 5. Model selection"
      ]
    },
    {
      "cell_type": "code",
      "metadata": {
        "colab": {
          "base_uri": "https://localhost:8080/"
        },
        "id": "QSemdmu1Grit",
        "outputId": "19c0972d-18ec-4e8a-9e07-194296c38a95"
      },
      "source": [
        "for i in range(3,10,2):\n",
        "    alpha = 'n_neighbors=',str(i)\n",
        "    clf = KNeighborsClassifier(n_neighbors=i)\n",
        "    print (model_performance('Knn', \n",
        "                      clf,\n",
        "                      alpha,\n",
        "                      X_train_stacked, y_train,\n",
        "                      X_test_stacked, y_test)[0])"
      ],
      "execution_count": 74,
      "outputs": [
        {
          "output_type": "stream",
          "name": "stdout",
          "text": [
            "  Model              alpha  train_log_loss  test_log_loss  Accuracy(%)\n",
            "0   Knn  (n_neighbors=, 3)           0.739          1.074     0.639098\n",
            "  Model              alpha  train_log_loss  test_log_loss  Accuracy(%)\n",
            "0   Knn  (n_neighbors=, 5)           0.813          1.041     0.652632\n",
            "  Model              alpha  train_log_loss  test_log_loss  Accuracy(%)\n",
            "0   Knn  (n_neighbors=, 7)           0.876          1.046     0.652632\n",
            "  Model              alpha  train_log_loss  test_log_loss  Accuracy(%)\n",
            "0   Knn  (n_neighbors=, 9)           0.914          1.067     0.639098\n"
          ]
        }
      ]
    },
    {
      "cell_type": "code",
      "metadata": {
        "colab": {
          "base_uri": "https://localhost:8080/",
          "height": 81
        },
        "id": "ijedQoiYD0qW",
        "outputId": "e0a019a0-8023-4014-91ab-ed39d727743f"
      },
      "source": [
        "clf = MultinomialNB(alpha=0.001)\n",
        "alpha = 0.001\n",
        "model_performance('Naive Bayes', \n",
        "                  clf,\n",
        "                  alpha,\n",
        "                  X_train_stacked, y_train,\n",
        "                  X_test_stacked, y_test)[0]\n"
      ],
      "execution_count": null,
      "outputs": [
        {
          "output_type": "execute_result",
          "data": {
            "text/html": [
              "<div>\n",
              "<style scoped>\n",
              "    .dataframe tbody tr th:only-of-type {\n",
              "        vertical-align: middle;\n",
              "    }\n",
              "\n",
              "    .dataframe tbody tr th {\n",
              "        vertical-align: top;\n",
              "    }\n",
              "\n",
              "    .dataframe thead th {\n",
              "        text-align: right;\n",
              "    }\n",
              "</style>\n",
              "<table border=\"1\" class=\"dataframe\">\n",
              "  <thead>\n",
              "    <tr style=\"text-align: right;\">\n",
              "      <th></th>\n",
              "      <th>Model</th>\n",
              "      <th>alpha</th>\n",
              "      <th>train_log_loss</th>\n",
              "      <th>test_log_loss</th>\n",
              "      <th>Accuracy(%)</th>\n",
              "    </tr>\n",
              "  </thead>\n",
              "  <tbody>\n",
              "    <tr>\n",
              "      <th>0</th>\n",
              "      <td>Naive Bayes</td>\n",
              "      <td>0.001</td>\n",
              "      <td>0.746</td>\n",
              "      <td>1.24</td>\n",
              "      <td>0.622556</td>\n",
              "    </tr>\n",
              "  </tbody>\n",
              "</table>\n",
              "</div>"
            ],
            "text/plain": [
              "         Model  alpha  train_log_loss  test_log_loss  Accuracy(%)\n",
              "0  Naive Bayes  0.001           0.746           1.24     0.622556"
            ]
          },
          "metadata": {},
          "execution_count": 45
        }
      ]
    },
    {
      "cell_type": "code",
      "metadata": {
        "colab": {
          "base_uri": "https://localhost:8080/",
          "height": 81
        },
        "id": "Agq0sgqedyR5",
        "outputId": "591f6cfc-36e9-4c00-85a4-76887701731e"
      },
      "source": [
        "alpha = 0.001\n",
        "clf = SGDClassifier(class_weight='balanced', alpha=alpha, penalty='l2', random_state=42)\n",
        "model_performance('Linear SVC (hinge)',\n",
        "                  clf,\n",
        "                  alpha,\n",
        "                  X_train_stacked, y_train,\n",
        "                  X_test_stacked, y_test)[0]"
      ],
      "execution_count": null,
      "outputs": [
        {
          "output_type": "execute_result",
          "data": {
            "text/html": [
              "<div>\n",
              "<style scoped>\n",
              "    .dataframe tbody tr th:only-of-type {\n",
              "        vertical-align: middle;\n",
              "    }\n",
              "\n",
              "    .dataframe tbody tr th {\n",
              "        vertical-align: top;\n",
              "    }\n",
              "\n",
              "    .dataframe thead th {\n",
              "        text-align: right;\n",
              "    }\n",
              "</style>\n",
              "<table border=\"1\" class=\"dataframe\">\n",
              "  <thead>\n",
              "    <tr style=\"text-align: right;\">\n",
              "      <th></th>\n",
              "      <th>Model</th>\n",
              "      <th>alpha</th>\n",
              "      <th>train_log_loss</th>\n",
              "      <th>test_log_loss</th>\n",
              "      <th>Accuracy(%)</th>\n",
              "    </tr>\n",
              "  </thead>\n",
              "  <tbody>\n",
              "    <tr>\n",
              "      <th>0</th>\n",
              "      <td>Linear SVC (hinge)</td>\n",
              "      <td>0.001</td>\n",
              "      <td>0.486</td>\n",
              "      <td>1.065</td>\n",
              "      <td>0.666165</td>\n",
              "    </tr>\n",
              "  </tbody>\n",
              "</table>\n",
              "</div>"
            ],
            "text/plain": [
              "                Model  alpha  train_log_loss  test_log_loss  Accuracy(%)\n",
              "0  Linear SVC (hinge)  0.001           0.486          1.065     0.666165"
            ]
          },
          "metadata": {},
          "execution_count": 46
        }
      ]
    },
    {
      "cell_type": "code",
      "metadata": {
        "colab": {
          "base_uri": "https://localhost:8080/",
          "height": 80
        },
        "id": "PXAIWHP5D0hW",
        "outputId": "34b36b4a-1868-4eed-9827-14a8d3a79000"
      },
      "source": [
        "alpha ='n_estimators=',str(1500),'max depth=',str(10)\n",
        "\n",
        "clf = RandomForestClassifier(n_estimators=1500, \n",
        "                             max_depth=10,\n",
        "                             criterion='gini', \n",
        "                             random_state=42,\n",
        "                             n_jobs=-1)\n",
        "\n",
        "model_performance('Random Forest',\n",
        "                  clf,\n",
        "                  alpha,\n",
        "                  X_train_stacked, y_train,\n",
        "                  X_test_stacked, y_test)[0]"
      ],
      "execution_count": null,
      "outputs": [
        {
          "output_type": "execute_result",
          "data": {
            "text/html": [
              "<div>\n",
              "<style scoped>\n",
              "    .dataframe tbody tr th:only-of-type {\n",
              "        vertical-align: middle;\n",
              "    }\n",
              "\n",
              "    .dataframe tbody tr th {\n",
              "        vertical-align: top;\n",
              "    }\n",
              "\n",
              "    .dataframe thead th {\n",
              "        text-align: right;\n",
              "    }\n",
              "</style>\n",
              "<table border=\"1\" class=\"dataframe\">\n",
              "  <thead>\n",
              "    <tr style=\"text-align: right;\">\n",
              "      <th></th>\n",
              "      <th>Model</th>\n",
              "      <th>alpha</th>\n",
              "      <th>train_log_loss</th>\n",
              "      <th>test_log_loss</th>\n",
              "      <th>Accuracy(%)</th>\n",
              "    </tr>\n",
              "  </thead>\n",
              "  <tbody>\n",
              "    <tr>\n",
              "      <th>0</th>\n",
              "      <td>Random Forest</td>\n",
              "      <td>(n_estimators=, 1500, max depth=, 10)</td>\n",
              "      <td>0.6</td>\n",
              "      <td>1.135</td>\n",
              "      <td>0.61203</td>\n",
              "    </tr>\n",
              "  </tbody>\n",
              "</table>\n",
              "</div>"
            ],
            "text/plain": [
              "           Model  ... Accuracy(%)\n",
              "0  Random Forest  ...     0.61203\n",
              "\n",
              "[1 rows x 5 columns]"
            ]
          },
          "metadata": {},
          "execution_count": 131
        }
      ]
    },
    {
      "cell_type": "code",
      "metadata": {
        "colab": {
          "base_uri": "https://localhost:8080/",
          "height": 81
        },
        "id": "By9_pT-FSfs3",
        "outputId": "1f7157ac-c269-4add-da0c-37414a7364cf"
      },
      "source": [
        "alpha = 0.0001\n",
        "clf = SGDClassifier(class_weight='balanced', alpha=alpha, penalty='l2', loss='log', random_state=42)\n",
        "perf = model_performance('Logistic Regression',\n",
        "                  clf,\n",
        "                  alpha,\n",
        "                  X_train_stacked, y_train,\n",
        "                  X_test_stacked, y_test)\n",
        "perf[0]"
      ],
      "execution_count": null,
      "outputs": [
        {
          "output_type": "execute_result",
          "data": {
            "text/html": [
              "<div>\n",
              "<style scoped>\n",
              "    .dataframe tbody tr th:only-of-type {\n",
              "        vertical-align: middle;\n",
              "    }\n",
              "\n",
              "    .dataframe tbody tr th {\n",
              "        vertical-align: top;\n",
              "    }\n",
              "\n",
              "    .dataframe thead th {\n",
              "        text-align: right;\n",
              "    }\n",
              "</style>\n",
              "<table border=\"1\" class=\"dataframe\">\n",
              "  <thead>\n",
              "    <tr style=\"text-align: right;\">\n",
              "      <th></th>\n",
              "      <th>Model</th>\n",
              "      <th>alpha</th>\n",
              "      <th>train_log_loss</th>\n",
              "      <th>test_log_loss</th>\n",
              "      <th>Accuracy(%)</th>\n",
              "    </tr>\n",
              "  </thead>\n",
              "  <tbody>\n",
              "    <tr>\n",
              "      <th>0</th>\n",
              "      <td>Logistic Regression</td>\n",
              "      <td>0.0001</td>\n",
              "      <td>0.367</td>\n",
              "      <td>1.031</td>\n",
              "      <td>0.693233</td>\n",
              "    </tr>\n",
              "  </tbody>\n",
              "</table>\n",
              "</div>"
            ],
            "text/plain": [
              "                 Model   alpha  train_log_loss  test_log_loss  Accuracy(%)\n",
              "0  Logistic Regression  0.0001           0.367          1.031     0.693233"
            ]
          },
          "metadata": {},
          "execution_count": 59
        }
      ]
    },
    {
      "cell_type": "code",
      "metadata": {
        "colab": {
          "base_uri": "https://localhost:8080/"
        },
        "id": "rCtUY17gryp1",
        "outputId": "6ec976e4-8306-4b10-ddd7-692007aa0925"
      },
      "source": [
        "confusion_matrix(y_test, perf[1])"
      ],
      "execution_count": null,
      "outputs": [
        {
          "output_type": "execute_result",
          "data": {
            "text/plain": [
              "array([[ 82,   2,   1,  20,   5,   2,   2,   0,   0],\n",
              "       [  2,  45,   0,   1,   1,   3,  39,   0,   0],\n",
              "       [  2,   0,   7,   3,   0,   0,   6,   0,   0],\n",
              "       [ 20,   0,   3, 109,   3,   1,   1,   0,   0],\n",
              "       [ 13,   1,   0,   6,  14,   4,  10,   0,   0],\n",
              "       [ 12,   3,   0,   3,   1,  30,   6,   0,   0],\n",
              "       [  1,  15,   1,   3,   1,   0, 168,   1,   1],\n",
              "       [  0,   2,   0,   0,   0,   0,   1,   1,   0],\n",
              "       [  0,   1,   0,   0,   0,   0,   0,   1,   5]])"
            ]
          },
          "metadata": {},
          "execution_count": 60
        }
      ]
    },
    {
      "cell_type": "code",
      "metadata": {
        "colab": {
          "base_uri": "https://localhost:8080/"
        },
        "id": "HomMASrlr5kK",
        "outputId": "79e78ea3-5041-4860-92a7-f3b4d0c72f4b"
      },
      "source": [
        "print(classification_report(y_test, perf[1]))"
      ],
      "execution_count": null,
      "outputs": [
        {
          "output_type": "stream",
          "name": "stdout",
          "text": [
            "              precision    recall  f1-score   support\n",
            "\n",
            "           1       0.62      0.72      0.67       114\n",
            "           2       0.65      0.49      0.56        91\n",
            "           3       0.58      0.39      0.47        18\n",
            "           4       0.75      0.80      0.77       137\n",
            "           5       0.56      0.29      0.38        48\n",
            "           6       0.75      0.55      0.63        55\n",
            "           7       0.72      0.88      0.79       191\n",
            "           8       0.33      0.25      0.29         4\n",
            "           9       0.83      0.71      0.77         7\n",
            "\n",
            "    accuracy                           0.69       665\n",
            "   macro avg       0.65      0.56      0.59       665\n",
            "weighted avg       0.69      0.69      0.68       665\n",
            "\n"
          ]
        }
      ]
    },
    {
      "cell_type": "markdown",
      "metadata": {
        "id": "CPD7O4AqsC8D"
      },
      "source": [
        "## 6. Using Deep Learning model with Doc2Vec"
      ]
    },
    {
      "cell_type": "code",
      "metadata": {
        "colab": {
          "base_uri": "https://localhost:8080/",
          "height": 203
        },
        "id": "OlKKGK-MsFoS",
        "outputId": "5e387e84-ae9c-46dc-b679-085aee9e5f99"
      },
      "source": [
        "all_data.head()"
      ],
      "execution_count": 75,
      "outputs": [
        {
          "output_type": "execute_result",
          "data": {
            "text/html": [
              "<div>\n",
              "<style scoped>\n",
              "    .dataframe tbody tr th:only-of-type {\n",
              "        vertical-align: middle;\n",
              "    }\n",
              "\n",
              "    .dataframe tbody tr th {\n",
              "        vertical-align: top;\n",
              "    }\n",
              "\n",
              "    .dataframe thead th {\n",
              "        text-align: right;\n",
              "    }\n",
              "</style>\n",
              "<table border=\"1\" class=\"dataframe\">\n",
              "  <thead>\n",
              "    <tr style=\"text-align: right;\">\n",
              "      <th></th>\n",
              "      <th>ID</th>\n",
              "      <th>Gene</th>\n",
              "      <th>Variation</th>\n",
              "      <th>Class</th>\n",
              "      <th>TEXT</th>\n",
              "    </tr>\n",
              "  </thead>\n",
              "  <tbody>\n",
              "    <tr>\n",
              "      <th>0</th>\n",
              "      <td>0</td>\n",
              "      <td>FAM58A</td>\n",
              "      <td>Truncating_Mutations</td>\n",
              "      <td>1</td>\n",
              "      <td>cyclin dependent kinases cdks regulate variety...</td>\n",
              "    </tr>\n",
              "    <tr>\n",
              "      <th>1</th>\n",
              "      <td>1</td>\n",
              "      <td>CBL</td>\n",
              "      <td>W802*</td>\n",
              "      <td>2</td>\n",
              "      <td>abstract background non small cell lung cancer...</td>\n",
              "    </tr>\n",
              "    <tr>\n",
              "      <th>2</th>\n",
              "      <td>2</td>\n",
              "      <td>CBL</td>\n",
              "      <td>Q249E</td>\n",
              "      <td>2</td>\n",
              "      <td>abstract background non small cell lung cancer...</td>\n",
              "    </tr>\n",
              "    <tr>\n",
              "      <th>3</th>\n",
              "      <td>3</td>\n",
              "      <td>CBL</td>\n",
              "      <td>N454D</td>\n",
              "      <td>3</td>\n",
              "      <td>recent evidence demonstrated acquired uniparen...</td>\n",
              "    </tr>\n",
              "    <tr>\n",
              "      <th>4</th>\n",
              "      <td>4</td>\n",
              "      <td>CBL</td>\n",
              "      <td>L399V</td>\n",
              "      <td>4</td>\n",
              "      <td>oncogenic mutations monomeric casitas b lineag...</td>\n",
              "    </tr>\n",
              "  </tbody>\n",
              "</table>\n",
              "</div>"
            ],
            "text/plain": [
              "   ID    Gene  ... Class                                               TEXT\n",
              "0   0  FAM58A  ...     1  cyclin dependent kinases cdks regulate variety...\n",
              "1   1     CBL  ...     2  abstract background non small cell lung cancer...\n",
              "2   2     CBL  ...     2  abstract background non small cell lung cancer...\n",
              "3   3     CBL  ...     3  recent evidence demonstrated acquired uniparen...\n",
              "4   4     CBL  ...     4  oncogenic mutations monomeric casitas b lineag...\n",
              "\n",
              "[5 rows x 5 columns]"
            ]
          },
          "metadata": {},
          "execution_count": 75
        }
      ]
    },
    {
      "cell_type": "code",
      "metadata": {
        "id": "DymK371XsjNU"
      },
      "source": [
        "from nltk.corpus import stopwords\n",
        "from gensim.models.doc2vec import TaggedDocument\n",
        "from gensim import utils\n",
        "\n",
        "def constructTaggedSentences(data):\n",
        "    sentences=[]\n",
        "    for index, row in data.iteritems():\n",
        "        sentences.append(TaggedDocument(utils.to_unicode(row).split(), ['Text' + '_%s' % str(index)]))\n",
        "    return sentences"
      ],
      "execution_count": 76,
      "outputs": []
    },
    {
      "cell_type": "code",
      "metadata": {
        "colab": {
          "base_uri": "https://localhost:8080/"
        },
        "id": "-JHXBeUrs_PS",
        "outputId": "c4c57c83-16f1-48e8-c3f1-e583e4f24954"
      },
      "source": [
        "all_data['TEXT'].head()"
      ],
      "execution_count": 77,
      "outputs": [
        {
          "output_type": "execute_result",
          "data": {
            "text/plain": [
              "0    cyclin dependent kinases cdks regulate variety...\n",
              "1    abstract background non small cell lung cancer...\n",
              "2    abstract background non small cell lung cancer...\n",
              "3    recent evidence demonstrated acquired uniparen...\n",
              "4    oncogenic mutations monomeric casitas b lineag...\n",
              "Name: TEXT, dtype: object"
            ]
          },
          "metadata": {},
          "execution_count": 77
        }
      ]
    },
    {
      "cell_type": "code",
      "metadata": {
        "colab": {
          "base_uri": "https://localhost:8080/"
        },
        "id": "-a5hL9NhsjLc",
        "outputId": "f59d09ac-ab50-46d6-c940-53bb7b14446c"
      },
      "source": [
        "sentences = constructTaggedSentences(all_data['TEXT'])\n",
        "len(sentences)"
      ],
      "execution_count": 78,
      "outputs": [
        {
          "output_type": "execute_result",
          "data": {
            "text/plain": [
              "3321"
            ]
          },
          "metadata": {},
          "execution_count": 78
        }
      ]
    },
    {
      "cell_type": "code",
      "metadata": {
        "colab": {
          "base_uri": "https://localhost:8080/"
        },
        "id": "BiHpMU2ssjHH",
        "outputId": "4bf4c52f-72f3-43d2-835d-d69a47887e4c"
      },
      "source": [
        "sentences[0]"
      ],
      "execution_count": 79,
      "outputs": [
        {
          "output_type": "execute_result",
          "data": {
            "text/plain": [
              "TaggedDocument(words=['cyclin', 'dependent', 'kinases', 'cdks', 'regulate', 'variety', 'fundamental', 'cellular', 'processes', 'cdk10', 'stands', 'one', 'last', 'orphan', 'cdks', 'activating', 'cyclin', 'identified', 'kinase', 'activity', 'revealed', 'previous', 'work', 'shown', 'cdk10', 'silencing', 'increases', 'ets2', 'v', 'ets', 'erythroblastosis', 'virus', 'e26', 'oncogene', 'homolog', '2', 'driven', 'activation', 'mapk', 'pathway', 'confers', 'tamoxifen', 'resistance', 'breast', 'cancer', 'cells', 'precise', 'mechanisms', 'cdk10', 'modulates', 'ets2', 'activity', 'generally', 'functions', 'cdk10', 'remain', 'elusive', 'demonstrate', 'cdk10', 'cyclin', 'dependent', 'kinase', 'identifying', 'cyclin', 'activating', 'cyclin', 'cyclin', 'orphan', 'cyclin', 'product', 'fam58a', 'whose', 'mutations', 'cause', 'star', 'syndrome', 'human', 'developmental', 'anomaly', 'whose', 'features', 'include', 'toe', 'syndactyly', 'telecanthus', 'anogenital', 'renal', 'malformations', 'show', 'star', 'syndrome', 'associated', 'cyclin', 'mutants', 'unable', 'interact', 'cdk10', 'cyclin', 'silencing', 'phenocopies', 'cdk10', 'silencing', 'increasing', 'c', 'raf', 'conferring', 'tamoxifen', 'resistance', 'breast', 'cancer', 'cells', 'cdk10', 'cyclin', 'phosphorylates', 'ets2', 'vitro', 'cells', 'positively', 'controls', 'ets2', 'degradation', 'proteasome', 'ets2', 'protein', 'levels', 'increased', 'cells', 'derived', 'star', 'patient', 'increase', 'attributable', 'decreased', 'cyclin', 'levels', 'altogether', 'results', 'reveal', 'additional', 'regulatory', 'mechanism', 'ets2', 'plays', 'key', 'roles', 'cancer', 'development', 'also', 'shed', 'light', 'molecular', 'mechanisms', 'underlying', 'star', 'syndrome', 'cyclin', 'dependent', 'kinases', 'cdks', 'play', 'pivotal', 'role', 'control', 'number', 'fundamental', 'cellular', 'processes', '1', 'human', 'genome', 'contains', '21', 'genes', 'encoding', 'proteins', 'considered', 'members', 'cdk', 'family', 'owing', 'sequence', 'similarity', 'bona', 'fide', 'cdks', 'known', 'activated', 'cyclins', '2', 'although', 'discovered', 'almost', '20', 'ago', '3', '4', 'cdk10', 'remains', 'one', 'two', 'cdks', 'without', 'identified', 'cyclin', 'partner', 'knowledge', 'gap', 'largely', 'impeded', 'exploration', 'biological', 'functions', 'cdk10', 'act', 'positive', 'cell', 'cycle', 'regulator', 'cells', '5', '6', 'tumor', 'suppressor', 'others', '7', '8', 'cdk10', 'interacts', 'ets2', 'v', 'ets', 'erythroblastosis', 'virus', 'e26', 'oncogene', 'homolog', '2', 'transcription', 'factor', 'inhibits', 'transcriptional', 'activity', 'unknown', 'mechanism', '9', 'cdk10', 'knockdown', 'derepresses', 'ets2', 'increases', 'expression', 'c', 'raf', 'protein', 'kinase', 'activates', 'mapk', 'pathway', 'induces', 'resistance', 'mcf7', 'cells', 'tamoxifen', '6', 'deorphanize', 'cdk10', 'identifying', 'cyclin', 'product', 'fam58a', 'binding', 'partner', 'mutations', 'gene', 'predict', 'absence', 'truncation', 'cyclin', 'associated', 'star', 'syndrome', 'whose', 'features', 'include', 'toe', 'syndactyly', 'telecanthus', 'anogenital', 'renal', 'malformations', 'heterozygous', 'females', '10', 'however', 'functions', 'cyclin', 'pathogenesis', 'star', 'syndrome', 'remain', 'unknown', 'show', 'recombinant', 'cdk10', 'cyclin', 'heterodimer', 'active', 'protein', 'kinase', 'phosphorylates', 'ets2', 'vitro', 'cyclin', 'silencing', 'phenocopies', 'cdk10', 'silencing', 'increasing', 'c', 'raf', 'phospho', 'erk', 'expression', 'levels', 'inducing', 'tamoxifen', 'resistance', 'estrogen', 'receptor', 'er', 'breast', 'cancer', 'cells', 'show', 'cdk10', 'cyclin', 'positively', 'controls', 'ets2', 'degradation', 'proteasome', 'phosphorylation', 'two', 'neighboring', 'serines', 'finally', 'detect', 'increased', 'ets2', 'expression', 'level', 'cells', 'derived', 'star', 'patient', 'demonstrate', 'attributable', 'decreased', 'cyclin', 'expression', 'level', 'observed', 'cells', 'previous', 'sectionnext', 'sectionresultsa', 'yeast', 'two', 'hybrid', 'y2h', 'screen', 'unveiled', 'interaction', 'signal', 'cdk10', 'mouse', 'protein', 'whose', 'c', 'terminal', 'half', 'presents', 'strong', 'sequence', 'homology', 'human', 'fam58a', 'gene', 'product', 'whose', 'proposed', 'name', 'cyclin', '11', 'thus', 'performed', 'y2h', 'mating', 'assays', 'determine', 'whether', 'human', 'cdk10', 'interacts', 'human', 'cyclin', 'fig', '1', 'c', 'longest', 'cdk10', 'isoform', 'p1', 'expressed', 'bait', 'protein', 'produced', 'strong', 'interaction', 'phenotype', 'full', 'length', 'cyclin', 'expressed', 'prey', 'protein', 'detectable', 'phenotype', 'cyclin', 'd1', 'p21', 'cip1', 'cdi1', 'kap', 'known', 'binding', 'partners', 'cdks', 'fig', '1b', 'cdk1', 'cdk3', 'also', 'produced', 'y2h', 'signals', 'cyclin', 'albeit', 'notably', 'weaker', 'observed', 'cdk10', 'fig', '1b', 'interaction', 'phenotype', 'also', 'observed', 'full', 'length', 'cyclin', 'cdk10', 'proteins', 'expressed', 'bait', 'prey', 'respectively', 'fig', 's1a', 'tested', 'different', 'isoforms', 'cdk10', 'cyclin', 'originating', 'alternative', 'gene', 'splicing', 'two', 'truncated', 'cyclin', 'proteins', 'corresponding', 'hypothetical', 'products', 'two', 'mutated', 'fam58a', 'genes', 'found', 'star', 'syndrome', 'patients', '10', 'none', 'shorter', 'isoforms', 'produced', 'interaction', 'phenotypes', 'fig', '1', 'c', 'fig', 's1a', 'fig', '1', 'new', 'window', 'download', 'pptfig', '1', 'cdk10', 'cyclin', 'form', 'interaction', 'complex', 'schematic', 'representation', 'different', 'protein', 'isoforms', 'analyzed', 'y2h', 'assays', 'amino', 'acid', 'numbers', 'indicated', 'black', 'boxes', 'indicate', 'internal', 'deletions', 'red', 'box', 'indicates', 'differing', 'amino', 'acid', 'sequence', 'compared', 'cdk10', 'p1', 'b', 'y2h', 'assay', 'set', 'cdk', 'proteins', 'expressed', 'baits', 'fusion', 'lexa', 'dna', 'binding', 'domain', 'cdk', 'interacting', 'proteins', 'expressed', 'preys', 'fusion', 'b42', 'transcriptional', 'activator', 'peg202', 'pjg4', '5', 'empty', 'bait', 'prey', 'plasmids', 'expressing', 'lexa', 'b42', 'respectively', 'lacz', 'used', 'reporter', 'gene', 'blue', 'yeast', 'indicative', 'y2h', 'interaction', 'phenotype', 'c', 'y2h', 'assay', 'different', 'cdk10', 'cyclin', 'isoforms', 'amino', 'terminal', 'region', 'ets2', 'known', 'interact', 'cdk10', '9', 'also', 'assayed', 'western', 'blot', 'analysis', 'myc', 'cdk10', 'wt', 'kd', 'cycm', 'v5', '6his', 'expression', 'levels', 'transfected', 'hek293', 'cells', 'e', 'western', 'blot', 'analysis', 'myc', 'cdk10', 'wt', 'kd', 'immunoprecipitates', 'obtained', 'using', 'anti', 'myc', 'antibody', 'inputs', 'correspond', '10', 'g', 'total', 'lysates', 'obtained', 'hek293', 'cells', 'coexpressing', 'myc', 'cdk10', 'wt', 'kd', 'cycm', 'v5', '6his', 'f', 'western', 'blot', 'analysis', 'immunoprecipitates', 'obtained', 'using', 'anti', 'cdk10', 'antibody', 'control', 'goat', 'antibody', 'human', 'breast', 'cancer', 'mcf7', 'cells', 'input', 'corresponds', '30', 'g', 'mcf7', 'total', 'cell', 'lysates', 'lower', 'band', 'doublet', 'observed', 'upper', 'panel', 'comigrates', 'exogenously', 'expressed', 'untagged', 'cdk10', 'thus', 'corresponds', 'endogenous', 'cdk10', 'upper', 'band', 'doublet', 'corresponds', 'nonspecific', 'signal', 'demonstrated', 'insensitivity', 'either', 'overexpression', 'cdk10', 'seen', 'left', 'lane', 'silencing', 'cdk10', 'fig', 's2b', 'another', 'experiment', 'longer', 'gel', 'migration', 'shown', 'fig', 's1d', 'next', 'examined', 'ability', 'cdk10', 'cyclin', 'interact', 'expressed', 'human', 'cells', 'fig', '1', 'e', 'tested', 'wild', 'type', 'cdk10', 'wt', 'kinase', 'dead', 'kd', 'mutant', 'bearing', 'd181a', 'amino', 'acid', 'substitution', 'abolishes', 'atp', 'binding', '12', 'expressed', 'cyclin', 'v5', '6his', 'myc', 'cdk10', 'wt', 'kd', 'human', 'embryonic', 'kidney', 'cell', 'line', 'hek293', 'expression', 'level', 'cyclin', 'v5', '6his', 'significantly', 'increased', 'upon', 'coexpression', 'myc', 'cdk10', 'wt', 'kd', 'lesser', 'extent', 'myc', 'cdk10', 'wt', 'kd', 'increased', 'upon', 'coexpression', 'cyclin', 'v5', '6his', 'fig', '1d', 'immunoprecipitated', 'myc', 'cdk10', 'proteins', 'detected', 'presence', 'cyclin', 'cdk10', 'wt', 'kd', 'immunoprecipitates', 'proteins', 'coexpressed', 'pair', 'wise', 'fig', '1e', 'confirmed', 'observations', 'detecting', 'presence', 'myc', 'cdk10', 'cyclin', 'v5', '6his', 'immunoprecipitates', 'fig', 's1b', 'experiments', 'confirmed', 'lack', 'robust', 'interaction', 'cdk10', 'p2', 'isoform', 'cyclin', 'fig', 's1c', 'detect', 'interaction', 'endogenous', 'proteins', 'performed', 'immunoprecipitations', 'nontransfected', 'mcf7', 'cells', 'derived', 'human', 'breast', 'cancer', 'cdk10', 'cyclin', 'antibodies', 'detected', 'cognate', 'endogenous', 'proteins', 'western', 'blotting', 'readily', 'detected', 'cyclin', 'immunoprecipitates', 'obtained', 'cdk10', 'antibody', 'control', 'antibody', 'fig', '1f', 'results', 'confirm', 'physical', 'interaction', 'cdk10', 'cyclin', 'human', 'cells', 'unveil', 'hypothesized', 'cdk10', 'cyclin', 'protein', 'kinase', 'activity', 'produced', 'gst', 'cdk10', 'strepii', 'cyclin', 'fusion', 'proteins', 'insect', 'cells', 'either', 'individually', 'combination', 'observed', 'gst', 'cdk10', 'strepii', 'cyclin', 'copurified', 'thus', 'confirming', 'interaction', 'yet', 'another', 'cellular', 'model', 'fig', '2a', 'performed', 'vitro', 'kinase', 'assays', 'purified', 'proteins', 'using', 'histone', 'h1', 'generic', 'substrate', 'histone', 'h1', 'phosphorylation', 'detected', 'lysates', 'cells', 'coexpressing', 'gst', 'cdk10', 'strepii', 'cyclin', 'phosphorylation', 'detected', 'gst', 'cdk10', 'strepii', 'cyclin', 'expressed', 'alone', 'strepii', 'cyclin', 'coexpressed', 'gst', 'cdk10', 'kd', 'fig', '2a', 'next', 'investigated', 'whether', 'ets2', 'known', 'interact', 'cdk10', '9', 'fig', '1c', 'phosphorylation', 'substrate', 'cdk10', 'cyclin', 'detected', 'strong', 'phosphorylation', 'ets2', 'gst', 'cdk10', 'strepii', 'cyclin', 'purified', 'heterodimer', 'whereas', 'phosphorylation', 'detected', 'using', 'gst', 'cdk10', 'alone', 'gst', 'cdk10', 'kd', 'strepii', 'cyclin', 'heterodimer', 'fig', '2b', 'fig', '2', 'new', 'window', 'download', 'pptfig', '2', 'cdk10', 'cyclin', 'dependent', 'protein', 'kinase', 'vitro', 'protein', 'kinase', 'assay', 'histone', 'h1', 'lysates', 'insect', 'cells', 'expressing', 'different', 'proteins', 'purified', 'glutathione', 'sepharose', 'matrix', 'capture', 'gst', 'cdk10', 'wt', 'kd', 'fusion', 'proteins', 'alone', 'complex', 'str', 'cycm', 'fusion', 'protein', 'purified', 'protein', 'expression', 'levels', 'analyzed', 'western', 'blots', 'top', 'upper', 'middle', 'kinase', 'activity', 'determined', 'autoradiography', 'histone', 'h1', 'whose', 'added', 'amounts', 'visualized', 'coomassie', 'staining', 'lower', 'middle', 'bottom', 'b', 'using', 'purified', 'recombinant', '6his', 'ets2', 'substrate', 'cdk10', 'silencing', 'shown', 'increase', 'ets2', 'driven', 'c', 'raf', 'transcription', 'activate', 'mapk', 'pathway', '6', 'investigated', 'whether', 'cyclin', 'also', 'involved', 'regulatory', 'pathway', 'aim', 'highly', 'specific', 'silencing', 'used', 'sirna', 'pools', 'mix', 'four', 'different', 'sirnas', 'low', 'final', 'concentration', '10', 'nm', 'cdk10', 'cyclin', 'sirna', 'pools', 'silenced', 'expression', 'cognate', 'targets', 'fig', '3', 'c', 'fig', 's2', 'interestingly', 'cyclin', 'sirna', 'pool', 'also', 'caused', 'marked', 'decrease', 'cdk10', 'protein', 'level', 'fig', '3a', 'fig', 's2b', 'results', 'shown', 'fig', '1d', 'suggest', 'cyclin', 'binding', 'stabilizes', 'cdk10', 'cyclin', 'silencing', 'induced', 'increase', 'c', 'raf', 'protein', 'mrna', 'levels', 'fig', '3', 'b', 'c', 'phosphorylated', 'erk1', 'erk2', 'protein', 'levels', 'fig', 's3b', 'similarly', 'cdk10', 'silencing', 'expected', 'effects', '6', 'cdk10', 'cyclin', 'silencing', 'decreased', 'sensitivity', 'er', 'mcf7', 'cells', 'tamoxifen', 'similar', 'extent', 'combined', 'silencing', 'genes', 'result', 'higher', 'resistance', 'drug', 'fig', 's3c', 'altogether', 'observations', 'demonstrate', 'functional', 'interaction', 'cyclin', 'cdk10', 'negatively', 'controls', 'ets2', 'fig', '3', 'new', 'window', 'download', 'pptfig', '3', 'cyclin', 'silencing', 'regulates', 'c', 'raf', 'expression', 'western', 'blot', 'analysis', 'endogenous', 'cdk10', 'cyclin', 'expression', 'levels', 'mcf7', 'cells', 'response', 'sirna', 'mediated', 'gene', 'silencing', 'b', 'western', 'blot', 'analysis', 'endogenous', 'c', 'raf', 'expression', 'levels', 'mcf7', 'cells', 'response', 'cdk10', 'cyclin', 'silencing', 'quantification', 'shown', 'fig', 's3a', 'c', 'quantitative', 'rt', 'pcr', 'analysis', 'cdk10', 'cyclin', 'c', 'raf', 'mrna', 'levels', 'response', 'cdk10', 'upper', 'cyclin', 'lower', 'silencing', 'p', '0', '01', 'p', '0', '001', 'wished', 'explore', 'mechanism', 'cdk10', 'cyclin', 'controls', 'ets2', 'ets2', 'short', 'lived', 'protein', 'degraded', 'proteasome', '13', 'straightforward', 'hypothesis', 'cdk10', 'cyclin', 'positively', 'controls', 'ets2', 'degradation', 'thus', 'examined', 'impact', 'cdk10', 'cyclin', 'silencing', 'ets2', 'expression', 'levels', 'silencing', 'cdk10', 'cyclin', 'caused', 'increase', 'expression', 'levels', 'exogenously', 'expressed', 'flag', 'ets2', 'protein', 'fig', 's4a', 'well', 'endogenous', 'ets2', 'protein', 'fig', '4a', 'increase', 'attributable', 'increased', 'ets2', 'mrna', 'levels', 'marginally', 'fluctuated', 'response', 'cdk10', 'cyclin', 'silencing', 'fig', 's4b', 'examined', 'expression', 'levels', 'flag', 'tagged', 'ets2', 'protein', 'expressed', 'alone', 'combination', 'myc', 'cdk10', 'cdk10', 'kd', 'without', 'cyclin', 'v5', '6his', 'flag', 'ets2', 'readily', 'detected', 'expressed', 'alone', 'lesser', 'extent', 'coexpressed', 'cdk10', 'kd', 'however', 'expression', 'level', 'dramatically', 'decreased', 'coexpressed', 'cdk10', 'alone', 'cdk10', 'cyclin', 'fig', '4b', 'observations', 'suggest', 'endogenous', 'cyclin', 'levels', 'excess', 'compared', 'cdk10', 'mcf7', 'cells', 'show', 'major', 'decrease', 'ets2', 'levels', 'observed', 'upon', 'cdk10', 'coexpression', 'involves', 'cdk10', 'kinase', 'activity', 'treatment', 'cells', 'coexpressing', 'flag', 'ets2', 'cdk10', 'cyclin', 'proteasome', 'inhibitor', 'mg132', 'largely', 'rescued', 'flag', 'ets2', 'expression', 'levels', 'fig', '4b', 'fig', '4', 'new', 'window', 'download', 'pptfig', '4', 'cdk10', 'cyclin', 'controls', 'ets2', 'stability', 'human', 'cancer', 'derived', 'cells', 'western', 'blot', 'analysis', 'endogenous', 'ets2', 'expression', 'levels', 'mcf7', 'cells', 'response', 'sirna', 'mediated', 'cdk10', 'cyclin', 'silencing', 'quantification', 'shown', 'fig', 's4b', 'b', 'western', 'blot', 'analysis', 'exogenously', 'expressed', 'flag', 'ets2', 'protein', 'levels', 'mcf7', 'cells', 'cotransfected', 'empty', 'vectors', 'coexpressing', 'myc', 'cdk10', 'wt', 'kd', 'myc', 'cdk10', 'cycm', 'v5', '6his', 'latter', 'cells', 'treated', '16', 'h', 'mg132', 'proteasome', 'inhibitor', 'proper', 'expression', 'cdk10', 'cyclin', 'tagged', 'proteins', 'verified', 'western', 'blot', 'analysis', 'c', 'western', 'blot', 'analysis', 'expression', 'levels', 'exogenously', 'expressed', 'flag', 'ets2', 'wild', 'type', 'mutant', 'proteins', 'mcf7', 'cells', 'absence', 'c', 'response', 'myc', 'cdk10', 'cycm', 'v5', '6his', 'expression', 'quantifications', 'shown', 'fig', 's4', 'c', 'mass', 'spectrometry', 'analysis', 'recombinant', 'ets2', 'phosphorylated', 'cdk10', 'cyclin', 'vitro', 'revealed', 'existence', 'multiple', 'phosphorylated', 'residues', 'among', 'two', 'neighboring', 'phospho', 'serines', 'positions', '220', '225', 'may', 'form', 'phosphodegron', '14', 'figs', 's5', 's8', 'confirm', 'finding', 'compared', 'phosphorylation', 'level', 'recombinant', 'ets2wt', 'ets2sasa', 'protein', 'mutant', 'bearing', 'alanine', 'substitutions', 'two', 'serines', 'expected', 'existence', 'multiple', 'phosphorylation', 'sites', 'detected', 'small', 'reproducible', 'significant', 'decrease', 'phosphorylation', 'level', 'ets2sasa', 'compared', 'ets2wt', 'fig', 's9', 'thus', 'confirming', 'ser220', 'ser225', 'phosphorylated', 'cdk10', 'cyclin', 'establish', 'direct', 'link', 'ets2', 'phosphorylation', 'cdk10', 'cyclin', 'degradation', 'examined', 'expression', 'levels', 'flag', 'ets2sasa', 'absence', 'cdk10', 'cyclin', 'coexpression', 'differ', 'significantly', 'flag', 'ets2', 'contrary', 'flag', 'ets2dbm', 'bearing', 'deletion', 'n', 'terminal', 'destruction', 'box', 'previously', 'shown', 'involved', 'apc', 'cdh1', 'mediated', 'degradation', 'ets2', '13', 'fig', '4c', 'however', 'contrary', 'flag', 'ets2', 'wild', 'type', 'expression', 'level', 'flag', 'ets2sasa', 'remained', 'insensitive', 'cdk10', 'cyclin', 'coexpression', 'fig', '4d', 'altogether', 'results', 'suggest', 'cdk10', 'cyclin', 'directly', 'controls', 'ets2', 'degradation', 'phosphorylation', 'two', 'serines', 'finally', 'studied', 'lymphoblastoid', 'cell', 'line', 'derived', 'patient', 'star', 'syndrome', 'bearing', 'fam58a', 'mutation', 'c', '555', '1g', 'predicted', 'result', 'aberrant', 'splicing', '10', 'accordance', 'incomplete', 'skewing', 'x', 'chromosome', 'inactivation', 'previously', 'found', 'patient', 'detected', 'decreased', 'expression', 'level', 'cyclin', 'protein', 'star', 'cell', 'line', 'compared', 'control', 'lymphoblastoid', 'cell', 'line', 'line', 'preceding', 'observations', 'detected', 'increased', 'expression', 'level', 'ets2', 'protein', 'star', 'cell', 'line', 'compared', 'control', 'fig', '5a', 'fig', 's10a', 'examined', 'quantitative', 'rt', 'pcr', 'mrna', 'expression', 'levels', 'corresponding', 'genes', 'star', 'cell', 'line', 'showed', 'decreased', 'expression', 'level', 'cyclin', 'mrna', 'expression', 'level', 'ets2', 'mrna', 'similar', 'control', 'cell', 'line', 'fig', '5b', 'demonstrate', 'increase', 'ets2', 'protein', 'expression', 'indeed', 'result', 'decreased', 'cyclin', 'expression', 'observed', 'star', 'patient', 'derived', 'cell', 'line', 'expressed', 'cyclin', 'v5', '6his', 'cell', 'line', 'expression', 'caused', 'decrease', 'ets2', 'protein', 'levels', 'fig', '5c', 'fig', '5', 'new', 'window', 'download', 'pptfig', '5', 'decreased', 'cyclin', 'expression', 'star', 'patient', 'derived', 'cells', 'results', 'increased', 'ets2', 'protein', 'level', 'western', 'blot', 'analysis', 'cyclin', 'ets2', 'protein', 'levels', 'star', 'patient', 'derived', 'lymphoblastoid', 'cell', 'line', 'control', 'lymphoblastoid', 'cell', 'line', 'derived', 'healthy', 'individual', 'quantification', 'shown', 'fig', 's10a', 'b', 'quantitative', 'rt', 'pcr', 'analysis', 'cyclin', 'ets2', 'mrna', 'levels', 'cells', 'p', '0', '001', 'c', 'western', 'blot', 'analysis', 'ets2', 'protein', 'levels', 'star', 'patient', 'derived', 'lymphoblastoid', 'cell', 'line', 'transfected', 'empty', 'vector', 'vector', 'directing', 'expression', 'cyclin', 'v5', '6his', 'another', 'western', 'blot', 'revealing', 'endogenously', 'exogenously', 'expressed', 'cyclin', 'levels', 'shown', 'fig', 's10b', 'quantification', 'ets2', 'protein', 'levels', 'shown', 'fig', 's10c', 'previous', 'sectionnext', 'sectiondiscussionin', 'work', 'unveil', 'interaction', 'cdk10', 'last', 'orphan', 'cdk', 'discovered', 'pregenomic', 'era', '2', 'cyclin', 'cyclin', 'associated', 'human', 'genetic', 'disease', 'far', 'whose', 'functions', 'remain', 'unknown', '10', 'closest', 'paralogs', 'cdk10', 'within', 'cdk', 'family', 'cdk11', 'proteins', 'interact', 'l', 'type', 'cyclins', '15', 'interestingly', 'closest', 'paralog', 'cyclins', 'within', 'cyclin', 'family', 'cyclin', 'fig', 's11', 'fact', 'none', 'shorter', 'cdk10', 'isoforms', 'interact', 'robustly', 'cyclin', 'suggests', 'alternative', 'splicing', 'cdk10', 'gene', '16', '17', 'plays', 'important', 'role', 'regulating', 'cdk10', 'functions', 'functional', 'relevance', 'interaction', 'cdk10', 'cyclin', 'supported', 'different', 'observations', 'proteins', 'seem', 'enhance', 'stability', 'judged', 'increased', 'expression', 'levels', 'partner', 'exogenously', 'coexpressed', 'fig', '1d', 'much', 'reduced', 'endogenous', 'cdk10', 'expression', 'level', 'observed', 'response', 'cyclin', 'silencing', 'fig', '3a', 'fig', 's2b', 'cdk10', 'subject', 'ubiquitin', 'mediated', 'degradation', '18', 'observations', 'suggest', 'cyclin', 'protects', 'cdk10', 'degradation', 'cyclin', 'partner', 'cdk10', 'least', 'mcf7', 'cells', 'also', 'suggest', 'cyclin', 'stability', 'enhanced', 'upon', 'binding', 'cdk10', 'independently', 'kinase', 'activity', 'seen', 'cyclin', 'c', 'cdk8', '19', 'uncover', 'cyclin', 'dependent', 'cdk10', 'protein', 'kinase', 'activity', 'vitro', 'thus', 'demonstrating', 'protein', 'named', 'cdk', 'sole', 'basis', 'amino', 'acid', 'sequence', 'indeed', 'genuine', 'cyclin', 'dependent', 'kinase', 'y2h', 'assays', 'reveal', 'truncated', 'cyclin', 'proteins', 'corresponding', 'hypothetical', 'products', 'two', 'star', 'syndrome', 'associated', 'fam58a', 'mutations', 'produce', 'interaction', 'phenotype', 'cdk10', 'hence', 'regardless', 'whether', 'mutated', 'mrnas', 'undergo', 'nonsense', 'mediated', 'decay', 'suggested', 'decreased', 'cyclin', 'mrna', 'levels', 'star', 'cells', 'shown', 'fig', '5b', 'give', 'rise', 'truncated', 'cyclin', 'proteins', 'females', 'affected', 'star', 'syndrome', 'must', 'exhibit', 'compromised', 'cdk10', 'cyclin', 'kinase', 'activity', 'least', 'tissues', 'specific', 'developmental', 'stages', 'show', 'ets2', 'known', 'interactor', 'cdk10', 'phosphorylation', 'substrate', 'cdk10', 'cyclin', 'vitro', 'cdk10', 'cyclin', 'kinase', 'activity', 'positively', 'controls', 'ets2', 'degradation', 'proteasome', 'control', 'seems', 'exerted', 'fine', 'mechanism', 'judged', 'sensitivity', 'ets2', 'levels', 'partially', 'decreased', 'cdk10', 'cyclin', 'levels', 'achieved', 'mcf7', 'cells', 'observed', 'star', 'cells', 'respectively', 'findings', 'offer', 'straightforward', 'explanation', 'already', 'reported', 'regulation', 'ets2', 'driven', 'transcription', 'c', 'raf', 'response', 'cdk10', 'silencing', '6', 'bring', 'evidence', 'cdk10', 'cyclin', 'directly', 'controls', 'ets2', 'degradation', 'phosphorylation', 'two', 'neighboring', 'serines', 'may', 'form', 'noncanonical', 'trcp', 'phosphodegron', 'dsmcpas', '14', 'none', 'two', 'serines', 'precede', 'proline', 'conform', 'usual', 'cdk', 'phosphorylation', 'sites', 'however', 'multiple', 'called', 'transcriptional', 'cdks', 'cdk7', '8', '9', '11', 'cdk10', 'may', 'belong', 'fig', 's11', 'shown', 'phosphorylate', 'variety', 'motifs', 'non', 'proline', 'directed', 'fashion', 'especially', 'context', 'molecular', 'docking', 'substrate', '20', 'hypothesized', 'high', 'affinity', 'interaction', 'cdk10', 'pointed', 'domain', 'ets2', '6', '9', 'fig', '1c', 'would', 'allow', 'docking', 'mediated', 'phosphorylation', 'atypical', 'sites', 'control', 'ets2', 'degradation', 'involves', 'number', 'players', 'including', 'apc', 'cdh1', '13', 'cullin', 'ring', 'ligase', 'crl4', '21', 'formal', 'identification', 'ubiquitin', 'ligase', 'involved', 'cdk10', 'cyclin', 'pathway', 'elucidation', 'concerted', 'action', 'ubiquitin', 'ligases', 'regulate', 'ets2', 'degradation', 'require', 'studies', 'results', 'present', 'number', 'significant', 'biological', 'medical', 'implications', 'first', 'shed', 'light', 'regulation', 'ets2', 'plays', 'important', 'role', 'development', '22', 'frequently', 'deregulated', 'many', 'cancers', '23', 'second', 'results', 'contribute', 'understanding', 'molecular', 'mechanisms', 'causing', 'tamoxifen', 'resistance', 'associated', 'reduced', 'cdk10', 'expression', 'levels', 'suggest', 'like', 'cdk10', '6', 'cyclin', 'could', 'also', 'predictive', 'clinical', 'marker', 'hormone', 'therapy', 'response', 'er', 'positive', 'breast', 'cancer', 'patients', 'third', 'findings', 'offer', 'interesting', 'hypothesis', 'molecular', 'mechanisms', 'underlying', 'star', 'syndrome', 'ets2', 'transgenic', 'mice', 'showing', 'less', 'twofold', 'overexpression', 'ets2', 'present', 'severe', 'cranial', 'abnormalities', '24', 'observed', 'star', 'patients', 'could', 'thus', 'caused', 'least', 'part', 'increased', 'ets2', 'protein', 'levels', 'another', 'expected', 'consequence', 'enhanced', 'ets2', 'expression', 'levels', 'would', 'decreased', 'risk', 'develop', 'certain', 'types', 'cancers', 'increased', 'risk', 'develop', 'others', 'studies', 'various', 'mouse', 'models', 'including', 'models', 'syndrome', 'three', 'copies', 'ets2', 'exist', 'revealed', 'ets2', 'dosage', 'repress', 'promote', 'tumor', 'growth', 'hence', 'ets2', 'exerts', 'noncell', 'autonomous', 'functions', 'cancer', '25', 'intringuingly', 'one', 'star', 'patients', 'identified', 'far', 'diagnosed', 'nephroblastoma', '26', 'finally', 'findings', 'facilitate', 'general', 'exploration', 'biological', 'functions', 'cdk10', 'particular', 'role', 'control', 'cell', 'division', 'previous', 'studies', 'suggested', 'either', 'positive', 'role', 'cell', 'cycle', 'control', '5', '6', 'tumor', 'suppressive', 'activity', 'cancers', '7', '8', 'severe', 'growth', 'retardation', 'exhibited', 'star', 'patients', 'strongly', 'suggests', 'cdk10', 'cyclin', 'plays', 'important', 'role', 'control', 'cell', 'proliferation', 'previous', 'sectionnext', 'sectionmaterials', 'methodscloning', 'cdk10', 'cyclin', 'cdnas', 'plasmid', 'constructions', 'tamoxifen', 'response', 'analysis', 'quantitative', 'rt', 'pcr', 'mass', 'spectrometry', 'experiments', 'antibody', 'production', 'detailed', 'si', 'materials', 'methods', 'yeast', 'two', 'hybrid', 'interaction', 'assays', 'performed', 'yeast', 'interaction', 'mating', 'assays', 'previously', 'described', '27', 'mammalian', 'cell', 'cultures', 'transfections', 'grew', 'human', 'hek293', 'mcf7', 'cells', 'dmem', 'supplemented', '10', 'vol', 'vol', 'fbs', 'invitrogen', 'grew', 'lymphoblastoid', 'cells', 'rpmi', '1640', 'glutamax', 'supplemented', '15', 'vol', 'vol', 'fbs', 'transfected', 'hek293', 'mcf7', 'cells', 'using', 'lipofectamine', '2000', 'invitrogen', 'plasmids', 'lipofectamine', 'rnaimax', 'invitrogen', 'sirnas', 'jetprime', 'polyplus', 'plasmids', 'sirnas', 'combinations', 'according', 'manufacturers', 'instructions', 'transfected', 'lymphoblastoid', 'cells', 'electroporation', 'neon', 'invitrogen', 'ets2', 'stability', 'studies', 'treated', 'mcf7', 'cells', '32', 'h', 'transfection', '10', 'mg132', 'fisher', 'scientific', '16', 'h', 'coimmunoprecipitation', 'western', 'blot', 'experiments', 'collected', 'cells', 'scraping', 'pbs', 'centrifugation', 'lymphoblastoid', 'cells', 'lysed', 'sonication', 'lysis', 'buffer', 'containing', '60', 'mm', 'glycerophosphate', '15', 'mm', 'p', 'nitrophenylphosphate', '25', 'mm', '3', 'n', 'morpholino', 'propanesulfonic', 'acid', 'mops', 'ph', '7', '2', '15', 'mm', 'egta', '15', 'mm', 'mgcl2', '1', 'mm', 'na', 'vanadate', '1', 'mm', 'naf', '1mm', 'phenylphosphate', '0', '1', 'nonidet', 'p', '40', 'protease', 'inhibitor', 'mixture', 'roche', 'spun', 'lysates', '15', 'min', '20', '000', 'g', '4', 'c', 'collected', 'supernatants', 'determined', 'protein', 'content', 'using', 'bradford', 'assay', 'performed', 'immunoprecipitation', 'experiments', '500', 'g', 'total', 'proteins', 'lysis', 'buffer', 'precleared', 'lysates', '20', 'l', 'protein', 'g', 'agarose', 'beads', 'incubated', '1', 'h', '4', 'c', 'rotating', 'wheel', 'added', '5', 'g', 'antibody', 'supernatants', 'incubated', '1', 'h', '4', 'c', 'rotating', 'wheel', 'added', '20', 'l', 'protein', 'g', 'agarose', 'beads', 'incubated', '1', 'h', '4', 'c', 'rotating', 'wheel', 'collected', 'beads', 'centrifugation', '30', '18', '000', 'g', '4', 'c', 'washed', 'three', 'times', 'bead', 'buffer', 'containing', '50', 'mm', 'tris', 'ph', '7', '4', '5', 'mm', 'naf', '250', 'mm', 'nacl', '5', 'mm', 'edta', '5', 'mm', 'egta', '0', '1', 'nonidet', 'p', '40', 'protease', 'inhibitor', 'coktail', 'roche', 'directly', 'added', 'sample', 'buffer', 'washed', 'pellets', 'heat', 'denatured', 'proteins', 'ran', 'samples', '10', 'bis', 'tris', 'sds', 'page', 'transferred', 'proteins', 'onto', 'hybond', 'nitrocellulose', 'membranes', 'processed', 'blots', 'according', 'standard', 'procedures', 'western', 'blot', 'experiments', 'used', 'following', 'primary', 'antibodies', 'anti', 'myc', 'abcam', 'ab9106', '1', '2', '000', 'anti', 'v5', 'invitrogen', 'r960', '1', '5', '000', 'anti', 'tubulin', 'santa', 'cruz', 'biotechnology', 'b', '7', '1', '500', 'anti', 'cdk10', 'covalab', 'pab0847p', '1', '500', 'santa', 'cruz', 'biotechnology', 'c', '19', '1', '500', 'anti', 'cycm', 'home', 'made', 'dilution', '1', '500', 'covalab', 'pab0882', 'p', 'dilution', '1', '500', 'anti', 'raf1', 'santa', 'cruz', 'biotechnology', 'c', '20', '1', '1', '000', 'anti', 'ets2', 'santa', 'cruz', 'biotechnology', 'c', '20', '1', '1', '000', 'anti', 'flag', 'sigma', 'f7425', '1', '1', '000', 'anti', 'actin', 'sigma', 'a5060', '1', '5', '000', 'used', 'hrp', 'coupled', 'anti', 'goat', 'santa', 'cruz', 'biotechnology', 'sc', '2033', 'dilution', '1', '2', '000', 'anti', 'mouse', 'bio', 'rad', '170', '6516', 'dilution', '1', '3', '000', 'anti', 'rabbit', 'bio', 'rad', '172', '1019', '1', '5', '000', 'secondary', 'antibodies', 'revealed', 'blots', 'enhanced', 'chemiluminescence', 'supersignal', 'west', 'femto', 'thermo', 'scientific', 'production', 'purification', 'recombinant', 'proteins', 'gst', 'cdk10', 'kd', 'strepii', 'cycm', 'generated', 'recombinant', 'bacmids', 'dh10bac', 'escherichia', 'coli', 'baculoviruses', 'sf9', 'cells', 'using', 'bac', 'bac', 'system', 'described', 'provider', 'invitrogen', 'infected', 'sf9', 'cells', 'gst', 'cdk10', 'gst', 'cdk10kd', 'producing', 'viruses', 'coinfected', 'cells', 'strepii', 'cycm', 'producing', 'viruses', 'collected', 'cells', '72', 'h', 'infection', 'purify', 'gst', 'fusion', 'proteins', 'spun', '250', 'ml', 'cells', 'resuspended', 'pellet', '40', 'ml', 'lysis', 'buffer', 'pbs', '250', 'mm', 'nacl', '0', '5', 'nonidet', 'p', '40', '50', 'mm', 'naf', '10', 'mm', 'glycerophosphate', '0', '3', 'mm', 'na', 'vanadate', 'containing', 'protease', 'inhibitor', 'mixture', 'roche', 'lysed', 'cells', 'sonication', 'spun', 'lysate', '30', 'min', '15', '000', 'g', 'collected', 'soluble', 'fraction', 'added', '1', 'ml', 'glutathione', 'sepharose', 'matrix', 'incubated', '1', 'h', '4', 'c', 'washed', 'four', 'times', 'lysis', 'buffer', 'one', 'time', 'kinase', 'buffer', 'see', 'finally', 'resuspended', 'beads', '100', 'l', 'kinase', 'buffer', 'containing', '10', 'vol', 'vol', 'glycerol', 'storage', '6his', 'ets2', 'transformed', 'origami2', 'de3', 'novagen', '6his', 'ets2', 'expression', 'vector', 'induced', 'expression', '0', '2', 'mm', 'isopropyl', '1', 'thiogalactopyranoside', '3', 'h', '22', 'c', 'purify', '6his', 'ets2', 'spun', '50', 'ml', 'cells', 'resuspended', 'pellet', '2', 'ml', 'lysis', 'buffer', 'pbs', '300', 'mm', 'nacl', '10', 'mm', 'imidazole', '1', 'mm', 'dtt', '0', '1', 'nonidet', 'p', '40', 'containing', 'protease', 'inhibitor', 'mixture', 'without', 'edta', 'roche', 'lysed', 'cells', '1', '6', 'bar', 'using', 'cell', 'disruptor', 'spun', 'lysate', '10', 'min', '20', '000', 'g', 'collected', 'soluble', 'fraction', 'added', '200', 'l', 'cobalt', 'beads', 'thermo', 'scientific', '1', 'h', 'incubation', '4', 'c', 'rotating', 'wheel', 'washed', 'four', 'times', 'lysis', 'buffer', 'elute', 'incubated', 'beads', '30', 'min', 'elution', 'buffer', 'pbs', '250', 'mm', 'imidazole', 'ph', '7', '6', 'containing', 'protease', 'inhibitor', 'mixture', 'spun', '30', '10', '000', 'g', 'collected', 'eluted', 'protein', 'protein', 'kinase', 'assays', 'mixed', 'glutathione', 'sepharose', 'beads', 'harboring', 'gst', 'cdk10', 'wt', 'kd', 'either', 'monomeric', 'complexed', 'strepii', 'cycm', '22', '7', 'bsa', '15', 'mm', 'dtt', '100', 'atp', '5', 'ci', 'atp', '32p', '7', '75', 'histone', 'h1', '1', '6his', 'ets2', 'added', 'kinase', 'buffer', '25', 'mm', 'tris', 'hcl', '10', 'mm', 'mgcl2', '1', 'mm', 'egta', '1', 'mm', 'dtt', '3', '7', 'heparin', 'ph', '7', '5', 'total', 'volume', '30', 'l', 'incubated', 'reactions', '30', 'min', '30', 'c', 'added', 'laemli', 'sample', 'buffer', 'heat', 'denatured', 'samples', 'ran', '10', 'bis', 'tris', 'sds', 'page', 'cut', 'gel', 'slices', 'detect', 'gst', 'cdk10', 'strepii', 'cycm', 'western', 'blotting', 'stained', 'gel', 'slices', 'containing', 'substrate', 'coomassie', 'r', '250', 'bio', 'rad', 'dried', 'detected', 'incorporated', 'radioactivity', 'autoradiography', 'identified', 'four', 'unrelated', 'girls', 'anogenital', 'renal', 'malformations', 'dysmorphic', 'facial', 'features', 'normal', 'intellect', 'syndactyly', 'toes', 'similar', 'combination', 'features', 'reported', 'previously', 'mother', 'daughter', 'pair1', 'table', '1', 'supplementary', 'note', 'online', 'authors', 'noted', 'clinical', 'overlap', 'townes', 'brocks', 'syndrome', 'suggested', 'phenotype', 'represented', 'separate', 'autosomal', 'dominant', 'entity', 'mim601446', 'define', 'cardinal', 'features', 'syndrome', 'characteristic', 'facial', 'appearance', 'apparent', 'telecanthus', 'broad', 'tripartite', 'nasal', 'tip', 'variable', 'syndactyly', 'toes', '2', '5', 'hypoplastic', 'labia', 'anal', 'atresia', 'urogenital', 'malformations', 'fig', '1a', 'h', 'also', 'observed', 'variety', 'features', 'table', '1', 'figure', '1', 'clinical', 'molecular', 'characterization', 'star', 'syndrome', 'figure', '1', 'clinical', 'molecular', 'characterization', 'star', 'syndrome', 'f', 'facial', 'appearances', 'cases', '1', '3', 'apparent', 'telecanthus', 'dysplastic', 'ears', 'thin', 'upper', 'lips', 'c', 'e', 'toe', 'syndactyly', '2', '5', '3', '5', '4', '5', 'b', 'f', 'cases', 'illustrate', 'recognizable', 'features', 'star', 'syndrome', 'specific', 'parental', 'consent', 'obtained', 'publication', 'photographs', 'anal', 'atresia', 'hypoplastic', 'labia', 'shown', 'g', 'h', 'x', 'ray', 'films', 'feet', 'case', '2', 'showing', 'four', 'rays', 'left', 'delta', 'shaped', '4th', '5th', 'metatarsals', 'right', 'h', 'compare', 'clinical', 'picture', 'array', 'cgh', 'data', 'log2', 'ratio', 'represents', 'copy', 'number', 'loss', 'six', 'probes', 'spanning', '37', '9', '50', '7', 'kb', 'one', 'probe', 'positioned', 'within', 'fam58a', 'deletion', 'remove', 'parts', 'functional', 'genes', 'j', 'schematic', 'structure', 'fam58a', 'position', 'mutations', 'fam58a', 'five', 'coding', 'exons', 'boxes', 'cyclin', 'domain', 'green', 'encoded', 'exons', '2', '4', 'horizontal', 'arrow', 'indicates', 'deletion', 'extending', '5', 'case', '1', 'includes', 'exons', '1', '2', 'whereas', 'horizontal', 'line', 'exon', '5', 'indicates', 'deletion', 'found', 'case', '3', 'removes', 'exon', '5', '3', 'sequence', 'pink', 'horizontal', 'bars', 'boxes', 'indicate', 'amplicons', 'used', 'qpcr', 'sequencing', 'one', 'alternative', 'exon', '5', 'amplicon', 'indicated', 'space', 'constraints', 'mutation', '201dupt', 'case', '4', 'results', 'immediate', 'stop', 'codon', '555', '1g', '555', '1g', 'splice', 'mutations', 'cases', '2', '5', '6', 'predicted', 'deleterious', 'alter', 'conserved', 'splice', 'donor', 'acceptor', 'site', 'intron', '4', 'respectively', 'full', 'size', 'image', '97', 'kb', 'table', '1', 'clinical', 'features', 'star', 'syndrome', 'cases', 'table', '1', 'clinical', 'features', 'star', 'syndrome', 'cases', 'full', 'table', 'basis', 'phenotypic', 'overlap', 'townes', 'brocks', 'okihiro', 'feingold', 'syndromes', 'analyzed', 'sall1', 'ref', '2', 'sall4', 'ref', '3', 'mycn4', 'found', 'mutations', 'genes', 'supplementary', 'methods', 'online', 'next', 'carried', 'genome', 'wide', 'high', 'resolution', 'oligonucleotide', 'array', 'comparative', 'genomic', 'hybridization', 'cgh', '5', 'analysis', 'supplementary', 'methods', 'genomic', 'dna', 'severely', 'affected', 'individual', 'case', '1', 'lower', 'lid', 'coloboma', 'epilepsy', 'syringomyelia', 'identified', 'heterozygous', 'deletion', '37', '9', '50', '7', 'kb', 'xq28', 'removed', 'exons', '1', '2', 'fam58a', 'fig', '1i', 'j', 'using', 'real', 'time', 'pcr', 'confirmed', 'deletion', 'child', 'excluded', 'unaffected', 'parents', 'supplementary', 'fig', '1a', 'online', 'supplementary', 'methods', 'supplementary', 'table', '1', 'online', 'cgh', 'customized', 'oligonucleotide', 'array', 'enriched', 'probes', 'xq28', 'followed', 'breakpoint', 'cloning', 'defined', 'exact', 'deletion', 'size', '40', '068', 'bp', 'g', '152', '514', '164', '152', '554', '231del', 'chromosome', 'x', 'ncbi', 'build', '36', '2', 'fig', '1j', 'supplementary', 'figs', '2', '3', 'online', 'deletion', 'removes', 'coding', 'regions', 'exons', '1', '2', 'well', 'intron', '1', '2', '774', 'bp', '492', 'bp', 'intron', '2', '36', '608', 'bp', '5', 'sequence', 'including', '5', 'utr', 'entire', 'krt18p48', 'pseudogene', 'ncbi', 'gene', 'id', '340598', 'paternity', 'proven', 'using', 'routine', 'methods', 'find', 'deletions', 'overlapping', 'fam58a', 'available', 'copy', 'number', 'variation', 'cnv', 'databases', 'subsequently', 'carried', 'qpcr', 'analysis', 'three', 'affected', 'individuals', 'cases', '2', '3', '4', 'mother', 'daughter', 'pair', 'literature', 'cases', '5', '6', 'case', '3', 'detected', 'de', 'novo', 'heterozygous', 'deletion', '1', '1', '10', '3', 'kb', 'overlapping', 'exon', '5', 'supplementary', 'fig', '1b', 'online', 'using', 'xq28', 'targeted', 'array', 'cgh', 'breakpoint', 'cloning', 'identified', 'deletion', '4', '249', 'bp', 'g', '152', '504', '123', '152', '508', '371del', 'chromosome', 'x', 'ncbi', 'build', '36', '2', 'fig', '1j', 'supplementary', 'figs', '2', '3', 'removed', '1', '265', 'bp', 'intron', '4', 'exon', '5', 'including', '3', 'utr', '2', '454', 'bp', '3', 'sequence', 'found', 'heterozygous', 'fam58a', 'point', 'mutations', 'remaining', 'cases', 'fig', '1j', 'supplementary', 'fig', '2', 'supplementary', 'methods', 'supplementary', 'table', '1', 'case', '2', 'identified', 'mutation', '555', '1g', 'affecting', 'splice', 'donor', 'site', 'intron', '4', 'case', '4', 'identified', 'frameshift', 'mutation', '201dupt', 'immediately', 'results', 'premature', 'stop', 'codon', 'n68xfsx1', 'cases', '5', '6', 'detected', 'mutation', '556', '1g', 'alters', 'splice', 'acceptor', 'site', 'intron', '4', 'validated', 'point', 'mutations', 'deletions', 'independent', 'rounds', 'pcr', 'sequencing', 'qpcr', 'confirmed', 'paternity', 'de', 'novo', 'status', 'point', 'mutations', 'deletions', 'sporadic', 'cases', 'none', 'mutations', 'seen', 'dna', '60', 'unaffected', 'female', 'controls', 'larger', 'deletions', 'involving', 'fam58a', 'found', '93', 'unrelated', 'array', 'cgh', 'investigations', 'analyzing', 'x', 'chromosome', 'inactivation', 'supplementary', 'methods', 'supplementary', 'fig', '4', 'online', 'found', 'complete', 'skewing', 'x', 'inactivation', 'cases', '1', '3', '6', 'almost', 'complete', 'skewing', 'case', '2', 'suggesting', 'cells', 'carrying', 'mutation', 'active', 'x', 'chromosome', 'growth', 'disadvantage', 'fetal', 'development', 'using', 'rt', 'pcr', 'rna', 'lymphoblastoid', 'cells', 'case', '2', 'supplementary', 'fig', '2', 'find', 'aberrant', 'splice', 'products', 'additional', 'evidence', 'mutated', 'allele', 'inactivated', 'furthermore', 'fam58a', 'subjected', 'x', 'inactivation6', 'cases', '1', '3', 'parental', 'origin', 'deletions', 'could', 'determined', 'result', 'lack', 'informative', 'snps', 'case', '5', 'mother', 'case', '6', 'gave', 'birth', 'two', 'boys', 'clinically', 'unaffected', 'samples', 'available', 'cannot', 'exclude', 'condition', 'lethal', 'males', 'fetal', 'losses', 'reported', 'families', 'function', 'fam58a', 'unknown', 'gene', 'consists', 'five', 'coding', 'exons', '642', 'bp', 'coding', 'region', 'encodes', 'protein', '214', 'amino', 'acids', 'genbank', 'lists', 'mrna', 'length', '1', '257', 'bp', 'reference', 'sequence', 'nm', '152274', '2', 'expression', 'gene', 'est', 'data', 'found', '27', '48', 'adult', 'tissues', 'including', 'kidney', 'colon', 'cervix', 'uterus', 'heart', 'ncbi', 'expression', 'viewer', 'unigene', 'hs', '496943', 'expression', 'also', 'noted', '24', '26', 'listed', 'tumor', 'tissues', 'well', 'embryo', 'fetus', 'genes', 'homologous', 'fam58a', 'ncbi', 'homologene', '13362', 'found', 'x', 'chromosome', 'chimpanzee', 'dog', 'zebrafish', 'similar', 'gene', 'chromosome', '23', 'however', 'mouse', 'rat', 'true', 'homologs', 'species', 'similar', 'intronless', 'genes', 'chromosomes', '11', 'mouse', '10', 'rat', 'likely', 'arising', 'retrotransposon', 'insertion', 'event', 'murine', 'x', 'chromosome', 'flanking', 'genes', 'atp2b3', 'dusp9', 'conserved', 'remnants', 'fam58a', 'sequence', 'detected', 'fam58a', 'contains', 'cyclin', 'box', 'fold', 'domain', 'protein', 'binding', 'domain', 'found', 'cyclins', 'role', 'cell', 'cycle', 'transcription', 'control', 'human', 'phenotype', 'resulting', 'cyclin', 'gene', 'mutation', 'yet', 'reported', 'homozygous', 'knockout', 'mice', 'ccnd1', 'encoding', 'cyclin', 'd1', 'viable', 'small', 'reduced', 'lifespan', 'also', 'dystrophic', 'changes', 'retina', 'likely', 'result', 'decreased', 'cell', 'proliferation', 'degeneration', 'photoreceptor', 'cells', 'embryogenesis7', '8', 'cyclin', 'd1', 'colocalizes', 'sall4', 'nucleus', 'proteins', 'cooperatively', 'mediate', 'transcriptional', 'repression9', 'phenotype', 'cases', 'overlaps', 'considerably', 'townes', 'brocks', 'syndrome', 'caused', 'sall1', 'mutations1', 'carried', 'co', 'immunoprecipitation', 'find', 'sall1', 'sall4', 'would', 'interact', 'fam58a', 'manner', 'similar', 'observed', 'sall4', 'cyclin', 'd1', 'found', 'fam58a', 'interacts', 'sall1', 'sall4', 'supplementary', 'fig', '5', 'online', 'supporting', 'hypothesis', 'fam58a', 'sall1', 'participate', 'developmental', 'pathway', 'fam58a', 'mutations', 'lead', 'star', 'syndrome', 'growth', 'retardation', 'cases', 'table', '1', 'retinal', 'abnormalities', 'three', 'cases', 'reminiscent', 'reduced', 'body', 'size', 'retinal', 'anomalies', 'cyclin', 'd1', 'knockout', 'mice7', '8', 'therefore', 'proliferation', 'defect', 'might', 'partly', 'responsible', 'star', 'syndrome', 'address', 'question', 'carried', 'knockdown', 'fam58a', 'mrna', 'followed', 'proliferation', 'assay', 'transfection', 'hek293', 'cells', 'three', 'different', 'fam58a', 'specific', 'rnai', 'oligonucleotides', 'resulted', 'significant', 'reduction', 'fam58a', 'mrna', 'expression', 'proliferation', 'transfected', 'cells', 'supplementary', 'methods', 'supplementary', 'fig', '6', 'online', 'supporting', 'link', 'fam58a', 'cell', 'proliferation', 'found', 'loss', 'function', 'mutations', 'fam58a', 'result', 'rather', 'homogeneous', 'clinical', 'phenotype', 'additional', 'anomalies', 'case', '1', 'likely', 'result', 'effect', '40', 'kb', 'deletion', 'expression', 'neighboring', 'gene', 'possibly', 'atp2b3', 'dusp9', 'however', 'cannot', 'exclude', 'homogeneous', 'phenotype', 'results', 'ascertainment', 'bias', 'fam58a', 'mutations', 'including', 'missense', 'changes', 'could', 'result', 'broader', 'spectrum', 'malformations', 'genes', 'causing', 'overlapping', 'phenotypes', 'star', 'syndrome', 'townes', 'brocks', 'syndrome', 'seem', 'act', 'pathway', 'note', 'mycn', 'gene', 'mutated', 'feingold', 'syndrome', 'direct', 'regulator', 'cyclin', 'd2', 'refs', '10', '11', 'thus', 'worth', 'exploring', 'whether', 'phenotypic', 'similarities', 'feingold', 'star', 'syndrome', 'might', 'explained', 'direct', 'regulation', 'fam58a', 'mycn', 'fam58a', 'located', 'approximately', '0', '56', 'mb', 'centromeric', 'mecp2', 'xq28', 'duplications', 'overlapping', 'mecp2', 'fam58a', 'described', 'associated', 'clinical', 'phenotype', 'females12', 'deletions', 'overlapping', 'mecp2', 'fam58a', 'observed', 'date13', 'although', 'genes', 'fam58a', 'mecp2', 'implicated', 'brain', 'development', 'fam58a', 'mecp2', 'genes', 'region', 'known', 'result', 'x', 'linked', 'dominant', 'phenotypes', 'thus', 'deletion', 'genes', 'allele', 'might', 'lethal', 'males', 'females'], tags=['Text_0'])"
            ]
          },
          "metadata": {},
          "execution_count": 79
        }
      ]
    },
    {
      "cell_type": "code",
      "metadata": {
        "id": "UGw1nIgRsjDq",
        "colab": {
          "base_uri": "https://localhost:8080/",
          "height": 354
        },
        "outputId": "803665e8-b8bf-4dc2-a2ec-419cf5aae2b0"
      },
      "source": [
        "from gensim.models import Doc2Vec\n",
        "\n",
        "Text_INPUT_DIM = 300 \n",
        "\n",
        "text_model = None\n",
        "filename = 'docEmbeddings_5_clean.d2v'\n",
        "\n",
        "text_model = Doc2Vec(min_count=1, \n",
        "                     window=5, \n",
        "                     vector_size=Text_INPUT_DIM, \n",
        "                     sample=1e-4, \n",
        "                     negative=5, \n",
        "                     epochs=10,\n",
        "                     seed=1)\n",
        "text_model.build_vocab(sentences)\n",
        "text_model.train(sentences, total_examples=text_model.corpus_count, epochs=text_model.epochs)\n",
        "text_model.save(filename)"
      ],
      "execution_count": 80,
      "outputs": [
        {
          "output_type": "error",
          "ename": "KeyboardInterrupt",
          "evalue": "ignored",
          "traceback": [
            "\u001b[0;31m---------------------------------------------------------------------------\u001b[0m",
            "\u001b[0;31mKeyboardInterrupt\u001b[0m                         Traceback (most recent call last)",
            "\u001b[0;32m<ipython-input-80-841a6985e126>\u001b[0m in \u001b[0;36m<module>\u001b[0;34m()\u001b[0m\n\u001b[1;32m     14\u001b[0m                      seed=1)\n\u001b[1;32m     15\u001b[0m \u001b[0mtext_model\u001b[0m\u001b[0;34m.\u001b[0m\u001b[0mbuild_vocab\u001b[0m\u001b[0;34m(\u001b[0m\u001b[0msentences\u001b[0m\u001b[0;34m)\u001b[0m\u001b[0;34m\u001b[0m\u001b[0;34m\u001b[0m\u001b[0m\n\u001b[0;32m---> 16\u001b[0;31m \u001b[0mtext_model\u001b[0m\u001b[0;34m.\u001b[0m\u001b[0mtrain\u001b[0m\u001b[0;34m(\u001b[0m\u001b[0msentences\u001b[0m\u001b[0;34m,\u001b[0m \u001b[0mtotal_examples\u001b[0m\u001b[0;34m=\u001b[0m\u001b[0mtext_model\u001b[0m\u001b[0;34m.\u001b[0m\u001b[0mcorpus_count\u001b[0m\u001b[0;34m,\u001b[0m \u001b[0mepochs\u001b[0m\u001b[0;34m=\u001b[0m\u001b[0mtext_model\u001b[0m\u001b[0;34m.\u001b[0m\u001b[0mepochs\u001b[0m\u001b[0;34m)\u001b[0m\u001b[0;34m\u001b[0m\u001b[0;34m\u001b[0m\u001b[0m\n\u001b[0m\u001b[1;32m     17\u001b[0m \u001b[0mtext_model\u001b[0m\u001b[0;34m.\u001b[0m\u001b[0msave\u001b[0m\u001b[0;34m(\u001b[0m\u001b[0mfilename\u001b[0m\u001b[0;34m)\u001b[0m\u001b[0;34m\u001b[0m\u001b[0;34m\u001b[0m\u001b[0m\n",
            "\u001b[0;32m/usr/local/lib/python3.7/dist-packages/gensim/models/doc2vec.py\u001b[0m in \u001b[0;36mtrain\u001b[0;34m(self, documents, corpus_file, total_examples, total_words, epochs, start_alpha, end_alpha, word_count, queue_factor, report_delay, callbacks)\u001b[0m\n\u001b[1;32m    793\u001b[0m             \u001b[0msentences\u001b[0m\u001b[0;34m=\u001b[0m\u001b[0mdocuments\u001b[0m\u001b[0;34m,\u001b[0m \u001b[0mcorpus_file\u001b[0m\u001b[0;34m=\u001b[0m\u001b[0mcorpus_file\u001b[0m\u001b[0;34m,\u001b[0m \u001b[0mtotal_examples\u001b[0m\u001b[0;34m=\u001b[0m\u001b[0mtotal_examples\u001b[0m\u001b[0;34m,\u001b[0m \u001b[0mtotal_words\u001b[0m\u001b[0;34m=\u001b[0m\u001b[0mtotal_words\u001b[0m\u001b[0;34m,\u001b[0m\u001b[0;34m\u001b[0m\u001b[0;34m\u001b[0m\u001b[0m\n\u001b[1;32m    794\u001b[0m             \u001b[0mepochs\u001b[0m\u001b[0;34m=\u001b[0m\u001b[0mepochs\u001b[0m\u001b[0;34m,\u001b[0m \u001b[0mstart_alpha\u001b[0m\u001b[0;34m=\u001b[0m\u001b[0mstart_alpha\u001b[0m\u001b[0;34m,\u001b[0m \u001b[0mend_alpha\u001b[0m\u001b[0;34m=\u001b[0m\u001b[0mend_alpha\u001b[0m\u001b[0;34m,\u001b[0m \u001b[0mword_count\u001b[0m\u001b[0;34m=\u001b[0m\u001b[0mword_count\u001b[0m\u001b[0;34m,\u001b[0m\u001b[0;34m\u001b[0m\u001b[0;34m\u001b[0m\u001b[0m\n\u001b[0;32m--> 795\u001b[0;31m             queue_factor=queue_factor, report_delay=report_delay, callbacks=callbacks, **kwargs)\n\u001b[0m\u001b[1;32m    796\u001b[0m \u001b[0;34m\u001b[0m\u001b[0m\n\u001b[1;32m    797\u001b[0m     \u001b[0;34m@\u001b[0m\u001b[0mclassmethod\u001b[0m\u001b[0;34m\u001b[0m\u001b[0;34m\u001b[0m\u001b[0m\n",
            "\u001b[0;32m/usr/local/lib/python3.7/dist-packages/gensim/models/base_any2vec.py\u001b[0m in \u001b[0;36mtrain\u001b[0;34m(self, sentences, corpus_file, total_examples, total_words, epochs, start_alpha, end_alpha, word_count, queue_factor, report_delay, compute_loss, callbacks, **kwargs)\u001b[0m\n\u001b[1;32m   1079\u001b[0m             \u001b[0mtotal_words\u001b[0m\u001b[0;34m=\u001b[0m\u001b[0mtotal_words\u001b[0m\u001b[0;34m,\u001b[0m \u001b[0mepochs\u001b[0m\u001b[0;34m=\u001b[0m\u001b[0mepochs\u001b[0m\u001b[0;34m,\u001b[0m \u001b[0mstart_alpha\u001b[0m\u001b[0;34m=\u001b[0m\u001b[0mstart_alpha\u001b[0m\u001b[0;34m,\u001b[0m \u001b[0mend_alpha\u001b[0m\u001b[0;34m=\u001b[0m\u001b[0mend_alpha\u001b[0m\u001b[0;34m,\u001b[0m \u001b[0mword_count\u001b[0m\u001b[0;34m=\u001b[0m\u001b[0mword_count\u001b[0m\u001b[0;34m,\u001b[0m\u001b[0;34m\u001b[0m\u001b[0;34m\u001b[0m\u001b[0m\n\u001b[1;32m   1080\u001b[0m             \u001b[0mqueue_factor\u001b[0m\u001b[0;34m=\u001b[0m\u001b[0mqueue_factor\u001b[0m\u001b[0;34m,\u001b[0m \u001b[0mreport_delay\u001b[0m\u001b[0;34m=\u001b[0m\u001b[0mreport_delay\u001b[0m\u001b[0;34m,\u001b[0m \u001b[0mcompute_loss\u001b[0m\u001b[0;34m=\u001b[0m\u001b[0mcompute_loss\u001b[0m\u001b[0;34m,\u001b[0m \u001b[0mcallbacks\u001b[0m\u001b[0;34m=\u001b[0m\u001b[0mcallbacks\u001b[0m\u001b[0;34m,\u001b[0m\u001b[0;34m\u001b[0m\u001b[0;34m\u001b[0m\u001b[0m\n\u001b[0;32m-> 1081\u001b[0;31m             **kwargs)\n\u001b[0m\u001b[1;32m   1082\u001b[0m \u001b[0;34m\u001b[0m\u001b[0m\n\u001b[1;32m   1083\u001b[0m     \u001b[0;32mdef\u001b[0m \u001b[0m_get_job_params\u001b[0m\u001b[0;34m(\u001b[0m\u001b[0mself\u001b[0m\u001b[0;34m,\u001b[0m \u001b[0mcur_epoch\u001b[0m\u001b[0;34m)\u001b[0m\u001b[0;34m:\u001b[0m\u001b[0;34m\u001b[0m\u001b[0;34m\u001b[0m\u001b[0m\n",
            "\u001b[0;32m/usr/local/lib/python3.7/dist-packages/gensim/models/base_any2vec.py\u001b[0m in \u001b[0;36mtrain\u001b[0;34m(self, data_iterable, corpus_file, epochs, total_examples, total_words, queue_factor, report_delay, callbacks, **kwargs)\u001b[0m\n\u001b[1;32m    551\u001b[0m                 trained_word_count_epoch, raw_word_count_epoch, job_tally_epoch = self._train_epoch(\n\u001b[1;32m    552\u001b[0m                     \u001b[0mdata_iterable\u001b[0m\u001b[0;34m,\u001b[0m \u001b[0mcur_epoch\u001b[0m\u001b[0;34m=\u001b[0m\u001b[0mcur_epoch\u001b[0m\u001b[0;34m,\u001b[0m \u001b[0mtotal_examples\u001b[0m\u001b[0;34m=\u001b[0m\u001b[0mtotal_examples\u001b[0m\u001b[0;34m,\u001b[0m\u001b[0;34m\u001b[0m\u001b[0;34m\u001b[0m\u001b[0m\n\u001b[0;32m--> 553\u001b[0;31m                     total_words=total_words, queue_factor=queue_factor, report_delay=report_delay)\n\u001b[0m\u001b[1;32m    554\u001b[0m             \u001b[0;32melse\u001b[0m\u001b[0;34m:\u001b[0m\u001b[0;34m\u001b[0m\u001b[0;34m\u001b[0m\u001b[0m\n\u001b[1;32m    555\u001b[0m                 trained_word_count_epoch, raw_word_count_epoch, job_tally_epoch = self._train_epoch_corpusfile(\n",
            "\u001b[0;32m/usr/local/lib/python3.7/dist-packages/gensim/models/base_any2vec.py\u001b[0m in \u001b[0;36m_train_epoch\u001b[0;34m(self, data_iterable, cur_epoch, total_examples, total_words, queue_factor, report_delay)\u001b[0m\n\u001b[1;32m    487\u001b[0m         trained_word_count, raw_word_count, job_tally = self._log_epoch_progress(\n\u001b[1;32m    488\u001b[0m             \u001b[0mprogress_queue\u001b[0m\u001b[0;34m,\u001b[0m \u001b[0mjob_queue\u001b[0m\u001b[0;34m,\u001b[0m \u001b[0mcur_epoch\u001b[0m\u001b[0;34m=\u001b[0m\u001b[0mcur_epoch\u001b[0m\u001b[0;34m,\u001b[0m \u001b[0mtotal_examples\u001b[0m\u001b[0;34m=\u001b[0m\u001b[0mtotal_examples\u001b[0m\u001b[0;34m,\u001b[0m \u001b[0mtotal_words\u001b[0m\u001b[0;34m=\u001b[0m\u001b[0mtotal_words\u001b[0m\u001b[0;34m,\u001b[0m\u001b[0;34m\u001b[0m\u001b[0;34m\u001b[0m\u001b[0m\n\u001b[0;32m--> 489\u001b[0;31m             report_delay=report_delay, is_corpus_file_mode=False)\n\u001b[0m\u001b[1;32m    490\u001b[0m \u001b[0;34m\u001b[0m\u001b[0m\n\u001b[1;32m    491\u001b[0m         \u001b[0;32mreturn\u001b[0m \u001b[0mtrained_word_count\u001b[0m\u001b[0;34m,\u001b[0m \u001b[0mraw_word_count\u001b[0m\u001b[0;34m,\u001b[0m \u001b[0mjob_tally\u001b[0m\u001b[0;34m\u001b[0m\u001b[0;34m\u001b[0m\u001b[0m\n",
            "\u001b[0;32m/usr/local/lib/python3.7/dist-packages/gensim/models/base_any2vec.py\u001b[0m in \u001b[0;36m_log_epoch_progress\u001b[0;34m(self, progress_queue, job_queue, cur_epoch, total_examples, total_words, report_delay, is_corpus_file_mode)\u001b[0m\n\u001b[1;32m    344\u001b[0m \u001b[0;34m\u001b[0m\u001b[0m\n\u001b[1;32m    345\u001b[0m         \u001b[0;32mwhile\u001b[0m \u001b[0munfinished_worker_count\u001b[0m \u001b[0;34m>\u001b[0m \u001b[0;36m0\u001b[0m\u001b[0;34m:\u001b[0m\u001b[0;34m\u001b[0m\u001b[0;34m\u001b[0m\u001b[0m\n\u001b[0;32m--> 346\u001b[0;31m             \u001b[0mreport\u001b[0m \u001b[0;34m=\u001b[0m \u001b[0mprogress_queue\u001b[0m\u001b[0;34m.\u001b[0m\u001b[0mget\u001b[0m\u001b[0;34m(\u001b[0m\u001b[0;34m)\u001b[0m  \u001b[0;31m# blocks if workers too slow\u001b[0m\u001b[0;34m\u001b[0m\u001b[0;34m\u001b[0m\u001b[0m\n\u001b[0m\u001b[1;32m    347\u001b[0m             \u001b[0;32mif\u001b[0m \u001b[0mreport\u001b[0m \u001b[0;32mis\u001b[0m \u001b[0;32mNone\u001b[0m\u001b[0;34m:\u001b[0m  \u001b[0;31m# a thread reporting that it finished\u001b[0m\u001b[0;34m\u001b[0m\u001b[0;34m\u001b[0m\u001b[0m\n\u001b[1;32m    348\u001b[0m                 \u001b[0munfinished_worker_count\u001b[0m \u001b[0;34m-=\u001b[0m \u001b[0;36m1\u001b[0m\u001b[0;34m\u001b[0m\u001b[0;34m\u001b[0m\u001b[0m\n",
            "\u001b[0;32m/usr/lib/python3.7/queue.py\u001b[0m in \u001b[0;36mget\u001b[0;34m(self, block, timeout)\u001b[0m\n\u001b[1;32m    168\u001b[0m             \u001b[0;32melif\u001b[0m \u001b[0mtimeout\u001b[0m \u001b[0;32mis\u001b[0m \u001b[0;32mNone\u001b[0m\u001b[0;34m:\u001b[0m\u001b[0;34m\u001b[0m\u001b[0;34m\u001b[0m\u001b[0m\n\u001b[1;32m    169\u001b[0m                 \u001b[0;32mwhile\u001b[0m \u001b[0;32mnot\u001b[0m \u001b[0mself\u001b[0m\u001b[0;34m.\u001b[0m\u001b[0m_qsize\u001b[0m\u001b[0;34m(\u001b[0m\u001b[0;34m)\u001b[0m\u001b[0;34m:\u001b[0m\u001b[0;34m\u001b[0m\u001b[0;34m\u001b[0m\u001b[0m\n\u001b[0;32m--> 170\u001b[0;31m                     \u001b[0mself\u001b[0m\u001b[0;34m.\u001b[0m\u001b[0mnot_empty\u001b[0m\u001b[0;34m.\u001b[0m\u001b[0mwait\u001b[0m\u001b[0;34m(\u001b[0m\u001b[0;34m)\u001b[0m\u001b[0;34m\u001b[0m\u001b[0;34m\u001b[0m\u001b[0m\n\u001b[0m\u001b[1;32m    171\u001b[0m             \u001b[0;32melif\u001b[0m \u001b[0mtimeout\u001b[0m \u001b[0;34m<\u001b[0m \u001b[0;36m0\u001b[0m\u001b[0;34m:\u001b[0m\u001b[0;34m\u001b[0m\u001b[0;34m\u001b[0m\u001b[0m\n\u001b[1;32m    172\u001b[0m                 \u001b[0;32mraise\u001b[0m \u001b[0mValueError\u001b[0m\u001b[0;34m(\u001b[0m\u001b[0;34m\"'timeout' must be a non-negative number\"\u001b[0m\u001b[0;34m)\u001b[0m\u001b[0;34m\u001b[0m\u001b[0;34m\u001b[0m\u001b[0m\n",
            "\u001b[0;32m/usr/lib/python3.7/threading.py\u001b[0m in \u001b[0;36mwait\u001b[0;34m(self, timeout)\u001b[0m\n\u001b[1;32m    294\u001b[0m         \u001b[0;32mtry\u001b[0m\u001b[0;34m:\u001b[0m    \u001b[0;31m# restore state no matter what (e.g., KeyboardInterrupt)\u001b[0m\u001b[0;34m\u001b[0m\u001b[0;34m\u001b[0m\u001b[0m\n\u001b[1;32m    295\u001b[0m             \u001b[0;32mif\u001b[0m \u001b[0mtimeout\u001b[0m \u001b[0;32mis\u001b[0m \u001b[0;32mNone\u001b[0m\u001b[0;34m:\u001b[0m\u001b[0;34m\u001b[0m\u001b[0;34m\u001b[0m\u001b[0m\n\u001b[0;32m--> 296\u001b[0;31m                 \u001b[0mwaiter\u001b[0m\u001b[0;34m.\u001b[0m\u001b[0macquire\u001b[0m\u001b[0;34m(\u001b[0m\u001b[0;34m)\u001b[0m\u001b[0;34m\u001b[0m\u001b[0;34m\u001b[0m\u001b[0m\n\u001b[0m\u001b[1;32m    297\u001b[0m                 \u001b[0mgotit\u001b[0m \u001b[0;34m=\u001b[0m \u001b[0;32mTrue\u001b[0m\u001b[0;34m\u001b[0m\u001b[0;34m\u001b[0m\u001b[0m\n\u001b[1;32m    298\u001b[0m             \u001b[0;32melse\u001b[0m\u001b[0;34m:\u001b[0m\u001b[0;34m\u001b[0m\u001b[0;34m\u001b[0m\u001b[0m\n",
            "\u001b[0;31mKeyboardInterrupt\u001b[0m: "
          ]
        }
      ]
    },
    {
      "cell_type": "code",
      "metadata": {
        "id": "d7HhKSvuCQyj"
      },
      "source": [
        "text_model.docvecs.shape"
      ],
      "execution_count": null,
      "outputs": []
    },
    {
      "cell_type": "code",
      "metadata": {
        "colab": {
          "base_uri": "https://localhost:8080/"
        },
        "id": "v6W-N8RisjAs",
        "outputId": "42912b9b-b8cd-49c7-d1d0-b0c3437cba0e"
      },
      "source": [
        "len(text_model.docvecs), text_model.docvecs[0].shape"
      ],
      "execution_count": null,
      "outputs": [
        {
          "output_type": "execute_result",
          "data": {
            "text/plain": [
              "(3321, (300,))"
            ]
          },
          "metadata": {},
          "execution_count": 193
        }
      ]
    },
    {
      "cell_type": "code",
      "metadata": {
        "colab": {
          "base_uri": "https://localhost:8080/"
        },
        "id": "cVnE5gkwsi9T",
        "outputId": "850a4e92-d62d-4b04-d8ff-1ec9253d9efd"
      },
      "source": [
        "X_text = np.zeros((all_data.shape[0], Text_INPUT_DIM))\n",
        "\n",
        "for i in range(all_data.shape[0]):\n",
        "    X_text[i] = text_model.docvecs[i]\n",
        "    \n",
        "print(X_text.shape)"
      ],
      "execution_count": null,
      "outputs": [
        {
          "output_type": "stream",
          "name": "stdout",
          "text": [
            "(3321, 300)\n"
          ]
        }
      ]
    },
    {
      "cell_type": "code",
      "metadata": {
        "colab": {
          "base_uri": "https://localhost:8080/"
        },
        "id": "ovlHuaCVsi6Q",
        "outputId": "f69f65f9-a81f-4da9-ad06-ffa8d2eb24ef"
      },
      "source": [
        "len(all_data['Gene'].unique()), len(all_data['Variation'].unique())"
      ],
      "execution_count": null,
      "outputs": [
        {
          "output_type": "execute_result",
          "data": {
            "text/plain": [
              "(264, 2996)"
            ]
          },
          "metadata": {},
          "execution_count": 195
        }
      ]
    },
    {
      "cell_type": "code",
      "metadata": {
        "id": "TvrWQf1-si26"
      },
      "source": [
        "from sklearn.decomposition import TruncatedSVD\n",
        "Gene_INPUT_DIM=25\n",
        "\n",
        "svd = TruncatedSVD(n_components=25, n_iter=Gene_INPUT_DIM, random_state=42)\n",
        "\n",
        "X_gene = pd.get_dummies(all_data['Gene'])\n",
        "X_gene_tr = svd.fit_transform(X_gene.values)\n",
        "\n",
        "X_variation = pd.get_dummies(all_data['Variation'])\n",
        "X_variation_tr = svd.fit_transform(X_variation.values)"
      ],
      "execution_count": null,
      "outputs": []
    },
    {
      "cell_type": "code",
      "metadata": {
        "colab": {
          "base_uri": "https://localhost:8080/"
        },
        "id": "yY2YROrRsi0K",
        "outputId": "02730e8c-63d0-47ef-c3ad-90fa7c901ea1"
      },
      "source": [
        "X_gene_tr.shape, X_variation_tr.shape, X_text.shape"
      ],
      "execution_count": null,
      "outputs": [
        {
          "output_type": "execute_result",
          "data": {
            "text/plain": [
              "((3321, 25), (3321, 25), (3321, 300))"
            ]
          },
          "metadata": {},
          "execution_count": 197
        }
      ]
    },
    {
      "cell_type": "code",
      "metadata": {
        "id": "JICo9xlPyJRi"
      },
      "source": [
        "X_final = np.hstack((X_gene_tr, X_variation_tr, X_text))\n",
        "y = all_data['Class']"
      ],
      "execution_count": null,
      "outputs": []
    },
    {
      "cell_type": "code",
      "metadata": {
        "colab": {
          "base_uri": "https://localhost:8080/"
        },
        "id": "5WchjNoDyUm0",
        "outputId": "2bef3222-21ae-4602-c672-4e1d22815ca0"
      },
      "source": [
        "X_final.shape, y.shape"
      ],
      "execution_count": null,
      "outputs": [
        {
          "output_type": "execute_result",
          "data": {
            "text/plain": [
              "((3321, 350), (3321,))"
            ]
          },
          "metadata": {},
          "execution_count": 202
        }
      ]
    },
    {
      "cell_type": "markdown",
      "metadata": {
        "id": "YbKWNy-hxGxK"
      },
      "source": [
        "- ouput encoding"
      ]
    },
    {
      "cell_type": "code",
      "metadata": {
        "colab": {
          "base_uri": "https://localhost:8080/"
        },
        "id": "GmDO1x6Wsiw7",
        "outputId": "6f7b29a0-32bf-4e13-b9fa-9e5cc32a2d97"
      },
      "source": [
        "from keras.utils import np_utils\n",
        "from sklearn.preprocessing import LabelEncoder\n",
        "\n",
        "label_encoder = LabelEncoder()\n",
        "label_encoder.fit(y)\n",
        "y_ohe = np_utils.to_categorical((label_encoder.transform(y)))\n",
        "print(y_ohe[0], y[0])"
      ],
      "execution_count": null,
      "outputs": [
        {
          "output_type": "stream",
          "name": "stdout",
          "text": [
            "[1. 0. 0. 0. 0. 0. 0. 0. 0.] 1\n"
          ]
        }
      ]
    },
    {
      "cell_type": "code",
      "metadata": {
        "id": "a57g7ZRFsitq"
      },
      "source": [
        "X_train, X_test, y_train, y_test = train_test_split(X_final, y, stratify = y, test_size=0.3)"
      ],
      "execution_count": null,
      "outputs": []
    },
    {
      "cell_type": "code",
      "metadata": {
        "colab": {
          "base_uri": "https://localhost:8080/",
          "height": 80
        },
        "id": "SuaXtQiKsiqk",
        "outputId": "068971a8-eb3d-403a-d627-8e12014f17e4"
      },
      "source": [
        "alpha = 0.001\n",
        "clf = SGDClassifier(class_weight='balanced', alpha=alpha, penalty='l2', loss='log', random_state=42)\n",
        "model_performance('Logistic Regression',\n",
        "                  clf,\n",
        "                  alpha,\n",
        "                  X_train, y_train,\n",
        "                  X_test, y_test)"
      ],
      "execution_count": null,
      "outputs": [
        {
          "output_type": "execute_result",
          "data": {
            "text/html": [
              "<div>\n",
              "<style scoped>\n",
              "    .dataframe tbody tr th:only-of-type {\n",
              "        vertical-align: middle;\n",
              "    }\n",
              "\n",
              "    .dataframe tbody tr th {\n",
              "        vertical-align: top;\n",
              "    }\n",
              "\n",
              "    .dataframe thead th {\n",
              "        text-align: right;\n",
              "    }\n",
              "</style>\n",
              "<table border=\"1\" class=\"dataframe\">\n",
              "  <thead>\n",
              "    <tr style=\"text-align: right;\">\n",
              "      <th></th>\n",
              "      <th>Model</th>\n",
              "      <th>alpha</th>\n",
              "      <th>train_log_loss</th>\n",
              "      <th>test_log_loss</th>\n",
              "      <th>Accuracy(%)</th>\n",
              "    </tr>\n",
              "  </thead>\n",
              "  <tbody>\n",
              "    <tr>\n",
              "      <th>0</th>\n",
              "      <td>Logistic Regression</td>\n",
              "      <td>0.001</td>\n",
              "      <td>0.964</td>\n",
              "      <td>1.301</td>\n",
              "      <td>0.582748</td>\n",
              "    </tr>\n",
              "  </tbody>\n",
              "</table>\n",
              "</div>"
            ],
            "text/plain": [
              "                 Model  alpha  train_log_loss  test_log_loss  Accuracy(%)\n",
              "0  Logistic Regression  0.001           0.964          1.301     0.582748"
            ]
          },
          "metadata": {},
          "execution_count": 205
        }
      ]
    },
    {
      "cell_type": "code",
      "metadata": {
        "colab": {
          "base_uri": "https://localhost:8080/",
          "height": 487
        },
        "id": "m7vu9dk_y8J3",
        "outputId": "d41ab059-5ce1-4fe6-9b2d-16369d20197b"
      },
      "source": [
        "pca_ = PCA(n_components=2).fit_transform(X_final)\n",
        "\n",
        "plt.figure(figsize=(8, 8))\n",
        "plt.scatter(pca_[:,0], pca_[:,1], c=y, s=3)\n",
        "plt.colorbar()\n",
        "plt.show()"
      ],
      "execution_count": null,
      "outputs": [
        {
          "output_type": "display_data",
          "data": {
            "image/png": "[encoded data removed]",
            "text/plain": [
              "<Figure size 576x576 with 2 Axes>"
            ]
          },
          "metadata": {
            "needs_background": "light"
          }
        }
      ]
    },
    {
      "cell_type": "code",
      "metadata": {
        "colab": {
          "base_uri": "https://localhost:8080/",
          "height": 487
        },
        "id": "RZrzUSEDzP1C",
        "outputId": "f8cdf3ca-7b36-4dbd-b579-3d902a617d95"
      },
      "source": [
        "tsne_ = TSNE(n_components=2).fit_transform(X_final)\n",
        "\n",
        "plt.figure(figsize=(8, 8))\n",
        "plt.scatter(tsne_[:,0], tsne_[:,1], c=y, s=3)\n",
        "plt.colorbar()\n",
        "plt.show()"
      ],
      "execution_count": null,
      "outputs": [
        {
          "output_type": "display_data",
          "data": {
            "image/png": "[encoded data removed]",
            "text/plain": [
              "<Figure size 576x576 with 2 Axes>"
            ]
          },
          "metadata": {
            "needs_background": "light"
          }
        }
      ]
    },
    {
      "cell_type": "code",
      "metadata": {
        "colab": {
          "base_uri": "https://localhost:8080/"
        },
        "id": "wPWhhE13z1Dy",
        "outputId": "8563bc5f-ab06-4274-b46d-3df5e7c9d374"
      },
      "source": [
        "import tensorflow as tf\n",
        "from tensorflow import keras\n",
        "from tensorflow.keras.models import Sequential\n",
        "from tensorflow.keras.layers import Dense, Dropout, LSTM, Embedding, Input, RepeatVector\n",
        "from tensorflow.keras.optimizers import SGD, Adam\n",
        "\n",
        "model = Sequential()\n",
        "model.add(Dense(256, input_dim=Text_INPUT_DIM+Gene_INPUT_DIM*2, activation='relu'))\n",
        "model.add(Dropout(0.5))\n",
        "model.add(Dense(64, activation='relu'))\n",
        "model.add(Dropout(0.5))\n",
        "model.add(Dense(9, activation=\"softmax\"))\n",
        "model.summary()\n",
        "    \n",
        "model.compile(loss='categorical_crossentropy', \n",
        "                  optimizer=Adam(lr=0.001), \n",
        "                  metrics=['accuracy'])"
      ],
      "execution_count": null,
      "outputs": [
        {
          "output_type": "stream",
          "name": "stdout",
          "text": [
            "Model: \"sequential_5\"\n",
            "_________________________________________________________________\n",
            "Layer (type)                 Output Shape              Param #   \n",
            "=================================================================\n",
            "dense_21 (Dense)             (None, 256)               89856     \n",
            "_________________________________________________________________\n",
            "dropout_11 (Dropout)         (None, 256)               0         \n",
            "_________________________________________________________________\n",
            "dense_22 (Dense)             (None, 64)                16448     \n",
            "_________________________________________________________________\n",
            "dropout_12 (Dropout)         (None, 64)                0         \n",
            "_________________________________________________________________\n",
            "dense_23 (Dense)             (None, 9)                 585       \n",
            "=================================================================\n",
            "Total params: 106,889\n",
            "Trainable params: 106,889\n",
            "Non-trainable params: 0\n",
            "_________________________________________________________________\n"
          ]
        }
      ]
    },
    {
      "cell_type": "code",
      "metadata": {
        "id": "xMrkSnOn0dtn"
      },
      "source": [
        "history = model.fit(X_final, \n",
        "                    y_ohe, \n",
        "                    validation_split=0.2, \n",
        "                    epochs=30, \n",
        "                    batch_size=64, \n",
        "                    verbose=0)"
      ],
      "execution_count": null,
      "outputs": []
    },
    {
      "cell_type": "code",
      "metadata": {
        "colab": {
          "base_uri": "https://localhost:8080/"
        },
        "id": "6QC-nczz0dq3",
        "outputId": "f7604201-271c-4e4c-ae70-a8c6acac5762"
      },
      "source": [
        "print(\"Final Training accuracy: %.2f \" % history.history['accuracy'][-1])\n",
        "print(\"Final Validation accuracy: %.2f\" % history.history['val_accuracy'][-1])"
      ],
      "execution_count": null,
      "outputs": [
        {
          "output_type": "stream",
          "name": "stdout",
          "text": [
            "Final Training accuracy: 0.77 \n",
            "Final Validation accuracy: 0.37\n"
          ]
        }
      ]
    },
    {
      "cell_type": "code",
      "metadata": {
        "colab": {
          "base_uri": "https://localhost:8080/",
          "height": 295
        },
        "id": "7Gfo4opw0dnj",
        "outputId": "44c29072-b9f7-4cde-f572-f2895bdf7968"
      },
      "source": [
        "plt.subplot(1,2,1)\n",
        "plt.plot(history.history['accuracy'])\n",
        "plt.plot(history.history['val_accuracy'])\n",
        "plt.title('model accuracy')\n",
        "plt.ylabel('accuracy')\n",
        "plt.xlabel('epoch')\n",
        "plt.legend(['train', 'valid'], loc='upper left')\n",
        "\n",
        "plt.subplot(1,2,2)\n",
        "plt.plot(history.history['loss'])\n",
        "plt.plot(history.history['val_loss'])\n",
        "plt.title('model loss')\n",
        "plt.ylabel('loss')\n",
        "plt.xlabel('epoch')\n",
        "\n",
        "\n",
        "plt.legend(['train', 'valid'], loc='upper left')\n",
        "plt.show()"
      ],
      "execution_count": null,
      "outputs": [
        {
          "output_type": "display_data",
          "data": {
            "image/png": "[encoded data removed]",
            "text/plain": [
              "<Figure size 432x288 with 2 Axes>"
            ]
          },
          "metadata": {
            "needs_background": "light"
          }
        }
      ]
    },
    {
      "cell_type": "markdown",
      "metadata": {
        "id": "1vc2X0Lr3AWm"
      },
      "source": [
        "- not a good idea"
      ]
    },
    {
      "cell_type": "code",
      "metadata": {
        "id": "ygcZkTjM0dkh"
      },
      "source": [
        ""
      ],
      "execution_count": null,
      "outputs": []
    },
    {
      "cell_type": "markdown",
      "metadata": {
        "id": "tMmJBpUzjcTY"
      },
      "source": [
        "# For exercise"
      ]
    },
    {
      "cell_type": "markdown",
      "metadata": {
        "id": "DTbljtyEnTfh"
      },
      "source": [
        "- namedtuple"
      ]
    },
    {
      "cell_type": "code",
      "metadata": {
        "id": "BRZ-6mPimQFl",
        "colab": {
          "base_uri": "https://localhost:8080/"
        },
        "outputId": "d704d25b-1aa8-46f0-b701-78362d1e747a"
      },
      "source": [
        "from collections import namedtuple\n",
        "\n",
        "Point = namedtuple('Point', ['x', 'y'])\n",
        "p = Point(11, y=22)     # instantiate with positional or keyword arguments\n",
        "p"
      ],
      "execution_count": null,
      "outputs": [
        {
          "output_type": "execute_result",
          "data": {
            "text/plain": [
              "Point(x=11, y=22)"
            ]
          },
          "metadata": {},
          "execution_count": 87
        }
      ]
    },
    {
      "cell_type": "code",
      "metadata": {
        "id": "1Dj2czG_mbXE",
        "colab": {
          "base_uri": "https://localhost:8080/"
        },
        "outputId": "90fdf0b2-19cd-4452-d20e-f88e6f7ca51a"
      },
      "source": [
        "print(p[0] + p[1])          # indexable like the plain tuple (11, 22)\n",
        "x, y = p\n",
        "print(x, y)\n",
        "p.x + p.y"
      ],
      "execution_count": null,
      "outputs": [
        {
          "output_type": "stream",
          "name": "stdout",
          "text": [
            "33\n",
            "11 22\n"
          ]
        },
        {
          "output_type": "execute_result",
          "data": {
            "text/plain": [
              "33"
            ]
          },
          "metadata": {},
          "execution_count": 88
        }
      ]
    },
    {
      "cell_type": "markdown",
      "metadata": {
        "id": "0etaH06LndYI"
      },
      "source": [
        "- doc2vec\n",
        "  - window: 모델 학습할때 앞뒤로 보는 단어의 수\n",
        "  - vector_size: 벡터 차원의 크기\n",
        "  - alpha: learning rate\n",
        "  - min_count: 학습에 사용할 최소 단어 빈도 수\n",
        "  - dm: 학습방법 1 = PV-DM, 0 = PV-DBOW\n",
        "  - negative: Complexity Reduction 방법, negative sampling\n",
        "  - max_epochs: 최대 학습 횟수\n"
      ]
    },
    {
      "cell_type": "code",
      "metadata": {
        "colab": {
          "base_uri": "https://localhost:8080/"
        },
        "id": "1OJsfBACljGX",
        "outputId": "fee8e6c6-4474-4b6c-f242-a478e821a2d7"
      },
      "source": [
        "from gensim.models.doc2vec import Doc2Vec, TaggedDocument\n",
        "from nltk.tokenize import word_tokenize\n",
        "import nltk\n",
        "nltk.download('punkt')\n",
        "\n",
        "data = [\"I love machine learning. Its awesome.\",\n",
        "        \"I love coding in python\",\n",
        "        \"I love building chatbots\",\n",
        "        \"they chat amagingly well\"]\n",
        "\n",
        "# tagged_data = [TaggedDocument(words=word_tokenize(_d.lower()), tags=[str(i)]) for i, _d in enumerate(data)]\n",
        "tagged_data = []\n",
        "\n",
        "for i, _d in enumerate(data):\n",
        "    d = TaggedDocument(words=word_tokenize(_d.lower()), tags=[str(i)])\n",
        "    tagged_data.append(d)\n",
        "\n",
        "tagged_data"
      ],
      "execution_count": null,
      "outputs": [
        {
          "output_type": "stream",
          "name": "stdout",
          "text": [
            "[nltk_data] Downloading package punkt to /root/nltk_data...\n",
            "[nltk_data]   Package punkt is already up-to-date!\n"
          ]
        },
        {
          "output_type": "execute_result",
          "data": {
            "text/plain": [
              "[TaggedDocument(words=['i', 'love', 'machine', 'learning', '.', 'its', 'awesome', '.'], tags=['0']),\n",
              " TaggedDocument(words=['i', 'love', 'coding', 'in', 'python'], tags=['1']),\n",
              " TaggedDocument(words=['i', 'love', 'building', 'chatbots'], tags=['2']),\n",
              " TaggedDocument(words=['they', 'chat', 'amagingly', 'well'], tags=['3'])]"
            ]
          },
          "metadata": {},
          "execution_count": 89
        }
      ]
    },
    {
      "cell_type": "code",
      "metadata": {
        "id": "dUqInMF9cFVj"
      },
      "source": [
        "vec_size = 5\n",
        "alpha = 0.025\n",
        "\n",
        "model = Doc2Vec(vector_size = 5, min_count=1)  \n",
        "model.build_vocab(tagged_data)\n",
        "model.train(tagged_data, total_examples=model.corpus_count, epochs=50)"
      ],
      "execution_count": null,
      "outputs": []
    },
    {
      "cell_type": "code",
      "metadata": {
        "colab": {
          "base_uri": "https://localhost:8080/"
        },
        "id": "wguJTMPhiZLe",
        "outputId": "bf6e7e64-cefa-468e-b90c-74cd713c3520"
      },
      "source": [
        "model.epochs, model.corpus_count"
      ],
      "execution_count": null,
      "outputs": [
        {
          "output_type": "execute_result",
          "data": {
            "text/plain": [
              "(50, 4)"
            ]
          },
          "metadata": {},
          "execution_count": 91
        }
      ]
    },
    {
      "cell_type": "code",
      "metadata": {
        "colab": {
          "base_uri": "https://localhost:8080/"
        },
        "id": "y1APK7dEcPOR",
        "outputId": "58045525-d9c8-4a97-9919-b7285edfd90c"
      },
      "source": [
        "for i in range(len(model.docvecs)):\n",
        "    print(model.docvecs[i])"
      ],
      "execution_count": null,
      "outputs": [
        {
          "output_type": "stream",
          "name": "stdout",
          "text": [
            "[ 0.08858732  0.00899421 -0.07510833 -0.09849896  0.05908826]\n",
            "[-0.09889749  0.07174767  0.06829729  0.06478605 -0.05745519]\n",
            "[-0.06002704 -0.09518132  0.09420168  0.06741974 -0.05818788]\n",
            "[ 0.03545976  0.00914661 -0.07358484 -0.07756274 -0.01102167]\n"
          ]
        }
      ]
    },
    {
      "cell_type": "markdown",
      "metadata": {
        "id": "pCxWRkzq0krj"
      },
      "source": [
        "- CalibratedClassifierCV\n",
        "  - When performing classification you often want not only to predict the class label, but also obtain a probability of the respective label. This probability gives you some kind of confidence on the prediction. Some models can give you poor estimates of the class probabilities and some even do not support probability prediction (e.g., some instances of SGDClassifier). **The calibration module allows you to better calibrate the probabilities of a given model, or to add support for probability prediction.**\n",
        "  - **Well calibrated classifiers are probabilistic classifiers for which the output of the predict_proba method can be directly interpreted as a confidence level.**\n",
        "  - This class uses cross-validation to both \n",
        "      - estimate the parameters of a classifier, and \n",
        "      - subsequently calibrate a classifier. \n",
        "  - With default ensemble=True, \n",
        "      - for each cv split it fits a copy of the base estimator to the training subset, and calibrates it using the testing subset. \n",
        "      - For prediction, predicted probabilities are averaged across these individual calibrated classifiers. "
      ]
    },
    {
      "cell_type": "code",
      "metadata": {
        "colab": {
          "base_uri": "https://localhost:8080/"
        },
        "id": "R9I7QLkFza4C",
        "outputId": "ca22fa46-b04a-44d4-d4a6-dc1659dcf9e7"
      },
      "source": [
        "from sklearn.datasets import make_classification\n",
        "from sklearn.naive_bayes import GaussianNB\n",
        "from sklearn.calibration import CalibratedClassifierCV\n",
        "X, y = make_classification(n_samples=100, n_features=2,\n",
        "                         n_redundant=0, random_state=42)\n",
        "base_clf = GaussianNB()\n",
        "calibrated_clf = CalibratedClassifierCV(base_estimator=base_clf, cv=3)\n",
        "calibrated_clf.fit(X, y)"
      ],
      "execution_count": null,
      "outputs": [
        {
          "output_type": "execute_result",
          "data": {
            "text/plain": [
              "CalibratedClassifierCV(base_estimator=GaussianNB(priors=None,\n",
              "                                                 var_smoothing=1e-09),\n",
              "                       cv=3, method='sigmoid')"
            ]
          },
          "metadata": {},
          "execution_count": 51
        }
      ]
    },
    {
      "cell_type": "code",
      "metadata": {
        "colab": {
          "base_uri": "https://localhost:8080/"
        },
        "id": "ZZqR6uvtzt6W",
        "outputId": "ea03bfc9-9202-4e32-d8e3-7dcd5a1d7a35"
      },
      "source": [
        "len(calibrated_clf.calibrated_classifiers_)"
      ],
      "execution_count": null,
      "outputs": [
        {
          "output_type": "execute_result",
          "data": {
            "text/plain": [
              "3"
            ]
          },
          "metadata": {},
          "execution_count": 53
        }
      ]
    },
    {
      "cell_type": "code",
      "metadata": {
        "colab": {
          "base_uri": "https://localhost:8080/"
        },
        "id": "Bq9djRhDz2BA",
        "outputId": "c6e331bc-d532-4709-8630-d1ab67d4e5b8"
      },
      "source": [
        "calibrated_clf.predict_proba(X)[:5, :]"
      ],
      "execution_count": null,
      "outputs": [
        {
          "output_type": "execute_result",
          "data": {
            "text/plain": [
              "array([[0.11009913, 0.88990087],\n",
              "       [0.07226373, 0.92773627],\n",
              "       [0.92831861, 0.07168139],\n",
              "       [0.9283446 , 0.0716554 ],\n",
              "       [0.07186091, 0.92813909]])"
            ]
          },
          "metadata": {},
          "execution_count": 54
        }
      ]
    },
    {
      "cell_type": "code",
      "metadata": {
        "colab": {
          "base_uri": "https://localhost:8080/"
        },
        "id": "WuouV8Owz8qJ",
        "outputId": "0802ffe3-a03f-458a-d95b-cf3d223a19a7"
      },
      "source": [
        "from sklearn.model_selection import train_test_split\n",
        "X, y = make_classification(n_samples=100, n_features=2,\n",
        "                            n_redundant=0, random_state=42)\n",
        "X_train, X_calib, y_train, y_calib = train_test_split(X, y, random_state=42)\n",
        "base_clf = GaussianNB()\n",
        "base_clf.fit(X_train, y_train)"
      ],
      "execution_count": null,
      "outputs": [
        {
          "output_type": "execute_result",
          "data": {
            "text/plain": [
              "GaussianNB(priors=None, var_smoothing=1e-09)"
            ]
          },
          "metadata": {},
          "execution_count": 59
        }
      ]
    },
    {
      "cell_type": "code",
      "metadata": {
        "colab": {
          "base_uri": "https://localhost:8080/"
        },
        "id": "jK-_f2rt0Kj6",
        "outputId": "7ed6a62a-7dab-4e29-d024-a153b4844844"
      },
      "source": [
        "calibrated_clf = CalibratedClassifierCV(\n",
        "     base_estimator=base_clf,\n",
        "     cv=\"prefit\"\n",
        " )\n",
        "calibrated_clf.fit(X_calib, y_calib)"
      ],
      "execution_count": null,
      "outputs": [
        {
          "output_type": "execute_result",
          "data": {
            "text/plain": [
              "CalibratedClassifierCV(base_estimator=GaussianNB(priors=None,\n",
              "                                                 var_smoothing=1e-09),\n",
              "                       cv='prefit', method='sigmoid')"
            ]
          },
          "metadata": {},
          "execution_count": 60
        }
      ]
    },
    {
      "cell_type": "code",
      "metadata": {
        "colab": {
          "base_uri": "https://localhost:8080/"
        },
        "id": "MO-zOp6p0RnA",
        "outputId": "a123bb88-09e7-4559-fc75-901e15c8903e"
      },
      "source": [
        "len(calibrated_clf.calibrated_classifiers_)"
      ],
      "execution_count": null,
      "outputs": [
        {
          "output_type": "execute_result",
          "data": {
            "text/plain": [
              "1"
            ]
          },
          "metadata": {},
          "execution_count": 61
        }
      ]
    },
    {
      "cell_type": "code",
      "metadata": {
        "colab": {
          "base_uri": "https://localhost:8080/"
        },
        "id": "ZIbeYuWt0a06",
        "outputId": "deb8a0f6-2c9a-4cbb-dce6-4d0e9e812112"
      },
      "source": [
        "calibrated_clf.predict_proba([[-0.5, 0.5]])"
      ],
      "execution_count": null,
      "outputs": [
        {
          "output_type": "execute_result",
          "data": {
            "text/plain": [
              "array([[0.93677315, 0.06322685]])"
            ]
          },
          "metadata": {},
          "execution_count": 62
        }
      ]
    },
    {
      "cell_type": "code",
      "metadata": {
        "colab": {
          "base_uri": "https://localhost:8080/"
        },
        "id": "NsamFhFvCBBC",
        "outputId": "ab9d5616-91b0-4be8-f6ee-40d299119970"
      },
      "source": [
        "normalize(np.array([[1., 2.],\n",
        "                    [0.,1.]]), norm='l2', axis=0)"
      ],
      "execution_count": null,
      "outputs": [
        {
          "output_type": "execute_result",
          "data": {
            "text/plain": [
              "array([[1.        , 0.89442719],\n",
              "       [0.        , 0.4472136 ]])"
            ]
          },
          "metadata": {},
          "execution_count": 52
        }
      ]
    },
    {
      "cell_type": "code",
      "metadata": {
        "colab": {
          "base_uri": "https://localhost:8080/"
        },
        "id": "o0YX8xLTCEk3",
        "outputId": "b0992a3f-1ba7-47da-cf96-9b31314dcf10"
      },
      "source": [
        "normalize(np.array([[1., 2.],\n",
        "                    [0.,1.]]), norm='l1', axis=0)"
      ],
      "execution_count": null,
      "outputs": [
        {
          "output_type": "execute_result",
          "data": {
            "text/plain": [
              "array([[1.        , 0.66666667],\n",
              "       [0.        , 0.33333333]])"
            ]
          },
          "metadata": {},
          "execution_count": 53
        }
      ]
    }
  ]
}