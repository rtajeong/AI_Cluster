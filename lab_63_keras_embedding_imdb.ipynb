{
  "nbformat": 4,
  "nbformat_minor": 0,
  "metadata": {
    "accelerator": "GPU",
    "colab": {
      "name": "lab_63_keras_embedding_imdb.ipynb",
      "provenance": [],
      "collapsed_sections": [],
      "include_colab_link": true
    },
    "kernelspec": {
      "display_name": "Python 3",
      "language": "python",
      "name": "python3"
    },
    "language_info": {
      "codemirror_mode": {
        "name": "ipython",
        "version": 3
      },
      "file_extension": ".py",
      "mimetype": "text/x-python",
      "name": "python",
      "nbconvert_exporter": "python",
      "pygments_lexer": "ipython3",
      "version": "3.6.8"
    }
  },
  "cells": [
    {
      "cell_type": "markdown",
      "metadata": {
        "id": "view-in-github",
        "colab_type": "text"
      },
      "source": [
        "<a href=\"https://colab.research.google.com/github/rtajeong/AI_Cluster/blob/main/lab_63_keras_embedding_imdb.ipynb\" target=\"_parent\"><img src=\"https://colab.research.google.com/assets/colab-badge.svg\" alt=\"Open In Colab\"/></a>"
      ]
    },
    {
      "cell_type": "markdown",
      "metadata": {
        "id": "2Pa94qBD7EKp"
      },
      "source": [
        "# Word Embedding with Keras.Embedding() Layer\n",
        "\n",
        "- 정수 인덱스를 벡터로 매핑하는 딕셔너리 구조 (인덱스 크기, 벡터 크기)\n",
        "- 학습 시키는 데이터에 따라 다른 임베딩이 만들어진다.\n",
        "\n",
        "- IMDB 영화 리뷰 데이터를 사용한 임베딩 예제\n",
        "  - IMDB: (internet movie database) the world's most popular and authoritative source for movie, TV and celebrity content\n",
        "\n"
      ]
    },
    {
      "cell_type": "code",
      "metadata": {
        "id": "y8hRGgn85LtI"
      },
      "source": [
        "import tensorflow as tf\n",
        "import tensorflow.keras as keras \n",
        "from tensorflow.keras.models import Sequential\n",
        "from tensorflow.keras.layers import Flatten, Dense, Embedding, Dropout\n",
        "from tensorflow.keras.layers import Conv1D, MaxPooling1D, GlobalMaxPooling1D\n",
        "import os, os.path\n",
        "import zipfile\n",
        "from tensorflow.keras.datasets import imdb\n",
        "from tensorflow.keras import preprocessing\n",
        "from tensorflow.keras.preprocessing.text import Tokenizer\n",
        "from tensorflow.keras.preprocessing.sequence import pad_sequences\n",
        "import numpy as np\n",
        "import matplotlib.pyplot as plt\n",
        "%matplotlib inline"
      ],
      "execution_count": null,
      "outputs": []
    },
    {
      "cell_type": "markdown",
      "metadata": {
        "id": "LIZeMWh1AX2i"
      },
      "source": [
        "- 5000 개의 단어만 사용하고, 각 문장에서는 뒤에서부터 500 개의 단어만 사용하겠음."
      ]
    },
    {
      "cell_type": "code",
      "metadata": {
        "id": "9Tu8xAnn_nGl",
        "colab": {
          "base_uri": "https://localhost:8080/"
        },
        "outputId": "151965c5-6f89-4733-aa4b-3d8d1a36b0af"
      },
      "source": [
        "max_features = 5000\n",
        "(x_train, y_train), (x_test, y_test) = imdb.load_data(num_words=max_features)"
      ],
      "execution_count": null,
      "outputs": [
        {
          "output_type": "stream",
          "name": "stdout",
          "text": [
            "Downloading data from https://storage.googleapis.com/tensorflow/tf-keras-datasets/imdb.npz\n",
            "17465344/17464789 [==============================] - 1s 0us/step\n",
            "17473536/17464789 [==============================] - 1s 0us/step\n"
          ]
        }
      ]
    },
    {
      "cell_type": "code",
      "metadata": {
        "colab": {
          "base_uri": "https://localhost:8080/"
        },
        "id": "aMQILBgDlBKu",
        "outputId": "ddf4a4d2-193d-4abb-a860-f93da1244709"
      },
      "source": [
        "y_train[:1000].sum(), y_train[-1000:].sum()   # can assume equally distributed"
      ],
      "execution_count": null,
      "outputs": [
        {
          "output_type": "execute_result",
          "data": {
            "text/plain": [
              "(494, 498)"
            ]
          },
          "metadata": {},
          "execution_count": 3
        }
      ]
    },
    {
      "cell_type": "code",
      "metadata": {
        "id": "gXuG1WkZeq6L",
        "colab": {
          "base_uri": "https://localhost:8080/"
        },
        "outputId": "3fb34e09-c559-4bc9-8e4d-4065b01bf42e"
      },
      "source": [
        "x_train.shape, x_test.shape, y_train.shape, y_test.shape"
      ],
      "execution_count": null,
      "outputs": [
        {
          "output_type": "execute_result",
          "data": {
            "text/plain": [
              "((25000,), (25000,), (25000,), (25000,))"
            ]
          },
          "metadata": {},
          "execution_count": 4
        }
      ]
    },
    {
      "cell_type": "code",
      "metadata": {
        "colab": {
          "base_uri": "https://localhost:8080/"
        },
        "id": "l3AbuPD9rNde",
        "outputId": "08b2ba41-efcc-4d0b-edb4-fada21942741"
      },
      "source": [
        "print(y_train[6])\n",
        "print(x_train[6])"
      ],
      "execution_count": null,
      "outputs": [
        {
          "output_type": "stream",
          "name": "stdout",
          "text": [
            "1\n",
            "[1, 2, 365, 1234, 5, 1156, 354, 11, 14, 2, 2, 7, 1016, 2, 2, 356, 44, 4, 1349, 500, 746, 5, 200, 4, 4132, 11, 2, 2, 1117, 1831, 2, 5, 4831, 26, 6, 2, 4183, 17, 369, 37, 215, 1345, 143, 2, 5, 1838, 8, 1974, 15, 36, 119, 257, 85, 52, 486, 9, 6, 2, 2, 63, 271, 6, 196, 96, 949, 4121, 4, 2, 7, 4, 2212, 2436, 819, 63, 47, 77, 2, 180, 6, 227, 11, 94, 2494, 2, 13, 423, 4, 168, 7, 4, 22, 5, 89, 665, 71, 270, 56, 5, 13, 197, 12, 161, 2, 99, 76, 23, 2, 7, 419, 665, 40, 91, 85, 108, 7, 4, 2084, 5, 4773, 81, 55, 52, 1901]\n"
          ]
        }
      ]
    },
    {
      "cell_type": "code",
      "metadata": {
        "colab": {
          "base_uri": "https://localhost:8080/"
        },
        "id": "iRes_J4al_XR",
        "outputId": "4df4325b-d5f2-44ab-dd7b-5d3dcec9dcb9"
      },
      "source": [
        "word2id = imdb.get_word_index()\n",
        "id2word = {i: word for word, i in word2id.items()}\n",
        "print('---review with words---')\n",
        "print([id2word.get(i, ' ') for i in x_train[6]])\n",
        "print('---label---')\n",
        "print(y_train[6])"
      ],
      "execution_count": null,
      "outputs": [
        {
          "output_type": "stream",
          "name": "stdout",
          "text": [
            "Downloading data from https://storage.googleapis.com/tensorflow/tf-keras-datasets/imdb_word_index.json\n",
            "1646592/1641221 [==============================] - 0s 0us/step\n",
            "1654784/1641221 [==============================] - 0s 0us/step\n",
            "---review with words---\n",
            "['the', 'and', 'full', 'involving', 'to', 'impressive', 'boring', 'this', 'as', 'and', 'and', 'br', 'villain', 'and', 'and', 'need', 'has', 'of', 'costumes', 'b', 'message', 'to', 'may', 'of', 'props', 'this', 'and', 'and', 'concept', 'issue', 'and', 'to', \"god's\", 'he', 'is', 'and', 'unfolds', 'movie', 'women', 'like', \"isn't\", 'surely', \"i'm\", 'and', 'to', 'toward', 'in', \"here's\", 'for', 'from', 'did', 'having', 'because', 'very', 'quality', 'it', 'is', 'and', 'and', 'really', 'book', 'is', 'both', 'too', 'worked', 'carl', 'of', 'and', 'br', 'of', 'reviewer', 'closer', 'figure', 'really', 'there', 'will', 'and', 'things', 'is', 'far', 'this', 'make', 'mistakes', 'and', 'was', \"couldn't\", 'of', 'few', 'br', 'of', 'you', 'to', \"don't\", 'female', 'than', 'place', 'she', 'to', 'was', 'between', 'that', 'nothing', 'and', 'movies', 'get', 'are', 'and', 'br', 'yes', 'female', 'just', 'its', 'because', 'many', 'br', 'of', 'overly', 'to', 'descent', 'people', 'time', 'very', 'bland']\n",
            "---label---\n",
            "1\n"
          ]
        }
      ]
    },
    {
      "cell_type": "code",
      "metadata": {
        "id": "XEmlO1XkY2tZ",
        "colab": {
          "base_uri": "https://localhost:8080/"
        },
        "outputId": "a96589ee-e86e-4f37-800d-5c5fe35891d4"
      },
      "source": [
        "# 각 문장이 몇개의 단어로 구성되어 있는지 확인\n",
        "[len(x_train[i]) for i in range(10)]"
      ],
      "execution_count": null,
      "outputs": [
        {
          "output_type": "execute_result",
          "data": {
            "text/plain": [
              "[218, 189, 141, 550, 147, 43, 123, 562, 233, 130]"
            ]
          },
          "metadata": {},
          "execution_count": 10
        }
      ]
    },
    {
      "cell_type": "code",
      "metadata": {
        "colab": {
          "base_uri": "https://localhost:8080/"
        },
        "id": "qLoVqejFhYXK",
        "outputId": "b5398561-aaf9-4190-9e65-326b70f89e76"
      },
      "source": [
        "print(max([len(x_train[i]) for i in range(25000)]), min([len(x_train[i]) for i in range(25000)]))\n",
        "print(max([len(x_test[i]) for i in range(25000)]), min([len(x_test[i]) for i in range(25000)]))"
      ],
      "execution_count": null,
      "outputs": [
        {
          "output_type": "stream",
          "name": "stdout",
          "text": [
            "2494 11\n",
            "2315 7\n"
          ]
        }
      ]
    },
    {
      "cell_type": "code",
      "metadata": {
        "id": "J4w1ON5Z7SvH",
        "scrolled": true,
        "colab": {
          "base_uri": "https://localhost:8080/"
        },
        "outputId": "038912a9-9e0a-4d81-d85f-34350c0486db"
      },
      "source": [
        "x_train[0:2]   # words tokenized and expressed by (word) numbers"
      ],
      "execution_count": null,
      "outputs": [
        {
          "output_type": "execute_result",
          "data": {
            "text/plain": [
              "array([list([1, 14, 22, 16, 43, 530, 973, 1622, 1385, 65, 458, 4468, 66, 3941, 4, 173, 36, 256, 5, 25, 100, 43, 838, 112, 50, 670, 2, 9, 35, 480, 284, 5, 150, 4, 172, 112, 167, 2, 336, 385, 39, 4, 172, 4536, 1111, 17, 546, 38, 13, 447, 4, 192, 50, 16, 6, 147, 2025, 19, 14, 22, 4, 1920, 4613, 469, 4, 22, 71, 87, 12, 16, 43, 530, 38, 76, 15, 13, 1247, 4, 22, 17, 515, 17, 12, 16, 626, 18, 2, 5, 62, 386, 12, 8, 316, 8, 106, 5, 4, 2223, 2, 16, 480, 66, 3785, 33, 4, 130, 12, 16, 38, 619, 5, 25, 124, 51, 36, 135, 48, 25, 1415, 33, 6, 22, 12, 215, 28, 77, 52, 5, 14, 407, 16, 82, 2, 8, 4, 107, 117, 2, 15, 256, 4, 2, 7, 3766, 5, 723, 36, 71, 43, 530, 476, 26, 400, 317, 46, 7, 4, 2, 1029, 13, 104, 88, 4, 381, 15, 297, 98, 32, 2071, 56, 26, 141, 6, 194, 2, 18, 4, 226, 22, 21, 134, 476, 26, 480, 5, 144, 30, 2, 18, 51, 36, 28, 224, 92, 25, 104, 4, 226, 65, 16, 38, 1334, 88, 12, 16, 283, 5, 16, 4472, 113, 103, 32, 15, 16, 2, 19, 178, 32]),\n",
              "       list([1, 194, 1153, 194, 2, 78, 228, 5, 6, 1463, 4369, 2, 134, 26, 4, 715, 8, 118, 1634, 14, 394, 20, 13, 119, 954, 189, 102, 5, 207, 110, 3103, 21, 14, 69, 188, 8, 30, 23, 7, 4, 249, 126, 93, 4, 114, 9, 2300, 1523, 5, 647, 4, 116, 9, 35, 2, 4, 229, 9, 340, 1322, 4, 118, 9, 4, 130, 4901, 19, 4, 1002, 5, 89, 29, 952, 46, 37, 4, 455, 9, 45, 43, 38, 1543, 1905, 398, 4, 1649, 26, 2, 5, 163, 11, 3215, 2, 4, 1153, 9, 194, 775, 7, 2, 2, 349, 2637, 148, 605, 2, 2, 15, 123, 125, 68, 2, 2, 15, 349, 165, 4362, 98, 5, 4, 228, 9, 43, 2, 1157, 15, 299, 120, 5, 120, 174, 11, 220, 175, 136, 50, 9, 4373, 228, 2, 5, 2, 656, 245, 2350, 5, 4, 2, 131, 152, 491, 18, 2, 32, 2, 1212, 14, 9, 6, 371, 78, 22, 625, 64, 1382, 9, 8, 168, 145, 23, 4, 1690, 15, 16, 4, 1355, 5, 28, 6, 52, 154, 462, 33, 89, 78, 285, 16, 145, 95])],\n",
              "      dtype=object)"
            ]
          },
          "metadata": {},
          "execution_count": 10
        }
      ]
    },
    {
      "cell_type": "code",
      "metadata": {
        "id": "blQtfwq4e3NP",
        "colab": {
          "base_uri": "https://localhost:8080/"
        },
        "outputId": "64e0a631-55c0-48cd-aa7a-b6ffe57442f7"
      },
      "source": [
        "# 마지막 500개의 단어들만 사용한다. -> 500개보다 적으면 똑같은 길이로 만들어 준다.\n",
        "maxlen = 500\n",
        "x_train_p=preprocessing.sequence.pad_sequences(x_train, maxlen=maxlen)\n",
        "x_test_p=preprocessing.sequence.pad_sequences(x_test, maxlen=maxlen)\n",
        "print(x_train_p.shape, x_test_p.shape)"
      ],
      "execution_count": null,
      "outputs": [
        {
          "output_type": "stream",
          "name": "stdout",
          "text": [
            "(25000, 500) (25000, 500)\n"
          ]
        }
      ]
    },
    {
      "cell_type": "markdown",
      "metadata": {
        "id": "NVALCBnksmms"
      },
      "source": [
        "- Embedding()은 (number of samples, input_length)인 2D 정수 텐서를 입력받습니다. 이 때 각 sample은 정수 인코딩이 된 결과로, 정수의 시퀀스입니다. Embedding()은 워드 임베딩 작업을 수행하고 (number of samples, input_length, embedding word dimensionality)인 3D 텐서를 리턴합니다."
      ]
    },
    {
      "cell_type": "code",
      "metadata": {
        "id": "KD5dWA__fqO1",
        "colab": {
          "base_uri": "https://localhost:8080/"
        },
        "outputId": "9907600b-5e39-4e4c-8449-d00e141be526"
      },
      "source": [
        "model = Sequential()\n",
        "model.add(Embedding(5000, 32, input_length=maxlen)) # input 각 단어에 대해 32-vector 로 임베딩\n",
        "model.add(Dense(1, activation='sigmoid'))\n",
        "\n",
        "model.compile(loss='binary_crossentropy',\n",
        "              optimizer='adam',\n",
        "              metrics=['acc'])\n",
        "model.summary()"
      ],
      "execution_count": null,
      "outputs": [
        {
          "output_type": "stream",
          "name": "stdout",
          "text": [
            "Model: \"sequential\"\n",
            "_________________________________________________________________\n",
            "Layer (type)                 Output Shape              Param #   \n",
            "=================================================================\n",
            "embedding (Embedding)        (None, 500, 32)           160000    \n",
            "_________________________________________________________________\n",
            "dense (Dense)                (None, 500, 1)            33        \n",
            "=================================================================\n",
            "Total params: 160,033\n",
            "Trainable params: 160,033\n",
            "Non-trainable params: 0\n",
            "_________________________________________________________________\n"
          ]
        }
      ]
    },
    {
      "cell_type": "code",
      "metadata": {
        "id": "LiMsP3C96RRg",
        "scrolled": true,
        "colab": {
          "base_uri": "https://localhost:8080/"
        },
        "outputId": "a5ac7de0-470d-477c-902f-5dd12e932b57"
      },
      "source": [
        "history = model.fit(x_train_p, y_train,\n",
        "                    epochs=10, batch_size=500,\n",
        "                    validation_split=0.2)"
      ],
      "execution_count": null,
      "outputs": [
        {
          "output_type": "stream",
          "name": "stdout",
          "text": [
            "Epoch 1/10\n",
            "40/40 [==============================] - 4s 24ms/step - loss: 0.6921 - acc: 0.5174 - val_loss: 0.6908 - val_acc: 0.5225\n",
            "Epoch 2/10\n",
            "40/40 [==============================] - 1s 14ms/step - loss: 0.6899 - acc: 0.5225 - val_loss: 0.6894 - val_acc: 0.5229\n",
            "Epoch 3/10\n",
            "40/40 [==============================] - 1s 13ms/step - loss: 0.6888 - acc: 0.5247 - val_loss: 0.6886 - val_acc: 0.5229\n",
            "Epoch 4/10\n",
            "40/40 [==============================] - 1s 13ms/step - loss: 0.6881 - acc: 0.5193 - val_loss: 0.6882 - val_acc: 0.5210\n",
            "Epoch 5/10\n",
            "40/40 [==============================] - 1s 14ms/step - loss: 0.6878 - acc: 0.5197 - val_loss: 0.6881 - val_acc: 0.5230\n",
            "Epoch 6/10\n",
            "40/40 [==============================] - 1s 14ms/step - loss: 0.6876 - acc: 0.5223 - val_loss: 0.6879 - val_acc: 0.5233\n",
            "Epoch 7/10\n",
            "40/40 [==============================] - 1s 13ms/step - loss: 0.6875 - acc: 0.5221 - val_loss: 0.6879 - val_acc: 0.5231\n",
            "Epoch 8/10\n",
            "40/40 [==============================] - 1s 15ms/step - loss: 0.6875 - acc: 0.5218 - val_loss: 0.6878 - val_acc: 0.5234\n",
            "Epoch 9/10\n",
            "40/40 [==============================] - 1s 14ms/step - loss: 0.6875 - acc: 0.5221 - val_loss: 0.6879 - val_acc: 0.5234\n",
            "Epoch 10/10\n",
            "40/40 [==============================] - 1s 15ms/step - loss: 0.6874 - acc: 0.5259 - val_loss: 0.6880 - val_acc: 0.5205\n"
          ]
        }
      ]
    },
    {
      "cell_type": "code",
      "metadata": {
        "colab": {
          "base_uri": "https://localhost:8080/",
          "height": 407
        },
        "id": "qrfH6XMajbuF",
        "outputId": "b842d23e-2d83-4163-a106-1375ec5566cd"
      },
      "source": [
        "acc = history.history['acc']\n",
        "val_acc = history.history['val_acc']\n",
        "loss = history.history['loss']\n",
        "val_loss = history.history['val_loss']\n",
        "\n",
        "plt.figure(figsize=(10,6))\n",
        "plt.subplot(1,2,1)\n",
        "epochs = range(len(acc))\n",
        "\n",
        "plt.plot(epochs, acc, '--')\n",
        "plt.plot(epochs, val_acc)\n",
        "plt.title('Training(--) and validation accuracy')\n",
        "\n",
        "plt.subplot(1,2,2)\n",
        "plt.plot(epochs, loss,  '--')\n",
        "plt.plot(epochs, val_loss)\n",
        "plt.title('Training(--) and validation loss')"
      ],
      "execution_count": null,
      "outputs": [
        {
          "output_type": "execute_result",
          "data": {
            "text/plain": [
              "Text(0.5, 1.0, 'Training(--) and validation loss')"
            ]
          },
          "metadata": {},
          "execution_count": 15
        },
        {
          "output_type": "display_data",
          "data": {
            "image/png": "[encoded data removed]",
            "text/plain": [
              "<Figure size 720x432 with 2 Axes>"
            ]
          },
          "metadata": {
            "needs_background": "light"
          }
        }
      ]
    },
    {
      "cell_type": "code",
      "metadata": {
        "colab": {
          "base_uri": "https://localhost:8080/"
        },
        "id": "5H2I2prIq29i",
        "outputId": "7d246f57-ce34-463d-b82f-c2b0fc8dc533"
      },
      "source": [
        "# test score\n",
        "scores = model.evaluate(x_test_p, y_test, verbose=0)\n",
        "print('Test accuracy:', scores[1])"
      ],
      "execution_count": null,
      "outputs": [
        {
          "output_type": "stream",
          "name": "stdout",
          "text": [
            "Test accuracy: 0.5212683081626892\n"
          ]
        }
      ]
    },
    {
      "cell_type": "markdown",
      "metadata": {
        "id": "3NYmQslQ_Edk"
      },
      "source": [
        "- 위의 결과는 500 개의 단어만 고려한 것임. \n",
        "- 각 단어를 독립적으로 다루었으며, 문장의 구성 정보를 고려하지 않음\n",
        "- 문장의 구조 정보를 고려하려면 임베딩 층 위에 합성곱이나 순환신경망 층을 추가한다"
      ]
    },
    {
      "cell_type": "markdown",
      "metadata": {
        "id": "yHmJcvvgLXsI"
      },
      "source": [
        "# CNN"
      ]
    },
    {
      "cell_type": "code",
      "metadata": {
        "colab": {
          "base_uri": "https://localhost:8080/"
        },
        "id": "cUk-HKHMLZdp",
        "outputId": "54108e64-f523-4c57-d229-da0caf5a3af4"
      },
      "source": [
        "model = Sequential()\n",
        "model.add(Embedding(input_dim=5000, output_dim=32, input_length=maxlen))\n",
        "model.add(Conv1D(128, 5, activation=\"relu\"))\n",
        "model.add(MaxPooling1D(5))\n",
        "model.add(Conv1D(128, 5, activation=\"relu\"))\n",
        "model.add(MaxPooling1D(5))\n",
        "model.add(Conv1D(128, 5, activation=\"relu\"))\n",
        "model.add(GlobalMaxPooling1D())\n",
        "model.add(Dense(128, activation=\"relu\"))\n",
        "model.add(Dropout(0.5))\n",
        "model.add(Dense(1, activation=\"sigmoid\"))\n",
        "model.summary()"
      ],
      "execution_count": null,
      "outputs": [
        {
          "output_type": "stream",
          "name": "stdout",
          "text": [
            "Model: \"sequential_1\"\n",
            "_________________________________________________________________\n",
            "Layer (type)                 Output Shape              Param #   \n",
            "=================================================================\n",
            "embedding_1 (Embedding)      (None, 500, 32)           160000    \n",
            "_________________________________________________________________\n",
            "conv1d (Conv1D)              (None, 496, 128)          20608     \n",
            "_________________________________________________________________\n",
            "max_pooling1d (MaxPooling1D) (None, 99, 128)           0         \n",
            "_________________________________________________________________\n",
            "conv1d_1 (Conv1D)            (None, 95, 128)           82048     \n",
            "_________________________________________________________________\n",
            "max_pooling1d_1 (MaxPooling1 (None, 19, 128)           0         \n",
            "_________________________________________________________________\n",
            "conv1d_2 (Conv1D)            (None, 15, 128)           82048     \n",
            "_________________________________________________________________\n",
            "global_max_pooling1d (Global (None, 128)               0         \n",
            "_________________________________________________________________\n",
            "dense_1 (Dense)              (None, 128)               16512     \n",
            "_________________________________________________________________\n",
            "dropout (Dropout)            (None, 128)               0         \n",
            "_________________________________________________________________\n",
            "dense_2 (Dense)              (None, 1)                 129       \n",
            "=================================================================\n",
            "Total params: 361,345\n",
            "Trainable params: 361,345\n",
            "Non-trainable params: 0\n",
            "_________________________________________________________________\n"
          ]
        }
      ]
    },
    {
      "cell_type": "code",
      "metadata": {
        "colab": {
          "base_uri": "https://localhost:8080/"
        },
        "id": "mYv_eFXZMxC0",
        "outputId": "1ea9a761-a229-4f21-e86a-c9e7338b6bad"
      },
      "source": [
        "model.compile(loss='binary_crossentropy',\n",
        "              optimizer='adam',\n",
        "              metrics=['acc'])\n",
        "history = model.fit(x_train_p, y_train,\n",
        "                    epochs=10, batch_size=500,\n",
        "                    validation_split=0.2)"
      ],
      "execution_count": null,
      "outputs": [
        {
          "output_type": "stream",
          "name": "stdout",
          "text": [
            "Epoch 1/10\n",
            "40/40 [==============================] - 32s 100ms/step - loss: 0.6926 - acc: 0.5161 - val_loss: 0.6829 - val_acc: 0.6430\n",
            "Epoch 2/10\n",
            "40/40 [==============================] - 4s 94ms/step - loss: 0.4893 - acc: 0.7707 - val_loss: 0.3629 - val_acc: 0.8410\n",
            "Epoch 3/10\n",
            "40/40 [==============================] - 4s 93ms/step - loss: 0.2676 - acc: 0.8939 - val_loss: 0.3001 - val_acc: 0.8728\n",
            "Epoch 4/10\n",
            "40/40 [==============================] - 4s 93ms/step - loss: 0.2048 - acc: 0.9239 - val_loss: 0.3158 - val_acc: 0.8704\n",
            "Epoch 5/10\n",
            "40/40 [==============================] - 4s 93ms/step - loss: 0.1696 - acc: 0.9398 - val_loss: 0.3370 - val_acc: 0.8718\n",
            "Epoch 6/10\n",
            "40/40 [==============================] - 4s 94ms/step - loss: 0.1377 - acc: 0.9548 - val_loss: 0.3712 - val_acc: 0.8690\n",
            "Epoch 7/10\n",
            "40/40 [==============================] - 4s 93ms/step - loss: 0.1044 - acc: 0.9685 - val_loss: 0.4272 - val_acc: 0.8684\n",
            "Epoch 8/10\n",
            "40/40 [==============================] - 4s 92ms/step - loss: 0.0791 - acc: 0.9804 - val_loss: 0.4798 - val_acc: 0.8640\n",
            "Epoch 9/10\n",
            "40/40 [==============================] - 4s 92ms/step - loss: 0.0552 - acc: 0.9873 - val_loss: 0.5815 - val_acc: 0.8592\n",
            "Epoch 10/10\n",
            "40/40 [==============================] - 4s 93ms/step - loss: 0.0389 - acc: 0.9901 - val_loss: 0.6413 - val_acc: 0.8566\n"
          ]
        }
      ]
    },
    {
      "cell_type": "code",
      "metadata": {
        "colab": {
          "base_uri": "https://localhost:8080/",
          "height": 407
        },
        "id": "dt9ZeGdTNSLv",
        "outputId": "59f5caa3-d404-436f-f5bf-c3a01ef9801e"
      },
      "source": [
        "acc = history.history['acc']\n",
        "val_acc = history.history['val_acc']\n",
        "loss = history.history['loss']\n",
        "val_loss = history.history['val_loss']\n",
        "\n",
        "plt.figure(figsize=(10,6))\n",
        "plt.subplot(1,2,1)\n",
        "epochs = range(len(acc))\n",
        "\n",
        "plt.plot(epochs, acc, '--')\n",
        "plt.plot(epochs, val_acc)\n",
        "plt.title('Training(--) and validation accuracy')\n",
        "\n",
        "plt.subplot(1,2,2)\n",
        "plt.plot(epochs, loss,  '--')\n",
        "plt.plot(epochs, val_loss)\n",
        "plt.title('Training(--) and validation loss')"
      ],
      "execution_count": null,
      "outputs": [
        {
          "output_type": "execute_result",
          "data": {
            "text/plain": [
              "Text(0.5, 1.0, 'Training(--) and validation loss')"
            ]
          },
          "metadata": {},
          "execution_count": 19
        },
        {
          "output_type": "display_data",
          "data": {
            "image/png": "[encoded data removed]",
            "text/plain": [
              "<Figure size 720x432 with 2 Axes>"
            ]
          },
          "metadata": {
            "needs_background": "light"
          }
        }
      ]
    },
    {
      "cell_type": "code",
      "metadata": {
        "colab": {
          "base_uri": "https://localhost:8080/"
        },
        "id": "No-dhvuHNWK2",
        "outputId": "bb106700-f947-4cbd-97cd-83da1795e879"
      },
      "source": [
        "# test score\n",
        "scores = model.evaluate(x_test_p, y_test, verbose=0)\n",
        "print('Test accuracy:', scores[1])"
      ],
      "execution_count": null,
      "outputs": [
        {
          "output_type": "stream",
          "name": "stdout",
          "text": [
            "Test accuracy: 0.8468400239944458\n"
          ]
        }
      ]
    },
    {
      "cell_type": "code",
      "metadata": {
        "colab": {
          "base_uri": "https://localhost:8080/"
        },
        "id": "MbqsvmjoNkuV",
        "outputId": "140bf554-8fbb-40b2-baf4-50faf602b015"
      },
      "source": [
        "# prediction\n",
        "model.predict(x_test_p[0:5])"
      ],
      "execution_count": null,
      "outputs": [
        {
          "output_type": "execute_result",
          "data": {
            "text/plain": [
              "array([[0.01140796],\n",
              "       [1.        ],\n",
              "       [0.01504931],\n",
              "       [0.99508154],\n",
              "       [0.9993716 ]], dtype=float32)"
            ]
          },
          "metadata": {},
          "execution_count": 21
        }
      ]
    },
    {
      "cell_type": "code",
      "metadata": {
        "colab": {
          "base_uri": "https://localhost:8080/"
        },
        "id": "i1PGjr-6Nywz",
        "outputId": "1cbb5efc-6fcc-415a-ae67-83bb8deec74e"
      },
      "source": [
        "# ground truth\n",
        "y_test[0:5]"
      ],
      "execution_count": null,
      "outputs": [
        {
          "output_type": "execute_result",
          "data": {
            "text/plain": [
              "array([0, 1, 1, 0, 1])"
            ]
          },
          "metadata": {},
          "execution_count": 22
        }
      ]
    },
    {
      "cell_type": "markdown",
      "metadata": {
        "id": "VNRUc-dA0i9C"
      },
      "source": [
        "# GRU RNN 추가"
      ]
    },
    {
      "cell_type": "code",
      "metadata": {
        "colab": {
          "base_uri": "https://localhost:8080/"
        },
        "id": "NrnA5C8y30oX",
        "outputId": "3c4fbcfc-4c64-4c6f-c80d-cfe8afcc4896"
      },
      "source": [
        "x_train_p.shape"
      ],
      "execution_count": null,
      "outputs": [
        {
          "output_type": "execute_result",
          "data": {
            "text/plain": [
              "(25000, 500)"
            ]
          },
          "metadata": {},
          "execution_count": 23
        }
      ]
    },
    {
      "cell_type": "code",
      "metadata": {
        "colab": {
          "base_uri": "https://localhost:8080/"
        },
        "id": "HGNtU9Bz0idI",
        "outputId": "d76281f5-0061-4696-a82c-ddf7e768da4a"
      },
      "source": [
        "from tensorflow.keras.models import Sequential\n",
        "from tensorflow.keras.layers import SimpleRNN, Dense, LSTM, GRU\n",
        "\n",
        "model = Sequential()\n",
        "model.add(Embedding(input_dim=5000, output_dim=32, input_length=maxlen))\n",
        "model.add(GRU(32))\n",
        "model.add(Dense(32, activation='relu'))\n",
        "model.add(Dropout(0.5))\n",
        "model.add(Dense(1, activation='sigmoid'))\n",
        "\n",
        "model.compile(loss='binary_crossentropy', optimizer='adam', metrics=['acc'])\n",
        "model.summary()"
      ],
      "execution_count": null,
      "outputs": [
        {
          "output_type": "stream",
          "name": "stdout",
          "text": [
            "Model: \"sequential_2\"\n",
            "_________________________________________________________________\n",
            "Layer (type)                 Output Shape              Param #   \n",
            "=================================================================\n",
            "embedding_2 (Embedding)      (None, 500, 32)           160000    \n",
            "_________________________________________________________________\n",
            "gru (GRU)                    (None, 32)                6336      \n",
            "_________________________________________________________________\n",
            "dense_3 (Dense)              (None, 32)                1056      \n",
            "_________________________________________________________________\n",
            "dropout_1 (Dropout)          (None, 32)                0         \n",
            "_________________________________________________________________\n",
            "dense_4 (Dense)              (None, 1)                 33        \n",
            "=================================================================\n",
            "Total params: 167,425\n",
            "Trainable params: 167,425\n",
            "Non-trainable params: 0\n",
            "_________________________________________________________________\n"
          ]
        }
      ]
    },
    {
      "cell_type": "code",
      "metadata": {
        "colab": {
          "base_uri": "https://localhost:8080/"
        },
        "id": "TqusSXm75Lun",
        "outputId": "d605168d-f0bc-4945-894e-1ace408b8dbf"
      },
      "source": [
        "%time history = model.fit(x_train_p, y_train, epochs=10, batch_size=500, validation_split=0.2)"
      ],
      "execution_count": null,
      "outputs": [
        {
          "output_type": "stream",
          "name": "stdout",
          "text": [
            "Epoch 1/10\n",
            "40/40 [==============================] - 7s 119ms/step - loss: 0.6895 - acc: 0.5496 - val_loss: 0.6779 - val_acc: 0.5946\n",
            "Epoch 2/10\n",
            "40/40 [==============================] - 4s 96ms/step - loss: 0.5782 - acc: 0.7225 - val_loss: 0.4518 - val_acc: 0.7894\n",
            "Epoch 3/10\n",
            "40/40 [==============================] - 3s 87ms/step - loss: 0.3487 - acc: 0.8601 - val_loss: 0.3270 - val_acc: 0.8642\n",
            "Epoch 4/10\n",
            "40/40 [==============================] - 3s 87ms/step - loss: 0.2672 - acc: 0.9005 - val_loss: 0.3191 - val_acc: 0.8704\n",
            "Epoch 5/10\n",
            "40/40 [==============================] - 4s 88ms/step - loss: 0.2184 - acc: 0.9229 - val_loss: 0.3164 - val_acc: 0.8746\n",
            "Epoch 6/10\n",
            "40/40 [==============================] - 4s 89ms/step - loss: 0.1910 - acc: 0.9370 - val_loss: 0.3436 - val_acc: 0.8718\n",
            "Epoch 7/10\n",
            "40/40 [==============================] - 4s 90ms/step - loss: 0.1766 - acc: 0.9412 - val_loss: 0.3536 - val_acc: 0.8716\n",
            "Epoch 8/10\n",
            "40/40 [==============================] - 4s 90ms/step - loss: 0.1613 - acc: 0.9482 - val_loss: 0.3992 - val_acc: 0.8670\n",
            "Epoch 9/10\n",
            "40/40 [==============================] - 4s 88ms/step - loss: 0.1552 - acc: 0.9500 - val_loss: 0.3810 - val_acc: 0.8708\n",
            "Epoch 10/10\n",
            "40/40 [==============================] - 4s 88ms/step - loss: 0.1408 - acc: 0.9574 - val_loss: 0.4016 - val_acc: 0.8556\n",
            "CPU times: user 33.5 s, sys: 1.22 s, total: 34.7 s\n",
            "Wall time: 39.6 s\n"
          ]
        }
      ]
    },
    {
      "cell_type": "code",
      "metadata": {
        "colab": {
          "base_uri": "https://localhost:8080/"
        },
        "id": "yA_TcVV1pAya",
        "outputId": "740b2e8f-0017-42ed-eaab-73c7ed9a0900"
      },
      "source": [
        "# test score\n",
        "scores = model.evaluate(x_test_p, y_test, verbose=0)\n",
        "print('Test accuracy:', scores[1])"
      ],
      "execution_count": null,
      "outputs": [
        {
          "output_type": "stream",
          "name": "stdout",
          "text": [
            "Test accuracy: 0.8508399724960327\n"
          ]
        }
      ]
    },
    {
      "cell_type": "code",
      "metadata": {
        "colab": {
          "base_uri": "https://localhost:8080/",
          "height": 407
        },
        "id": "Rq5L0l6QlihN",
        "outputId": "addbbbc5-98e4-4758-bdb3-da8117d40649"
      },
      "source": [
        "acc = history.history['acc']\n",
        "val_acc = history.history['val_acc']\n",
        "loss = history.history['loss']\n",
        "val_loss = history.history['val_loss']\n",
        "\n",
        "plt.figure(figsize=(10,6))\n",
        "plt.subplot(1,2,1)\n",
        "epochs = range(len(acc))\n",
        "\n",
        "plt.plot(epochs, acc, '--')\n",
        "plt.plot(epochs, val_acc)\n",
        "plt.title('Training(--) and validation accuracy')\n",
        "\n",
        "plt.subplot(1,2,2)\n",
        "plt.plot(epochs, loss,  '--')\n",
        "plt.plot(epochs, val_loss)\n",
        "plt.title('Training(--) and validation loss')"
      ],
      "execution_count": null,
      "outputs": [
        {
          "output_type": "execute_result",
          "data": {
            "text/plain": [
              "Text(0.5, 1.0, 'Training(--) and validation loss')"
            ]
          },
          "metadata": {},
          "execution_count": 27
        },
        {
          "output_type": "display_data",
          "data": {
            "image/png": "[encoded data removed]",
            "text/plain": [
              "<Figure size 720x432 with 2 Axes>"
            ]
          },
          "metadata": {
            "needs_background": "light"
          }
        }
      ]
    },
    {
      "cell_type": "code",
      "metadata": {
        "colab": {
          "base_uri": "https://localhost:8080/"
        },
        "id": "vm9V6OoRP1rF",
        "outputId": "ba029fad-66c8-453e-c3cc-321bd7e9b4aa"
      },
      "source": [
        "# prediction\n",
        "model.predict(x_test_p[0:5])"
      ],
      "execution_count": null,
      "outputs": [
        {
          "output_type": "execute_result",
          "data": {
            "text/plain": [
              "array([[0.10247534],\n",
              "       [0.99399143],\n",
              "       [0.79613024],\n",
              "       [0.06128439],\n",
              "       [0.99852765]], dtype=float32)"
            ]
          },
          "metadata": {},
          "execution_count": 28
        }
      ]
    },
    {
      "cell_type": "code",
      "metadata": {
        "colab": {
          "base_uri": "https://localhost:8080/"
        },
        "id": "q5NQQz44P7HW",
        "outputId": "60fb718c-da9a-48c8-b633-799310c565d3"
      },
      "source": [
        "# ground truth\n",
        "y_test[0:5]"
      ],
      "execution_count": null,
      "outputs": [
        {
          "output_type": "execute_result",
          "data": {
            "text/plain": [
              "array([0, 1, 1, 0, 1])"
            ]
          },
          "metadata": {},
          "execution_count": 29
        }
      ]
    },
    {
      "cell_type": "markdown",
      "metadata": {
        "id": "vtt8gK4WQdsm"
      },
      "source": [
        "- y_test[2] 는 무슨 문장일까?"
      ]
    },
    {
      "cell_type": "code",
      "metadata": {
        "colab": {
          "base_uri": "https://localhost:8080/"
        },
        "id": "YOWf6HbcQQg9",
        "outputId": "08cca194-e530-4fd5-d084-0773f0a7528f"
      },
      "source": [
        "word2id = imdb.get_word_index()\n",
        "id2word = {i: word for word, i in word2id.items()}\n",
        "print([id2word.get(i, ' ') for i in x_test[2]])\n",
        "print(y_test[2])"
      ],
      "execution_count": null,
      "outputs": [
        {
          "output_type": "stream",
          "name": "stdout",
          "text": [
            "['the', 'plot', 'near', 'ears', 'recent', 'and', 'and', 'of', 'him', 'flicks', 'frank', 'br', 'by', 'excellent', 'and', 'br', 'of', 'past', 'and', 'near', 'really', 'all', 'and', 'family', 'four', 'and', 'to', 'movie', 'that', 'obvious', 'family', 'brave', 'movie', 'is', 'got', 'say', 'and', 'with', 'up', 'comment', 'this', 'and', 'been', 'of', 'entertaining', 'not', 'be', 'and', 'james', 'in', 'you', 'seen', 'and', 'and', 'portrayed', 'dirty', 'in', 'so', 'washington', 'and', 'this', 'you', 'minutes', 'no', 'all', 'station', 'all', 'after', 'and', 'promising', 'who', 'and', 'and', 'and', 'to', 'and', 'any', 'by', 'speed', 'they', 'is', 'my', 'as', 'screams', 'dirty', 'in', 'of', 'full', 'br', 'pacino', 'dignity', 'need', 'men', 'of', 'and', 'popular', 'really', 'all', 'way', 'this', 'and', 'this', 'and', 'they', 'is', 'my', 'no', 'standard', 'certainly', 'near', 'br', 'an', 'beach', 'with', 'this', 'make', 'and', 'i', 'i', 'of', 'fails', 'and', 'br', 'of', 'finished', 'wear', 'psycho', 'and', 'in', 'learn', 'in', 'twice', 'know', 'by', 'br', 'be', 'how', 'rings', 'and', 'with', 'is', 'seemed', 'fails', 'visually', 'and', 'extremely', 'movie', 'and', \"it's\", 'of', 'and', 'like', 'children', 'is', 'easily', 'is', 'and', 'br', 'simply', 'must', 'well', 'at', 'although', 'this', 'family', 'an', 'br', 'many', 'not', 'scene', 'that', 'it', 'time', 'seemed', 'de', 'ignored', 'up', 'they', 'boat', 'morning', 'like', 'well', 'force', 'of', 'and', 'sent', 'been', 'history', 'like', 'story', 'its', 'disappointing', 'same', 'of', 'club', 'and', 'watching', 'husband', 'reviewer', 'to', 'although', 'that', 'around', 'and', 'except', 'to', 'de', 'and', 'br', 'of', 'you', 'available', 'but', 'hours', 'animals', 'showing', 'br', 'of', 'and', 'than', 'dead', 'white', 'splatter', 'waiting', 'film', 'and', 'to', 'and', 'this', 'documentary', 'in', '3', 'and', 'of', 'accents', 'and', 'br', 'of', 'ann', 'i', 'i', 'comes', '9', 'it', 'place', 'this', 'is', 'and', 'of', 'and', 'and', 'know', 'of', 'and', 'he', 'bonus', 'film', 'were', 'central', 'to', 'one', 'oh', 'is', 'excellent', 'and', 'in', 'can', 'when', 'from', 'well', 'people', 'in', \"characters'\", 'chief', 'from', 'leaving', 'in', 'and', 'and', 'but', 'is', 'easily', 'of', 'and', 'he', 'and', 'speak', 'this', 'as', 'today', 'paul', 'that', 'against', 'one', 'will', 'actual', 'in', 'could', 'her', 'plot', 'and', 'and', 'few', 'grade', 'and', 'go', 'and', 'but', 'be', 'lot', 'it', 'oliver', 'movie', 'is', 'and', 'picture', 'and', 'feel', 'this', 'of', 'and', 'like', 'different', 'just', 'clichéd', 'girl', 'at', 'finds', 'is', 'and', 'no', 'and', 'glory', 'any', 'is', \"children's\", 'just', 'moment', 'like', 'and', 'any', 'of', 'and', 'leaving', 'for', 'as', 'it', 'even', 'cliche', 'to', 'purchased', 'is', 'money', 'easily', 'and', 'and', 'glory', 'any', 'is', 'and', 'i', 'i', 'and', 'film', 'as', 'and', 'set', 'actually', 'easily', 'like', 'and', 'sequel', 'any', 'of', 'and', 'ryan', 'made', 'film', 'is', 'and', 'br', 'and', 'constant', 'and', 'of', '90s', 'letting', 'deep', 'in', 'act', 'made', 'of', 'road', 'in', 'of', 'and', 'movie', 'and', 'rural', 'vhs', 'of', 'share', 'in', 'reaching', 'fact', 'of', 'and', 'and', 'and', 'of', '90s', 'to', 'them', 'book', 'are', 'is', 'and', 'and', 'and', 'and', 'they', 'funniest', 'is', 'white', 'courage', 'and', 'vegas', 'wooden', 'br', 'of', 'gender', 'and', 'unfortunately', 'of', '1968', 'no', 'of', 'years', 'and', 'and', 'true', 'up', 'and', 'and', 'but', '3', 'all', 'ordinary', 'be', 'and', 'to', 'and', 'were', 'deserve', 'film', 'and', 'and', 'of', 'creative', 'br', 'comes', 'their', 'kung', 'who', 'is', 'and', 'and', 'out', 'new', 'all', 'it', 'incomprehensible', 'it', 'episode', 'much', \"that's\", 'including', 'i', 'i', 'cartoon', 'of', 'my', 'certain', 'no', 'as', 'and', 'over', 'you', 'with', 'way', 'to', 'cartoon', 'of', 'enough', 'for', 'that', 'with', 'way', 'who', 'is', 'finished', 'and', 'they', 'of', 'and', 'br', 'for', 'and', 'and', 'stunts', 'black', 'that', 'story', 'at', 'actual', 'in', 'can', 'as', 'movie', 'is', 'and', 'has', 'though', 'songs', 'and', 'action', \"it's\", 'action', 'his', 'one', 'me', 'and', 'and', 'this', 'second', 'no', 'all', 'way', 'and', 'not', 'lee', 'and', 'be', 'moves', 'br', 'figure', 'of', 'you', 'boss', 'movie', 'is', 'and', '9', 'br', 'propaganda', 'and', 'and', 'after', 'at', 'of', 'smoke', 'splendid', 'snow', 'saturday', \"it's\", 'results', 'this', 'of', 'load', \"it's\", 'think', 'class', 'br', 'think', 'cop', 'for', 'games', 'make', 'southern', 'things', 'to', 'it', 'and', 'who', 'and', 'if', 'is', 'boyfriend', 'you', 'which', 'is', 'tony', 'by', 'this', 'make', 'and', 'too', 'not', 'make', 'above', 'it', 'even', 'background']\n",
            "1\n"
          ]
        }
      ]
    },
    {
      "cell_type": "markdown",
      "metadata": {
        "id": "EhK0axgbkxt9"
      },
      "source": [
        "# Combine CNN and RNN together"
      ]
    },
    {
      "cell_type": "code",
      "metadata": {
        "colab": {
          "base_uri": "https://localhost:8080/"
        },
        "id": "-Go1FrAhk1FK",
        "outputId": "1d8a34e6-d5e8-4c46-dee4-f061f8878bb6"
      },
      "source": [
        "model = Sequential()\n",
        "model.add(Embedding(input_dim=5000, output_dim=32, input_length=maxlen))\n",
        "model.add(Dropout(0.5))\n",
        "model.add(Conv1D(64, 5, padding='valid', activation='relu',strides=1))\n",
        "model.add(MaxPooling1D(pool_size=4))\n",
        "model.add(LSTM(55))\n",
        "model.add(Dense(1, activation='sigmoid'))\n",
        "model.summary()"
      ],
      "execution_count": null,
      "outputs": [
        {
          "output_type": "stream",
          "name": "stdout",
          "text": [
            "Model: \"sequential_6\"\n",
            "_________________________________________________________________\n",
            "Layer (type)                 Output Shape              Param #   \n",
            "=================================================================\n",
            "embedding_7 (Embedding)      (None, 500, 32)           160000    \n",
            "_________________________________________________________________\n",
            "dropout_3 (Dropout)          (None, 500, 32)           0         \n",
            "_________________________________________________________________\n",
            "conv1d_4 (Conv1D)            (None, 496, 64)           10304     \n",
            "_________________________________________________________________\n",
            "max_pooling1d_3 (MaxPooling1 (None, 124, 64)           0         \n",
            "_________________________________________________________________\n",
            "lstm_1 (LSTM)                (None, 55)                26400     \n",
            "_________________________________________________________________\n",
            "dense_6 (Dense)              (None, 1)                 56        \n",
            "=================================================================\n",
            "Total params: 196,760\n",
            "Trainable params: 196,760\n",
            "Non-trainable params: 0\n",
            "_________________________________________________________________\n"
          ]
        }
      ]
    },
    {
      "cell_type": "code",
      "metadata": {
        "id": "PL84uNxmlKCS"
      },
      "source": [
        "model.compile(loss='binary_crossentropy', optimizer='adam', metrics=['acc'])"
      ],
      "execution_count": null,
      "outputs": []
    },
    {
      "cell_type": "code",
      "metadata": {
        "colab": {
          "base_uri": "https://localhost:8080/"
        },
        "id": "KlvrGeI5lRXB",
        "outputId": "edc7781c-c766-453d-f8ef-b93b4b65a028"
      },
      "source": [
        "%time history = model.fit(x_train_p, y_train, epochs=10, batch_size=500, validation_split=0.2)"
      ],
      "execution_count": null,
      "outputs": [
        {
          "output_type": "stream",
          "name": "stdout",
          "text": [
            "Epoch 1/10\n",
            "40/40 [==============================] - 6s 92ms/step - loss: 0.6776 - acc: 0.5889 - val_loss: 0.5382 - val_acc: 0.7404\n",
            "Epoch 2/10\n",
            "40/40 [==============================] - 3s 77ms/step - loss: 0.4733 - acc: 0.7890 - val_loss: 0.3462 - val_acc: 0.8626\n",
            "Epoch 3/10\n",
            "40/40 [==============================] - 3s 77ms/step - loss: 0.2900 - acc: 0.8811 - val_loss: 0.2923 - val_acc: 0.8836\n",
            "Epoch 4/10\n",
            "40/40 [==============================] - 3s 74ms/step - loss: 0.2390 - acc: 0.9055 - val_loss: 0.2928 - val_acc: 0.8806\n",
            "Epoch 5/10\n",
            "40/40 [==============================] - 3s 74ms/step - loss: 0.2106 - acc: 0.9209 - val_loss: 0.2769 - val_acc: 0.8888\n",
            "Epoch 6/10\n",
            "40/40 [==============================] - 3s 75ms/step - loss: 0.1958 - acc: 0.9234 - val_loss: 0.2884 - val_acc: 0.8834\n",
            "Epoch 7/10\n",
            "40/40 [==============================] - 3s 78ms/step - loss: 0.1744 - acc: 0.9356 - val_loss: 0.2784 - val_acc: 0.8872\n",
            "Epoch 8/10\n",
            "40/40 [==============================] - 3s 75ms/step - loss: 0.1669 - acc: 0.9369 - val_loss: 0.2950 - val_acc: 0.8844\n",
            "Epoch 9/10\n",
            "40/40 [==============================] - 3s 77ms/step - loss: 0.1623 - acc: 0.9406 - val_loss: 0.3028 - val_acc: 0.8798\n",
            "Epoch 10/10\n",
            "40/40 [==============================] - 3s 75ms/step - loss: 0.1522 - acc: 0.9418 - val_loss: 0.2973 - val_acc: 0.8844\n",
            "CPU times: user 14.5 s, sys: 1.33 s, total: 15.8 s\n",
            "Wall time: 42.7 s\n"
          ]
        }
      ]
    },
    {
      "cell_type": "code",
      "metadata": {
        "colab": {
          "base_uri": "https://localhost:8080/"
        },
        "id": "0GjAJjZ3lUS2",
        "outputId": "6248122b-3b60-4ccc-b2cb-a7ed1ff7cf07"
      },
      "source": [
        "# test score\n",
        "scores = model.evaluate(x_test_p, y_test, verbose=0)\n",
        "print('Test accuracy:', scores[1])"
      ],
      "execution_count": null,
      "outputs": [
        {
          "output_type": "stream",
          "name": "stdout",
          "text": [
            "Test accuracy: 0.8737599849700928\n"
          ]
        }
      ]
    },
    {
      "cell_type": "code",
      "metadata": {
        "colab": {
          "base_uri": "https://localhost:8080/",
          "height": 407
        },
        "id": "beLgT_aMlVbq",
        "outputId": "06a0258e-e2c3-4e3c-e07f-d5636dc5b727"
      },
      "source": [
        "acc = history.history['acc']\n",
        "val_acc = history.history['val_acc']\n",
        "loss = history.history['loss']\n",
        "val_loss = history.history['val_loss']\n",
        "\n",
        "plt.figure(figsize=(10,6))\n",
        "plt.subplot(1,2,1)\n",
        "epochs = range(len(acc))\n",
        "\n",
        "plt.plot(epochs, acc, '--')\n",
        "plt.plot(epochs, val_acc)\n",
        "plt.title('Training(--) and validation accuracy')\n",
        "\n",
        "plt.subplot(1,2,2)\n",
        "plt.plot(epochs, loss,  '--')\n",
        "plt.plot(epochs, val_loss)\n",
        "plt.title('Training(--) and validation loss')"
      ],
      "execution_count": null,
      "outputs": [
        {
          "output_type": "execute_result",
          "data": {
            "text/plain": [
              "Text(0.5, 1.0, 'Training(--) and validation loss')"
            ]
          },
          "metadata": {},
          "execution_count": 40
        },
        {
          "output_type": "display_data",
          "data": {
            "image/png": "[encoded data removed]",
            "text/plain": [
              "<Figure size 720x432 with 2 Axes>"
            ]
          },
          "metadata": {
            "needs_background": "light"
          }
        }
      ]
    },
    {
      "cell_type": "markdown",
      "metadata": {
        "id": "POhP6d5oEbBw"
      },
      "source": [
        "# Exercise (연습)\n",
        "- By default, if a GPU is available, the embedding matrix will be placed on the GPU. This achieves the best performance.\n",
        "- in order to use CPU (too big to fit on GPU), you should use CPU\n",
        "  - with tf.device('cpu:0'): \n",
        "  -embedding_layer = Embedding(...)\n",
        "  - embedding_layer.build()"
      ]
    },
    {
      "cell_type": "code",
      "metadata": {
        "id": "HoaeBMEeEec0",
        "colab": {
          "base_uri": "https://localhost:8080/"
        },
        "outputId": "f926c0d4-f63c-44f4-a967-9086d9151e4d"
      },
      "source": [
        "import tensorflow as tf\n",
        "# 문장 토큰화와 단어 토큰화\n",
        "text=[['Hope', 'to', 'see', 'you', 'soon'],\n",
        "      ['Nice', 'to', 'see', 'you', 'again']]\n",
        "\n",
        "# 각 단어에 대한 정수 인코딩\n",
        "text=[[0, 1, 2, 3, 4],[5, 1, 2, 3, 6]]\n",
        "\n",
        "# 위 데이터가 아래의 임베딩 층의 입력이 된다. (훈련 없이 모양만 보기 위함)\n",
        "embedding_layer = Embedding(7, 2, input_length=5)\n",
        "result = embedding_layer(tf.constant([0, 1, 2, 3, 4, 5, 6]))\n",
        "print(result.numpy())\n",
        "\n",
        "# 7은 단어의 개수. 즉, 단어 집합(vocabulary)의 크기이다.\n",
        "# 2는 임베딩한 후의 벡터의 크기이다.\n",
        "# 5는 각 입력 시퀀스의 길이. 즉, input_length이다. 아래와 같은 형태가 됨.\n"
      ],
      "execution_count": null,
      "outputs": [
        {
          "output_type": "stream",
          "name": "stdout",
          "text": [
            "[[ 0.00812409  0.01459432]\n",
            " [ 0.00184902 -0.02500283]\n",
            " [-0.04473765 -0.02987905]\n",
            " [ 0.04027107 -0.032742  ]\n",
            " [-0.03263779 -0.00193424]\n",
            " [ 0.04083664  0.01036142]\n",
            " [ 0.01781512 -0.00375516]]\n"
          ]
        }
      ]
    },
    {
      "cell_type": "code",
      "metadata": {
        "colab": {
          "base_uri": "https://localhost:8080/"
        },
        "id": "q08IEz9YryFE",
        "outputId": "93f40fda-40e7-45d1-e5bd-02fcd5d24d63"
      },
      "source": [
        "model = Sequential()\n",
        "model.add(Embedding(7, 2, input_length=5))\n",
        "model.add(Flatten())\n",
        "model.summary()"
      ],
      "execution_count": null,
      "outputs": [
        {
          "output_type": "stream",
          "name": "stdout",
          "text": [
            "Model: \"sequential_3\"\n",
            "_________________________________________________________________\n",
            "Layer (type)                 Output Shape              Param #   \n",
            "=================================================================\n",
            "embedding_4 (Embedding)      (None, 5, 2)              14        \n",
            "_________________________________________________________________\n",
            "flatten (Flatten)            (None, 10)                0         \n",
            "=================================================================\n",
            "Total params: 14\n",
            "Trainable params: 14\n",
            "Non-trainable params: 0\n",
            "_________________________________________________________________\n"
          ]
        }
      ]
    },
    {
      "cell_type": "code",
      "metadata": {
        "colab": {
          "base_uri": "https://localhost:8080/"
        },
        "id": "QkkSasRbCZDR",
        "outputId": "0e1cc262-3c9d-4476-d76b-5f8086a7ba03"
      },
      "source": [
        "model = Sequential()\n",
        "model.add(Embedding(7, 2, input_length=5)) # need input_length to be connected to Flatten then Dense layers\n",
        "model.summary()"
      ],
      "execution_count": null,
      "outputs": [
        {
          "output_type": "stream",
          "name": "stdout",
          "text": [
            "Model: \"sequential_4\"\n",
            "_________________________________________________________________\n",
            "Layer (type)                 Output Shape              Param #   \n",
            "=================================================================\n",
            "embedding_5 (Embedding)      (None, 5, 2)              14        \n",
            "=================================================================\n",
            "Total params: 14\n",
            "Trainable params: 14\n",
            "Non-trainable params: 0\n",
            "_________________________________________________________________\n"
          ]
        }
      ]
    }
  ]
}